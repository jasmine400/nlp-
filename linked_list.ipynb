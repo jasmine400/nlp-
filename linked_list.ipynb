{
  "nbformat": 4,
  "nbformat_minor": 0,
  "metadata": {
    "colab": {
      "provenance": [],
      "authorship_tag": "ABX9TyPVARyo/2tsgIg0XPHGfQq+",
      "include_colab_link": true
    },
    "kernelspec": {
      "name": "python3",
      "display_name": "Python 3"
    },
    "language_info": {
      "name": "python"
    }
  },
  "cells": [
    {
      "cell_type": "markdown",
      "metadata": {
        "id": "view-in-github",
        "colab_type": "text"
      },
      "source": [
        "<a href=\"https://colab.research.google.com/github/jasmine400/nlp-/blob/main/linked_list.ipynb\" target=\"_parent\"><img src=\"https://colab.research.google.com/assets/colab-badge.svg\" alt=\"Open In Colab\"/></a>"
      ]
    },
    {
      "cell_type": "code",
      "metadata": {
        "id": "xvKCKmXqdRK_"
      },
      "source": [
        "class Node:\n",
        "    def __init__(self, data):\n",
        "        self.item = data\n",
        "        self.ref = None"
      ],
      "execution_count": null,
      "outputs": []
    },
    {
      "cell_type": "markdown",
      "metadata": {
        "id": "eWQzG-8Z6czR"
      },
      "source": [
        "our node class will contain two member variables item and ref. The value of the item will be set by the value passed through the constructor, while the reference will be initially set to null."
      ]
    },
    {
      "cell_type": "code",
      "metadata": {
        "id": "bpjH-9zz6tQ_"
      },
      "source": [
        "class LinkedList:\n",
        "    def __init__(self):\n",
        "        self.start_node = None"
      ],
      "execution_count": null,
      "outputs": []
    },
    {
      "cell_type": "markdown",
      "metadata": {
        "id": "V4mtZpQj65Cv"
      },
      "source": [
        " Initially, the class will only contain one member start_node that will point to the starting or first node of the list. The value of start_node will be set to null using the constructor since the linked list will be empty at the time of creation. The following script creates a class for the linked list."
      ]
    },
    {
      "cell_type": "code",
      "metadata": {
        "id": "3b1U6vBM7G9H"
      },
      "source": [
        "#traversing_linked_list\n",
        "#traverse list\n",
        "class LinkedList:\n",
        "    def __init__(self):\n",
        "        self.start_node = None\n",
        "    def traverse_list(self):\n",
        "    if self.start_node is None:\n",
        "        print(\"List has no element\")\n",
        "        return\n",
        "    else:\n",
        "        n = self.start_node\n",
        "        while n is not None:\n",
        "            print(n.item , \" \")\n",
        "            n = n.ref"
      ],
      "execution_count": null,
      "outputs": []
    },
    {
      "cell_type": "markdown",
      "metadata": {
        "id": "qB_aSUXs7f6Z"
      },
      "source": [
        " The function has two main parts. First, it checks whether the linked list is empty or not. The following code checks that:\n",
        ""
      ]
    },
    {
      "cell_type": "code",
      "metadata": {
        "id": "ypW-UnIu7wBO"
      },
      "source": [
        " if self.start_node is None:\n",
        "        print(\"List has no element\")\n",
        "        return"
      ],
      "execution_count": null,
      "outputs": []
    },
    {
      "cell_type": "markdown",
      "metadata": {
        "id": "FCICHBKS75Uq"
      },
      "source": [
        "Otherwise if the list has an item, the following piece of code will execute:"
      ]
    },
    {
      "cell_type": "code",
      "metadata": {
        "id": "7Z7S5Z6k75-p"
      },
      "source": [
        "    n = self.start_node\n",
        "        while n is not None:\n",
        "            print(n.item , \" \")\n",
        "            n = n.ref"
      ],
      "execution_count": null,
      "outputs": []
    },
    {
      "cell_type": "markdown",
      "metadata": {
        "id": "rQB9UqjV_FO2"
      },
      "source": [
        " the start variable will contain a reference to the first nodes. Therefore, we initialize a variable n with start variable. Next, we execute a loop that executes until n becomes none. Inside the loop, we print the item stored at the current node and then set the value of n variable to n.ref, which contains the reference to the next node. The reference of the last node is None since there is no node after that. Therefore, when n becomes None, the loop terminates."
      ]
    },
    {
      "cell_type": "markdown",
      "metadata": {
        "id": "FBRZdpk5_Pmy"
      },
      "source": [
        "**Inserting Items**\n",
        "Depending upon the location where you want to insert an item, there are different ways to insert items in a single linked list."
      ]
    },
    {
      "cell_type": "code",
      "metadata": {
        "id": "COvsOCA8_-Mo"
      },
      "source": [
        "#insert at start\n",
        "    def insert_at_start(self, data):\n",
        "        new_node = Node(data)\n",
        "        new_node.ref = self.start_node\n",
        "        self.start_node= new_node"
      ],
      "execution_count": null,
      "outputs": []
    },
    {
      "cell_type": "markdown",
      "metadata": {
        "id": "ao7UITM1ALFo"
      },
      "source": [
        "we create a method insert_at_start(), the method accepts one parameter, which is basically the value of the item that we want to insert. Inside the method, we simply create an object of the Node class and set its reference to the start_node since start_node was previously storing the first node, which after insertion of a new node at the start will become the second node.\n",
        "\n",
        "Therefore, we add the reference of start_node to the ref variable of the new node. Now since the new_node is the first node, we set the value of the start_node variable to new_node.\n",
        "Add the insert_at_end() function to the LinkedList class."
      ]
    },
    {
      "cell_type": "code",
      "metadata": {
        "id": "uyHb5AnJBsLs"
      },
      "source": [
        "#insert at the end\n",
        "  def insert_at_end(self, data):\n",
        "        new_node = Node(data)\n",
        "        if self.start_node is None:\n",
        "            self.start_node = new_node\n",
        "            return\n",
        "        n = self.start_node\n",
        "        while n.ref is not None:\n",
        "            n= n.ref\n",
        "        n.ref = new_node;"
      ],
      "execution_count": null,
      "outputs": []
    },
    {
      "cell_type": "markdown",
      "metadata": {
        "id": "jsBNouvHAmlA"
      },
      "source": [
        "In the above script, we create a function insert_at_end(), which inserts the element at the end of the linked list. The value of the item that we want to insert is passed as an argument to the function. The function consists of two parts. First we check if the linked list is empty or not, if the linked list is empty, all we have to do is set the value of the start_node variable to new_node object.\n",
        "\n",
        "On the other hand, if the list already contains some nodes. We initialize a variable n with the start node. We then iterate through all the nodes in the list using a while loop as we did in the case of traverse_list function. The loop terminates when we reach the last node. We then set the reference of the last node to the newly created new_node."
      ]
    },
    {
      "cell_type": "code",
      "metadata": {
        "id": "5iB4Gu5zCdMg"
      },
      "source": [
        "#inserting item afetr another item\n",
        "    def insert_after_item(self, x, data):\n",
        "\n",
        "        n = self.start_node\n",
        "        print(n.ref)\n",
        "        while n is not None:\n",
        "            if n.item == x:\n",
        "                break\n",
        "            n = n.ref\n",
        "        if n is None:\n",
        "            print(\"item not in the list\")\n",
        "        else:\n",
        "            new_node = Node(data)\n",
        "            new_node.ref = n.ref\n",
        "            n.ref = new_node"
      ],
      "execution_count": null,
      "outputs": []
    },
    {
      "cell_type": "markdown",
      "metadata": {
        "id": "-uJdRzk8CzYZ"
      },
      "source": [
        "The insert_after_item() function accepts two parameters: x and data. The first parameter is the item after which you want to insert the new node while the second parameter contains the value for the new node.\n",
        "\n",
        "We start by creating a new variable n and assigning start_node variable to it. Next, we traverse through the linked list using while loop. The while loop executes until n becomes None. During each iteration, we check if the value stored in the current node is equal to the value passed by the x parameter. If the comparison returns true, we break the loop.\n",
        "\n",
        "Next, if the item is found, the n variable will not be None. The reference of the new_node is set to reference stored by n and the reference of n is set to new_node. Add the insert_after_item() function to the LinkesList class."
      ]
    }
  ]
}