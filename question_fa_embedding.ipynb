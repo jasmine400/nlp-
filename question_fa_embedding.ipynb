{
  "cells": [
    {
      "cell_type": "markdown",
      "metadata": {
        "id": "view-in-github",
        "colab_type": "text"
      },
      "source": [
        "<a href=\"https://colab.research.google.com/github/jasmine400/nlp-/blob/main/question_fa_embedding.ipynb\" target=\"_parent\"><img src=\"https://colab.research.google.com/assets/colab-badge.svg\" alt=\"Open In Colab\"/></a>"
      ]
    },
    {
      "cell_type": "code",
      "execution_count": null,
      "metadata": {
        "id": "ItvQt1ve_RSU"
      },
      "outputs": [],
      "source": [
        "import pandas as pd"
      ]
    },
    {
      "cell_type": "code",
      "execution_count": null,
      "metadata": {
        "colab": {
          "base_uri": "https://localhost:8080/"
        },
        "id": "XyvSG945vZy_",
        "outputId": "c567a5b5-910a-48a6-8fbc-8c0d2819aec7"
      },
      "outputs": [
        {
          "name": "stdout",
          "output_type": "stream",
          "text": [
            "Drive already mounted at /content/gdrive; to attempt to forcibly remount, call drive.mount(\"/content/gdrive\", force_remount=True).\n"
          ]
        }
      ],
      "source": [
        "#access google drive\n",
        "from google.colab import drive\n",
        "drive.mount('/content/gdrive')"
      ]
    },
    {
      "cell_type": "code",
      "execution_count": null,
      "metadata": {
        "id": "cic6bEc5vpt0"
      },
      "outputs": [],
      "source": [
        "#access google drive\n",
        "%cd /content/gdrive/My\\ Drive/Parsa\n",
        "!ls"
      ]
    },
    {
      "cell_type": "code",
      "execution_count": null,
      "metadata": {
        "id": "bfGAzUsutxF3"
      },
      "outputs": [],
      "source": [
        "# creating a data frame\n",
        "df = pd.read_csv(\"export_dataframe6.csv\")\n",
        "print(df.head())"
      ]
    },
    {
      "cell_type": "code",
      "execution_count": null,
      "metadata": {
        "colab": {
          "base_uri": "https://localhost:8080/"
        },
        "id": "gjBhaa3cBD95",
        "outputId": "48b4d1ed-06eb-4a81-fcfb-aa3fb3148068"
      },
      "outputs": [
        {
          "name": "stdout",
          "output_type": "stream",
          "text": [
            "5065\n"
          ]
        }
      ],
      "source": [
        "print(len(df))"
      ]
    },
    {
      "cell_type": "code",
      "execution_count": null,
      "metadata": {
        "id": "IA0U9-peweZ5"
      },
      "outputs": [],
      "source": [
        " question_ids= df._id.tolist()"
      ]
    },
    {
      "cell_type": "code",
      "execution_count": null,
      "metadata": {
        "colab": {
          "base_uri": "https://localhost:8080/"
        },
        "id": "ypINj6zu5Xvn",
        "outputId": "b6f19885-70bc-4adb-f1d8-1950ef0e3c89"
      },
      "outputs": [
        {
          "name": "stdout",
          "output_type": "stream",
          "text": [
            "d9qvAn8B7wsuAN6fqXqe\n"
          ]
        }
      ],
      "source": [
        "print(question_ids[1])"
      ]
    },
    {
      "cell_type": "code",
      "execution_count": null,
      "metadata": {
        "colab": {
          "base_uri": "https://localhost:8080/"
        },
        "id": "_neDBysy55s7",
        "outputId": "04ba6c4c-c65d-4c82-f625-0ebd67642da8"
      },
      "outputs": [
        {
          "name": "stdout",
          "output_type": "stream",
          "text": [
            "                   q_ar_id\n",
            "0     N9quAn8B7wsuAN6fknlE\n",
            "1     d9qvAn8B7wsuAN6fqXqe\n",
            "2     utqwAn8B7wsuAN6fEXoH\n",
            "3     vtqwAn8B7wsuAN6fFXo1\n",
            "4     wtqwAn8B7wsuAN6fGXpH\n",
            "...                    ...\n",
            "5060  OtqiAn8B7wsuAN6fLmlQ\n",
            "5061  3tqiAn8B7wsuAN6fd2kX\n",
            "5062  _dqiAn8B7wsuAN6flmns\n",
            "5063  UtqjAn8B7wsuAN6fnWsw\n",
            "5064  gdqjAn8B7wsuAN6f0Wvy\n",
            "\n",
            "[5065 rows x 1 columns]\n"
          ]
        }
      ],
      "source": [
        "df = pd.DataFrame(question_ids, columns=['q_ar_id'])\n",
        "print(df)"
      ]
    },
    {
      "cell_type": "code",
      "execution_count": null,
      "metadata": {
        "colab": {
          "base_uri": "https://localhost:8080/"
        },
        "id": "eH99JAVj8J9o",
        "outputId": "5a77903a-7914-4660-c576-8b6439dd967c"
      },
      "outputs": [
        {
          "name": "stdout",
          "output_type": "stream",
          "text": [
            "Mounted at /content/drive\n"
          ]
        }
      ],
      "source": [
        "from google.colab import drive\n",
        "\n",
        "drive.mount('/content/drive')\n"
      ]
    },
    {
      "cell_type": "code",
      "execution_count": null,
      "metadata": {
        "id": "y3K_qbZw6vJC"
      },
      "outputs": [],
      "source": [
        "path = '/content/drive/My Drive/Parsa/q_ar_id.csv'\n",
        "\n",
        "with open(path, 'w', encoding = 'utf-8-sig') as f:\n",
        "  df.to_csv(f)\n"
      ]
    },
    {
      "cell_type": "markdown",
      "metadata": {
        "id": "cBTgzTfZNa85"
      },
      "source": [
        "sava the id of the questions in each language"
      ]
    },
    {
      "cell_type": "code",
      "execution_count": null,
      "metadata": {
        "colab": {
          "base_uri": "https://localhost:8080/"
        },
        "id": "XdYIBDC0NxWR",
        "outputId": "777e097f-8386-407f-9df7-a8aa7119cd3e"
      },
      "outputs": [
        {
          "output_type": "stream",
          "name": "stdout",
          "text": [
            "Mounted at /content/gdrive\n"
          ]
        }
      ],
      "source": [
        "#access google drive\n",
        "from google.colab import drive\n",
        "drive.mount('/content/gdrive')"
      ]
    },
    {
      "cell_type": "code",
      "execution_count": null,
      "metadata": {
        "colab": {
          "base_uri": "https://localhost:8080/"
        },
        "id": "Bggw5w_FN6BQ",
        "outputId": "ea7cb9bf-97cb-4a59-ee97-6b439d5a45d4"
      },
      "outputs": [
        {
          "output_type": "stream",
          "name": "stdout",
          "text": [
            "/content/gdrive/My Drive/Parsa\n",
            "creating_data_frame_log_0.ipynb  export_dataframe7.csv\n",
            "creating_data_frame_v_0.ipynb\t export_dataframe8.csv\n",
            "df_from_elk.ipynb\t\t export_dataframe9.csv\n",
            "export_dataframe10.csv\t\t export_dataframefa.csv\n",
            "export_dataframe11.csv\t\t find_optimal_num_clusters.ipynb\n",
            "export_dataframe12.csv\t\t nba.csv\n",
            "export_dataframe13.csv\t\t parsa_content.ipynb\n",
            "export_dataframe14.csv\t\t prepared_df_for_embedding.csv\n",
            "export_dataframe15.csv\t\t q_ar_id.csv\n",
            "export_dataframe16.csv\t\t q_en_id.csv\n",
            "export_dataframe17.csv\t\t q_fa_id.csv\n",
            "export_dataframe18.csv\t\t q_tr_id.csv\n",
            "export_dataframe2.csv\t\t question_fa_embedding.ipynb\n",
            "export_dataframe3.csv\t\t reduction_q1.csv\n",
            "export_dataframe4.csv\t\t reduction_q.csv\n",
            "export_dataframe5.csv\t\t reduction_q.gsheet\n",
            "export_dataframe6.csv\t\t topic_extraction.ipynb\n"
          ]
        }
      ],
      "source": [
        "#access google drive\n",
        "%cd /content/gdrive/My\\ Drive/Parsa\n",
        "!ls"
      ]
    },
    {
      "cell_type": "code",
      "execution_count": null,
      "metadata": {
        "id": "coVozwiySUsm"
      },
      "outputs": [],
      "source": [
        "import pandas as pd"
      ]
    },
    {
      "cell_type": "code",
      "execution_count": null,
      "metadata": {
        "id": "CQvwZiNTODkY"
      },
      "outputs": [],
      "source": [
        "#creat data frame\n",
        "df = pd.read_csv('export_dataframefa.csv')"
      ]
    },
    {
      "cell_type": "code",
      "execution_count": null,
      "metadata": {
        "id": "lQFwE48SOXh0"
      },
      "outputs": [],
      "source": [
        "\n",
        "df.head()"
      ]
    },
    {
      "cell_type": "code",
      "execution_count": null,
      "metadata": {
        "colab": {
          "base_uri": "https://localhost:8080/"
        },
        "id": "oo7Ai2ahPQkw",
        "outputId": "9ca9b3f0-e11c-4d46-e8da-3327b8094959"
      },
      "outputs": [
        {
          "output_type": "stream",
          "name": "stdout",
          "text": [
            "38857\n"
          ]
        }
      ],
      "source": [
        "df =df[['question','full_question','full_answer']]\n",
        "print(len(df))"
      ]
    },
    {
      "cell_type": "code",
      "execution_count": null,
      "metadata": {
        "id": "e_UuXK53QhtQ"
      },
      "outputs": [],
      "source": [
        "ids = pd.read_csv('q_fa_id.csv')"
      ]
    },
    {
      "cell_type": "code",
      "execution_count": null,
      "metadata": {
        "id": "bnvyB2gmRCVk"
      },
      "outputs": [],
      "source": [
        "df = df.join(ids)"
      ]
    },
    {
      "cell_type": "code",
      "execution_count": null,
      "metadata": {
        "id": "g2QnE4F5RHQF"
      },
      "outputs": [],
      "source": [
        "df.head()"
      ]
    },
    {
      "cell_type": "code",
      "execution_count": null,
      "metadata": {
        "colab": {
          "base_uri": "https://localhost:8080/"
        },
        "id": "J7ohjSEASgoo",
        "outputId": "adad27bc-595f-40de-f5f6-50a9456ad40f"
      },
      "outputs": [
        {
          "name": "stdout",
          "output_type": "stream",
          "text": [
            "38857\n"
          ]
        }
      ],
      "source": [
        "print(len(df))"
      ]
    },
    {
      "cell_type": "code",
      "execution_count": null,
      "metadata": {
        "colab": {
          "base_uri": "https://localhost:8080/"
        },
        "id": "TbcBRQKoS5g7",
        "outputId": "42218cc0-8bcc-4244-8609-7ee37e93b5cc"
      },
      "outputs": [
        {
          "data": {
            "text/plain": [
              "13504"
            ]
          },
          "execution_count": 19,
          "metadata": {},
          "output_type": "execute_result"
        }
      ],
      "source": [
        "#access count nan values in a specific column\n",
        "df['full_answer'].isna().sum()"
      ]
    },
    {
      "cell_type": "markdown",
      "metadata": {
        "id": "b4F4jHLmTgfV"
      },
      "source": [
        "we have 13504 nan values in the \"full answer\" column"
      ]
    },
    {
      "cell_type": "code",
      "execution_count": null,
      "metadata": {
        "id": "RZfgLfkyUdID"
      },
      "outputs": [],
      "source": [
        "df['q&a'] = df['question'].map(str) + ',' + df['full_answer'].map(str)"
      ]
    },
    {
      "cell_type": "code",
      "execution_count": null,
      "metadata": {
        "id": "EDAHxC3bUpZo"
      },
      "outputs": [],
      "source": [
        "df.head()"
      ]
    },
    {
      "cell_type": "code",
      "execution_count": null,
      "metadata": {
        "id": "rzBdP5saCS0_"
      },
      "outputs": [],
      "source": [
        "reduction=df[['index','q&a', 'q_fa_id','question']]"
      ]
    },
    {
      "cell_type": "code",
      "source": [
        "df['index'] = range(0, len(df))"
      ],
      "metadata": {
        "id": "drcN2VGRqvyg"
      },
      "execution_count": null,
      "outputs": []
    },
    {
      "cell_type": "code",
      "source": [
        "df.head()"
      ],
      "metadata": {
        "colab": {
          "base_uri": "https://localhost:8080/",
          "height": 354
        },
        "id": "5bs4DYe7q2sm",
        "outputId": "36204195-b2bc-45c1-cfe7-e4fd1ed39e31"
      },
      "execution_count": null,
      "outputs": [
        {
          "output_type": "execute_result",
          "data": {
            "text/html": [
              "\n",
              "  <div id=\"df-529b67be-d9c3-4062-8728-41b0d3ebd4e9\">\n",
              "    <div class=\"colab-df-container\">\n",
              "      <div>\n",
              "<style scoped>\n",
              "    .dataframe tbody tr th:only-of-type {\n",
              "        vertical-align: middle;\n",
              "    }\n",
              "\n",
              "    .dataframe tbody tr th {\n",
              "        vertical-align: top;\n",
              "    }\n",
              "\n",
              "    .dataframe thead th {\n",
              "        text-align: right;\n",
              "    }\n",
              "</style>\n",
              "<table border=\"1\" class=\"dataframe\">\n",
              "  <thead>\n",
              "    <tr style=\"text-align: right;\">\n",
              "      <th></th>\n",
              "      <th>question</th>\n",
              "      <th>full_question</th>\n",
              "      <th>full_answer</th>\n",
              "      <th>Unnamed: 0</th>\n",
              "      <th>q_fa_id</th>\n",
              "      <th>q&amp;a</th>\n",
              "      <th>index</th>\n",
              "    </tr>\n",
              "  </thead>\n",
              "  <tbody>\n",
              "    <tr>\n",
              "      <th>0</th>\n",
              "      <td>بی حس یا بی هوش کردن مجرم قبل از قصاص</td>\n",
              "      <td>کسى که قرار است کشته شود (تیرباران، حلق آویز و...</td>\n",
              "      <td>در اعدام یا همان قصاص نفس جایز نیست ولی در قطع...</td>\n",
              "      <td>0</td>\n",
              "      <td>OdkpAn8B7wsuAN6febKj</td>\n",
              "      <td>بی حس یا بی هوش کردن مجرم قبل از قصاص ,در اعدا...</td>\n",
              "      <td>0</td>\n",
              "    </tr>\n",
              "    <tr>\n",
              "      <th>1</th>\n",
              "      <td>عدم اطلاع شوهر از رجوع زن به بذل</td>\n",
              "      <td>این جانب با بذل یکصد عدد سکّه بهار آزادى از هم...</td>\n",
              "      <td>چنانچه در عدّه، رجوع به بذل خود کرده اید و به ...</td>\n",
              "      <td>1</td>\n",
              "      <td>OtkpAn8B7wsuAN6ferID</td>\n",
              "      <td>عدم اطلاع شوهر از رجوع زن به بذل ,چنانچه در ع...</td>\n",
              "      <td>1</td>\n",
              "    </tr>\n",
              "    <tr>\n",
              "      <th>2</th>\n",
              "      <td>قصاص عضو ضارب در صورت بهبودی عضو مضروب</td>\n",
              "      <td>اگر کسى انگشت یا دست کسى را عمداً قطع کند و م...</td>\n",
              "      <td>حقّ قصاص دارد ولى دوّمى نیز حق دارد انگشت خود ...</td>\n",
              "      <td>2</td>\n",
              "      <td>O9kpAn8B7wsuAN6ferIM</td>\n",
              "      <td>قصاص عضو ضارب در صورت بهبودی عضو مضروب,حقّ قصا...</td>\n",
              "      <td>2</td>\n",
              "    </tr>\n",
              "    <tr>\n",
              "      <th>3</th>\n",
              "      <td>رجوع زن به مهریه و عدم توانایی پرداخت مهریه تو...</td>\n",
              "      <td>اگر در ایّام طلاق خلع، زن به مهر خود رجوع کند ...</td>\n",
              "      <td>اگر مقداری را بپردازد هر چند کم باشد، زوج حق ر...</td>\n",
              "      <td>3</td>\n",
              "      <td>PNkpAn8B7wsuAN6ferJj</td>\n",
              "      <td>رجوع زن به مهریه و عدم توانایی پرداخت مهریه تو...</td>\n",
              "      <td>3</td>\n",
              "    </tr>\n",
              "    <tr>\n",
              "      <th>4</th>\n",
              "      <td>تملک ولی دم به اعضای بدن مجرم بعد از قصاص</td>\n",
              "      <td>هرگاه مجرم محکوم به قصاص اعدام شود، آیا ولى دم...</td>\n",
              "      <td>ولىّ دم حقّى در آن ندارد.</td>\n",
              "      <td>4</td>\n",
              "      <td>PdkpAn8B7wsuAN6ferJr</td>\n",
              "      <td>تملک ولی دم به اعضای بدن مجرم بعد از قصاص,ولىّ...</td>\n",
              "      <td>4</td>\n",
              "    </tr>\n",
              "  </tbody>\n",
              "</table>\n",
              "</div>\n",
              "      <button class=\"colab-df-convert\" onclick=\"convertToInteractive('df-529b67be-d9c3-4062-8728-41b0d3ebd4e9')\"\n",
              "              title=\"Convert this dataframe to an interactive table.\"\n",
              "              style=\"display:none;\">\n",
              "        \n",
              "  <svg xmlns=\"http://www.w3.org/2000/svg\" height=\"24px\"viewBox=\"0 0 24 24\"\n",
              "       width=\"24px\">\n",
              "    <path d=\"M0 0h24v24H0V0z\" fill=\"none\"/>\n",
              "    <path d=\"M18.56 5.44l.94 2.06.94-2.06 2.06-.94-2.06-.94-.94-2.06-.94 2.06-2.06.94zm-11 1L8.5 8.5l.94-2.06 2.06-.94-2.06-.94L8.5 2.5l-.94 2.06-2.06.94zm10 10l.94 2.06.94-2.06 2.06-.94-2.06-.94-.94-2.06-.94 2.06-2.06.94z\"/><path d=\"M17.41 7.96l-1.37-1.37c-.4-.4-.92-.59-1.43-.59-.52 0-1.04.2-1.43.59L10.3 9.45l-7.72 7.72c-.78.78-.78 2.05 0 2.83L4 21.41c.39.39.9.59 1.41.59.51 0 1.02-.2 1.41-.59l7.78-7.78 2.81-2.81c.8-.78.8-2.07 0-2.86zM5.41 20L4 18.59l7.72-7.72 1.47 1.35L5.41 20z\"/>\n",
              "  </svg>\n",
              "      </button>\n",
              "      \n",
              "  <style>\n",
              "    .colab-df-container {\n",
              "      display:flex;\n",
              "      flex-wrap:wrap;\n",
              "      gap: 12px;\n",
              "    }\n",
              "\n",
              "    .colab-df-convert {\n",
              "      background-color: #E8F0FE;\n",
              "      border: none;\n",
              "      border-radius: 50%;\n",
              "      cursor: pointer;\n",
              "      display: none;\n",
              "      fill: #1967D2;\n",
              "      height: 32px;\n",
              "      padding: 0 0 0 0;\n",
              "      width: 32px;\n",
              "    }\n",
              "\n",
              "    .colab-df-convert:hover {\n",
              "      background-color: #E2EBFA;\n",
              "      box-shadow: 0px 1px 2px rgba(60, 64, 67, 0.3), 0px 1px 3px 1px rgba(60, 64, 67, 0.15);\n",
              "      fill: #174EA6;\n",
              "    }\n",
              "\n",
              "    [theme=dark] .colab-df-convert {\n",
              "      background-color: #3B4455;\n",
              "      fill: #D2E3FC;\n",
              "    }\n",
              "\n",
              "    [theme=dark] .colab-df-convert:hover {\n",
              "      background-color: #434B5C;\n",
              "      box-shadow: 0px 1px 3px 1px rgba(0, 0, 0, 0.15);\n",
              "      filter: drop-shadow(0px 1px 2px rgba(0, 0, 0, 0.3));\n",
              "      fill: #FFFFFF;\n",
              "    }\n",
              "  </style>\n",
              "\n",
              "      <script>\n",
              "        const buttonEl =\n",
              "          document.querySelector('#df-529b67be-d9c3-4062-8728-41b0d3ebd4e9 button.colab-df-convert');\n",
              "        buttonEl.style.display =\n",
              "          google.colab.kernel.accessAllowed ? 'block' : 'none';\n",
              "\n",
              "        async function convertToInteractive(key) {\n",
              "          const element = document.querySelector('#df-529b67be-d9c3-4062-8728-41b0d3ebd4e9');\n",
              "          const dataTable =\n",
              "            await google.colab.kernel.invokeFunction('convertToInteractive',\n",
              "                                                     [key], {});\n",
              "          if (!dataTable) return;\n",
              "\n",
              "          const docLinkHtml = 'Like what you see? Visit the ' +\n",
              "            '<a target=\"_blank\" href=https://colab.research.google.com/notebooks/data_table.ipynb>data table notebook</a>'\n",
              "            + ' to learn more about interactive tables.';\n",
              "          element.innerHTML = '';\n",
              "          dataTable['output_type'] = 'display_data';\n",
              "          await google.colab.output.renderOutput(dataTable, element);\n",
              "          const docLink = document.createElement('div');\n",
              "          docLink.innerHTML = docLinkHtml;\n",
              "          element.appendChild(docLink);\n",
              "        }\n",
              "      </script>\n",
              "    </div>\n",
              "  </div>\n",
              "  "
            ],
            "text/plain": [
              "                                            question  \\\n",
              "0             بی حس یا بی هوش کردن مجرم قبل از قصاص    \n",
              "1                  عدم اطلاع شوهر از رجوع زن به بذل    \n",
              "2             قصاص عضو ضارب در صورت بهبودی عضو مضروب   \n",
              "3  رجوع زن به مهریه و عدم توانایی پرداخت مهریه تو...   \n",
              "4          تملک ولی دم به اعضای بدن مجرم بعد از قصاص   \n",
              "\n",
              "                                       full_question  \\\n",
              "0  کسى که قرار است کشته شود (تیرباران، حلق آویز و...   \n",
              "1  این جانب با بذل یکصد عدد سکّه بهار آزادى از هم...   \n",
              "2   اگر کسى انگشت یا دست کسى را عمداً قطع کند و م...   \n",
              "3  اگر در ایّام طلاق خلع، زن به مهر خود رجوع کند ...   \n",
              "4  هرگاه مجرم محکوم به قصاص اعدام شود، آیا ولى دم...   \n",
              "\n",
              "                                         full_answer  Unnamed: 0  \\\n",
              "0  در اعدام یا همان قصاص نفس جایز نیست ولی در قطع...           0   \n",
              "1  چنانچه در عدّه، رجوع به بذل خود کرده اید و به ...           1   \n",
              "2  حقّ قصاص دارد ولى دوّمى نیز حق دارد انگشت خود ...           2   \n",
              "3  اگر مقداری را بپردازد هر چند کم باشد، زوج حق ر...           3   \n",
              "4                          ولىّ دم حقّى در آن ندارد.           4   \n",
              "\n",
              "                q_fa_id                                                q&a  \\\n",
              "0  OdkpAn8B7wsuAN6febKj  بی حس یا بی هوش کردن مجرم قبل از قصاص ,در اعدا...   \n",
              "1  OtkpAn8B7wsuAN6ferID   عدم اطلاع شوهر از رجوع زن به بذل ,چنانچه در ع...   \n",
              "2  O9kpAn8B7wsuAN6ferIM  قصاص عضو ضارب در صورت بهبودی عضو مضروب,حقّ قصا...   \n",
              "3  PNkpAn8B7wsuAN6ferJj  رجوع زن به مهریه و عدم توانایی پرداخت مهریه تو...   \n",
              "4  PdkpAn8B7wsuAN6ferJr  تملک ولی دم به اعضای بدن مجرم بعد از قصاص,ولىّ...   \n",
              "\n",
              "   index  \n",
              "0      0  \n",
              "1      1  \n",
              "2      2  \n",
              "3      3  \n",
              "4      4  "
            ]
          },
          "metadata": {},
          "execution_count": 17
        }
      ]
    },
    {
      "cell_type": "code",
      "execution_count": null,
      "metadata": {
        "colab": {
          "base_uri": "https://localhost:8080/"
        },
        "id": "lMg0p1k0CkiJ",
        "outputId": "0dfe9be3-859e-455e-e43e-1fb2220d5487"
      },
      "outputs": [
        {
          "output_type": "stream",
          "name": "stdout",
          "text": [
            "Drive already mounted at /content/drive; to attempt to forcibly remount, call drive.mount(\"/content/drive\", force_remount=True).\n"
          ]
        }
      ],
      "source": [
        "from google.colab import drive\n",
        "\n",
        "drive.mount('/content/drive')"
      ]
    },
    {
      "cell_type": "code",
      "source": [
        "path = '/content/drive/My Drive/parsa_content_based/reduction_q3.csv'\n",
        "\n",
        "with open(path, 'w', encoding = 'utf-8-sig') as f:\n",
        "  reduction.to_csv(f)"
      ],
      "metadata": {
        "id": "NoB6gZpNo9Fk"
      },
      "execution_count": null,
      "outputs": []
    },
    {
      "cell_type": "code",
      "execution_count": null,
      "metadata": {
        "id": "tImqdPd9CqjJ"
      },
      "outputs": [],
      "source": [
        "path = '/content/drive/My Drive/Parsa/reduction_q1.csv'\n",
        "\n",
        "with open(path, 'w', encoding = 'utf-8-sig') as f:\n",
        "  reduction.to_csv(f)"
      ]
    },
    {
      "cell_type": "code",
      "execution_count": null,
      "metadata": {
        "colab": {
          "base_uri": "https://localhost:8080/",
          "height": 206
        },
        "id": "b0ZP-PcwDc9F",
        "outputId": "3f920b46-b276-4d48-8351-c485e8dd5220"
      },
      "outputs": [
        {
          "output_type": "execute_result",
          "data": {
            "text/html": [
              "\n",
              "  <div id=\"df-4ff59bca-0bc2-46ad-9d68-78a93886164a\">\n",
              "    <div class=\"colab-df-container\">\n",
              "      <div>\n",
              "<style scoped>\n",
              "    .dataframe tbody tr th:only-of-type {\n",
              "        vertical-align: middle;\n",
              "    }\n",
              "\n",
              "    .dataframe tbody tr th {\n",
              "        vertical-align: top;\n",
              "    }\n",
              "\n",
              "    .dataframe thead th {\n",
              "        text-align: right;\n",
              "    }\n",
              "</style>\n",
              "<table border=\"1\" class=\"dataframe\">\n",
              "  <thead>\n",
              "    <tr style=\"text-align: right;\">\n",
              "      <th></th>\n",
              "      <th>index</th>\n",
              "      <th>q&amp;a</th>\n",
              "      <th>q_fa_id</th>\n",
              "      <th>question</th>\n",
              "    </tr>\n",
              "  </thead>\n",
              "  <tbody>\n",
              "    <tr>\n",
              "      <th>0</th>\n",
              "      <td>0</td>\n",
              "      <td>بی حس یا بی هوش کردن مجرم قبل از قصاص ,در اعدا...</td>\n",
              "      <td>OdkpAn8B7wsuAN6febKj</td>\n",
              "      <td>بی حس یا بی هوش کردن مجرم قبل از قصاص</td>\n",
              "    </tr>\n",
              "    <tr>\n",
              "      <th>1</th>\n",
              "      <td>1</td>\n",
              "      <td>عدم اطلاع شوهر از رجوع زن به بذل ,چنانچه در ع...</td>\n",
              "      <td>OtkpAn8B7wsuAN6ferID</td>\n",
              "      <td>عدم اطلاع شوهر از رجوع زن به بذل</td>\n",
              "    </tr>\n",
              "    <tr>\n",
              "      <th>2</th>\n",
              "      <td>2</td>\n",
              "      <td>قصاص عضو ضارب در صورت بهبودی عضو مضروب,حقّ قصا...</td>\n",
              "      <td>O9kpAn8B7wsuAN6ferIM</td>\n",
              "      <td>قصاص عضو ضارب در صورت بهبودی عضو مضروب</td>\n",
              "    </tr>\n",
              "    <tr>\n",
              "      <th>3</th>\n",
              "      <td>3</td>\n",
              "      <td>رجوع زن به مهریه و عدم توانایی پرداخت مهریه تو...</td>\n",
              "      <td>PNkpAn8B7wsuAN6ferJj</td>\n",
              "      <td>رجوع زن به مهریه و عدم توانایی پرداخت مهریه تو...</td>\n",
              "    </tr>\n",
              "    <tr>\n",
              "      <th>4</th>\n",
              "      <td>4</td>\n",
              "      <td>تملک ولی دم به اعضای بدن مجرم بعد از قصاص,ولىّ...</td>\n",
              "      <td>PdkpAn8B7wsuAN6ferJr</td>\n",
              "      <td>تملک ولی دم به اعضای بدن مجرم بعد از قصاص</td>\n",
              "    </tr>\n",
              "  </tbody>\n",
              "</table>\n",
              "</div>\n",
              "      <button class=\"colab-df-convert\" onclick=\"convertToInteractive('df-4ff59bca-0bc2-46ad-9d68-78a93886164a')\"\n",
              "              title=\"Convert this dataframe to an interactive table.\"\n",
              "              style=\"display:none;\">\n",
              "        \n",
              "  <svg xmlns=\"http://www.w3.org/2000/svg\" height=\"24px\"viewBox=\"0 0 24 24\"\n",
              "       width=\"24px\">\n",
              "    <path d=\"M0 0h24v24H0V0z\" fill=\"none\"/>\n",
              "    <path d=\"M18.56 5.44l.94 2.06.94-2.06 2.06-.94-2.06-.94-.94-2.06-.94 2.06-2.06.94zm-11 1L8.5 8.5l.94-2.06 2.06-.94-2.06-.94L8.5 2.5l-.94 2.06-2.06.94zm10 10l.94 2.06.94-2.06 2.06-.94-2.06-.94-.94-2.06-.94 2.06-2.06.94z\"/><path d=\"M17.41 7.96l-1.37-1.37c-.4-.4-.92-.59-1.43-.59-.52 0-1.04.2-1.43.59L10.3 9.45l-7.72 7.72c-.78.78-.78 2.05 0 2.83L4 21.41c.39.39.9.59 1.41.59.51 0 1.02-.2 1.41-.59l7.78-7.78 2.81-2.81c.8-.78.8-2.07 0-2.86zM5.41 20L4 18.59l7.72-7.72 1.47 1.35L5.41 20z\"/>\n",
              "  </svg>\n",
              "      </button>\n",
              "      \n",
              "  <style>\n",
              "    .colab-df-container {\n",
              "      display:flex;\n",
              "      flex-wrap:wrap;\n",
              "      gap: 12px;\n",
              "    }\n",
              "\n",
              "    .colab-df-convert {\n",
              "      background-color: #E8F0FE;\n",
              "      border: none;\n",
              "      border-radius: 50%;\n",
              "      cursor: pointer;\n",
              "      display: none;\n",
              "      fill: #1967D2;\n",
              "      height: 32px;\n",
              "      padding: 0 0 0 0;\n",
              "      width: 32px;\n",
              "    }\n",
              "\n",
              "    .colab-df-convert:hover {\n",
              "      background-color: #E2EBFA;\n",
              "      box-shadow: 0px 1px 2px rgba(60, 64, 67, 0.3), 0px 1px 3px 1px rgba(60, 64, 67, 0.15);\n",
              "      fill: #174EA6;\n",
              "    }\n",
              "\n",
              "    [theme=dark] .colab-df-convert {\n",
              "      background-color: #3B4455;\n",
              "      fill: #D2E3FC;\n",
              "    }\n",
              "\n",
              "    [theme=dark] .colab-df-convert:hover {\n",
              "      background-color: #434B5C;\n",
              "      box-shadow: 0px 1px 3px 1px rgba(0, 0, 0, 0.15);\n",
              "      filter: drop-shadow(0px 1px 2px rgba(0, 0, 0, 0.3));\n",
              "      fill: #FFFFFF;\n",
              "    }\n",
              "  </style>\n",
              "\n",
              "      <script>\n",
              "        const buttonEl =\n",
              "          document.querySelector('#df-4ff59bca-0bc2-46ad-9d68-78a93886164a button.colab-df-convert');\n",
              "        buttonEl.style.display =\n",
              "          google.colab.kernel.accessAllowed ? 'block' : 'none';\n",
              "\n",
              "        async function convertToInteractive(key) {\n",
              "          const element = document.querySelector('#df-4ff59bca-0bc2-46ad-9d68-78a93886164a');\n",
              "          const dataTable =\n",
              "            await google.colab.kernel.invokeFunction('convertToInteractive',\n",
              "                                                     [key], {});\n",
              "          if (!dataTable) return;\n",
              "\n",
              "          const docLinkHtml = 'Like what you see? Visit the ' +\n",
              "            '<a target=\"_blank\" href=https://colab.research.google.com/notebooks/data_table.ipynb>data table notebook</a>'\n",
              "            + ' to learn more about interactive tables.';\n",
              "          element.innerHTML = '';\n",
              "          dataTable['output_type'] = 'display_data';\n",
              "          await google.colab.output.renderOutput(dataTable, element);\n",
              "          const docLink = document.createElement('div');\n",
              "          docLink.innerHTML = docLinkHtml;\n",
              "          element.appendChild(docLink);\n",
              "        }\n",
              "      </script>\n",
              "    </div>\n",
              "  </div>\n",
              "  "
            ],
            "text/plain": [
              "   index                                                q&a  \\\n",
              "0      0  بی حس یا بی هوش کردن مجرم قبل از قصاص ,در اعدا...   \n",
              "1      1   عدم اطلاع شوهر از رجوع زن به بذل ,چنانچه در ع...   \n",
              "2      2  قصاص عضو ضارب در صورت بهبودی عضو مضروب,حقّ قصا...   \n",
              "3      3  رجوع زن به مهریه و عدم توانایی پرداخت مهریه تو...   \n",
              "4      4  تملک ولی دم به اعضای بدن مجرم بعد از قصاص,ولىّ...   \n",
              "\n",
              "                q_fa_id                                           question  \n",
              "0  OdkpAn8B7wsuAN6febKj             بی حس یا بی هوش کردن مجرم قبل از قصاص   \n",
              "1  OtkpAn8B7wsuAN6ferID                  عدم اطلاع شوهر از رجوع زن به بذل   \n",
              "2  O9kpAn8B7wsuAN6ferIM             قصاص عضو ضارب در صورت بهبودی عضو مضروب  \n",
              "3  PNkpAn8B7wsuAN6ferJj  رجوع زن به مهریه و عدم توانایی پرداخت مهریه تو...  \n",
              "4  PdkpAn8B7wsuAN6ferJr          تملک ولی دم به اعضای بدن مجرم بعد از قصاص  "
            ]
          },
          "metadata": {},
          "execution_count": 21
        }
      ],
      "source": [
        "reduction.head()"
      ]
    },
    {
      "cell_type": "code",
      "execution_count": null,
      "metadata": {
        "colab": {
          "base_uri": "https://localhost:8080/"
        },
        "id": "dnPVcyXhVOro",
        "outputId": "9c85d37a-2149-4318-b717-9288f370ca53"
      },
      "outputs": [
        {
          "name": "stdout",
          "output_type": "stream",
          "text": [
            "[2074, 2075, 2076, 2077, 2078, 2079, 2080, 2081, 2082, 2083, 2084, 2085, 2086, 2087, 2088, 2089, 2090, 2091, 2092, 2093, 2094, 2095, 2096, 2097, 2102, 2106, 2109, 2110, 2111, 2112, 2113, 2114, 2115, 2118, 2119, 2121, 2122, 2123, 2124, 2125, 2126, 2127, 2132, 2133, 2134, 2135, 2136, 2139, 2140, 2141, 2142, 2143, 2144, 2145, 2146, 2148, 2149, 2150, 2151, 2152, 2153, 2154, 2155, 2156, 2157, 2159, 2167, 2170, 2171, 2174, 2175, 2176, 2177, 2178, 2179, 2180, 2181, 2182, 2183, 2184, 2185, 2186, 2190, 2191, 2192, 2193, 2194, 2195, 2201, 2202, 2203, 2204, 2205, 2206, 2207, 2208, 2209, 2210, 2211, 2212, 2213, 2215, 2216, 2217, 2218, 2219, 2220, 2221, 2222, 2224, 2225, 2227, 2228, 2229, 2230, 2231, 2233, 2235, 2236, 2237, 2238, 2239, 2240, 2242, 2244, 2246, 2247, 2248, 2249, 2253, 2254, 2255, 2256, 2257, 2258, 2260, 2262, 2263, 2264, 2265, 2266, 2267, 2270, 2271, 2272, 2273, 2274, 2275, 2276, 2278, 2279, 2280, 2281, 2282, 2283, 2284, 2285, 2288, 2290, 2292, 2293, 2294, 2296, 2298, 2299, 2300, 2301, 2302, 2303, 2308, 2309, 2310, 2311, 2312, 2318, 2319, 2320, 2321, 2325, 2326, 2327, 2328, 2329, 2330, 2331, 2334, 2335, 2336, 2337, 2338, 2339, 2343, 2344, 2345, 2346, 2347, 2348, 2350, 2352, 2353, 2354, 2355, 2356, 2357, 2359, 2360, 2361, 2362, 2363, 2364, 2365, 2366, 2368, 2373, 2374, 2375, 2376, 2377, 2379, 2380, 2381, 2382, 2383, 2384, 2386, 2388, 2390, 2391, 2392, 2393, 2394, 2396, 2397, 2398, 2399, 2400, 2402, 2404, 2405, 2406, 2407, 2408, 2409, 2410, 2411, 2412, 2413, 2414, 2415, 2419, 2425, 2426, 2428, 2429, 2430, 2431, 2432, 2435, 2438, 2439, 2441, 2442, 2443, 2444, 2449, 2450, 2451, 2452, 2453, 2454, 2455, 2456, 2457, 2460, 2463, 2465, 2466, 2468, 2469, 2470, 2471, 2473, 2474, 2475, 2477, 2478, 2479, 2480, 2481, 2482, 2483, 2484, 2485, 2486, 2487, 2489, 2490, 2491, 2492, 2493, 2494, 2495, 2497, 2498, 2499, 2500, 2501, 2502, 2503, 2505, 2507, 2508, 2510, 2513, 2514, 2515, 2518, 2519, 2520, 2522, 2524, 2525, 2527, 2528, 2529, 2532, 2534, 2535, 2537, 2539, 2540, 2541, 2542, 2544, 2545, 2546, 2547, 2548, 2550, 2551, 2552, 2553, 2554, 2556, 2557, 2558, 2559, 2560, 2561, 2563, 2564, 2565, 2568, 2574, 2575, 2576, 2578, 2579, 2580, 2582, 2583, 2584, 2585, 2588, 2596, 2597, 2598, 2599, 2600, 2601, 2603, 2611, 2614, 2615, 2617, 2618, 2619, 2622, 2623, 2625, 2626, 2628, 2629, 2630, 2631, 2632, 2633, 2634, 2636, 2637, 2638, 2639, 2640, 2641, 2642, 2643, 2644, 2648, 2649, 2650, 2651, 2652, 2654, 2655, 2656, 2657, 2658, 2659, 2660, 2661, 2662, 2663, 2664, 2665, 2666, 2667, 2668, 2669, 2670, 2671, 2672, 2673, 2674, 2675, 2676, 2677, 2678, 2679, 2680, 2681, 2682, 2683, 2684, 2685, 2687, 2693, 2694, 2695, 7995, 7996, 7997, 7998, 7999, 8000, 8001, 8002, 8003, 8004, 8005, 8006, 8007, 8008, 8009, 9481, 9485, 9486, 9487, 9488, 9489, 9490, 9491, 9492, 9493, 9494, 9495, 9496, 9497, 9498, 9499, 9500, 9501, 9502, 9503, 18435, 18436, 18437, 18440, 18441, 18442, 18443, 18444, 18445, 18446, 18447, 18448, 18449, 18450, 18453, 18455, 18456, 18458, 18459, 18461, 18464, 18465, 18468, 18469, 18471, 18472, 18473, 18474, 18475, 18478, 18479, 18487, 18488, 18491, 18492, 18493, 18494, 18495, 18496, 18498, 18499, 18500, 18501, 18502, 18503, 18504, 18505, 18506, 18508, 18509, 18516, 18518, 18522, 18523, 18529, 18532, 18533, 18534, 18535, 18536, 18541, 18542, 18543, 18544, 18545, 18546, 18547, 18552, 18556, 18560, 18561, 18564, 18566, 18567, 18568, 18570, 18572, 18573, 18574, 18575, 18576, 18577, 18578, 18579, 18580, 18581, 18582, 18583, 18584, 18585, 18586, 18587, 18588, 18589, 18590, 18591, 18593, 18594, 18597, 18598, 18599, 18601, 18602, 18603, 18604, 18605, 18606, 18607, 18608, 18609, 18610, 18611, 18612, 18613, 18614, 18615, 18616, 18617, 18618, 18619, 18620, 18622, 18623, 18624, 18625, 18626, 18628, 18629, 18630, 18632, 18634, 18636, 18637, 18638, 18639, 18640, 18641, 18645, 18646, 18648, 18649, 18650, 18654, 18655, 18656, 18657, 18661, 18662, 18663, 18664, 18665, 18666, 18667, 18669, 18671, 18673, 18674, 18675, 18676, 18677, 18682, 18684, 18691, 18697, 18698, 18700, 18701, 18702, 18705, 18706, 18707, 18708, 18709, 18710, 18711, 18712, 18713, 18714, 18715, 18716, 18717, 18719, 18720, 18721, 18722, 18723, 18725, 18728, 18729, 18731, 18732, 18733, 18734, 18735, 18738, 18739, 18740, 18741, 18745, 18747, 18748, 18749, 18750, 18751, 18752, 18753, 18754, 18755, 18756, 18757, 18758, 18759, 18762, 18763, 18764, 18765, 18766, 18767, 18768, 18769, 18770, 18771, 18772, 18773, 18774, 18776, 18777, 18778, 18779, 18780, 18781, 18782, 18783, 18784, 18785, 18786, 18787, 18788, 18789, 18790, 18791, 18792, 18793, 18794, 18795, 18796, 18797, 18798, 18800, 18801, 18802, 18803, 18804, 18805, 18806, 18807, 18808, 18809, 18810, 18811, 18812, 18813, 18814, 18815, 18816, 18817, 18818, 18819, 18820, 18821, 18822, 18823, 18824, 18825, 18826, 18828, 18831, 18834, 18835, 18836, 18837, 18838, 18839, 18840, 18841, 18842, 18843, 18844, 18845, 18846, 18847, 18848, 18849, 18850, 18854, 18857, 18859, 18861, 18864, 18866, 18867, 18871, 18873, 18875, 18876, 18877, 18878, 18880, 18881, 18882, 18883, 18886, 18887, 18888, 18891, 18892, 18893, 18894, 18896, 18897, 18899, 18900, 18902, 18903, 18905, 18907, 18908, 18912, 18913, 18914, 18918, 18919, 18920, 18921, 18923, 18925, 18926, 18927, 18928, 18930, 18932, 18933, 18934, 18936, 18937, 18941, 18942, 18943, 18944, 18945, 18946, 18947, 18948, 18949, 18950, 18951, 18952, 18954, 18955, 18956, 18957, 18959, 18960, 18961, 18963, 18964, 18966, 18968, 18970, 18971, 18974, 18976, 18977, 18978, 18979, 18980, 18982, 18983, 18984, 18985, 18988, 18989, 18990, 18994, 18996, 18997, 18998, 18999, 19002, 19003, 19004, 19005, 19006, 19007, 19008, 19009, 19010, 19011, 19012, 19013, 19016, 19018, 19020, 19021, 19022, 19023, 19024, 19026, 19027, 19028, 19029, 19030, 19032, 19037, 19038, 19039, 19040, 19041, 19042, 19043, 19044, 19046, 19047, 19048, 19049, 19050, 19051, 19052, 19054, 19055, 19056, 19057, 19062, 19063, 19064, 19065, 19066, 19068, 19069, 19070, 19071, 19072, 19080, 19081, 19082, 19086, 19087, 19088, 19089, 19090, 19091, 19092, 19093, 19094, 19095, 19096, 19097, 19098, 19099, 19100, 19101, 19102, 19103, 19104, 19106, 19108, 19110, 19111, 19112, 19113, 19114, 19115, 19116, 19117, 19118, 19125, 19126, 19127, 19128, 19131, 19132, 19133, 19135, 19138, 19139, 19140, 19141, 19142, 19143, 19144, 19145, 19146, 19147, 19148, 19152, 19153, 19154, 19155, 19156, 19157, 19158, 19159, 19160, 19161, 19162, 19163, 19164, 19165, 19166, 19167, 19168, 19169, 19170, 19171, 19172, 19174, 19176, 19178, 19179, 19180, 19182, 19184, 19187, 19188, 19189, 19191, 19192, 19193, 19194, 19195, 19196, 19197, 19198, 19199, 19200, 19201, 19202, 19203, 19206, 19207, 19208, 19209, 19213, 19214, 19215, 19216, 19217, 19218, 19220, 19221, 19222, 19223, 19224, 19225, 19226, 19227, 19228, 19229, 19230, 19232, 19233, 19235, 19236, 19237, 19238, 19239, 19241, 19242, 19243, 19244, 19245, 19246, 19247, 19248, 19249, 19251, 19252, 19253, 19255, 19257, 19258, 19259, 19260, 19261, 19263, 19264, 19265, 19266, 19267, 19269, 19270, 19272, 19273, 19274, 19277, 19278, 19279, 19280, 19285, 19288, 19289, 19290, 19291, 19292, 19298, 19299, 19300, 19301, 19306, 19307, 19308, 19309, 19310, 19311, 19312, 19313, 19314, 19316, 19317, 19318, 19319, 19320, 19321, 19322, 19323, 19324, 19327, 19330, 19331, 19335, 19336, 19340, 19342, 19344, 19345, 19346, 19348, 19352, 19353, 19355, 19358, 19360, 19361, 19362, 19363, 19364, 19365, 19366, 19367, 19368, 19369, 19370, 19371, 19373, 19374, 19375, 19376, 19378, 19379, 19380, 19384, 19385, 19387, 19388, 19389, 19390, 19391, 19392, 19393, 19397, 19398, 19399, 19400, 19403, 19404, 19405, 19407, 19408, 19409, 19410, 19411, 19412, 19413, 19414, 19416, 19417, 19418, 19419, 19420, 19421, 19422, 19423, 19425, 19426, 19427, 19428, 19429, 19430, 19431, 19432, 19433, 19434, 19435, 19436, 19438, 19440, 19441, 19442, 19444, 19446, 19449, 19450, 19451, 19452, 19453, 19455, 19456, 19457, 19458, 19459, 19460, 19462, 19466, 19469, 19470, 19471, 19473, 19475, 19476, 19477, 19478, 19479, 19480, 19481, 19482, 19483, 19484, 19485, 19486, 19487, 19488, 19489, 19490, 19491, 19492, 19493, 19497, 19503, 19504, 19505, 19506, 19507, 19508, 19510, 19511, 19512, 19513, 19514, 19515, 19516, 19517, 19518, 19519, 19520, 19521, 19522, 19523, 19524, 19525, 19526, 19527, 19529, 19530, 19531, 19534, 19536, 19538, 19539, 19540, 19541, 19542, 19544, 19545, 19546, 19550, 19551, 19552, 19553, 19554, 19555, 19556, 19557, 19558, 19559, 19561, 19562, 19564, 19565, 19566, 19567, 19568, 19569, 19570, 19571, 19572, 19573, 19574, 19575, 19576, 19577, 19580, 19581, 19582, 19583, 19584, 19585, 19586, 19587, 19588, 19589, 19590, 19591, 19592, 19593, 19594, 19595, 19596, 19597, 19598, 19599, 19600, 19601, 19602, 19603, 19604, 19605, 19606, 19607, 19608, 19610, 19613, 19614, 19615, 19616, 19617, 19618, 19619, 19620, 19621, 19622, 19623, 19624, 19625, 19626, 19627, 19628, 19629, 19630, 19632, 19635, 19636, 19637, 19638, 19639, 19640, 19641, 19642, 19643, 19644, 19645, 19646, 19647, 19648, 19650, 19651, 19652, 19653, 19654, 19655, 19656, 19657, 19659, 19660, 19661, 19662, 19663, 19664, 19665, 19666, 19667, 19669, 19670, 19671, 19672, 19673, 19674, 19675, 19676, 19681, 19682, 19685, 19686, 19687, 19688, 19689, 19690, 19691, 19692, 19693, 19694, 19695, 19696, 19697, 19698, 19699, 19700, 19701, 19702, 19703, 19704, 19705, 19706, 19707, 19708, 19709, 19710, 19711, 19714, 19715, 19716, 19717, 19718, 19719, 19720, 19721, 19725, 19726, 19727, 19728, 19731, 19732, 19733, 19734, 19736, 19737, 19739, 19741, 19742, 19745, 19746, 19747, 19748, 19750, 19751, 19752, 19755, 19756, 19757, 19759, 19760, 19761, 19762, 19768, 19772, 19773, 19774, 19775, 19776, 19778, 19779, 19780, 19784, 19785, 19786, 19787, 19788, 19789, 19790, 19791, 19792, 19793, 19794, 19795, 19796, 19797, 19798, 19799, 19800, 19801, 19802, 19803, 19804, 19805, 19806, 19807, 19808, 19809, 19810, 19811, 19812, 19813, 19814, 19815, 19818, 19819, 19822, 19824, 19825, 19826, 19827, 19828, 19829, 19830, 19831, 19832, 19833, 19834, 19835, 19836, 19840, 19841, 19842, 19844, 19845, 19846, 19848, 19849, 19850, 19853, 19854, 19855, 19857, 19858, 19859, 19860, 19861, 19862, 19863, 19864, 19865, 19866, 19867, 19868, 19869, 19870, 19871, 19872, 19873, 19874, 19875, 19876, 19877, 19878, 19879, 19880, 19881, 19882, 19883, 19884, 19885, 19886, 19887, 19888, 19889, 19891, 19893, 19894, 19895, 19896, 19897, 19898, 19899, 19900, 19901, 19902, 19903, 19905, 19906, 19907, 19908, 19909, 19910, 19911, 19915, 19916, 19918, 19920, 19921, 19922, 19924, 19926, 19927, 19928, 19929, 19930, 19931, 19934, 19936, 19937, 19939, 19940, 19941, 19942, 19943, 19945, 19947, 19949, 19950, 19951, 19952, 19956, 19957, 19958, 19959, 19960, 19962, 19963, 19965, 19966, 19967, 19968, 19970, 19971, 19973, 19974, 19975, 19976, 19977, 19978, 19979, 19980, 19983, 19985, 19987, 19988, 19990, 19995, 19997, 19998, 19999, 20000, 20001, 20002, 20003, 20004, 20005, 20006, 20007, 20008, 20012, 20013, 20015, 20016, 20017, 20018, 20020, 20021, 20024, 20025, 20026, 20027, 20028, 20030, 20031, 20032, 20034, 20035, 20036, 20037, 20040, 20041, 20042, 20046, 20047, 20048, 20049, 20051, 20052, 20053, 20054, 20055, 20056, 20057, 20058, 20059, 20060, 20061, 20062, 20063, 20064, 20065, 20066, 20067, 20068, 20069, 20070, 20071, 20072, 20073, 20074, 20075, 20076, 20077, 20078, 20080, 20082, 20083, 20084, 20085, 20086, 20091, 20092, 20093, 20094, 20095, 20096, 20097, 20098, 20099, 20100, 20101, 20102, 20103, 20104, 20105, 20106, 20107, 20108, 20109, 20110, 20111, 20113, 20114, 20115, 20119, 20120, 20121, 20122, 20123, 20126, 20128, 20129, 20130, 20131, 20132, 20134, 20136, 20137, 20138, 20140, 20142, 20143, 20144, 20145, 20146, 20147, 20148, 20149, 20150, 20151, 20152, 20153, 20155, 20156, 20157, 20158, 20159, 20160, 20161, 20162, 20163, 20165, 20166, 20168, 20169, 20170, 20171, 20173, 20174, 20176, 20177, 20178, 20179, 20180, 20181, 20182, 20184, 20185, 20186, 20187, 20188, 20189, 20194, 20195, 20196, 20197, 20198, 20199, 20200, 20201, 20202, 20203, 20204, 20205, 20206, 20207, 20208, 20209, 20210, 20213, 20214, 20215, 20217, 20218, 20219, 20220, 20221, 20222, 20223, 20224, 20225, 20227, 20228, 20229, 20231, 20233, 20234, 20235, 20238, 20239, 20240, 20241, 20243, 20244, 20245, 20246, 20247, 20248, 20249, 20250, 20251, 20252, 20254, 20256, 20257, 20258, 20259, 20260, 20261, 20262, 20263, 20264, 20265, 20266, 20267, 20268, 20270, 20271, 20272, 20273, 20274, 20275, 20276, 20277, 20278, 20279, 20280, 20282, 20283, 20284, 20285, 20286, 20287, 20292, 20293, 20296, 20297, 20298, 20299, 20300, 20302, 20303, 20304, 20305, 20308, 20309, 20312, 20314, 20315, 20316, 20317, 20318, 20319, 20320, 20321, 20322, 20323, 20324, 20329, 20330, 20332, 20333, 20334, 20337, 20338, 20339, 20341, 20342, 20343, 20345, 20349, 20350, 20353, 20354, 20356, 20357, 20358, 20359, 20360, 20361, 20362, 20363, 20364, 20365, 20366, 20367, 20368, 20370, 20371, 20372, 20378, 20379, 20380, 20382, 20383, 20385, 20387, 20388, 20389, 20390, 20391, 20392, 20394, 20395, 20396, 20399, 20401, 20402, 20403, 20404, 20405, 20412, 20413, 20414, 20415, 20416, 20418, 20419, 20421, 20422, 20424, 20425, 20427, 20430, 20431, 20433, 20434, 20436, 20437, 20438, 20439, 20440, 20441, 20442, 20443, 20446, 20448, 20450, 20451, 20453, 20455, 20456, 20457, 20458, 20461, 20462, 20463, 20464, 20465, 20466, 20467, 20468, 20470, 20471, 20472, 20473, 20474, 20475, 20477, 20478, 20481, 20482, 20485, 20486, 20487, 20488, 20489, 20490, 20491, 20492, 20493, 20494, 20495, 20497, 20499, 20500, 20501, 20502, 20503, 20504, 20507, 20509, 20510, 20511, 20513, 20514, 20515, 20516, 20517, 20518, 20519, 20520, 20521, 20523, 20524, 20525, 20530, 20533, 20534, 20536, 20538, 20540, 20541, 20543, 20544, 20546, 20548, 20550, 20552, 20553, 20555, 20556, 20557, 20562, 20563, 20564, 20565, 20566, 20567, 20568, 20569, 20571, 20572, 20573, 20574, 20576, 20577, 20578, 20579, 20580, 20587, 20588, 20589, 20590, 20592, 20593, 20595, 20596, 20597, 20598, 20600, 20602, 20603, 20604, 20605, 20606, 20607, 20608, 20609, 20611, 20612, 20613, 20614, 20615, 20616, 20617, 20618, 20619, 20621, 20622, 20624, 20627, 20628, 20629, 20630, 20632, 20634, 20635, 20636, 20637, 20638, 20640, 20642, 20643, 20644, 20645, 20646, 20647, 20648, 20649, 20650, 20651, 20653, 20654, 20655, 20657, 20658, 20659, 20661, 20664, 20666, 20667, 20668, 20669, 20673, 20674, 20675, 20676, 20677, 20678, 20679, 20680, 20681, 20691, 20692, 20694, 20695, 20696, 20697, 20698, 20699, 20702, 20703, 20704, 20705, 20707, 20708, 20709, 20710, 20711, 20713, 20714, 20715, 20716, 20718, 20719, 20722, 20723, 20725, 20726, 20729, 20731, 20732, 20733, 20736, 20737, 20738, 20741, 20742, 20743, 20745, 20746, 20747, 20749, 20750, 20751, 20756, 20757, 20758, 20760, 20762, 20764, 20767, 20768, 20770, 20771, 20772, 20775, 20776, 20777, 20778, 20779, 20780, 20781, 20782, 20783, 20784, 20785, 20786, 20787, 20788, 20789, 20790, 20791, 20793, 20794, 20795, 20796, 20798, 20799, 20800, 20802, 20803, 20804, 20805, 20806, 20807, 20808, 20809, 20810, 20813, 20815, 20817, 20818, 20819, 20823, 20826, 20827, 20829, 20831, 20832, 20833, 20835, 20836, 20837, 20838, 20839, 20840, 20841, 20844, 20845, 20847, 20849, 20850, 20851, 20852, 20853, 20854, 20855, 20856, 20857, 20858, 20860, 20861, 20862, 20864, 20867, 20868, 20869, 20870, 20871, 20872, 20873, 20874, 20875, 20876, 20877, 20878, 20879, 20880, 20881, 20882, 20883, 20884, 20885, 20886, 20887, 20888, 20889, 20890, 20894, 20895, 20897, 20901, 20903, 20904, 20905, 20906, 20908, 20909, 20910, 20911, 20912, 20913, 20914, 20915, 20916, 20917, 20918, 20919, 20920, 20921, 20922, 20923, 20924, 20925, 20934, 20937, 20938, 20939, 20940, 20941, 20942, 20943, 20945, 20946, 20947, 20948, 20950, 20951, 20952, 20953, 20954, 20955, 20960, 20961, 20963, 20964, 20965, 20966, 20967, 20968, 20970, 20971, 20972, 20973, 20974, 20975, 20976, 20977, 20978, 20979, 20980, 20981, 20982, 20983, 20984, 20986, 20987, 20990, 20991, 20992, 20993, 20994, 20995, 20997, 20998, 20999, 21000, 21001, 21002, 21005, 21008, 21009, 21010, 21014, 21015, 21017, 21018, 21019, 21020, 21021, 21022, 21024, 21025, 21026, 21027, 21030, 21031, 21032, 21033, 21034, 21035, 21036, 21038, 21040, 21041, 21043, 21044, 21045, 21046, 21049, 21052, 21054, 21056, 21058, 21061, 21062, 21064, 21067, 21069, 21070, 21071, 21073, 21074, 21075, 21076, 21080, 21081, 21082, 21083, 21084, 21085, 21089, 21093, 21095, 21097, 21098, 21099, 21100, 21101, 21102, 21103, 21104, 21105, 21113, 21114, 21115, 21116, 21117, 21118, 21120, 21122, 21123, 21127, 21131, 21132, 21133, 21134, 21135, 21136, 21137, 21138, 21139, 21141, 21142, 21143, 21144, 21145, 21148, 21149, 21150, 21151, 21152, 21154, 21155, 21156, 21157, 21159, 21160, 21161, 21162, 21163, 21164, 21165, 21166, 21167, 21168, 21169, 21170, 21171, 21173, 21177, 21178, 21179, 21180, 21181, 21182, 21183, 21184, 21185, 21186, 21188, 21189, 21190, 21191, 21192, 21193, 21194, 21195, 21196, 21197, 21198, 21199, 21200, 21201, 21202, 21207, 21210, 21211, 21212, 21214, 21215, 21218, 21219, 21220, 21221, 21223, 21224, 21225, 21226, 21227, 21228, 21229, 21230, 21231, 21232, 21233, 21234, 21237, 21238, 21239, 21242, 21243, 21247, 21248, 21249, 21250, 21251, 21253, 21254, 21255, 21256, 21257, 21258, 21259, 21260, 21261, 21262, 21263, 21264, 21267, 21268, 21270, 21271, 21273, 21274, 21275, 21276, 21278, 21279, 21281, 21282, 21283, 21284, 21286, 21291, 21293, 21294, 21295, 21296, 21297, 21298, 21299, 21300, 21304, 21305, 21307, 21308, 21309, 21315, 21317, 21318, 21319, 21320, 21321, 21323, 21324, 21325, 21327, 21329, 21330, 21331, 21332, 21333, 21334, 21339, 21340, 21341, 21343, 21344, 21345, 21346, 21347, 21348, 21349, 21350, 21352, 21353, 21354, 21355, 21356, 21358, 21359, 21360, 21362, 21363, 21365, 21366, 21367, 21368, 21369, 21371, 21372, 21373, 21375, 21376, 21377, 21379, 21380, 21381, 21382, 21383, 21384, 21386, 21387, 21389, 21393, 21394, 21396, 21397, 21398, 21399, 21400, 21402, 21404, 21405, 21406, 21407, 21408, 21409, 21410, 21411, 21412, 21414, 21415, 21416, 21417, 21418, 21419, 21420, 21421, 21422, 21423, 21424, 21425, 21428, 21429, 21430, 21431, 21432, 21433, 21434, 21435, 21436, 21438, 21439, 21440, 21441, 21446, 21448, 21450, 21453, 21456, 21460, 21462, 21463, 21464, 21465, 21466, 21467, 21468, 21469, 21471, 21472, 21473, 21474, 21475, 21476, 21477, 21478, 21480, 21481, 21482, 21483, 21485, 21486, 21491, 21492, 21493, 21495, 21497, 21498, 21499, 21500, 21507, 21508, 21509, 21510, 21511, 21512, 21513, 21514, 21515, 21516, 21517, 21518, 21523, 21524, 21525, 21526, 21527, 21531, 21532, 21534, 21537, 21539, 21541, 21543, 21544, 21546, 21547, 21554, 21555, 21559, 21560, 21561, 21562, 21563, 21564, 21565, 21566, 21567, 21569, 21570, 21571, 21572, 21573, 21574, 21575, 21576, 21577, 21579, 21580, 21582, 21584, 21585, 21586, 21587, 21588, 21589, 21591, 21593, 21595, 21596, 21597, 21602, 21603, 21604, 21606, 21607, 21609, 21611, 21613, 21614, 21615, 21616, 21617, 21618, 21619, 21620, 21621, 21622, 21626, 21628, 21630, 21631, 21632, 21634, 21635, 21636, 21637, 21638, 21639, 21640, 21643, 21644, 21645, 21646, 21647, 21648, 21649, 21652, 21653, 21654, 21655, 21656, 21657, 21658, 21660, 21661, 21662, 21663, 21664, 21669, 21671, 21674, 21675, 21678, 21679, 21682, 21683, 21684, 21686, 21687, 21689, 21690, 21691, 21700, 21702, 21705, 21706, 21707, 21708, 21709, 21710, 21711, 21714, 21715, 21716, 21717, 21721, 21723, 21724, 21725, 21726, 21727, 21729, 21730, 21731, 21732, 21733, 21734, 21736, 21737, 21738, 21747, 21748, 21749, 21750, 21751, 21752, 21753, 21754, 21755, 21757, 21758, 21760, 21762, 21763, 21764, 21768, 21769, 21770, 21771, 21772, 21773, 21774, 21775, 21776, 21777, 21778, 21779, 21780, 21781, 21783, 21785, 21786, 21787, 21788, 21789, 21790, 21791, 21792, 21793, 21794, 21797, 21798, 21799, 21800, 21801, 21803, 21805, 21807, 21808, 21809, 21810, 21811, 21815, 21816, 21819, 21820, 21821, 21823, 21824, 21825, 21826, 21827, 21828, 21831, 21835, 21836, 21837, 21838, 21839, 21841, 21842, 21843, 21844, 21847, 21848, 21849, 21850, 21853, 21854, 21856, 21857, 21858, 21859, 21860, 21861, 21862, 21863, 21866, 21867, 21868, 21869, 21870, 21871, 21872, 21873, 21874, 21875, 21876, 21877, 21878, 21879, 21883, 21887, 21888, 21889, 21890, 21897, 21898, 21899, 21901, 21902, 21903, 21907, 21908, 21910, 21911, 21914, 21915, 21916, 21917, 21920, 21921, 21925, 21930, 21931, 21932, 21934, 21937, 21938, 21940, 21941, 21942, 21943, 21944, 21945, 21946, 21947, 21957, 21958, 21959, 21960, 21961, 21962, 21963, 21964, 21965, 21966, 21967, 21970, 21973, 21975, 21976, 21977, 21978, 21979, 21985, 21987, 21988, 21989, 21991, 21993, 21994, 21995, 21997, 21998, 21999, 22000, 22001, 22002, 22003, 22004, 22006, 22007, 22008, 22009, 22011, 22012, 22013, 22015, 22017, 22019, 22020, 22021, 22023, 22025, 22026, 22027, 22028, 22029, 22034, 22035, 22036, 22037, 22039, 22040, 22041, 22043, 22050, 22055, 22056, 22058, 22059, 22060, 22061, 22062, 22063, 22064, 22065, 22066, 22067, 22068, 22071, 22073, 22075, 22076, 22077, 22079, 22081, 22082, 22083, 22084, 22085, 22086, 22092, 22097, 22098, 22099, 22100, 22101, 22102, 22103, 22104, 22108, 22109, 22111, 22113, 22114, 22115, 22116, 22117, 22118, 22120, 22122, 22124, 22127, 22128, 22130, 22131, 22132, 22134, 22136, 22137, 22138, 22139, 22141, 22142, 22143, 22144, 22145, 22146, 22147, 22154, 22155, 22156, 22159, 22161, 22162, 22163, 22164, 22166, 22170, 22176, 22177, 22178, 22179, 22180, 22181, 22182, 22183, 22184, 22185, 22187, 22188, 22189, 22192, 22193, 22194, 22195, 22196, 22197, 22198, 22199, 22200, 22201, 22202, 22205, 22206, 22213, 22216, 22217, 22218, 22219, 22220, 22221, 22222, 22223, 22224, 22228, 22229, 22230, 22231, 22232, 22234, 22236, 22237, 22238, 22239, 22240, 22243, 22244, 22245, 22247, 22248, 22249, 22251, 22252, 22253, 22254, 22255, 22256, 22257, 22258, 22260, 22261, 22262, 22263, 22264, 22266, 22267, 22268, 22269, 22270, 22271, 22272, 22273, 22274, 22275, 22279, 22280, 22282, 22283, 22284, 22285, 22290, 22291, 22297, 22299, 22301, 22302, 22303, 22305, 22308, 22309, 22310, 22313, 22314, 22315, 22316, 22319, 22321, 22323, 22324, 22325, 22328, 22329, 22330, 22331, 22332, 22335, 22336, 22337, 22338, 22339, 22340, 22342, 22344, 22346, 22347, 22349, 22351, 22356, 22359, 22360, 22361, 22364, 22371, 22373, 22374, 22375, 22376, 22377, 22378, 22382, 22383, 22384, 22385, 22386, 22387, 22394, 22400, 22401, 22402, 22404, 22405, 22406, 22407, 22409, 22415, 22416, 22417, 22418, 22420, 22423, 22424, 22425, 22426, 22429, 22430, 22431, 22432, 22433, 22434, 22435, 22437, 22438, 22439, 22440, 22441, 22442, 22445, 22446, 22447, 22448, 22449, 22450, 22451, 22452, 22454, 22455, 22456, 22457, 22458, 22459, 22460, 22461, 22462, 22463, 22464, 22465, 22466, 22467, 22468, 22469, 22470, 22473, 22475, 22476, 22477, 22478, 22479, 22480, 22481, 22482, 22483, 22484, 22485, 22486, 22487, 22488, 22490, 22491, 22492, 22493, 22494, 22495, 22496, 22497, 22498, 22500, 22501, 22502, 22503, 22504, 22505, 22506, 22509, 22510, 22513, 22514, 22515, 22518, 22522, 22523, 22524, 22529, 22530, 22532, 22533, 22538, 22539, 22540, 22541, 22542, 22543, 22548, 22549, 22550, 22551, 22555, 22557, 22559, 22560, 22561, 22568, 22571, 22574, 22575, 22576, 22577, 22578, 22580, 22581, 22582, 22583, 22584, 22585, 22586, 22587, 22588, 22589, 22590, 22596, 22598, 22601, 22602, 22603, 22604, 22605, 22606, 22607, 22608, 22613, 22615, 22617, 22618, 22619, 22620, 22627, 22628, 22629, 22630, 22631, 22632, 22634, 22635, 22636, 22637, 22638, 22639, 22640, 22642, 22643, 22646, 22647, 22652, 22653, 22655, 22659, 22661, 22662, 22663, 22664, 22666, 22669, 22672, 22673, 22674, 22676, 22677, 22679, 22680, 22681, 22683, 22684, 22687, 22696, 22697, 22698, 22702, 22703, 22704, 22705, 22706, 22707, 22708, 22709, 22710, 22711, 22712, 22713, 22715, 22716, 22727, 22729, 22732, 22735, 22736, 22738, 22739, 22740, 22741, 22744, 22745, 22746, 22747, 22748, 22753, 22757, 22759, 22760, 22761, 22762, 22763, 22766, 22769, 22773, 22774, 22775, 22776, 22777, 22779, 22780, 22782, 22784, 22785, 22786, 22787, 22789, 22793, 22794, 22801, 22802, 22804, 22806, 22807, 22808, 22809, 22810, 22811, 22812, 22814, 22815, 22816, 22817, 22818, 22819, 22820, 22821, 22822, 22825, 22828, 22830, 22832, 22833, 22834, 22836, 22837, 22838, 22839, 22840, 22841, 22842, 22843, 22844, 22850, 22851, 22852, 22853, 22854, 22855, 22856, 22857, 22859, 22860, 22861, 22864, 22865, 22866, 22868, 22870, 22873, 22874, 22875, 22877, 22878, 22879, 22880, 22881, 22890, 22892, 22893, 22895, 22896, 22902, 22903, 22904, 22906, 22907, 22908, 22909, 22911, 22916, 22918, 22924, 22925, 22926, 22927, 22928, 22929, 22930, 22935, 22936, 22937, 22944, 22945, 22946, 22949, 22952, 22953, 22956, 22957, 22958, 22960, 22962, 22963, 22964, 22965, 22966, 22967, 22970, 22976, 22977, 22979, 22980, 22981, 22982, 22985, 22986, 22987, 22988, 22989, 22990, 22991, 22992, 22993, 22994, 22995, 22996, 22997, 22998, 22999, 23000, 23001, 23002, 23003, 23004, 23005, 23006, 23007, 23008, 23009, 23010, 23011, 23012, 23016, 23017, 23021, 23022, 23023, 23024, 23025, 23026, 23029, 23030, 23032, 23033, 23035, 23043, 23045, 23046, 23047, 23049, 23050, 23052, 23053, 23054, 23056, 23057, 23058, 23059, 23060, 23061, 23062, 23063, 23065, 23066, 23068, 23070, 23073, 23074, 23075, 23076, 23077, 23078, 23079, 23080, 23081, 23083, 23084, 23085, 23086, 23087, 23088, 23089, 23090, 23091, 23092, 23093, 23094, 23095, 23096, 23097, 23098, 23099, 23100, 23101, 23104, 23105, 23107, 23112, 23113, 23114, 23116, 23117, 23118, 23119, 23121, 23123, 23124, 23125, 23126, 23127, 23128, 23129, 23130, 23131, 23132, 23133, 23134, 23135, 23137, 23138, 23139, 23147, 23150, 23151, 23152, 23153, 23154, 23155, 23156, 23158, 23159, 23160, 23161, 23162, 23163, 23165, 23167, 23168, 23175, 23177, 23178, 23179, 23180, 23184, 23185, 23187, 23188, 23189, 23191, 23192, 23193, 23194, 23195, 23196, 23197, 23198, 23199, 23201, 23202, 23204, 23205, 23206, 23208, 23210, 23211, 23212, 23213, 23214, 23215, 23217, 23219, 23220, 23221, 23224, 23225, 23226, 23227, 23228, 23229, 23230, 23233, 23236, 23237, 23238, 23240, 23241, 23242, 23243, 23245, 23251, 23252, 23253, 23254, 23255, 23256, 23259, 23260, 23261, 23262, 23263, 23264, 23265, 23267, 23268, 23269, 23270, 23271, 23273, 23278, 23279, 23280, 23281, 23284, 23285, 23286, 23288, 23290, 23292, 23294, 23295, 23297, 23301, 23302, 23303, 23304, 23306, 23307, 23308, 23311, 23313, 23314, 23317, 23318, 23320, 23321, 23322, 23329, 23330, 23331, 23332, 23334, 23335, 23336, 23337, 23339, 23340, 23342, 23344, 23345, 23346, 23347, 23348, 23349, 23350, 23351, 23352, 23353, 23354, 23355, 23356, 23361, 23362, 23363, 23368, 23369, 23370, 23371, 23372, 23376, 23377, 23379, 23380, 23382, 23383, 23385, 23386, 23387, 23390, 23391, 23392, 23393, 23395, 23396, 23397, 23398, 23399, 23400, 23401, 23402, 23404, 23405, 23406, 23408, 23409, 23410, 23413, 23414, 23419, 23420, 23421, 23425, 23428, 23429, 23434, 23435, 23436, 23438, 23439, 23440, 23441, 23442, 23443, 23444, 23445, 23446, 23447, 23448, 23449, 23450, 23451, 23452, 23453, 23454, 23456, 23457, 23458, 23459, 23461, 23462, 23465, 23471, 23473, 23474, 23475, 23476, 23478, 23479, 23480, 23481, 23482, 23483, 23484, 23485, 23486, 23487, 23490, 23492, 23493, 23494, 23495, 23496, 23497, 23500, 23502, 23503, 23504, 23505, 23506, 23507, 23510, 23511, 23513, 23514, 23515, 23516, 23517, 23518, 23519, 23522, 23525, 23527, 23528, 23536, 23538, 23539, 23540, 23542, 23543, 23544, 23545, 23547, 23549, 23551, 23552, 23554, 23555, 23556, 23557, 23558, 23559, 23560, 23561, 23563, 23564, 23567, 23568, 23569, 23570, 23573, 23575, 23576, 23577, 23578, 23579, 23580, 23581, 23582, 23583, 23584, 23585, 23587, 23588, 23589, 23590, 23591, 23594, 23595, 23596, 23597, 23598, 23600, 23603, 23605, 23606, 23607, 23608, 23609, 23611, 23612, 23613, 23614, 23615, 23616, 23618, 23619, 23621, 23622, 23624, 23625, 23627, 23629, 23630, 23631, 23634, 23635, 23636, 23637, 23638, 23640, 23641, 23642, 23643, 23651, 23652, 23654, 23655, 23656, 23657, 23658, 23659, 23660, 23661, 23662, 23664, 23665, 23667, 23668, 23669, 23670, 23671, 23672, 23673, 23674, 23675, 23676, 23678, 23679, 23680, 23683, 23684, 23687, 23688, 23691, 23695, 23697, 23700, 23701, 23702, 23703, 23704, 23705, 23707, 23708, 23709, 23710, 23711, 23712, 23713, 23714, 23716, 23718, 23719, 23720, 23721, 23722, 23723, 23724, 23726, 23728, 23729, 23730, 23732, 23733, 23734, 23735, 23736, 23737, 23739, 23740, 23741, 23743, 23744, 23745, 23746, 23747, 23749, 23750, 23751, 23752, 23753, 23754, 23756, 23757, 23759, 23760, 23762, 23763, 23764, 23765, 23767, 23768, 23769, 23770, 23771, 23772, 23773, 23775, 23776, 23777, 23778, 23779, 23780, 23781, 23782, 23783, 23784, 23786, 23787, 23789, 23791, 23792, 23793, 23794, 23796, 23798, 23799, 23800, 23801, 23802, 23803, 23804, 23809, 23811, 23812, 23813, 23815, 23816, 23817, 23818, 23820, 23821, 23822, 23823, 23824, 23825, 23826, 23827, 23828, 23829, 23830, 23831, 23832, 23833, 23836, 23837, 23838, 23839, 23840, 23841, 23842, 23844, 23845, 23846, 23847, 23850, 23851, 23852, 23853, 23854, 23855, 23857, 23858, 23859, 23860, 23862, 23864, 23869, 23870, 23873, 23875, 23885, 23886, 23888, 23889, 23891, 23892, 23893, 23895, 23896, 23897, 23899, 23902, 23903, 23906, 23908, 23911, 23913, 23914, 23915, 23916, 23917, 23918, 23919, 23920, 23921, 23922, 23923, 23924, 23925, 23926, 23927, 23928, 23931, 23932, 23933, 23936, 23938, 23940, 23942, 23943, 23944, 23945, 23947, 23949, 23950, 23951, 23952, 23953, 23954, 23955, 23956, 23958, 23960, 23961, 23962, 23963, 23965, 23967, 23968, 23969, 23970, 23971, 23972, 23973, 23974, 23975, 23976, 23977, 23978, 23980, 23981, 23982, 23983, 23984, 23985, 23986, 23987, 23988, 23989, 23990, 23991, 23992, 23993, 23994, 23995, 23996, 23997, 23998, 23999, 24000, 24001, 24002, 24003, 24004, 24005, 24006, 24007, 24008, 24009, 24010, 24012, 24013, 24014, 24015, 24017, 24018, 24019, 24020, 24021, 24022, 24024, 24026, 24027, 24028, 24029, 24030, 24031, 24032, 24035, 24036, 24038, 24039, 24040, 24042, 24043, 24044, 24045, 24046, 24048, 24049, 24050, 24051, 24052, 24053, 24054, 24055, 24056, 24057, 24059, 24061, 24062, 24063, 24064, 24065, 24066, 24067, 24068, 24069, 24070, 24071, 24072, 24074, 24076, 24077, 24078, 24079, 24080, 24081, 24082, 24085, 24086, 24088, 24089, 24090, 24091, 24092, 24093, 24094, 24098, 24099, 24101, 24102, 24103, 24104, 24105, 24106, 24108, 24109, 24110, 24111, 24112, 24114, 24115, 24116, 24117, 24119, 24121, 24123, 24124, 24125, 24126, 24128, 24130, 24132, 24133, 24136, 24137, 24138, 24140, 24142, 24143, 24144, 24145, 24146, 24148, 24149, 24150, 24151, 24152, 24153, 24154, 24155, 24156, 24157, 24158, 24159, 24160, 24161, 24162, 24163, 24164, 24165, 24166, 24167, 24168, 24169, 24171, 24172, 24173, 24174, 24175, 24176, 24178, 24180, 24181, 24183, 24184, 24186, 24187, 24188, 24190, 24191, 24192, 24193, 24194, 24197, 24199, 24200, 24202, 24204, 24206, 24208, 24209, 24210, 24211, 24212, 24213, 24214, 24215, 24216, 24217, 24218, 24222, 24227, 24229, 24233, 24234, 24237, 24238, 24239, 24242, 24243, 24244, 24245, 24246, 24247, 24251, 24253, 24254, 24255, 24256, 24257, 24259, 24262, 24264, 24265, 24266, 24267, 24268, 24269, 24271, 24272, 24273, 24275, 24276, 24278, 24279, 24280, 24281, 24284, 24285, 24286, 24288, 24289, 24290, 24293, 24294, 24295, 24296, 24297, 24299, 24300, 24302, 24304, 24306, 24307, 24308, 24309, 24310, 24311, 24312, 24313, 24315, 24316, 24320, 24321, 24322, 24323, 24328, 24332, 24333, 24334, 24338, 24339, 24340, 24341, 24345, 24346, 24347, 24348, 24349, 24350, 24351, 24353, 24354, 24355, 24357, 24359, 24360, 24361, 24362, 24363, 24364, 24365, 24367, 24369, 24370, 24371, 24373, 24376, 24377, 24378, 24379, 24380, 24381, 24382, 24383, 24384, 24385, 24386, 24388, 24389, 24390, 24391, 24392, 24393, 24394, 24395, 24396, 24397, 24400, 24401, 24402, 24403, 24405, 24406, 24407, 24408, 24409, 24410, 24411, 24412, 24415, 24416, 24423, 24424, 24425, 24426, 24427, 24428, 24430, 24431, 24432, 24433, 24435, 24436, 24437, 24439, 24441, 24442, 24443, 24444, 24445, 24447, 24448, 24449, 24451, 24452, 24454, 24458, 24459, 24461, 24462, 24463, 24464, 24465, 24466, 24467, 24468, 24470, 24471, 24472, 24474, 24478, 24479, 24482, 24483, 24485, 24486, 24487, 24488, 24489, 24490, 24491, 24492, 24493, 24494, 24495, 24496, 24497, 24498, 24499, 24500, 24501, 24502, 24505, 24506, 24507, 24508, 24509, 24510, 24511, 24512, 24513, 24514, 24515, 24516, 24517, 24518, 24519, 24520, 24521, 24522, 24523, 24524, 24525, 24526, 24527, 24528, 24530, 24531, 24533, 24534, 24535, 24536, 24537, 24538, 24539, 24540, 24542, 24543, 24544, 24545, 24546, 24549, 24550, 24551, 24552, 24553, 24554, 24555, 24556, 24557, 24558, 24559, 24560, 24561, 24562, 24563, 24565, 24567, 24568, 24570, 24572, 24573, 24576, 24577, 24578, 24579, 24580, 24582, 24583, 24584, 24585, 24586, 24589, 24590, 24598, 24600, 24601, 24602, 24603, 24604, 24606, 24607, 24608, 24611, 24612, 24613, 24615, 24617, 24618, 24619, 24620, 24622, 24624, 24625, 24626, 24627, 24629, 24630, 24631, 24632, 24634, 24635, 24637, 24639, 24641, 24642, 24643, 24646, 24649, 24652, 24653, 24654, 24655, 24656, 24657, 24659, 24660, 24662, 24663, 24664, 24666, 24667, 24669, 24671, 24673, 24674, 24675, 24676, 24677, 24678, 24679, 24681, 24682, 24683, 24684, 24685, 24687, 24688, 24689, 24691, 24692, 24695, 24696, 24698, 24699, 24700, 24703, 24706, 24707, 24708, 24709, 24710, 24711, 24713, 24715, 24717, 24721, 24723, 24724, 24725, 24726, 24728, 24730, 24731, 24732, 24733, 24734, 24735, 24736, 24737, 24738, 24739, 24740, 24741, 24745, 24746, 24749, 24750, 24751, 24752, 24754, 24755, 24756, 24757, 24758, 24759, 24760, 24761, 24763, 24765, 24770, 24771, 24772, 24773, 24774, 24776, 24777, 24778, 24779, 24780, 24781, 24783, 24784, 24785, 24787, 24788, 24789, 24790, 24793, 24794, 24798, 24800, 24801, 24803, 24804, 24805, 24806, 24807, 24809, 24810, 24811, 24812, 24814, 24815, 24816, 24818, 24819, 24820, 24824, 24825, 24826, 24827, 24828, 24830, 24832, 24836, 24837, 24838, 24840, 24841, 24842, 24843, 24845, 24846, 24847, 24848, 24850, 24851, 24853, 24854, 24855, 24856, 24858, 24859, 24860, 24862, 24863, 24864, 24865, 24866, 24867, 24868, 24871, 24874, 24875, 24878, 24879, 24880, 24882, 24884, 24885, 24886, 24887, 24888, 24889, 24890, 24891, 24893, 24894, 24895, 24896, 24897, 24899, 24900, 24901, 24902, 24906, 24907, 24908, 24909, 24910, 24912, 24915, 24916, 24917, 24918, 24920, 24921, 24922, 24923, 24924, 24925, 24926, 24927, 24929, 24930, 24933, 24934, 24937, 24938, 24939, 24940, 24941, 24942, 24943, 24945, 24946, 24947, 24948, 24949, 24950, 24951, 24955, 24957, 24958, 24960, 24963, 24964, 24965, 24969, 24970, 24971, 24973, 24974, 24976, 24977, 24978, 24979, 24981, 24982, 24984, 24986, 24989, 24991, 24992, 24993, 24997, 24999, 25000, 25001, 25002, 25004, 25005, 25006, 25007, 25008, 25010, 25011, 25012, 25013, 25015, 25018, 25019, 25020, 25021, 25022, 25025, 25028, 25031, 25032, 25033, 25034, 25035, 25036, 25037, 25039, 25040, 25041, 25042, 25044, 25045, 25046, 25047, 25049, 25050, 25051, 25053, 25054, 25055, 25056, 25057, 25060, 25061, 25062, 25063, 25064, 25065, 25066, 25067, 25068, 25070, 25071, 25072, 25076, 25077, 25078, 25079, 25080, 25081, 25083, 25084, 25086, 25088, 25091, 25092, 25093, 25094, 25095, 25097, 25098, 25099, 25100, 25101, 25102, 25103, 25105, 25106, 25108, 25109, 25112, 25113, 25114, 25116, 25117, 25118, 25120, 25122, 25123, 25124, 25126, 25127, 25128, 25129, 25130, 25131, 25132, 25133, 25134, 25135, 25137, 25138, 25139, 25142, 25146, 25147, 25148, 25150, 25151, 25155, 25156, 25158, 25161, 25162, 25163, 25166, 25167, 25173, 25174, 25177, 25178, 25179, 25180, 25181, 25182, 25183, 25184, 25185, 25186, 25187, 25189, 25190, 25193, 25195, 25196, 25197, 25201, 25202, 25203, 25205, 25208, 25209, 25212, 25215, 25216, 25217, 25218, 25219, 25220, 25221, 25224, 25226, 25227, 25228, 25231, 25232, 25233, 25234, 25235, 25236, 25239, 25240, 25241, 25242, 25243, 25244, 25245, 25246, 25247, 25249, 25250, 25252, 25253, 25254, 25255, 25257, 25258, 25259, 25261, 25262, 25263, 25267, 25268, 25269, 25270, 25271, 25272, 25273, 25274, 25275, 25276, 25278, 25279, 25280, 25281, 25282, 25284, 25285, 25287, 25289, 25290, 25291, 25292, 25293, 25295, 25296, 25297, 25298, 25299, 25300, 25301, 25303, 25305, 25306, 25307, 25308, 25309, 25310, 25311, 25313, 25316, 25317, 25318, 25319, 25321, 25322, 25323, 25326, 25328, 25329, 25330, 25335, 25336, 25337, 25338, 25339, 25342, 25344, 25345, 25347, 25348, 25349, 25350, 25351, 25352, 25353, 25355, 25356, 25357, 25358, 25359, 25360, 25362, 25364, 25365, 25366, 25369, 25372, 25373, 25374, 25376, 25379, 25380, 25381, 25382, 25384, 25385, 25387, 25389, 25390, 25392, 25394, 25396, 25397, 25398, 25399, 25400, 25401, 25402, 25404, 25405, 25406, 25409, 25410, 25411, 25412, 25413, 25414, 25417, 25419, 25420, 25422, 25423, 25424, 25425, 25427, 25429, 25433, 25434, 25436, 25438, 25443, 25444, 25445, 25446, 25447, 25448, 25449, 25451, 25452, 25453, 25454, 25457, 25458, 25459, 25460, 25461, 25462, 25463, 25465, 25466, 25467, 25468, 25469, 25470, 25471, 25472, 25474, 25476, 25477, 25479, 25480, 25481, 25482, 25483, 25484, 25485, 25486, 25487, 25488, 25489, 25490, 25491, 25492, 25493, 25494, 25495, 25496, 25497, 25498, 25499, 25500, 25501, 25502, 25503, 25504, 25505, 25506, 25508, 25509, 25510, 25511, 25512, 25513, 25514, 25515, 25516, 25517, 25518, 25519, 25520, 25521, 25522, 25523, 25524, 25525, 25526, 25527, 25528, 25529, 25533, 25534, 25535, 25536, 25537, 25539, 25540, 25542, 25543, 25544, 25545, 25546, 25547, 25548, 25549, 25550, 25551, 25552, 25553, 25554, 25555, 25556, 25557, 25558, 25560, 25561, 25562, 25564, 25565, 25566, 25567, 25568, 25571, 25572, 25573, 25574, 25575, 25576, 25579, 25580, 25583, 25584, 25585, 25586, 25587, 25588, 25589, 25590, 25591, 25592, 25594, 25596, 25597, 25598, 25600, 25601, 25602, 25603, 25604, 25605, 25606, 25607, 25608, 25609, 25610, 25611, 25612, 25613, 25614, 25615, 25616, 25617, 25618, 25619, 25620, 25621, 25622, 25623, 25624, 25627, 25628, 25629, 25630, 25631, 25633, 25634, 25636, 25637, 25638, 25639, 25640, 25641, 25642, 25643, 25644, 25645, 25648, 25650, 25651, 25652, 25654, 25656, 25657, 25658, 25660, 25661, 25662, 25663, 25664, 25665, 25666, 25667, 25670, 25671, 25672, 25673, 25674, 25675, 25676, 25677, 25678, 25679, 25680, 25681, 25682, 25683, 25684, 25685, 25686, 25687, 25688, 25689, 25691, 25692, 25693, 25694, 25695, 25696, 25697, 25698, 25699, 25700, 25701, 25702, 25703, 25704, 25705, 25707, 25709, 25715, 25718, 25719, 25720, 25723, 25726, 25727, 25729, 25731, 25735, 25738, 25739, 25740, 25741, 25742, 25743, 25744, 25745, 25746, 25747, 25748, 25749, 25750, 25751, 25752, 25753, 25754, 25756, 25757, 25758, 25759, 25760, 25761, 25763, 25764, 25767, 25768, 25769, 25770, 25771, 25775, 25776, 25777, 25780, 25782, 25784, 25785, 25792, 25793, 25794, 25795, 25796, 25797, 25798, 25799, 25800, 25801, 25802, 25803, 25804, 25805, 25806, 25807, 25808, 25809, 25811, 25812, 25813, 25814, 25815, 25816, 25817, 25818, 25819, 25821, 25822, 25823, 25824, 25825, 25826, 25827, 25828, 25830, 25831, 25833, 25834, 25835, 25836, 25837, 25838, 25841, 25843, 25845, 25846, 25847, 25848, 25849, 25850, 25851, 25852, 25855, 25856, 25858, 25859, 25860, 25861, 25862, 25863, 25864, 25866, 25867, 25868, 25869, 25870, 25871, 25872, 25874, 25876, 25879, 25880, 25881, 25882, 25883, 25884, 25885, 25886, 25887, 25888, 25889, 25890, 25892, 25893, 25894, 25895, 25896, 25897, 25898, 25899, 25900, 25902, 25904, 25906, 25907, 25909, 25911, 25912, 25913, 25914, 25915, 25916, 25917, 25918, 25919, 25920, 25921, 25922, 25923, 25924, 25926, 25927, 25928, 25929, 25931, 25932, 25934, 25935, 25936, 25937, 25938, 25939, 25940, 25941, 25942, 25943, 25944, 25945, 25946, 25947, 25948, 25949, 25950, 25951, 25952, 25953, 25955, 25956, 25957, 25958, 25959, 25960, 25961, 25962, 25963, 25965, 25966, 25967, 25968, 25969, 25970, 25972, 25973, 25975, 25977, 25978, 25979, 25980, 25981, 25982, 25983, 25984, 25985, 25986, 25989, 25990, 25991, 25992, 25993, 25994, 25995, 25996, 25997, 25999, 26000, 26001, 26002, 26003, 26004, 26005, 26006, 26007, 26008, 26010, 26011, 26013, 26014, 26015, 26016, 26017, 26018, 26019, 26020, 26021, 26022, 26023, 26024, 26025, 26026, 26027, 26028, 26029, 26030, 26031, 26032, 26033, 26034, 26037, 26038, 26040, 26041, 26042, 26044, 26045, 26046, 26048, 26051, 26052, 26053, 26054, 26055, 26056, 26057, 26058, 26059, 26060, 26061, 26062, 26063, 26064, 26065, 26066, 26067, 26068, 26069, 26070, 26071, 26072, 26073, 26074, 26075, 26077, 26078, 26079, 26080, 26081, 26082, 26083, 26084, 26085, 26086, 26088, 26089, 26090, 26092, 26093, 26094, 26095, 26096, 26097, 26098, 26100, 26101, 26103, 26104, 26105, 26106, 26107, 26108, 26109, 26111, 26112, 26113, 26115, 26117, 26119, 26120, 26122, 26123, 26126, 26127, 26128, 26129, 26130, 26131, 26132, 26133, 26134, 26135, 26136, 26137, 26138, 26139, 26140, 26141, 26142, 26143, 26144, 26145, 26146, 26147, 26148, 26149, 26150, 26151, 26152, 26153, 26154, 26155, 26156, 26157, 26158, 26159, 26160, 26161, 26162, 26163, 26164, 26165, 26167, 26168, 26169, 26170, 26171, 26172, 26173, 26174, 26176, 26177, 26178, 26179, 26180, 26181, 26182, 26183, 26186, 26187, 26188, 26190, 26191, 26194, 26196, 26197, 26198, 26199, 26200, 26201, 26202, 26203, 26204, 26205, 26206, 26207, 26208, 26209, 26210, 26211, 26212, 26213, 26215, 26216, 26217, 26218, 26220, 26221, 26222, 26223, 26224, 26225, 26226, 26227, 26228, 26229, 26230, 26231, 26232, 26233, 26234, 26235, 26236, 26237, 26238, 26241, 26242, 26243, 26244, 26245, 26246, 26247, 26249, 26250, 26251, 26252, 26253, 26255, 26257, 26258, 26259, 26261, 26263, 26264, 26265, 26267, 26268, 26269, 26270, 26274, 26275, 26276, 26277, 26278, 26279, 26280, 26281, 26282, 26285, 26286, 26288, 26290, 26291, 26292, 26293, 26294, 26295, 26296, 26297, 26298, 26299, 26300, 26301, 26302, 26303, 26304, 26305, 26306, 26307, 26308, 26309, 26310, 26311, 26312, 26313, 26314, 26315, 26316, 26317, 26318, 26320, 26321, 26322, 26323, 26324, 26325, 26326, 26327, 26328, 26329, 26330, 26331, 26333, 26334, 26335, 26337, 26338, 26339, 26340, 26341, 26343, 26344, 26345, 26346, 26347, 26348, 26350, 26351, 26352, 26353, 26354, 26356, 26357, 26358, 26359, 26360, 26361, 26362, 26363, 26364, 26365, 26366, 26367, 26369, 26370, 26371, 26373, 26374, 26375, 26376, 26377, 26378, 26379, 26382, 26383, 26384, 26387, 26388, 26389, 26391, 26392, 26393, 26394, 26395, 26396, 26397, 26398, 26399, 26400, 26401, 26402, 26403, 26404, 26405, 26407, 26408, 26410, 26412, 26414, 26415, 26416, 26417, 26418, 26419, 26420, 26421, 26422, 26423, 26424, 26425, 26426, 26427, 26428, 26429, 26430, 26431, 26432, 26433, 26434, 26435, 26437, 26439, 26440, 26441, 26442, 26443, 26444, 26445, 26446, 26449, 26450, 26451, 26452, 26453, 26455, 26457, 26459, 26460, 26461, 26462, 26463, 26464, 26465, 26466, 26468, 26469, 26470, 26471, 26472, 26473, 26474, 26475, 26476, 26477, 26478, 26479, 26480, 26481, 26482, 26483, 26484, 26485, 26486, 26487, 26488, 26489, 26490, 26492, 26493, 26494, 26495, 26496, 26497, 26498, 26499, 26500, 26501, 26503, 26504, 26505, 26506, 26508, 26509, 26510, 26511, 26512, 26513, 26515, 26516, 26517, 26518, 26519, 26521, 26522, 26523, 26524, 26525, 26526, 26528, 26530, 26531, 26532, 26533, 26534, 26535, 26538, 26539, 26540, 26541, 26542, 26543, 26544, 26545, 26546, 26547, 26548, 26549, 26550, 26551, 26552, 26553, 26554, 26555, 26557, 26558, 26559, 26560, 26561, 26563, 26565, 26566, 26567, 26568, 26569, 26570, 26573, 26574, 26575, 26576, 26577, 26578, 26579, 26580, 26581, 26583, 26584, 26586, 26588, 26590, 26594, 26595, 26597, 26598, 26599, 26602, 26603, 26604, 26605, 26606, 26607, 26608, 26609, 26610, 26611, 26612, 26613, 26614, 26615, 26616, 26617, 26618, 26619, 26620, 26621, 26622, 26623, 26624, 26625, 26626, 26627, 26628, 26629, 26630, 26631, 26632, 26633, 26634, 26636, 26637, 26638, 26640, 26641, 26642, 26643, 26644, 26645, 26646, 26647, 26648, 26649, 26650, 26651, 26652, 26653, 26654, 26655, 26656, 26657, 26658, 26661, 26662, 26663, 26664, 26665, 26666, 26667, 26668, 26669, 26670, 26671, 26672, 26673, 26674, 26675, 26676, 26677, 26678, 26679, 26680, 26681, 26682, 26683, 26684, 26685, 26687, 26688, 26689, 26690, 26691, 26692, 26693, 26694, 26695, 26696, 26698, 26699, 26700, 26701, 26702, 26703, 26704, 26705, 26706, 26708, 26709, 26710, 26711, 26712, 26713, 26714, 26715, 26716, 26717, 26718, 26719, 26720, 26721, 26722, 26724, 26725, 26726, 26727, 26728, 26729, 26730, 26731, 26732, 26733, 26735, 26736, 26738, 26739, 26740, 26741, 26742, 26743, 26744, 26745, 26746, 26747, 26748, 26749, 26750, 26751, 26752, 26753, 26754, 26755, 26756, 26757, 26761, 26763, 26765, 26766, 26767, 26768, 26769, 26772, 26773, 26774, 26776, 26777, 26778, 26779, 26780, 26781, 26782, 26783, 26784, 26785, 26786, 26787, 26788, 26789, 26790, 26791, 26792, 26793, 26794, 26795, 26796, 26798, 26799, 26800, 26801, 26802, 26803, 26804, 26805, 26806, 26807, 26808, 26810, 26811, 26812, 26813, 26816, 26817, 26818, 26819, 26820, 26824, 26825, 26827, 26828, 26829, 26830, 26831, 26832, 26833, 26836, 26838, 26839, 26840, 26841, 26842, 26843, 26844, 26845, 26846, 26847, 26848, 26849, 26850, 26851, 26855, 26856, 26858, 26860, 26861, 26862, 26863, 26864, 26865, 26866, 26867, 26868, 26869, 26871, 26874, 26875, 26876, 26879, 26880, 26881, 26882, 26883, 26884, 26885, 26886, 26887, 26888, 26889, 26890, 26891, 26892, 26893, 26894, 26895, 26896, 26898, 26900, 26901, 26902, 26903, 26904, 26905, 26906, 26907, 26908, 26909, 26910, 26911, 26912, 26913, 26914, 26915, 26916, 26917, 26918, 26919, 26920, 26921, 26922, 26924, 26926, 26927, 26928, 26931, 26932, 26933, 26934, 26935, 26936, 26937, 26938, 26939, 26940, 26941, 26942, 26943, 26944, 26945, 26946, 26947, 26948, 26949, 26951, 26952, 26955, 26956, 26957, 26958, 26960, 26961, 26962, 26964, 26966, 26967, 26968, 26969, 26970, 26971, 26972, 26974, 26977, 26978, 26979, 26984, 26986, 26987, 26988, 26989, 26990, 26991, 26992, 26993, 26994, 26995, 26996, 26997, 26998, 26999, 27000, 27001, 27002, 27003, 27004, 27005, 27006, 27007, 27008, 27009, 27010, 27011, 27012, 27013, 27014, 27015, 27016, 27017, 27018, 27019, 27020, 27021, 27022, 27023, 27024, 27025, 27027, 27030, 27031, 27032, 27033, 27034, 27035, 27036, 27038, 27039, 27040, 27041, 27042, 27044, 27045, 27046, 27047, 27048, 27049, 27051, 27052, 27053, 27054, 27058, 27060, 27064, 27066, 27067, 27068, 27069, 27070, 27071, 27073, 27074, 27075, 27076, 27077, 27078, 27079, 27080, 27083, 27084, 27085, 27086, 27087, 27089, 27091, 27092, 27093, 27094, 27095, 27097, 27100, 27101, 27102, 27103, 27104, 27106, 27107, 27108, 27109, 27110, 27111, 27112, 27113, 27114, 27115, 27116, 27118, 27121, 27123, 27125, 27129, 27131, 27132, 27134, 27135, 27136, 27137, 27138, 27139, 27140, 27141, 27142, 27143, 27144, 27145, 27146, 27148, 27149, 27151, 27152, 27153, 27154, 27155, 27156, 27158, 27159, 27160, 27161, 27162, 27164, 27165, 27166, 27169, 27171, 27172, 27173, 27174, 27175, 27177, 27179, 27180, 27181, 27183, 27184, 27185, 27186, 27187, 27188, 27189, 27190, 27191, 27192, 27193, 27194, 27195, 27197, 27198, 27199, 27200, 27201, 27202, 27205, 27206, 27209, 27211, 27212, 27214, 27215, 27216, 27218, 27220, 27221, 27222, 27223, 27224, 27225, 27226, 27227, 27228, 27229, 27230, 27232, 27233, 27234, 27235, 27236, 27237, 27238, 27239, 27240, 27241, 27242, 27243, 27244, 27245, 27246, 27248, 27250, 27251, 27252, 27253, 27254, 27255, 27256, 27258, 27259, 27261, 27262, 27263, 27264, 27266, 27267, 27268, 27269, 27270, 27273, 27274, 27275, 27276, 27277, 27278, 27279, 27280, 27282, 27283, 27284, 27285, 27286, 27287, 27288, 27289, 27290, 27291, 27295, 27296, 27299, 27300, 27301, 27302, 27303, 27304, 27305, 27306, 27307, 27308, 27309, 27310, 27311, 27313, 27314, 27315, 27317, 27318, 27320, 27321, 27322, 27323, 27324, 27325, 27326, 27327, 27330, 27332, 27334, 27335, 27336, 27337, 27338, 27339, 27340, 27347, 27348, 27349, 27350, 27351, 27352, 27353, 27354, 27355, 27357, 27358, 27359, 27360, 27361, 27362, 27364, 27365, 27366, 27367, 27368, 27369, 27370, 27374, 27375, 27376, 27377, 27381, 27382, 27383, 27384, 27385, 27386, 27387, 27388, 27389, 27391, 27392, 27393, 27394, 27395, 27397, 27398, 27399, 27400, 27401, 27402, 27403, 27408, 27409, 27410, 27412, 27413, 27414, 27415, 27416, 27417, 27418, 27419, 27420, 27421, 27423, 27424, 27425, 27426, 27427, 27428, 27429, 27430, 27432, 27433, 27434, 27435, 27437, 27439, 27441, 27442, 27444, 27447, 27448, 27449, 27450, 27451, 27452, 27453, 27454, 27455, 27456, 27459, 27460, 27461, 27462, 27465, 27468, 27469, 27470, 27471, 27472, 27473, 27474, 27475, 27476, 27478, 27480, 27481, 27482, 27483, 27484, 27486, 27487, 27489, 27491, 27492, 27493, 27494, 27496, 27497, 27500, 27501, 27502, 27503, 27504, 27505, 27506, 27507, 27508, 27509, 27510, 27511, 27512, 27513, 27514, 27516, 27517, 27518, 27519, 27520, 27521, 27522, 27523, 27524, 27525, 27526, 27527, 27528, 27529, 27530, 27531, 27532, 27533, 27534, 27535, 27536, 27537, 27538, 27540, 27542, 27543, 27544, 27546, 27547, 27548, 27549, 27551, 27552, 27553, 27554, 27555, 27556, 27557, 27559, 27560, 27561, 27562, 27567, 27570, 27571, 27572, 27574, 27575, 27576, 27577, 27579, 27580, 27581, 27582, 27583, 27584, 27585, 27586, 27588, 27589, 27590, 27591, 27592, 27593, 27594, 27596, 27597, 27598, 27599, 27600, 27601, 27602, 27603, 27604, 27605, 27606, 27607, 27608, 27609, 27610, 27612, 27613, 27614, 27615, 27616, 27618, 27619, 27620, 27622, 27623, 27625, 27626, 27627, 27628, 27630, 27631, 27632, 27633, 27634, 27635, 27637, 27638, 27639, 27640, 27641, 27642, 27643, 27644, 27645, 27646, 27647, 27648, 27649, 27650, 27651, 27652, 27653, 27655, 27656, 27657, 27658, 27659, 27660, 27661, 27662, 27664, 27665, 27668, 27669, 27671, 27675, 27677, 27678, 27679, 27680, 27681, 27682, 27684, 27687, 27688, 27689, 27690, 27692, 27694, 27695, 27696, 27697, 27698, 27699, 27700, 27701, 27704, 27705, 27708, 27709, 27710, 27711, 27712, 27713, 27714, 27715, 27717, 27720, 27721, 27722, 27723, 27724, 27725, 27727, 27728, 27729, 27730, 27732, 27733, 27734, 27735, 27736, 27737, 27739, 27740, 27741, 27743, 27744, 27745, 27747, 27748, 27750, 27751, 27752, 27753, 27754, 27756, 27758, 27759, 27760, 27761, 27762, 27763, 27764, 27765, 27766, 27767, 27768, 27769, 27770, 27771, 27772, 27773, 27775, 27777, 27778, 27779, 27781, 27782, 27783, 27784, 27785, 27788, 27790, 27791, 27792, 27794, 27795, 27796, 27797, 27798, 27800, 27801, 27802, 27803, 27808, 27809, 27811, 27812, 27813, 27815, 27816, 27817, 27818, 27819, 27820, 27821, 27823, 27824, 27825, 27826, 27827, 27828, 27829, 27830, 27831, 27832, 27833, 27835, 27836, 27838, 27839, 27840, 27841, 27842, 27843, 27844, 27845, 27846, 27847, 27848, 27849, 27850, 27853, 27857, 27858, 27859, 27860, 27861, 27862, 27863, 27864, 27865, 27866, 27867, 27868, 27869, 27870, 27871, 27872, 27875, 27878, 27886, 27888, 27890, 27891, 27892, 27893, 27894, 27895, 27896, 27897, 27898, 27899, 27900, 27901, 27902, 27903, 27904, 27905, 27906, 27907, 27908, 27909, 27910, 27911, 27912, 27915, 27916, 27917, 27918, 27919, 27920, 27921, 27922, 27923, 27924, 27926, 27927, 27928, 27929, 27930, 27932, 27933, 27934, 27935, 27937, 27938, 27939, 27940, 27941, 27942, 27943, 27945, 27946, 27947, 27948, 27949, 27950, 27952, 27953, 27954, 27955, 27956, 27957, 27958, 27959, 27960, 27961, 27962, 27963, 27964, 27966, 27968, 27971, 27972, 27973, 27974, 27975, 27976, 27977, 27978, 27979, 27980, 27981, 27982, 27983, 27984, 27985, 27986, 27987, 27989, 27991, 27993, 27994, 27995, 27996, 27998, 27999, 28000, 28001, 28002, 28003, 28004, 28005, 28006, 28007, 28008, 28009, 28010, 28011, 28012, 28013, 28014, 28015, 28016, 28017, 28018, 28019, 28020, 28021, 28022, 28023, 28024, 28025, 28026, 28027, 28028, 28029, 28030, 28032, 28033, 28034, 28035, 28036, 28037, 28038, 28039, 28040, 28041, 28042, 28043, 28044, 28046, 28047, 28048, 28049, 28050, 28051, 28052, 28053, 28054, 28055, 28056, 28057, 28058, 28059, 28060, 28061, 28062, 28063, 28064, 28065, 28066, 28067, 28068, 28070, 28071, 28072, 28073, 28074, 28075, 28077, 28079, 28080, 28081, 28082, 28085, 28086, 28087, 28088, 28089, 28090, 28091, 28092, 28093, 28094, 28095, 28096, 28097, 28099, 28100, 28101, 28102, 28103, 28104, 28105, 28106, 28107, 28108, 28111, 28112, 28113, 28114, 28116, 28117, 28119, 28120, 28121, 28123, 28125, 28126, 28127, 28128, 28129, 28130, 28131, 28134, 28136, 28137, 28138, 28139, 28140, 28141, 28142, 28143, 28144, 28145, 28146, 28147, 28148, 28149, 28150, 28151, 28153, 28154, 28155, 28156, 28158, 28159, 28160, 28161, 28162, 28165, 28166, 28168, 28169, 28170, 28171, 28172, 28173, 28174, 28175, 28176, 28177, 28178, 28179, 28180, 28181, 28182, 28184, 28185, 28186, 28187, 28188, 28189, 28190, 28191, 28192, 28196, 28198, 28199, 28200, 28201, 28202, 28204, 28206, 28207, 28208, 28209, 28210, 28211, 28213, 28214, 28215, 28216, 28217, 28218, 28219, 28220, 28221, 28222, 28223, 28224, 28225, 28226, 28228, 28231, 28232, 28233, 28235, 28236, 28238, 28239, 28240, 28241, 28242, 28243, 28244, 28245, 28246, 28248, 28249, 28250, 28253, 28254, 28255, 28256, 28257, 28258, 28259, 28260, 28261, 28262, 28263, 28264, 28267, 28268, 28269, 28270, 28271, 28273, 28275, 28276, 28277, 28278, 28279, 28280, 28282, 28283, 28284, 28285, 28286, 28287, 28288, 28289, 28290, 28291, 28292, 28293, 28295, 28296, 28298, 28299, 28300, 28301, 28302, 28303, 28304, 28305, 28306, 28307, 28308, 28309, 28310, 28311, 28312, 28313, 28314, 28315, 28316, 28317, 28319, 28320, 28321, 28322, 28325, 28326, 28327, 28328, 28329, 28331, 28332, 28333, 28335, 28337, 28339, 28340, 28341, 28345, 28347, 28349, 28350, 28351, 28352, 28353, 28354, 28355, 28356, 28357, 28358, 28359, 28360, 28361, 28362, 28363, 28364, 28365, 28366, 28367, 28368, 28369, 28370, 28373, 28374, 28375, 28376, 28378, 28379, 28380, 28381, 28382, 28384, 28385, 28386, 28387, 28388, 28389, 28390, 28391, 28392, 28394, 28395, 28396, 28397, 28398, 28399, 28400, 28401, 28402, 28403, 28404, 28405, 28406, 28407, 28408, 28410, 28411, 28413, 28414, 28415, 28416, 28417, 28420, 28421, 28422, 28423, 28424, 28425, 28427, 28431, 28432, 28433, 28434, 28435, 28436, 28437, 28438, 28439, 28440, 28441, 28442, 28443, 28444, 28445, 28446, 28447, 28448, 28449, 28450, 28451, 28453, 28454, 28455, 28456, 28458, 28459, 28460, 28461, 28462, 28463, 28464, 28466, 28467, 28468, 28470, 28471, 28472, 28473, 28475, 28477, 28478, 28479, 28480, 28481, 28482, 28483, 28485, 28486, 28487, 28488, 28489, 28490, 28491, 28492, 28493, 28495, 28496, 28497, 28499, 28500, 28502, 28505, 28506, 28508, 28509, 28513, 28514, 28515, 28516, 28517, 28518, 28519, 28520, 28521, 28522, 28523, 28524, 28525, 28526, 28527, 28528, 28529, 28530, 28531, 28532, 28533, 28534, 28536, 28537, 28541, 28542, 28543, 28545, 28546, 28547, 28550, 28552, 28554, 28555, 28556, 28557, 28558, 28559, 28561, 28562, 28563, 28564, 28566, 28567, 28568, 28569, 28570, 28572, 28573, 28574, 28576, 28577, 28578, 28579, 28580, 28581, 28582, 28585, 28586, 28587, 28589, 28590, 28591, 28592, 28593, 28594, 28597, 28598, 28599, 28600, 28601, 28604, 28605, 28614, 28616, 28617, 28618, 28620, 28621, 28624, 28625, 28626, 28627, 28629, 28630, 28632, 28633, 28635, 28636, 28637, 28640, 28641, 28643, 28645, 28646, 28649, 28651, 28652, 28653, 28654, 28655, 28656, 28657, 28660, 28663, 28670, 28671, 28672, 28673, 28675, 28679, 28680, 28681, 28682, 28683, 28685, 28686, 28687, 28688, 28689, 28690, 28691, 28693, 28695, 28696, 28697, 28698, 28700, 28702, 28704, 28705, 28706, 28707, 28709, 28714, 28717, 28718, 28720, 28721, 28723, 28724, 28725, 28726, 28728, 28729, 28730, 28732, 28733, 28734, 28735, 28736, 28737, 28738, 28739, 28740, 28741, 28742, 28743, 28744, 28747, 28748, 28749, 28750, 28751, 28752, 28753, 28754, 28755, 28756, 28757, 28758, 28759, 28761, 28763, 28764, 28765, 28767, 28768, 28769, 28770, 28772, 28775, 28776, 28782, 28784, 28785, 28787, 28788, 28789, 28790, 28793, 28794, 28795, 28796, 28797, 28798, 28799, 28800, 28801, 28802, 28806, 28808, 28809, 28811, 28813, 28814, 28815, 28816, 28819, 28820, 28824, 28825, 28826, 28827, 28828, 28829, 28830, 28831, 28832, 28833, 28834, 28836, 28837, 28838, 28839, 28840, 28841, 28842, 28843, 28846, 28847, 28848, 28853, 28854, 28856, 28861, 28868, 28869, 28871, 28872, 28874, 28875, 28879, 28880, 28881, 28883, 28884, 28885, 28886, 28887, 28888, 28889, 28890, 28892, 28893, 28894, 28895, 28898, 28903, 28904, 28906, 28909, 28910, 28911, 28912, 28913, 28918, 28919, 28920, 28921, 28922, 28923, 28926, 28930, 28931, 28932, 28934, 28935, 28936, 28937, 28938, 28939, 28940, 28943, 28944, 28946, 28947, 28948, 28949, 28950, 28951, 28952, 28953, 28956, 28959, 28960, 28963, 28964, 28965, 28966, 28968, 28970, 28971, 28973, 28974, 28975, 28976, 28978, 28980, 28981, 28982, 28983, 28986, 28988, 28989, 28990, 28991, 28992, 28993, 28997, 28999, 29002, 29004, 29005, 29006, 29007, 29008, 29010, 29011, 29012, 29013, 29014, 29015, 29016, 29020, 29021, 29024, 29025, 29027, 29028, 29029, 29031, 29032, 29033, 29038, 29039, 29041, 29042, 29045, 29046, 29048, 29049, 29051, 29052, 29053, 29055, 29056, 29057, 29058, 29059, 29061, 29063, 29070, 29072, 29073, 29074, 29075, 29076, 29077, 29078, 29079, 29080, 29081, 29082, 29083, 29084, 29085, 29086, 29087, 29088, 29090, 29091, 29093, 29094, 29098, 29099, 29100, 29104, 29105, 29106, 29107, 29110, 29111, 29112, 29113, 29114, 29115, 29116, 29117, 29120, 29121, 29122, 29123, 29125, 29127, 29128, 29129, 29130, 29131, 29134, 29136, 29137, 29138, 29139, 29141, 29142, 29143, 29146, 29150, 29151, 29152, 29154, 29156, 29160, 29161, 29164, 29165, 29166, 29167, 29168, 29169, 29170, 29175, 29177, 29178, 29179, 29184, 29186, 29187, 29188, 29191, 29193, 29197, 29199, 29202, 29203, 29204, 29205, 29208, 29209, 29210, 29211, 29216, 29218, 29219, 29221, 29222, 29223, 29224, 29226, 29227, 29228, 29229, 29230, 29231, 29235, 29236, 29237, 29238, 29242, 29243, 29244, 29245, 29246, 29253, 29254, 29256, 29257, 29258, 29260, 29262, 29265, 29266, 29271, 29280, 29286, 29287, 29288, 29289, 29290, 29293, 29294, 29296, 29298, 29299, 29301, 29302, 29303, 29306, 29307, 29309, 29312, 29313, 29316, 29317, 29321, 29323, 29325, 29326, 29327, 29330, 29333, 29334, 29341, 29343, 29344, 29345, 29350, 29351, 29353, 29354, 29355, 29356, 29357, 29358, 29359, 29360, 29361, 29362, 29363, 29364, 29365, 29366, 29367, 29368, 29369, 29370, 29371, 29373, 29374, 29375, 29376, 29377, 29380, 29381, 29382, 29383, 29384, 29385, 29390, 29392, 29393, 29395, 29399, 29400, 29401, 29406, 29407, 29409, 29410, 29412, 29413, 29414, 29417, 29418, 29419, 29420, 29421, 29423, 29424, 29425, 29426, 29428, 29429, 29430, 29431, 29432, 29433, 29439, 29441, 29442, 29443, 29444, 29446, 29447, 29450, 29452, 29453, 29454, 29456, 29457, 29459, 29461, 29466, 29471, 29472, 29474, 29475, 29476, 29479, 29480, 29481, 29482, 29483, 29484, 29487, 29488, 29491, 29493, 29495, 29496, 29498, 29500, 29501, 29502, 29503, 29504, 29507, 29508, 29509, 29511, 29513, 29514, 29515, 29516, 29519, 29520, 29521, 29523, 29525, 29527, 29528, 29529, 29530, 29531, 29532, 29533, 29535, 29542, 29544, 29545, 29547, 29549, 29550, 29551, 29552, 29553, 29554, 29555, 29556, 29557, 29559, 29560, 29561, 29562, 29563, 29566, 29567, 29569, 29570, 29571, 29572, 29573, 29576, 29578, 29579, 29581, 29586, 29588, 29589, 29590, 29591, 29592, 29593, 29594, 29595, 29596, 29600, 29601, 29602, 29603, 29604, 29606, 29607, 29608, 29610, 29611, 29612, 29613, 29614, 29616, 29618, 29622, 29624, 29625, 29627, 29628, 29630, 29635, 29636, 29637, 29638, 29639, 29641, 29642, 29643, 29645, 29646, 29647, 29649, 29653, 29654, 29655, 29656, 29657, 29658, 29659, 29660, 29661, 29662, 29663, 29664, 29665, 29666, 29667, 29668, 29669, 29670, 29671, 29672, 29673, 29674, 29675, 29676, 29679, 29680, 29681, 29682, 29684, 29686, 29688, 29689, 29690, 29692, 29693, 29694, 29695, 29696, 29698, 29700, 29703, 29710, 29711, 29713, 29717, 29718, 29719, 29720, 29721, 29722, 29723, 29724, 29725, 29726, 29728, 29730, 29731, 29732, 29734, 29735, 29736, 29737, 29738, 29739, 29744, 29746, 29748, 29749, 29752, 29753, 29754, 29755, 29756, 29757, 29759, 29761, 29762, 29763, 29764, 29766, 29769, 29773, 29774, 29775, 29778, 29780, 29781, 29782, 29783, 29784, 29786, 29790, 29792, 29794, 29797, 29799, 29800, 29801, 29802, 29805, 29806, 29809, 29811, 29812, 29813, 29815, 29819, 29824, 29826, 29827, 29828, 29830, 29833, 29834, 29836, 29837, 29839, 29840, 29843, 29844, 29845, 29850, 29853, 29855, 29857, 29859, 29860, 29862, 29863, 29868, 29872, 29878, 29883, 29884, 29886, 29888, 29889, 29891, 29892, 29893, 29894, 29899, 29900, 29902, 29903, 29904, 29905, 29907, 29908, 29909, 29911, 29913, 29914, 29916, 29917, 29919, 29920, 29922, 29923, 29925, 29926, 29927, 29929, 29931, 29932, 29933, 29934, 29935, 29936, 29939, 29940, 29941, 29943, 29944, 29945, 29947, 29948, 29950, 29951, 29953, 29955, 29959, 29962, 29966, 29968, 29969, 29973, 29974, 29975, 29976, 29977, 29978, 29979, 29980, 29981, 29985, 29986, 29987, 29988, 29992, 29993, 29994, 29995, 29998, 29999, 30000, 30004, 30005, 30006, 30008, 30009, 30010, 30013, 30014, 30015, 30016, 30019, 30020, 30021, 30022, 30023, 30024, 30025, 30026, 30027, 30028, 30029, 30030, 30031, 30032, 30033, 30034, 30036, 30037, 30038, 30040, 30041, 30042, 30043, 30044, 30046, 30047, 30049, 30050, 30051, 30053, 30058, 30063, 30064, 30065, 30066, 30067, 30070, 30072, 30073, 30074, 30075, 30077, 30078, 30079, 30080, 30081, 30082, 30083, 30084, 30086, 30087, 30092, 30093, 30094, 30095, 30097, 30098, 30099, 30100, 30102, 30104, 30105, 30106, 30108, 30109, 30110, 30111, 30115, 30116, 30117, 30118, 30120, 30121, 30122, 30124, 30127, 30128, 30131, 30132, 30133, 30136, 30137, 30138, 30139, 30140, 30141, 30142, 30143, 30145, 30146, 30147, 30148, 30149, 30150, 30151, 30152, 30153, 30155, 30156, 30159, 30160, 30162, 30164, 30166, 30170, 30171, 30172, 30173, 30175, 30177, 30180, 30183, 30185, 30186, 30187, 30188, 30189, 30190, 30192, 30193, 30197, 30198, 30199, 30200, 30203, 30204, 30205, 30206, 30207, 30208, 30209, 30210, 30212, 30213, 30214, 30215, 30216, 30217, 30219, 30221, 30225, 30228, 30229, 30230, 30231, 30232, 30235, 30238, 30239, 30240, 30241, 30244, 30246, 30249, 30250, 30251, 30252, 30254, 30259, 30260, 30262, 30263, 30264, 30265, 30266, 30267, 30268, 30273, 30274, 30275, 30276, 30277, 30278, 30279, 30282, 30283, 30284, 30285, 30286, 30288, 30291, 30293, 30294, 30295, 30296, 30297, 30301, 30302, 30303, 30304, 30307, 30308, 30310, 30313, 30314, 30320, 30321, 30322, 30324, 30325, 30326, 30327, 30329, 30333, 30339, 30343, 30346, 30347, 30348, 30352, 30355, 30361, 30362, 30363, 30365, 30369, 30371, 30372, 30373, 30374, 30377, 30378, 30379, 30380, 30382, 30383, 30384, 30386, 30387, 30388, 30391, 30392, 30393, 30394, 30395, 30396, 30398, 30399, 30400, 30404, 30405, 30406, 30408, 30413, 30414, 30415, 30416, 30419, 30420, 30423, 30425, 30426, 30430, 30432, 30434, 30436, 30441, 30447, 30448, 30449, 30450, 30451, 30453, 30454, 30455, 30456, 30462, 30463, 30465, 30466, 30471, 30472, 30474, 30476, 30477, 30478, 30479, 30480, 30481, 30482, 30484, 30485, 30486, 30487, 30489, 30492, 30497, 30498, 30499, 30501, 30505, 30508, 30510, 30512, 30513, 30515, 30516, 30517, 30518, 30519, 30520, 30522, 30523, 30524, 30525, 30526, 30527, 30528, 30532, 30533, 30534, 30536, 30539, 30540, 30541, 30543, 30544, 30546, 30548, 30550, 30551, 30552, 30553, 30554, 30557, 30563, 30564, 30569, 30571, 30572, 30573, 30574, 30579, 30582, 30583, 30584, 30586, 30587, 30588, 30591, 30592, 30594, 30598, 30599, 30601, 30603, 30605, 30606, 30609, 30613, 30617, 30618, 30619, 30620, 30623, 30625, 30626, 30627, 30628, 30631, 30637, 30639, 30640, 30642, 30646, 30647, 30649, 30651, 30652, 30654, 30656, 30657, 30660, 30661, 30663, 30665, 30674, 30676, 30678, 30679, 30680, 30681, 30683, 30684, 30685, 30686, 30687, 30688, 30689, 30690, 30696, 30697, 30698, 30702, 30704, 30707, 30708, 30709, 30714, 30715, 30718, 30719, 30720, 30722, 30723, 30724, 30725, 30727, 30732, 30733, 30737, 30738, 30739, 30740, 30741, 30744, 30750, 30751, 30752, 30755, 30756, 30759, 30760, 30761, 30765, 30766, 30767, 30770, 30771, 30775, 30777, 30779, 30780, 30781, 30782, 30783, 30784, 30786, 30787, 30788, 30789, 30791, 30794, 30795, 30797, 30800, 30801, 30803, 30804, 30805, 30808, 30811, 30812, 30813, 30814, 30818, 30820, 30821, 30822, 30823, 30826, 30829, 30833, 30834, 30838, 30840, 30841, 30842, 30843, 30844, 30845, 30846, 30847, 30852, 30854, 30856, 30858, 30860, 30861, 30863, 30867, 30868, 30869, 30870, 30871, 30873, 30874, 30876, 30877, 30878, 30879, 30880, 30881, 30882, 30884, 30886, 30887, 30890, 30892, 30894, 30895, 30898, 30899, 30900, 30901, 30902, 30904, 30905, 30906, 30907, 30908, 30909, 30911, 30912, 30914, 30918, 30919, 30922, 30923, 30925, 30926, 30929, 30931, 30932, 30936, 30937, 30938, 30939, 30940, 30941, 30942, 30943, 30944, 30945, 30946, 30948, 30949, 30950, 30951, 30952, 30953, 30957, 30958, 30962, 30963, 30964, 30965, 30966, 30967, 30968, 30969, 30972, 30973, 30975, 30976, 30977, 30978, 30979, 30980, 30981, 30982, 30983, 30984, 30985, 30987, 30993, 30994, 30995, 30996, 30997, 30998, 31001, 31002, 31003, 31004, 31005, 31007, 31009, 31013, 31014, 31015, 31016, 31017, 31019, 31021, 31022, 31025, 31028, 31029, 31031, 31032, 31036, 31042, 31047, 31048, 31050, 31054, 31056, 31057, 31059, 31060, 31061, 31064, 31071, 31072, 31075, 31079, 31080, 31085, 31086, 31087, 31088, 31089, 31091, 31093, 31094, 31099, 31101, 31102, 31103, 31104, 31106, 31107, 31111, 31112, 31113, 31114, 31115, 31116, 31117, 31118, 31119, 31120, 31124, 31127, 31131, 31133, 31134, 31138, 31142, 31144, 31145, 31150, 31153, 31154, 31155, 31156, 31157, 31160, 31163, 31165, 31166, 31171, 31172, 31174, 31175, 31177, 31178, 31180, 31183, 31184, 31185, 31187, 31188, 31189, 31190, 31191, 31192, 31197, 31200, 31201, 31202, 31203, 31204, 31206, 31207, 31211, 31212, 31216, 31219, 31220, 31221, 31222, 31223, 31224, 31225, 31227, 31228, 31229, 31230, 31231, 31233, 31234, 31236, 31238, 31239, 31241, 31242, 31244, 31245, 31249, 31250, 31253, 31254, 31255, 31257, 31258, 31260, 31262, 31263, 31265, 31268, 31271, 31272, 31273, 31276, 31279, 31283, 31284, 31285, 31287, 31292, 31293, 31294, 31295, 31296, 31298, 31299, 31303, 31304, 31306, 31308, 31313, 31314, 31318, 31320, 31321, 31322, 31324, 31326, 31328, 31329, 31331, 31334, 31335, 31336, 31338, 31339, 31341, 31349, 31352, 31353, 31354, 31357, 31358, 31360, 31366, 31368, 31369, 31370, 31373, 31374, 31377, 31378, 31379, 31381, 31384, 31385, 31386, 31387, 31389, 31391, 31392, 31394, 31396, 31398, 31400, 31401, 31402, 31403, 31405, 31406, 31408, 31410, 31411, 31413, 31414, 31415, 31416, 31418, 31419, 31420, 31422, 31423, 31427, 31431, 31433, 31434, 31435, 31437, 31443, 31444, 31445, 31447, 31448, 31449, 31450, 31451, 31454, 31456, 31459, 31460, 31461, 31462, 31464, 31465, 31470, 31471, 31473, 31475, 31477, 31478, 31480, 31486, 31487, 31489, 31491, 31493, 31501, 31503, 31504, 31507, 31509, 31510, 31513, 31515, 31516, 31517, 31521, 31526, 31529, 31532, 31534, 31535, 31537, 31540, 31543, 31544, 31545, 31548, 31549, 31550, 31551, 31552, 31553, 31555, 31559, 31560, 31565, 31567, 31569, 31570, 31571, 31572, 31573, 31574, 31575, 31576, 31577, 31578, 31580, 31582, 31583, 31584, 31585, 31586, 31587, 31589, 31591, 31597, 31599, 31600, 31601, 31605, 31608, 31609, 31610, 31614, 31615, 31616, 31623, 31624, 31626, 31627, 31630, 31632, 31633, 31634, 31636, 31637, 31640, 31641, 31642, 31643, 31646, 31649, 31652, 31653, 31654, 31655, 31656, 31657, 31659, 31661, 31665, 31666, 31667, 31670, 31671, 31672, 31674, 31677, 31679, 31680, 31681, 31682, 31683, 31684, 31685, 31688, 31691, 31693, 31694, 31697, 31698, 31699, 31702, 31704, 31706, 31707, 31710, 31712, 31713, 31714, 31716, 31717, 31718, 31719, 31720, 31721, 31723, 31725, 31726, 31730, 31731, 31732, 31733, 31735, 31736, 31738, 31739, 31740, 31741, 31742, 31743, 31744, 31747, 31748, 31749, 31750, 31752, 31754, 31755, 31756, 31763, 31765, 31766, 31769, 31770, 31772, 31773, 31777, 31778, 31779, 31780, 31781, 31783, 31785, 31786, 31787, 31788, 31789, 31790, 31792, 31794, 31795, 31797, 31798, 31799, 31800, 31801, 31803, 31804, 31807, 31808, 31810, 31816, 31817, 31818, 31819, 31820, 31823, 31824, 31826, 31830, 31831, 31833, 31835, 31836, 31841, 31842, 31843, 31847, 31849, 31850, 31852, 31853, 31855, 31856, 31857, 31863, 31864, 31866, 31871, 31876, 31878, 31882, 31885, 31886, 31887, 31889, 31891, 31893, 31894, 31895, 31898, 31901, 31902, 31903, 31907, 31908, 31909, 31912, 31913, 31914, 31916, 31917, 31920, 31921, 31922, 31923, 31925, 31927, 31928, 31930, 31934, 31936, 31937, 31942, 31944, 31950, 31951, 31952, 31954, 31971, 31972, 31975, 31976, 31978, 31980, 31981, 31983, 31984, 31986, 31989, 31990, 31991, 32003, 32004, 32007, 32010, 32011, 32013, 32017, 32018, 32019, 32020, 32021, 32023, 32024, 32025, 32026, 32028, 32030, 32031, 32032, 32034, 32039, 32040, 32041, 32042, 32043, 32044, 32047, 32049, 32051, 32053, 32054, 32055, 32057, 32058, 32059, 32060, 32061, 32062, 32064, 32067, 32068, 32069, 32070, 32071, 32076, 32078, 32079, 32080, 32081, 32082, 32083, 32087, 32088, 32090, 32092, 32094, 32096, 32097, 32098, 32099, 32100, 32101, 32103, 32104, 32105, 32106, 32107, 32108, 32111, 32112, 32113, 32114, 32115, 32119, 32122, 32123, 32124, 32127, 32128, 32130, 32132, 32137, 32138, 32139, 32142, 32143, 32144, 32145, 32146, 32147, 32149, 32150, 32153, 32154, 32157, 32160, 32161, 32165, 32167, 32169, 32170, 32172, 32173, 32174, 32175, 32176, 32177, 32178, 32179, 32181, 32184, 32185, 32186, 32187, 32191, 32192, 32194, 32195, 32196, 32198, 32199, 32200, 32202, 32204, 32205, 32212, 32221, 32222, 32223, 32224, 32225, 32230, 32231, 32232, 32233, 32234, 32235, 32238, 32242, 32244, 32245, 32249, 32251, 32253, 32254, 32255, 32256, 32260, 32262, 32263, 32264, 32265, 32266, 32267, 32269, 32271, 32276, 32277, 32278, 32279, 32281, 32285, 32288, 32290, 32293, 32294, 32295, 32296, 32299, 32300, 32301, 32304, 32307, 32308, 32310, 32311, 32312, 32313, 32315, 32317, 32319, 32321, 32322, 32323, 32324, 32325, 32326, 32327, 32329, 32331, 32332, 32334, 32337, 32339, 32340, 32342, 32344, 32346, 32349, 32353, 32354, 32356, 32357, 32358, 32361, 32362, 32363, 32364, 32365, 32366, 32367, 32368, 32371, 32372, 32373, 32374, 32376, 32378, 32379, 32380, 32381, 32382, 32383, 32387, 32388, 32389, 32390, 32391, 32393, 32397, 32398, 32399, 32404, 32406, 32409, 32410, 32412, 32413, 32416, 32417, 32418, 32419, 32420, 32421, 32422, 32423, 32424, 32425, 32427, 32430, 32433, 32436, 32437, 32440, 32445, 32446, 32447, 32448, 32449, 32450, 32451, 32452, 32454, 32455, 32456, 32460, 32462, 32463, 32468, 32469, 32475, 32476, 32477, 32479, 32480, 32482, 32483, 32484, 32488, 32489, 32490, 32494, 32496, 32499, 32500, 32502, 32509, 32510, 32511, 32514, 32517, 32519, 32520, 32521, 32523, 32524, 32525, 32530, 32531, 32534, 32539, 32540, 32542, 32544, 32548, 32549, 32550, 32551, 32552, 32553, 32554, 32556, 32560, 32562, 32563, 32565, 32566, 32567, 32568, 32570, 32572, 32573, 32575, 32578, 32579, 32582, 32583, 32584, 32586, 32588, 32589, 32592, 32594, 32597, 32598, 32601, 32604, 32606, 32608, 32609, 32610, 32612, 32614, 32615, 32617, 32619, 32621, 32622, 32623, 32625, 32626, 32627, 32628, 32629, 32642, 32643, 32644, 32645, 32646, 32647, 32649, 32650, 32652, 32653, 32654, 32656, 32659, 32661, 32662, 32665, 32667, 32668, 32671, 32673, 32675, 32676, 32677, 32678, 32679, 32680, 32681, 32684, 32686, 32690, 32692, 32698, 32700, 32702, 32703, 32704, 32705, 32712, 32713, 32716, 32717, 32719, 32720, 32722, 32731, 32732, 32734, 32735, 32743, 32744, 32745, 32746, 32747, 32748, 32752, 32753, 32754, 32755, 32757, 32758, 32760, 32761, 32764, 32765, 32767, 32769, 32770, 32772, 32773, 32774, 32777, 32778, 32782, 32785, 32788, 32789, 32791, 32792, 32794, 32799, 32803, 32804, 32806, 32808, 32810, 32813, 32814, 32816, 32820, 32822, 32824, 32825, 32826, 32828, 32831, 32832, 32833, 32836, 32837, 32839, 32840, 32841, 32842, 32845, 32846, 32848, 32850, 32851, 32852, 32853, 32854, 32855, 32856, 32857, 32858, 32859, 32860, 32861, 32862, 32863, 32865, 32866, 32871, 32873, 32874, 32875, 32876, 32878, 32879, 32880, 32881, 32884, 32887, 32888, 32890, 32893, 32897, 32898, 32899, 32900, 32903, 32904, 32905, 32906, 32907, 32908, 32912, 32913, 32917, 32919, 32920, 32921, 32922, 32923, 32927, 32928, 32929, 32932, 32935, 32936, 32937, 32938, 32939, 32940, 32941, 32945, 32947, 32948, 32949, 32950, 32951, 32954, 32955, 32957, 32958, 32960, 32961, 32964, 32969, 32970, 32971, 32972, 32973, 32975, 32977, 32983, 32984, 32985, 32987, 32988, 32992, 32996, 33000, 33001, 33002, 33003, 33004, 33007, 33010, 33011, 33012, 33015, 33023, 33025, 33028, 33030, 33031, 33033, 33039, 33040, 33041, 33042, 33043, 33045, 33052, 33054, 33057, 33058, 33059, 33060, 33064, 33071, 33072, 33073, 33075, 33076, 33078, 33088, 33089, 33090, 33092, 33093, 33096, 33098, 33101, 33103, 33104, 33108, 33109, 33111, 33112, 33113, 33114, 33115, 33118, 33120, 33121, 33122, 33123, 33124, 33125, 33127, 33128, 33129, 33135, 33137, 33138, 33139, 33140, 33141, 33143, 33148, 33150, 33153, 33154, 33155, 33157, 33160, 33161, 33163, 33164, 33166, 33168, 33169, 33171, 33175, 33177, 33178, 33179, 33182, 33183, 33187, 33191, 33192, 33194, 33197, 33200, 33208, 33210, 33211, 33219, 33220, 33221, 33222, 33223, 33224, 33225, 33226, 33228, 33241, 33242, 33245, 33249, 33250, 33256, 33258, 33260, 33263, 33264, 33265, 33267, 33269, 33270, 33275, 33278, 33279, 33280, 33283, 33288, 33290, 33292, 33295, 33296, 33299, 33301, 33302, 33303, 33306, 33309, 33311, 33315, 33316, 33317, 33318, 33319, 33320, 33322, 33323, 33326, 33327, 33329, 33333, 33335, 33338, 33339, 33342, 33346, 33348, 33349, 33350, 33351, 33352, 33353, 33355, 33356, 33361, 33362, 33364, 33366, 33368, 33369, 33370, 33372, 33373, 33376, 33379, 33381, 33382, 33383, 33385, 33386, 33387, 33389, 33390, 33391, 33392, 33394, 33396, 33397, 33399, 33400, 33402, 33403, 33405, 33406, 33408, 33409, 33412, 33413, 33416, 33419, 33420, 33423, 33426, 33428, 33430, 33431, 33432, 33434, 33437, 33439, 33442, 33443, 33444, 33453, 33459, 33460, 33467, 33470, 33471, 33473, 33475, 33477, 33479, 33482, 33486, 33490, 33491, 33492, 33496, 33497, 33503, 33504, 33505, 33506, 33507, 33508, 33509, 33510, 33514, 33519, 33520, 33521, 33524, 33533, 33535, 33536, 33537, 33538, 33539, 33547, 33549, 33550, 33551, 33553, 33556, 33559, 33561, 33563, 33568, 33571, 33574, 33576, 33578, 33583, 33587, 33588, 33590, 33592, 33593, 33594, 33595, 33598, 33602, 33605, 33606, 33613, 33620, 33622, 33624, 33625, 33627, 33628, 33629, 33634, 33635, 33637, 33639, 33640, 33644, 33645, 33647, 33648, 33649, 33651, 33654, 33655, 33656, 33659, 33662, 33665, 33667, 33668, 33669, 33670, 33671, 33673, 33674, 33677, 33678, 33679, 33680, 33682, 33685, 33686, 33688, 33689, 33690, 33691, 33692, 33693, 33696, 33698, 33706, 33707, 33708, 33711, 33714, 33715, 33716, 33718, 33724, 33725, 33726, 33727, 33729, 33733, 33736, 33742, 33745, 33751, 33752, 33755, 33757, 33759, 33761, 33762, 33763, 33764, 33768, 33769, 33771, 33772, 33777, 33778, 33779, 33781, 33782, 33783, 33784, 33785, 33788, 33789, 33790, 33797, 33798, 33799, 33802, 33803, 33804, 33808, 33809, 33810, 33816, 33817, 33819, 33820, 33822, 33823, 33824, 33825, 33826, 33829, 33830, 33831, 33833, 33835, 33838, 33844, 33845, 33846, 33850, 33856, 33857, 33864, 33867, 33868, 33869, 33872, 33875, 33876, 33877, 33878, 33879, 33881, 33882, 33885, 33889, 33890, 33891, 33892, 33895, 33896, 33898, 33899, 33900, 33903, 33904, 33907, 33910, 33911, 33912, 33913, 33917, 33919, 33920, 33921, 33924, 33925, 33927, 33930, 33934, 33935, 33936, 33937, 33939, 33940, 33942, 33945, 33946, 33952, 33954, 33956, 33957, 33958, 33959, 33961, 33964, 33966, 33975, 33977, 33978, 33983, 33991, 33993, 33994, 33999, 34001, 34002, 34004, 34018, 34019, 34020, 34021, 34027, 34028, 34033, 34034, 34035, 34038, 34045, 34051, 34053, 34054, 34056, 34059, 34061, 34062, 34063, 34064, 34065, 34066, 34069, 34070, 34073, 34074, 34075, 34076, 34077, 34078, 34079, 34080, 34081, 34082, 34083, 34088, 34094, 34097, 34098, 34099, 34101, 34102, 34103, 34104, 34105, 34107, 34109, 34115, 34116, 34117, 34119, 34120, 34121, 34122, 34123, 34124, 34126, 34127, 34129, 34136, 34137, 34140, 34141, 34142, 34144, 34145, 34146, 34148, 34150, 34151, 34153, 34154, 34155, 34156, 34158, 34159, 34160, 34161, 34162, 34163, 34164, 34166, 34167, 34168, 34169, 34171, 34172, 34174, 34177, 34180, 34182, 34185, 34188, 34189, 34190, 34191, 34192, 34194, 34195, 34197, 34198, 34201, 34202, 34203, 34204, 34205, 34206, 34211, 34214, 34215, 34221, 34226, 34228, 34230, 34231, 34233, 34235, 34237, 34238, 34241, 34246, 34247, 34248, 34249, 34250, 34253, 34254, 34256, 34261, 34262, 34265, 34266, 34267, 34268, 34274, 34278, 34280, 34282, 34283, 34286, 34287, 34288, 34291, 34297, 34299, 34300, 34302, 34303, 34306, 34307, 34308, 34313, 34316, 34317, 34318, 34324, 34325, 34326, 34328, 34335, 34337, 34338, 34340, 34341, 34342, 34343, 34344, 34345, 34347, 34348, 34349, 34351, 34353, 34354, 34356, 34357, 34365, 34369, 34370, 34375, 34376, 34377, 34379, 34380, 34381, 34382, 34383, 34384, 34388, 34389, 34391, 34392, 34394, 34395, 34396, 34397, 34400, 34402, 34404, 34405, 34407, 34408, 34410, 34412, 34413, 34430, 34431, 34434, 34435, 34436, 34437, 34438, 34439, 34445, 34448, 34450, 34451, 34452, 34454, 34460, 34463, 34465, 34467, 34468, 34469, 34470, 34477, 34486, 34487, 34488, 34489, 34495, 34497, 34498, 34500, 34502, 34503, 34504, 34505, 34506, 34507, 34508, 34509, 34510, 34512, 34514, 34515, 34516, 34517, 34518, 34519, 34520, 34521, 34522, 34523, 34525, 34527, 34529, 34530, 34532, 34533, 34534, 34535, 34536, 34537, 34538, 34539, 34540, 34541, 34542, 34543, 34544, 34545, 34548, 34552, 34555, 34557, 34558, 34559, 34563, 34565, 34566, 34567, 34569, 34570, 34571, 34572, 34573, 34574, 34575, 34577, 34579, 34580, 34581, 34582, 34586, 34587, 34588, 34591, 34592, 34593, 34594, 34595, 34596, 34598, 34599, 34603, 34605, 34608, 34610, 34613, 34614, 34615, 34616, 34617, 34618, 34619, 34620, 34621, 34622, 34626, 34627, 34628, 34629, 34630, 34631, 34632, 34633, 34634, 34635, 34636, 34640, 34644, 34647, 34652, 34654, 34666, 34667, 34669, 34670, 34671, 34674, 34676, 34680, 34681, 34682, 34683, 34684, 34686, 34687, 34689, 34692, 34693, 34695, 34698, 34699, 34701, 34702, 34703, 34707, 34708, 34709, 34713, 34716, 34717, 34718, 34719, 34720, 34722, 34723, 34724, 34725, 34729, 34734, 34735, 34736, 34739, 34740, 34741, 34743, 34746, 34747, 34749, 34750, 34751, 34753, 34754, 34755, 34756, 34757, 34758, 34759, 34761, 34763, 34768, 34770, 34771, 34776, 34777, 34779, 34780, 34782, 34784, 34788, 34790, 34791, 34792, 34793, 34794, 34796, 34799, 34800, 34806, 34807, 34808, 34811, 34813, 34814, 34815, 34816, 34820, 34822, 34823, 34826, 34828, 34829, 34830, 34835, 34839, 34841, 34844, 34849, 34852, 34853, 34854, 34856, 34859, 34860, 34861, 34863, 34864, 34865, 34868, 34871, 34872, 34873, 34874, 34875, 34876, 34877, 34878, 34879, 34883, 34884, 34885, 34889, 34891, 34892, 34899, 34902, 34903, 34905, 34908, 34909, 34911, 34914, 34918, 34919, 34925, 34926, 34928, 34930, 34931, 34933, 34936, 34938, 34940, 34941, 34943, 34944, 34945, 34947, 34948, 34951, 34952, 34953, 34956, 34958, 34959, 34961, 34966, 34967, 34968, 34969, 34970, 34972, 34973, 34977, 34979, 34981, 34982, 34983, 34984, 34986, 34987, 34988, 34990, 34991, 34992, 34993, 34995, 34997, 34998, 35002, 35003, 35006, 35007, 35008, 35010, 35012, 35013, 35014, 35016, 35019, 35020, 35026, 35027, 35028, 35031, 35032, 35035, 35037, 35038, 35040, 35041, 35042, 35044, 35045, 35048, 35049, 35052, 35053, 35055, 35056, 35057, 35058, 35060, 35061, 35063, 35065, 35066, 35067, 35070, 35071, 35075, 35076, 35078, 35080, 35081, 35082, 35083, 35084, 35086, 35087, 35088, 35089, 35090, 35091, 35092, 35095, 35099, 35100, 35101, 35103, 35107, 35108, 35110, 35111, 35115, 35116, 35119, 35122, 35124, 35125, 35126, 35132, 35136, 35138, 35139, 35141, 35142, 35143, 35146, 35150, 35151, 35152, 35154, 35156, 35157, 35158, 35159, 35167, 35170, 35171, 35172, 35174, 35177, 35178, 35180, 35182, 35183, 35185, 35186, 35187, 35189, 35191, 35192, 35193, 35195, 35197, 35200, 35202, 35204, 35211, 35213, 35214, 35216, 35217, 35218, 35219, 35223, 35224, 35225, 35227, 35232, 35233, 35234, 35236, 35238, 35239, 35240, 35241, 35242, 35244, 35245, 35246, 35251, 35254, 35255, 35256, 35258, 35260, 35261, 35262, 35263, 35265, 35266, 35268, 35270, 35271, 35273, 35277, 35284, 35287, 35289, 35290, 35291, 35293, 35294, 35295, 35296, 35297, 35298, 35300, 35302, 35303, 35304, 35310, 35311, 35312, 35314, 35316, 35317, 35321, 35323, 35324, 35326, 35331, 35333, 35334, 35335, 35336, 35337, 35338, 35339, 35340, 35341, 35342, 35343, 35345, 35346, 35348, 35350, 35351, 35353, 35354, 35356, 35357, 35358, 35360, 35363, 35365, 35366, 35367, 35368, 35370, 35372, 35374, 35375, 35376, 35378, 35379, 35380, 35387, 35389, 35390, 35391, 35392, 35394, 35397, 35400, 35402, 35403, 35406, 35409, 35411, 35412, 35413, 35414, 35415, 35416, 35418, 35420, 35421, 35422, 35424, 35425, 35427, 35429, 35430, 35434, 35435, 35436, 35437, 35438, 35439, 35440, 35441, 35442, 35443, 35446, 35447, 35448, 35449, 35450, 35451, 35452, 35453, 35454, 35455, 35457, 35459, 35460, 35461, 35462, 35463, 35464, 35466, 35468, 35469, 35472, 35473, 35474, 35475, 35476, 35478, 35480, 35481, 35482, 35483, 35484, 35486, 35490, 35491, 35492, 35493, 35494, 35495, 35496, 35497, 35498, 35499, 35501, 35502, 35506, 35507, 35510, 35511, 35512, 35513, 35517, 35518, 35519, 35520, 35522, 35528, 35529, 35533, 35535, 35537, 35538, 35540, 35543, 35544, 35548, 35551, 35553, 35554, 35555, 35556, 35557, 35558, 35559, 35562, 35563, 35565, 35567, 35568, 35572, 35573, 35574, 35575, 35576, 35577, 35579, 35581, 35582, 35583, 35584, 35585, 35589, 35590, 35591, 35596, 35597, 35598, 35599, 35602, 35604, 35605, 35607, 35609, 35610, 35612, 35614, 35615, 35617, 35618, 35619, 35620, 35621, 35622, 35623, 35624, 35625, 35626, 35627, 35631, 35632, 35633, 35637, 35638, 35639, 35640, 35641, 35642, 35643, 35645, 35646, 35647, 35649, 35650, 35651, 35652, 35655, 35657, 35661, 35662, 35663, 35664, 35665, 35666, 35668, 35669, 35670, 35672, 35673, 35677, 35678, 35679, 35683, 35684, 35685, 35686, 35687, 35690, 35691, 35692, 35693, 35694, 35695, 35699, 35700, 35702, 35704, 35705, 35706, 35710, 35711, 35712, 35713, 35714, 35715, 35716, 35717, 35718, 35719, 35722, 35723, 35727, 35729, 35730, 35731, 35732, 35733, 35734, 35736, 35737, 35739, 35740, 35742, 35746, 35747, 35748, 35749, 35750, 35751, 35753, 35754, 35755, 35757, 35758, 35759, 35761, 35763, 35768, 35769, 35770, 35771, 35773, 35774, 35776, 35778, 35780, 35783, 35784, 35791, 35795, 35796, 35797, 35798, 35800, 35801, 35802, 35803, 35804, 35805, 35806, 35809, 35811, 35813, 35814, 35816, 35817, 35818, 35819, 35821, 35824, 35825, 35826, 35829, 35832, 35833, 35834, 35835, 35836, 35837, 35838, 35840, 35841, 35843, 35845, 35851, 35853, 35855, 35856, 35857, 35858, 35860, 35866, 35868, 35869, 35870, 35871, 35872, 35873, 35874, 35880, 35881, 35884, 35885, 35886, 35888, 35890, 35891, 35892, 35894, 35896, 35897, 35900, 35902, 35904, 35905, 35906, 35907, 35908, 35910, 35911, 35912, 35914, 35915, 35919, 35920, 35921, 35924, 35925, 35927, 35928, 35930, 35931, 35934, 35936, 35937, 35938, 35940, 35941, 35942, 35943, 35945, 35946, 35948, 35949, 35950, 35951, 35952, 35953, 35954, 35956, 35958, 35959, 35960, 35961, 35962, 35966, 35967, 35968, 35970, 35971, 35972, 35973, 35974, 35975, 35977, 35978, 35979, 35980, 35981, 35982, 35983, 35985, 35986, 35987, 35988, 35989, 35990, 35991, 35992, 35993, 35994, 35995, 35996, 35998, 35999, 36000, 36002, 36006, 36007, 36011, 36012, 36013, 36015, 36016, 36017, 36018, 36019, 36020, 36022, 36024, 36025, 36026, 36031, 36033, 36034, 36035, 36036, 36040, 36041, 36043, 36044, 36045, 36046, 36047, 36048, 36055, 36056, 36057, 36058, 36059, 36060, 36061, 36062, 36063, 36065, 36066, 36067, 36068, 36071, 36072, 36075, 36076, 36078, 36079, 36080, 36081, 36082, 36083, 36084, 36085, 36086, 36087, 36088, 36090, 36091, 36093, 36094, 36095, 36098, 36102, 36103, 36107, 36108, 36109, 36110, 36111, 36112, 36113, 36115, 36116, 36117, 36118, 36119, 36120, 36122, 36123, 36124, 36125, 36127, 36128, 36129, 36130, 36133, 36134, 36136, 36137, 36143, 36144, 36146, 36147, 36148, 36156, 36157, 36158, 36159, 36160, 36162, 36164, 36166, 36167, 36168, 36169, 36170, 36172, 36173, 36176, 36179, 36181, 36182, 36189, 36191, 36192, 36193, 36199, 36201, 36205, 36206, 36208, 36212, 36213, 36218, 36219, 36221, 36222, 36223, 36224, 36227, 36228, 36229, 36230, 36232, 36234, 36235, 36236, 36239, 36240, 36241, 36244, 36245, 36246, 36247, 36249, 36250, 36252, 36258, 36261, 36262, 36264, 36266, 36267, 36268, 36269, 36270, 36271, 36272, 36274, 36275, 36278, 36279, 36281, 36282, 36284, 36287, 36288, 36290, 36291, 36292, 36294, 36297, 36298, 36300, 36302, 36303, 36304, 36310, 36312, 36313, 36316, 36317, 36319, 36320, 36323, 36324, 36328, 36330, 36331, 36332, 36334, 36336, 36337, 36338, 36340, 36341, 36342, 36345, 36349, 36350, 36352, 36356, 36357, 36358, 36359, 36360, 36365, 36366, 36367, 36368, 36369, 36373, 36375, 36376, 36379, 36385, 36388, 36389, 36390, 36391, 36392, 36394, 36399, 36401, 36405, 36406, 36407, 36411, 36413, 36420, 36422, 36425, 36426, 36427, 36428, 36429, 36430, 36431, 36434, 36444, 36445, 36450, 36451, 36453, 36454, 36455, 36457, 36458, 36460, 36461, 36463, 36466, 36467, 36469, 36473, 36474, 36475, 36477, 36478, 36479, 36481, 36483, 36486, 36488, 36489, 36492, 36493, 36497, 36498, 36499, 36502, 36503, 36507, 36511, 36514, 36515, 36517, 36518, 36519, 36521, 36522, 36523, 36524, 36528, 36529, 36531, 36532, 36533, 36534, 36535, 36536, 36537, 36539, 36541, 36542, 36543, 36544, 36545, 36546, 36548, 36549, 36551, 36552, 36555, 36557, 36559, 36560, 36561, 36562, 36563, 36564, 36566, 36567, 36569, 36570, 36571, 36572, 36573, 36574, 36578, 36580, 36581, 36584, 36587, 36588, 36592, 36594, 36595, 36598, 36599, 36600, 36605, 36609, 36610, 36611, 36612, 36613, 36616, 36617, 36618, 36619, 36621, 36624, 36626, 36627, 36634, 36636, 36637, 36638, 36640, 36645, 36651, 36653, 36655, 36658, 36660, 36664, 36665, 36666, 36667, 36668, 36669, 36670, 36671, 36673, 36674, 36675, 36676, 36677, 36678, 36679, 36682, 36685, 36686, 36689, 36690, 36691, 36692, 36694, 36696, 36697, 36699, 36700, 36701, 36704, 36708, 36709, 36713, 36716, 36717, 36718, 36719, 36720, 36721, 36723, 36727, 36728, 36729, 36731, 36742, 36743, 36748, 36750, 36752, 36758, 36760, 36763, 36764, 36769, 36770, 36771, 36772, 36773, 36774, 36779, 36780, 36781, 36784, 36785, 36797, 36798, 36805, 36807, 36809, 36811, 36812, 36815, 36816, 36818, 36819, 36821, 36824, 36825, 36826, 36827, 36828, 36829, 36830, 36832, 36836, 36839, 36840, 36841, 36843, 36847, 36849, 36852, 36853, 36854, 36857, 36858, 36861, 36866, 36867, 36868, 36869, 36870, 36871, 36874, 36875, 36876, 36879, 36881, 36886, 36887, 36889, 36890, 36891, 36893, 36895, 36897, 36898, 36899, 36902, 36904, 36906, 36910, 36913, 36917, 36921, 36923, 36924, 36925, 36926, 36928, 36931, 36934, 36935, 36936, 36937, 36938, 36939, 36940, 36945, 36946, 36947, 36948, 36949, 36951, 36953, 36957, 36958, 36959, 36961, 36963, 36965, 36967, 36969, 36971, 36972, 36973, 36974, 36975, 36976, 36979, 36981, 36982, 36984, 36985, 36986, 36989, 36991, 36992, 36994, 36996, 37000, 37001, 37002, 37006, 37009, 37011, 37012, 37013, 37015, 37016, 37023, 37024, 37025, 37027, 37028, 37030, 37031, 37032, 37033, 37034, 37035, 37037, 37039, 37040, 37041, 37042, 37046, 37050, 37052, 37054, 37055, 37061, 37063, 37064, 37066, 37067, 37073, 37081, 37084, 37086, 37087, 37089, 37091, 37093, 37094, 37096, 37097, 37098, 37100, 37101, 37102, 37103, 37105, 37106, 37110, 37111, 37112, 37113, 37116, 37117, 37118, 37119, 37120, 37121, 37124, 37128, 37129, 37130, 37134, 37135, 37136, 37138, 37140, 37141, 37142, 37145, 37148, 37149, 37153, 37156, 37160, 37163, 37164, 37166, 37168, 37169, 37171, 37172, 37174, 37175, 37177, 37178, 37179, 37180, 37181, 37182, 37183, 37184, 37188, 37192, 37193, 37204, 37209, 37210, 37214, 37215, 37216, 37218, 37219, 37220, 37221, 37222, 37223, 37224, 37228, 37230, 37231, 37234, 37235, 37239, 37240, 37241, 37242, 37244, 37245, 37246, 37247, 37248, 37249, 37251, 37254, 37255, 37256, 37262, 37263, 37264, 37265, 37266, 37268, 37269, 37272, 37273, 37275, 37277, 37278, 37279, 37285, 37287, 37288, 37289, 37293, 37294, 37298, 37299, 37301, 37302, 37304, 37305, 37307, 37309, 37311, 37316, 37317, 37319, 37321, 37322, 37323, 37326, 37331, 37332, 37333, 37336, 37338, 37339, 37340, 37342, 37343, 37345, 37347, 37349, 37350, 37351, 37354, 37355, 37356, 37357, 37358, 37359, 37361, 37363, 37365, 37366, 37367, 37369, 37371, 37373, 37379, 37381, 37383, 37384, 37385, 37387, 37390, 37391, 37392, 37394, 37395, 37396, 37397, 37399, 37401, 37402, 37404, 37405, 37406, 37411, 37412, 37413, 37415, 37416, 37417, 37419, 37420, 37421, 37422, 37423, 37424, 37427, 37428, 37431, 37432, 37436, 37437, 37438, 37439, 37440, 37441, 37442, 37446, 37447, 37448, 37449, 37450, 37451, 37453, 37455, 37456, 37458, 37461, 37464, 37465, 37467, 37470, 37471, 37473, 37475, 37478, 37480, 37482, 37484, 37485, 37489, 37491, 37493, 37495, 37496, 37497, 37498, 37500, 37502, 37508, 37509, 37510, 37512, 37513, 37519, 37521, 37522, 37526, 37527, 37528, 37530, 37534, 37536, 37542, 37544, 37548, 37549, 37551, 37552, 37553, 37554, 37555, 37559, 37560, 37563, 37564, 37566, 37568, 37572, 37574, 37580, 37582, 37587, 37592, 37593, 37594, 37595, 37596, 37599, 37601, 37603, 37604, 37605, 37608, 37609, 37611, 37614, 37615, 37616, 37620, 37624, 37625, 37627, 37628, 37629, 37630, 37634, 37635, 37638, 37640, 37644, 37645, 37646, 37648, 37653, 37654, 37655, 37656, 37657, 37660, 37661, 37664, 37670, 37677, 37678, 37680, 37684, 37687, 37688, 37690, 37691, 37693, 37695, 37697, 37699, 37702, 37707, 37709, 37710, 37711, 37713, 37714, 37715, 37716, 37717, 37720, 37726, 37727, 37728, 37734, 37738, 37740, 37741, 37743, 37744, 37745, 37747, 37748, 37750, 37751, 37752, 37756, 37757, 37762, 37763, 37764, 37766, 37767, 37769, 37773, 37774, 37778, 37779, 37783, 37784, 37785, 37786, 37787, 37788, 37792, 37793, 37794, 37796, 37797, 37798, 37801, 37802, 37803, 37805, 37807, 37809, 37813, 37815, 37816, 37819, 37820, 37821, 37822, 37823, 37824, 37829, 37832, 37833, 37835, 37841, 37842, 37844, 37845, 37846, 37849, 37858, 37860, 37861, 37863, 37866, 37870, 37871, 37872, 37873, 37874, 37875, 37879, 37881, 37882, 37883, 37884, 37885, 37886, 37888, 37892, 37893, 37894, 37895, 37896, 37898, 37899, 37901, 37903, 37904, 37905, 37906, 37910, 37912, 37913, 37914, 37918, 37921, 37923, 37925, 37926, 37927, 37928, 37929, 37931, 37932, 37933, 37934, 37935, 37936, 37940, 37944, 37945, 37949, 37951, 37952, 37953, 37955, 37957, 37959, 37967, 37968, 37971, 37972, 37973, 37975, 37976, 37977, 37984, 37985, 37986, 37987, 37994, 37997, 37999, 38002, 38009, 38010, 38011, 38012, 38013, 38014, 38017, 38019, 38020, 38021, 38022, 38023, 38024, 38026, 38029, 38031, 38033, 38036, 38037, 38038, 38039, 38040, 38041, 38042, 38043, 38047, 38048, 38049, 38052, 38053, 38057, 38058, 38059, 38060, 38061, 38068, 38070, 38075, 38079, 38080, 38081, 38082, 38083, 38085, 38086, 38087, 38089, 38090, 38092, 38095, 38097, 38098, 38099, 38100, 38101, 38103, 38104, 38107, 38109, 38111, 38112, 38113, 38114, 38115, 38118, 38125, 38126, 38127, 38128, 38129, 38130, 38132, 38133, 38135, 38136, 38138, 38140, 38141, 38144, 38146, 38147, 38148, 38149, 38150, 38151, 38153, 38155, 38158, 38160, 38162, 38163, 38167, 38168, 38170, 38171, 38172, 38176, 38177, 38178, 38179, 38181, 38182, 38183, 38184, 38185, 38189, 38190, 38194, 38195, 38197, 38199, 38205, 38208, 38213, 38215, 38217, 38219, 38220, 38222, 38224, 38225, 38227, 38229, 38231, 38232, 38233, 38234, 38236, 38237, 38238, 38244, 38246, 38247, 38248, 38250, 38251, 38252, 38253, 38254, 38256, 38257, 38260, 38261, 38262, 38264, 38265, 38266, 38268, 38269, 38270, 38272, 38275, 38277, 38278, 38282, 38284, 38285, 38286, 38287, 38289, 38292, 38293, 38295, 38296, 38297, 38298, 38300, 38301, 38302, 38304, 38305, 38306, 38308, 38309, 38310, 38314, 38315, 38317, 38318, 38323, 38325, 38326, 38327, 38328, 38329, 38330, 38332, 38334, 38336, 38337, 38340, 38341, 38342, 38344, 38345, 38346, 38348, 38350, 38351, 38352, 38353, 38354, 38356, 38358, 38359, 38360, 38361, 38362, 38363, 38364, 38365, 38366, 38367, 38371, 38372, 38373, 38374, 38375, 38376, 38377, 38379, 38380, 38382, 38383, 38384, 38387, 38389, 38390, 38391, 38393, 38394, 38397, 38398, 38401, 38402, 38403, 38407, 38408, 38411, 38412, 38413, 38416, 38417, 38418, 38419, 38420, 38421, 38422, 38424, 38425, 38426, 38427, 38428, 38429, 38430, 38431, 38433, 38435, 38436, 38438, 38440, 38442, 38444, 38445, 38446, 38447, 38448, 38449, 38450, 38452, 38453, 38458, 38459, 38460, 38461, 38462, 38463, 38465, 38466, 38468, 38470, 38472, 38473, 38474, 38475, 38479, 38480, 38485, 38486, 38487, 38489, 38490, 38491, 38493, 38494, 38495, 38497, 38498, 38499, 38500, 38501, 38502, 38505, 38506, 38507, 38508, 38509, 38510, 38511, 38512, 38513, 38514, 38515, 38516, 38517, 38518, 38520, 38521, 38522, 38523, 38524, 38525, 38528, 38529, 38532, 38534, 38535, 38536, 38537, 38539, 38540, 38543, 38545, 38546, 38548, 38549, 38550, 38551, 38552, 38553, 38554, 38556, 38557, 38558, 38559, 38560, 38561, 38562, 38563, 38564, 38566, 38567, 38568, 38569, 38572, 38575, 38576, 38577, 38578, 38579, 38581, 38582, 38583, 38584, 38585, 38587, 38589, 38590, 38591, 38592, 38593, 38595, 38596, 38597, 38598, 38602, 38604, 38607, 38608, 38610, 38611, 38612, 38614, 38615, 38616, 38619, 38620, 38621, 38623, 38624, 38626, 38627, 38631, 38633, 38635, 38637, 38639, 38641, 38645, 38647, 38650, 38652, 38655, 38657, 38658, 38659, 38662, 38663, 38664, 38665, 38666, 38667, 38670, 38673, 38674, 38678, 38682, 38683, 38684, 38685, 38686, 38687, 38688, 38689, 38691, 38692, 38694, 38695, 38696, 38698, 38699, 38702, 38705, 38707, 38708, 38710, 38711, 38713, 38714, 38715, 38716, 38717, 38719, 38721, 38724, 38726, 38729, 38731, 38733, 38735, 38738, 38739, 38742, 38743, 38745, 38748, 38749, 38750, 38751, 38755, 38757, 38758, 38759, 38760, 38761, 38764, 38765, 38766, 38767, 38769, 38770, 38772, 38775, 38776, 38777, 38778, 38780, 38782, 38783, 38786, 38787, 38788, 38791, 38793, 38795, 38798, 38799, 38802, 38803, 38804, 38805, 38808, 38813, 38814, 38815, 38816, 38817, 38819, 38820, 38821, 38822, 38823, 38824, 38827, 38828, 38829, 38830, 38832, 38833, 38834, 38835, 38837, 38838, 38842, 38844, 38845, 38846, 38848, 38850, 38852, 38855]\n"
          ]
        }
      ],
      "source": [
        "#access ondices of nan rows in a dataframe\n",
        "#only \"full answer column\" have nan rows in dataframe\n",
        "a=df[df['full_answer'].isnull()].index.tolist()\n",
        "print(a)"
      ]
    },
    {
      "cell_type": "code",
      "execution_count": null,
      "metadata": {
        "colab": {
          "base_uri": "https://localhost:8080/"
        },
        "id": "T9GkawunX1Yp",
        "outputId": "a5a8466f-6565-44b0-ef4e-9256a587f0a8"
      },
      "outputs": [
        {
          "name": "stdout",
          "output_type": "stream",
          "text": [
            "38857\n"
          ]
        }
      ],
      "source": [
        "print(len(df))"
      ]
    },
    {
      "cell_type": "code",
      "execution_count": null,
      "metadata": {
        "colab": {
          "base_uri": "https://localhost:8080/"
        },
        "id": "1oPWi6h9YAG7",
        "outputId": "8c7b869b-f96a-4d0e-fde1-d1435a8d47ba"
      },
      "outputs": [
        {
          "name": "stdout",
          "output_type": "stream",
          "text": [
            "Mounted at /content/drive\n"
          ]
        }
      ],
      "source": [
        "from google.colab import drive\n",
        "\n",
        "drive.mount('/content/drive')"
      ]
    },
    {
      "cell_type": "code",
      "execution_count": null,
      "metadata": {
        "id": "ZTsiBsrRYFZR"
      },
      "outputs": [],
      "source": [
        "path = '/content/drive/My Drive/Parsa/prepared_df_for_embedding.csv'\n",
        "\n",
        "with open(path, 'w', encoding = 'utf-8-sig') as f:\n",
        "  df.to_csv(f)"
      ]
    },
    {
      "cell_type": "markdown",
      "metadata": {
        "id": "N7o_MCZjWCbA"
      },
      "source": [
        "create prper dataframe and concatenate \"queation\" & \"full answer\" columns in one column that named \"q&a\" column"
      ]
    },
    {
      "cell_type": "code",
      "execution_count": null,
      "metadata": {
        "colab": {
          "base_uri": "https://localhost:8080/"
        },
        "id": "6QNqJP9VYxUh",
        "outputId": "f7b7d2a3-acb4-46e5-c04f-2e4f6b789b05"
      },
      "outputs": [
        {
          "name": "stdout",
          "output_type": "stream",
          "text": [
            "Mon Feb 28 06:48:51 2022       \n",
            "+-----------------------------------------------------------------------------+\n",
            "| NVIDIA-SMI 460.32.03    Driver Version: 460.32.03    CUDA Version: 11.2     |\n",
            "|-------------------------------+----------------------+----------------------+\n",
            "| GPU  Name        Persistence-M| Bus-Id        Disp.A | Volatile Uncorr. ECC |\n",
            "| Fan  Temp  Perf  Pwr:Usage/Cap|         Memory-Usage | GPU-Util  Compute M. |\n",
            "|                               |                      |               MIG M. |\n",
            "|===============================+======================+======================|\n",
            "|   0  Tesla K80           Off  | 00000000:00:04.0 Off |                    0 |\n",
            "| N/A   47C    P8    29W / 149W |      0MiB / 11441MiB |      0%      Default |\n",
            "|                               |                      |                  N/A |\n",
            "+-------------------------------+----------------------+----------------------+\n",
            "                                                                               \n",
            "+-----------------------------------------------------------------------------+\n",
            "| Processes:                                                                  |\n",
            "|  GPU   GI   CI        PID   Type   Process name                  GPU Memory |\n",
            "|        ID   ID                                                   Usage      |\n",
            "|=============================================================================|\n",
            "|  No running processes found                                                 |\n",
            "+-----------------------------------------------------------------------------+\n"
          ]
        }
      ],
      "source": [
        "!nvidia-smi"
      ]
    },
    {
      "cell_type": "code",
      "execution_count": null,
      "metadata": {
        "colab": {
          "base_uri": "https://localhost:8080/"
        },
        "id": "8Jzu3KzQavQ3",
        "outputId": "7fbf83e5-31b3-4791-8cc6-b25a3fc59663"
      },
      "outputs": [
        {
          "data": {
            "text/plain": [
              "True"
            ]
          },
          "execution_count": 2,
          "metadata": {},
          "output_type": "execute_result"
        }
      ],
      "source": [
        "import torch\n",
        "torch.cuda.is_available()\n",
        "# Output would be True if Pytorch is using GPU otherwise it would be False."
      ]
    },
    {
      "cell_type": "code",
      "execution_count": null,
      "metadata": {
        "colab": {
          "base_uri": "https://localhost:8080/"
        },
        "id": "K2uJbDdZayuR",
        "outputId": "03378249-1f3e-49ad-c79b-ea57d0434487"
      },
      "outputs": [
        {
          "name": "stdout",
          "output_type": "stream",
          "text": [
            "device: cuda:0\n",
            "CUDA is available!  Training on GPU ...\n"
          ]
        }
      ],
      "source": [
        "#check if gpu is on\n",
        "device = torch.device(\"cuda:0\" if torch.cuda.is_available() else \"cpu\")\n",
        "print(f'device: {device}')\n",
        "\n",
        "train_on_gpu = torch.cuda.is_available()\n",
        "\n",
        "if not train_on_gpu:\n",
        "    print('CUDA is not available.  Training on CPU ...')\n",
        "else:\n",
        "    print('CUDA is available!  Training on GPU ...')"
      ]
    },
    {
      "cell_type": "code",
      "execution_count": null,
      "metadata": {
        "colab": {
          "base_uri": "https://localhost:8080/"
        },
        "id": "f7ZiI7fFa141",
        "outputId": "45b9e592-71e9-4e12-c0f3-28b47f5cf5b3"
      },
      "outputs": [
        {
          "name": "stdout",
          "output_type": "stream",
          "text": [
            "Mon Feb 28 06:49:16 2022       \n",
            "+-----------------------------------------------------------------------------+\n",
            "| NVIDIA-SMI 460.32.03    Driver Version: 460.32.03    CUDA Version: 11.2     |\n",
            "|-------------------------------+----------------------+----------------------+\n",
            "| GPU  Name        Persistence-M| Bus-Id        Disp.A | Volatile Uncorr. ECC |\n",
            "| Fan  Temp  Perf  Pwr:Usage/Cap|         Memory-Usage | GPU-Util  Compute M. |\n",
            "|                               |                      |               MIG M. |\n",
            "|===============================+======================+======================|\n",
            "|   0  Tesla K80           Off  | 00000000:00:04.0 Off |                    0 |\n",
            "| N/A   46C    P8    29W / 149W |      3MiB / 11441MiB |      0%      Default |\n",
            "|                               |                      |                  N/A |\n",
            "+-------------------------------+----------------------+----------------------+\n",
            "                                                                               \n",
            "+-----------------------------------------------------------------------------+\n",
            "| Processes:                                                                  |\n",
            "|  GPU   GI   CI        PID   Type   Process name                  GPU Memory |\n",
            "|        ID   ID                                                   Usage      |\n",
            "|=============================================================================|\n",
            "|  No running processes found                                                 |\n",
            "+-----------------------------------------------------------------------------+\n"
          ]
        }
      ],
      "source": [
        "#clear memory\n",
        "import torch, gc\n",
        "\n",
        "gc.collect()\n",
        "torch.cuda.empty_cache()\n",
        "\n",
        "!nvidia-smi"
      ]
    },
    {
      "cell_type": "code",
      "execution_count": null,
      "metadata": {
        "colab": {
          "base_uri": "https://localhost:8080/"
        },
        "id": "lXDye6ABbFKl",
        "outputId": "f79ebfdc-1de0-4053-d34a-956f7faa9694"
      },
      "outputs": [
        {
          "name": "stdout",
          "output_type": "stream",
          "text": [
            "\u001b[K     |████████████████████████████████| 79 kB 3.6 MB/s \n",
            "\u001b[K     |████████████████████████████████| 3.5 MB 11.5 MB/s \n",
            "\u001b[K     |████████████████████████████████| 1.2 MB 45.2 MB/s \n",
            "\u001b[K     |████████████████████████████████| 67 kB 4.7 MB/s \n",
            "\u001b[K     |████████████████████████████████| 6.8 MB 35.1 MB/s \n",
            "\u001b[K     |████████████████████████████████| 895 kB 46.2 MB/s \n",
            "\u001b[K     |████████████████████████████████| 596 kB 40.9 MB/s \n",
            "\u001b[?25h  Building wheel for sentence-transformers (setup.py) ... \u001b[?25l\u001b[?25hdone\n",
            "  Building wheel for wikipedia-api (setup.py) ... \u001b[?25l\u001b[?25hdone\n",
            "\u001b[K     |████████████████████████████████| 316 kB 5.3 MB/s \n",
            "\u001b[K     |████████████████████████████████| 233 kB 39.4 MB/s \n",
            "\u001b[K     |████████████████████████████████| 1.4 MB 42.1 MB/s \n",
            "\u001b[?25h  Building wheel for nltk (setup.py) ... \u001b[?25l\u001b[?25hdone\n",
            "  Building wheel for libwapiti (setup.py) ... \u001b[?25l\u001b[?25hdone\n",
            "\u001b[K     |████████████████████████████████| 53 kB 1.4 MB/s \n",
            "\u001b[K     |████████████████████████████████| 174 kB 10.4 MB/s \n",
            "\u001b[K     |████████████████████████████████| 235 kB 41.1 MB/s \n",
            "\u001b[?25h  Building wheel for emoji (setup.py) ... \u001b[?25l\u001b[?25hdone\n"
          ]
        }
      ],
      "source": [
        "!pip install -qU sentence-transformers\n",
        "!pip install -qU wikipedia-api\n",
        "!pip install -qU hazm\n",
        "!pip install -qU clean-text[gpl]\n",
        "!pip install -qU emoji"
      ]
    },
    {
      "cell_type": "code",
      "execution_count": null,
      "metadata": {
        "id": "Fr6QkbNJbIVQ"
      },
      "outputs": [],
      "source": [
        "!mkdir resources\n",
        "!wget -q \"https://github.com/sobhe/hazm/releases/download/v0.5/resources-0.5.zip\" -P resources\n",
        "!unzip -qq resources/resources-0.5.zip -d resources"
      ]
    },
    {
      "cell_type": "code",
      "execution_count": null,
      "metadata": {
        "colab": {
          "base_uri": "https://localhost:8080/"
        },
        "id": "EnrZKyjYbKxj",
        "outputId": "94e7b620-818b-4781-8119-db8314db8e2e"
      },
      "outputs": [
        {
          "name": "stdout",
          "output_type": "stream",
          "text": [
            "rm: cannot remove 'preprocessing.py': No such file or directory\n",
            "rm: cannot remove 'utils.py': No such file or directory\n",
            "Cloning into '/content/preproc'...\n",
            "remote: Enumerating objects: 7, done.\u001b[K\n",
            "remote: Total 7 (delta 0), reused 0 (delta 0), pack-reused 7\u001b[K\n",
            "Unpacking objects: 100% (7/7), done.\n"
          ]
        }
      ],
      "source": [
        "!rm -rf /content/4ccae468eb73bf6c4f4de3075ddb5336\n",
        "!rm -rf /content/preproc\n",
        "!rm preprocessing.py utils.py\n",
        "!mkdir -p /content/preproc\n",
        "!git clone https://gist.github.com/4ccae468eb73bf6c4f4de3075ddb5336.git /content/preproc/\n",
        "!mv /content/preproc/* /content/\n",
        "!rm -rf /content/preproc"
      ]
    },
    {
      "cell_type": "code",
      "execution_count": null,
      "metadata": {
        "id": "jRxawkNXbOuk"
      },
      "outputs": [],
      "source": [
        "from transformers import BertConfig, BertTokenizer\n",
        "\n",
        "from preprocessing import cleaning\n",
        "from IPython import display\n",
        "\n",
        "import numpy as np\n",
        "import pandas as pd\n",
        "\n",
        "import hazm\n",
        "import requests\n",
        "import time\n",
        "\n",
        "import torch\n",
        "from sentence_transformers import models, SentenceTransformer, util\n",
        "from sklearn.cluster import KMeans"
      ]
    },
    {
      "cell_type": "code",
      "execution_count": null,
      "metadata": {
        "id": "Ne8ZRORJbR_l"
      },
      "outputs": [],
      "source": [
        "def rtl_print(outputs, font_size=\"15px\", n_to_br=False):\n",
        "    outputs = outputs if isinstance(outputs, list) else [outputs]\n",
        "    if n_to_br:\n",
        "        outputs = [output.replace('\\n', '<br/>') for output in outputs]\n",
        "\n",
        "    outputs = [f'<p style=\"text-align: right; direction: rtl; margin-right: 10px; font-size: {font_size};\">{output}</p>' for output in outputs]\n",
        "    display.display(display.HTML(' '.join(outputs)))\n",
        "\n",
        "\n",
        "def load_st_model(model_name_or_path):\n",
        "    word_embedding_model = models.Transformer(model_name_or_path)\n",
        "    pooling_model = models.Pooling(\n",
        "        word_embedding_model.get_word_embedding_dimension(),\n",
        "        pooling_mode_mean_tokens=True,\n",
        "        pooling_mode_cls_token=False,\n",
        "        pooling_mode_max_tokens=False)\n",
        "\n",
        "    model = SentenceTransformer(modules=[word_embedding_model, pooling_model])\n",
        "    return model"
      ]
    },
    {
      "cell_type": "code",
      "execution_count": null,
      "metadata": {
        "colab": {
          "base_uri": "https://localhost:8080/",
          "height": 177,
          "referenced_widgets": [
            "f0f46a1743bb48e19efd916dd0aa6e86",
            "efd3ffbeecbd4866af4550ddb835dde1",
            "eba8dda6a66948869ad31ff003ab0323",
            "455326caf9234ae08cd43d3d86073485",
            "9616ff8460ad4a7eba0dc47efa8676e7",
            "3be1799486fd4c789b85e79e55ba85a2",
            "e8fe8597f4f84f3ca4bbf4cefa863f73",
            "fd24c13f576f4962af2328ec0b2fe81b",
            "860693383d214b89ab666c7bb4b8b620",
            "52f848ac17974c64862fc9bf02170c96",
            "c2778e5f08034db882907558a2018197",
            "20c1c68fe1c64617b74f4d7a5849e5f7",
            "b1ba8359de0a4a108fa5b5e147e27991",
            "513fb435c889474ab020328d450ae49c",
            "bce666c459574361838ce7d4a1bcab61",
            "8cc714cc0cda47d48d0fb35a118d053e",
            "61e9a4237c1c4dc1915e440c77820cde",
            "f2327b5c3b944b4bbf356651715d380f",
            "e7967f7b1b3f43deb505428bebdfb5cd",
            "0cda9dc9e94c4f8b9d12bca572faa55c",
            "1cb70e0b45274645ac799786b300a0f2",
            "5a011db3fa2e429c8880267733215d1a",
            "0e5770b1df5c44d88a60c9890696eb41",
            "ace0cfa41b534008b6d1312a20dfd861",
            "ccd558c7737044b7ad3ba52fdb0f7d56",
            "0d4732bea0274566aee7d88a7c864f3d",
            "4757054611c047e292eec74c61dc502c",
            "4bb82a2e291f403da1faec67f2558cd6",
            "072ec52d937d46048e005117708209c6",
            "ff93cfd61e3a43888e7b6a0b5d2054a7",
            "bff7a444929f4fb8854a0e39b9ff3716",
            "e79a5db167a44f69adcf1e555039deca",
            "c9f72b9aea094efcbf213ea34257199e",
            "8fdf01cfafb642d38e9b7dae2994f205",
            "aac918b1ee3c42edaacdae4f33019f29",
            "846504fdde2e414a9b900b816d4c4eca",
            "acf05dce2b4e4f1885d7faab53247e6a",
            "d7b4350e471e46c5b2823e4c24e8504b",
            "896092a5f3774be6aad41379edfb8ef3",
            "03312975ef88458faab9631e4cc29b25",
            "1738f68af6ed4a128c171bc8a280b384",
            "eca28dab45d44533b959efdfab523ada",
            "422ca468a1444a558d2cdfc294d1b71a",
            "4172be7192ff494da2ae594aa9559c54",
            "526f38deb6fe42cc8887a1804cccede6",
            "9f29f2f188194936be004e07fd6fcb9a",
            "4ac3baae4c494589bb7663939e5feec3",
            "f93d62d228e34338ad677cd3bbe9b521",
            "967eb41e3b3140798578a6448248b8ab",
            "c35316c14d034309b79e583197dfb847",
            "d273359694c94845b53b485ba87ff051",
            "dbd0fb51ee7b4d92a8786adaa72e77a8",
            "0e4ccd07df6043aa9b0eb24b238202cf",
            "c6a7db1e6b85419b9768f215075d92d2",
            "7b827b2338694629b66d8e69088b96b2"
          ]
        },
        "id": "qW8KotXva7hP",
        "outputId": "a000721b-36eb-453e-da3b-dc81addc84b8"
      },
      "outputs": [
        {
          "data": {
            "application/vnd.jupyter.widget-view+json": {
              "model_id": "f0f46a1743bb48e19efd916dd0aa6e86",
              "version_major": 2,
              "version_minor": 0
            },
            "text/plain": [
              "Downloading:   0%|          | 0.00/519 [00:00<?, ?B/s]"
            ]
          },
          "metadata": {},
          "output_type": "display_data"
        },
        {
          "data": {
            "application/vnd.jupyter.widget-view+json": {
              "model_id": "20c1c68fe1c64617b74f4d7a5849e5f7",
              "version_major": 2,
              "version_minor": 0
            },
            "text/plain": [
              "Downloading:   0%|          | 0.00/621M [00:00<?, ?B/s]"
            ]
          },
          "metadata": {},
          "output_type": "display_data"
        },
        {
          "data": {
            "application/vnd.jupyter.widget-view+json": {
              "model_id": "0e5770b1df5c44d88a60c9890696eb41",
              "version_major": 2,
              "version_minor": 0
            },
            "text/plain": [
              "Downloading:   0%|          | 0.00/404 [00:00<?, ?B/s]"
            ]
          },
          "metadata": {},
          "output_type": "display_data"
        },
        {
          "data": {
            "application/vnd.jupyter.widget-view+json": {
              "model_id": "8fdf01cfafb642d38e9b7dae2994f205",
              "version_major": 2,
              "version_minor": 0
            },
            "text/plain": [
              "Downloading:   0%|          | 0.00/1.14M [00:00<?, ?B/s]"
            ]
          },
          "metadata": {},
          "output_type": "display_data"
        },
        {
          "data": {
            "application/vnd.jupyter.widget-view+json": {
              "model_id": "526f38deb6fe42cc8887a1804cccede6",
              "version_major": 2,
              "version_minor": 0
            },
            "text/plain": [
              "Downloading:   0%|          | 0.00/112 [00:00<?, ?B/s]"
            ]
          },
          "metadata": {},
          "output_type": "display_data"
        }
      ],
      "source": [
        "# Load the Sentence-Transformer\n",
        "embedder = load_st_model('m3hrdadfi/bert-fa-base-uncased-wikinli-mean-tokens')\n"
      ]
    },
    {
      "cell_type": "code",
      "execution_count": null,
      "metadata": {
        "colab": {
          "base_uri": "https://localhost:8080/"
        },
        "id": "G5gwJ12oa-iw",
        "outputId": "8c2ba2c9-418a-46a2-dbe0-62b8d6fe6a2d"
      },
      "outputs": [
        {
          "name": "stdout",
          "output_type": "stream",
          "text": [
            "{\n",
            "  \"_name_or_path\": \"HooshvareLab/bert-fa-base-uncased\",\n",
            "  \"architectures\": [\n",
            "    \"BertModel\"\n",
            "  ],\n",
            "  \"attention_probs_dropout_prob\": 0.1,\n",
            "  \"classifier_dropout\": null,\n",
            "  \"gradient_checkpointing\": false,\n",
            "  \"hidden_act\": \"gelu\",\n",
            "  \"hidden_dropout_prob\": 0.1,\n",
            "  \"hidden_size\": 768,\n",
            "  \"initializer_range\": 0.02,\n",
            "  \"intermediate_size\": 3072,\n",
            "  \"layer_norm_eps\": 1e-12,\n",
            "  \"max_position_embeddings\": 512,\n",
            "  \"model_type\": \"bert\",\n",
            "  \"num_attention_heads\": 12,\n",
            "  \"num_hidden_layers\": 12,\n",
            "  \"pad_token_id\": 0,\n",
            "  \"position_embedding_type\": \"absolute\",\n",
            "  \"transformers_version\": \"4.16.2\",\n",
            "  \"type_vocab_size\": 2,\n",
            "  \"use_cache\": true,\n",
            "  \"vocab_size\": 100000\n",
            "}\n",
            "\n"
          ]
        }
      ],
      "source": [
        "#confif bert model\n",
        "config = BertConfig.from_pretrained(\n",
        "    'm3hrdadfi/bert-fa-base-uncased-wikinli-mean-tokens', **{\n",
        "\n",
        "    })\n",
        "print(config.to_json_string())"
      ]
    },
    {
      "cell_type": "code",
      "execution_count": null,
      "metadata": {
        "colab": {
          "base_uri": "https://localhost:8080/"
        },
        "id": "ffCdYnZ4bXzt",
        "outputId": "c4d70154-d717-4478-997d-f22886928a8a"
      },
      "outputs": [
        {
          "name": "stdout",
          "output_type": "stream",
          "text": [
            "Mounted at /content/gdrive\n"
          ]
        }
      ],
      "source": [
        "#access google drive\n",
        "from google.colab import drive\n",
        "drive.mount('/content/gdrive')"
      ]
    },
    {
      "cell_type": "code",
      "execution_count": null,
      "metadata": {
        "colab": {
          "base_uri": "https://localhost:8080/"
        },
        "id": "Uy8I96rFbSJJ",
        "outputId": "a7af3a38-88c7-434a-a3c0-48ab564d5a24"
      },
      "outputs": [
        {
          "name": "stdout",
          "output_type": "stream",
          "text": [
            "/content/gdrive/My Drive/Parsa\n",
            "creating_data_frame_log_0.ipynb  export_dataframe7.csv\n",
            "creating_data_frame_v_0.ipynb\t export_dataframe8.csv\n",
            "df_from_elk.ipynb\t\t export_dataframe9.csv\n",
            "export_dataframe10.csv\t\t export_dataframefa.csv\n",
            "export_dataframe11.csv\t\t find_optimal_num_clusters.ipynb\n",
            "export_dataframe12.csv\t\t nba.csv\n",
            "export_dataframe13.csv\t\t parsa_content.ipynb\n",
            "export_dataframe14.csv\t\t prepared_df_for_embedding.csv\n",
            "export_dataframe15.csv\t\t q_ar_id.csv\n",
            "export_dataframe16.csv\t\t q_en_id.csv\n",
            "export_dataframe17.csv\t\t q_fa_id.csv\n",
            "export_dataframe18.csv\t\t q_tr_id.csv\n",
            "export_dataframe2.csv\t\t question_fa_embedding.ipynb\n",
            "export_dataframe3.csv\t\t reduction_q1.csv\n",
            "export_dataframe4.csv\t\t reduction_q.csv\n",
            "export_dataframe5.csv\t\t reduction_q.gsheet\n",
            "export_dataframe6.csv\t\t topic_extraction.ipynb\n"
          ]
        }
      ],
      "source": [
        "#access google drive\n",
        "%cd /content/gdrive/My\\ Drive/Parsa\n",
        "!ls"
      ]
    },
    {
      "cell_type": "code",
      "execution_count": null,
      "metadata": {
        "id": "lfG8lqrxb1Tf"
      },
      "outputs": [],
      "source": [
        "#creat data frame\n",
        "df = pd.read_csv('reduction_q1.csv')"
      ]
    },
    {
      "cell_type": "code",
      "execution_count": null,
      "metadata": {
        "colab": {
          "base_uri": "https://localhost:8080/",
          "height": 206
        },
        "id": "yIXBa2iTGwLq",
        "outputId": "7287cc20-7d5d-4fa2-eadb-ec968a70e890"
      },
      "outputs": [
        {
          "data": {
            "text/html": [
              "\n",
              "  <div id=\"df-0ed9902b-ad7e-48b9-b6e1-036a81470326\">\n",
              "    <div class=\"colab-df-container\">\n",
              "      <div>\n",
              "<style scoped>\n",
              "    .dataframe tbody tr th:only-of-type {\n",
              "        vertical-align: middle;\n",
              "    }\n",
              "\n",
              "    .dataframe tbody tr th {\n",
              "        vertical-align: top;\n",
              "    }\n",
              "\n",
              "    .dataframe thead th {\n",
              "        text-align: right;\n",
              "    }\n",
              "</style>\n",
              "<table border=\"1\" class=\"dataframe\">\n",
              "  <thead>\n",
              "    <tr style=\"text-align: right;\">\n",
              "      <th></th>\n",
              "      <th>Unnamed: 0</th>\n",
              "      <th>q&amp;a</th>\n",
              "      <th>q_fa_id</th>\n",
              "    </tr>\n",
              "  </thead>\n",
              "  <tbody>\n",
              "    <tr>\n",
              "      <th>0</th>\n",
              "      <td>0</td>\n",
              "      <td>بی حس یا بی هوش کردن مجرم قبل از قصاص ,در اعدا...</td>\n",
              "      <td>OdkpAn8B7wsuAN6febKj</td>\n",
              "    </tr>\n",
              "    <tr>\n",
              "      <th>1</th>\n",
              "      <td>1</td>\n",
              "      <td>عدم اطلاع شوهر از رجوع زن به بذل ,چنانچه در ع...</td>\n",
              "      <td>OtkpAn8B7wsuAN6ferID</td>\n",
              "    </tr>\n",
              "    <tr>\n",
              "      <th>2</th>\n",
              "      <td>2</td>\n",
              "      <td>قصاص عضو ضارب در صورت بهبودی عضو مضروب,حقّ قصا...</td>\n",
              "      <td>O9kpAn8B7wsuAN6ferIM</td>\n",
              "    </tr>\n",
              "    <tr>\n",
              "      <th>3</th>\n",
              "      <td>3</td>\n",
              "      <td>رجوع زن به مهریه و عدم توانایی پرداخت مهریه تو...</td>\n",
              "      <td>PNkpAn8B7wsuAN6ferJj</td>\n",
              "    </tr>\n",
              "    <tr>\n",
              "      <th>4</th>\n",
              "      <td>4</td>\n",
              "      <td>تملک ولی دم به اعضای بدن مجرم بعد از قصاص,ولىّ...</td>\n",
              "      <td>PdkpAn8B7wsuAN6ferJr</td>\n",
              "    </tr>\n",
              "  </tbody>\n",
              "</table>\n",
              "</div>\n",
              "      <button class=\"colab-df-convert\" onclick=\"convertToInteractive('df-0ed9902b-ad7e-48b9-b6e1-036a81470326')\"\n",
              "              title=\"Convert this dataframe to an interactive table.\"\n",
              "              style=\"display:none;\">\n",
              "        \n",
              "  <svg xmlns=\"http://www.w3.org/2000/svg\" height=\"24px\"viewBox=\"0 0 24 24\"\n",
              "       width=\"24px\">\n",
              "    <path d=\"M0 0h24v24H0V0z\" fill=\"none\"/>\n",
              "    <path d=\"M18.56 5.44l.94 2.06.94-2.06 2.06-.94-2.06-.94-.94-2.06-.94 2.06-2.06.94zm-11 1L8.5 8.5l.94-2.06 2.06-.94-2.06-.94L8.5 2.5l-.94 2.06-2.06.94zm10 10l.94 2.06.94-2.06 2.06-.94-2.06-.94-.94-2.06-.94 2.06-2.06.94z\"/><path d=\"M17.41 7.96l-1.37-1.37c-.4-.4-.92-.59-1.43-.59-.52 0-1.04.2-1.43.59L10.3 9.45l-7.72 7.72c-.78.78-.78 2.05 0 2.83L4 21.41c.39.39.9.59 1.41.59.51 0 1.02-.2 1.41-.59l7.78-7.78 2.81-2.81c.8-.78.8-2.07 0-2.86zM5.41 20L4 18.59l7.72-7.72 1.47 1.35L5.41 20z\"/>\n",
              "  </svg>\n",
              "      </button>\n",
              "      \n",
              "  <style>\n",
              "    .colab-df-container {\n",
              "      display:flex;\n",
              "      flex-wrap:wrap;\n",
              "      gap: 12px;\n",
              "    }\n",
              "\n",
              "    .colab-df-convert {\n",
              "      background-color: #E8F0FE;\n",
              "      border: none;\n",
              "      border-radius: 50%;\n",
              "      cursor: pointer;\n",
              "      display: none;\n",
              "      fill: #1967D2;\n",
              "      height: 32px;\n",
              "      padding: 0 0 0 0;\n",
              "      width: 32px;\n",
              "    }\n",
              "\n",
              "    .colab-df-convert:hover {\n",
              "      background-color: #E2EBFA;\n",
              "      box-shadow: 0px 1px 2px rgba(60, 64, 67, 0.3), 0px 1px 3px 1px rgba(60, 64, 67, 0.15);\n",
              "      fill: #174EA6;\n",
              "    }\n",
              "\n",
              "    [theme=dark] .colab-df-convert {\n",
              "      background-color: #3B4455;\n",
              "      fill: #D2E3FC;\n",
              "    }\n",
              "\n",
              "    [theme=dark] .colab-df-convert:hover {\n",
              "      background-color: #434B5C;\n",
              "      box-shadow: 0px 1px 3px 1px rgba(0, 0, 0, 0.15);\n",
              "      filter: drop-shadow(0px 1px 2px rgba(0, 0, 0, 0.3));\n",
              "      fill: #FFFFFF;\n",
              "    }\n",
              "  </style>\n",
              "\n",
              "      <script>\n",
              "        const buttonEl =\n",
              "          document.querySelector('#df-0ed9902b-ad7e-48b9-b6e1-036a81470326 button.colab-df-convert');\n",
              "        buttonEl.style.display =\n",
              "          google.colab.kernel.accessAllowed ? 'block' : 'none';\n",
              "\n",
              "        async function convertToInteractive(key) {\n",
              "          const element = document.querySelector('#df-0ed9902b-ad7e-48b9-b6e1-036a81470326');\n",
              "          const dataTable =\n",
              "            await google.colab.kernel.invokeFunction('convertToInteractive',\n",
              "                                                     [key], {});\n",
              "          if (!dataTable) return;\n",
              "\n",
              "          const docLinkHtml = 'Like what you see? Visit the ' +\n",
              "            '<a target=\"_blank\" href=https://colab.research.google.com/notebooks/data_table.ipynb>data table notebook</a>'\n",
              "            + ' to learn more about interactive tables.';\n",
              "          element.innerHTML = '';\n",
              "          dataTable['output_type'] = 'display_data';\n",
              "          await google.colab.output.renderOutput(dataTable, element);\n",
              "          const docLink = document.createElement('div');\n",
              "          docLink.innerHTML = docLinkHtml;\n",
              "          element.appendChild(docLink);\n",
              "        }\n",
              "      </script>\n",
              "    </div>\n",
              "  </div>\n",
              "  "
            ],
            "text/plain": [
              "   Unnamed: 0  ...               q_fa_id\n",
              "0           0  ...  OdkpAn8B7wsuAN6febKj\n",
              "1           1  ...  OtkpAn8B7wsuAN6ferID\n",
              "2           2  ...  O9kpAn8B7wsuAN6ferIM\n",
              "3           3  ...  PNkpAn8B7wsuAN6ferJj\n",
              "4           4  ...  PdkpAn8B7wsuAN6ferJr\n",
              "\n",
              "[5 rows x 3 columns]"
            ]
          },
          "execution_count": 15,
          "metadata": {},
          "output_type": "execute_result"
        }
      ],
      "source": [
        "df.head()"
      ]
    },
    {
      "cell_type": "code",
      "execution_count": null,
      "metadata": {
        "colab": {
          "base_uri": "https://localhost:8080/"
        },
        "id": "FWbk9_pGIuVU",
        "outputId": "46aaf0ec-359d-4e7c-86cc-be5eb0e30230"
      },
      "outputs": [
        {
          "name": "stdout",
          "output_type": "stream",
          "text": [
            "38857\n"
          ]
        }
      ],
      "source": [
        "print(len(df))"
      ]
    },
    {
      "cell_type": "code",
      "execution_count": null,
      "metadata": {
        "id": "VTLVivSBIfyN"
      },
      "outputs": [],
      "source": [
        "corpus = list(df[\"q&a\"])"
      ]
    },
    {
      "cell_type": "code",
      "execution_count": null,
      "metadata": {
        "colab": {
          "base_uri": "https://localhost:8080/"
        },
        "id": "Mv9unlz6I0hq",
        "outputId": "d811bd18-d013-4d03-e0da-201cfbc98a86"
      },
      "outputs": [
        {
          "name": "stdout",
          "output_type": "stream",
          "text": [
            "38857\n"
          ]
        }
      ],
      "source": [
        "print(len(corpus))"
      ]
    },
    {
      "cell_type": "code",
      "execution_count": null,
      "metadata": {
        "colab": {
          "base_uri": "https://localhost:8080/",
          "height": 49,
          "referenced_widgets": [
            "364dfc5ab4004e869e8b666262e4baed",
            "2394dddade3f4eafa5bef521aa068520",
            "311d339daec4434896263bd5b217afa4",
            "9cbca2ed31e14581a42abbdd6c37d98a",
            "de0d535409a543b790e9134043c1b223",
            "e13955d6c82146248b0f31c68385981f",
            "4498905ac5cc4d988bc014dc2a2aee40",
            "27af3f0739374c1390f92a82637dc0b3",
            "06aa94daa3ce465aa832cda68658613f",
            "c1f3dc7e525146c2873fe98d0a56ce3c",
            "6ce4445b90f4406e8619ff1e81ab6f7d"
          ]
        },
        "id": "Z6Y4biAzJAY2",
        "outputId": "34da8dba-85cc-4c9f-c181-304dc3258ed0"
      },
      "outputs": [
        {
          "data": {
            "application/vnd.jupyter.widget-view+json": {
              "model_id": "364dfc5ab4004e869e8b666262e4baed",
              "version_major": 2,
              "version_minor": 0
            },
            "text/plain": [
              "Batches:   0%|          | 0/1215 [00:00<?, ?it/s]"
            ]
          },
          "metadata": {},
          "output_type": "display_data"
        }
      ],
      "source": [
        "# Load the Sentence-Transformer\n",
        "embedder = load_st_model('m3hrdadfi/bert-fa-base-uncased-wikinli-mean-tokens')\n",
        "corpus_embeddings = embedder.encode(corpus, show_progress_bar=True)"
      ]
    },
    {
      "cell_type": "code",
      "execution_count": null,
      "metadata": {
        "id": "efsli9HqMjF5"
      },
      "outputs": [],
      "source": [
        "from sklearn.cluster import KMeans\n",
        "from sklearn import metrics\n",
        "from scipy.spatial.distance import cdist\n",
        "import numpy as np\n",
        "import matplotlib.pyplot as plt"
      ]
    },
    {
      "cell_type": "code",
      "execution_count": null,
      "metadata": {
        "colab": {
          "base_uri": "https://localhost:8080/"
        },
        "id": "oLcDkv6LMmru",
        "outputId": "e33c93f3-f1c7-479c-eeb8-e85956d1d40a"
      },
      "outputs": [
        {
          "name": "stdout",
          "output_type": "stream",
          "text": [
            "<class 'numpy.ndarray'>\n",
            "(38857, 768)\n"
          ]
        }
      ],
      "source": [
        "print(type(corpus_embeddings))\n",
        "print(corpus_embeddings.shape)"
      ]
    },
    {
      "cell_type": "code",
      "execution_count": null,
      "metadata": {
        "colab": {
          "background_save": true,
          "base_uri": "https://localhost:8080/"
        },
        "id": "Znd2EImgMvEf",
        "outputId": "815c1394-b3d6-4d98-ca75-629a6fa76378"
      },
      "outputs": [
        {
          "name": "stdout",
          "output_type": "stream",
          "text": [
            "1\n",
            "2\n",
            "3\n",
            "4\n",
            "5\n",
            "6\n",
            "7\n",
            "8\n",
            "9\n",
            "10\n",
            "11\n",
            "12\n",
            "13\n",
            "14\n",
            "15\n",
            "16\n",
            "17\n",
            "18\n",
            "19\n",
            "20\n",
            "21\n",
            "22\n",
            "23\n",
            "24\n",
            "25\n",
            "26\n",
            "27\n",
            "28\n",
            "29\n",
            "30\n",
            "31\n",
            "32\n",
            "33\n",
            "34\n",
            "35\n",
            "36\n",
            "37\n",
            "38\n",
            "39\n",
            "40\n"
          ]
        }
      ],
      "source": [
        "distortions = []\n",
        "inertias = []\n",
        "mapping1 = {}\n",
        "mapping2 = {}\n",
        "K = range(1, 250)\n",
        "\n",
        "for k in K:\n",
        "\tprint(k)\n",
        "\t# Building and fitting the model\n",
        "\tkmeanModel = KMeans(n_clusters=k).fit(corpus_embeddings)\n",
        "\tkmeanModel.fit(corpus_embeddings)\n",
        "\n",
        "\tdistortions.append(sum(np.min(cdist(corpus_embeddings, kmeanModel.cluster_centers_,\n",
        "\t\t\t\t\t\t\t\t\t\t'euclidean'), axis=1)) / corpus_embeddings.shape[0])\n",
        "\tinertias.append(kmeanModel.inertia_)\n",
        "\n",
        "\tmapping1[k] = sum(np.min(cdist(corpus_embeddings, kmeanModel.cluster_centers_,\n",
        "\t\t\t\t\t\t\t\t'euclidean'), axis=1)) / corpus_embeddings.shape[0]\n",
        "\tmapping2[k] = kmeanModel.inertia_"
      ]
    },
    {
      "cell_type": "code",
      "execution_count": null,
      "metadata": {
        "colab": {
          "base_uri": "https://localhost:8080/",
          "height": 206
        },
        "id": "eGbbljlnb5_B",
        "outputId": "35584812-b00b-418e-c162-1c46c2b8d825"
      },
      "outputs": [
        {
          "data": {
            "text/html": [
              "\n",
              "  <div id=\"df-f9e9ebd5-821f-4f96-b6c0-621a94a08e71\">\n",
              "    <div class=\"colab-df-container\">\n",
              "      <div>\n",
              "<style scoped>\n",
              "    .dataframe tbody tr th:only-of-type {\n",
              "        vertical-align: middle;\n",
              "    }\n",
              "\n",
              "    .dataframe tbody tr th {\n",
              "        vertical-align: top;\n",
              "    }\n",
              "\n",
              "    .dataframe thead th {\n",
              "        text-align: right;\n",
              "    }\n",
              "</style>\n",
              "<table border=\"1\" class=\"dataframe\">\n",
              "  <thead>\n",
              "    <tr style=\"text-align: right;\">\n",
              "      <th></th>\n",
              "      <th>q&amp;a</th>\n",
              "    </tr>\n",
              "  </thead>\n",
              "  <tbody>\n",
              "    <tr>\n",
              "      <th>0</th>\n",
              "      <td>بی حس یا بی هوش کردن مجرم قبل از قصاص ,در اعدا...</td>\n",
              "    </tr>\n",
              "    <tr>\n",
              "      <th>1</th>\n",
              "      <td>عدم اطلاع شوهر از رجوع زن به بذل ,چنانچه در ع...</td>\n",
              "    </tr>\n",
              "    <tr>\n",
              "      <th>2</th>\n",
              "      <td>قصاص عضو ضارب در صورت بهبودی عضو مضروب,حقّ قصا...</td>\n",
              "    </tr>\n",
              "    <tr>\n",
              "      <th>3</th>\n",
              "      <td>رجوع زن به مهریه و عدم توانایی پرداخت مهریه تو...</td>\n",
              "    </tr>\n",
              "    <tr>\n",
              "      <th>4</th>\n",
              "      <td>تملک ولی دم به اعضای بدن مجرم بعد از قصاص,ولىّ...</td>\n",
              "    </tr>\n",
              "  </tbody>\n",
              "</table>\n",
              "</div>\n",
              "      <button class=\"colab-df-convert\" onclick=\"convertToInteractive('df-f9e9ebd5-821f-4f96-b6c0-621a94a08e71')\"\n",
              "              title=\"Convert this dataframe to an interactive table.\"\n",
              "              style=\"display:none;\">\n",
              "        \n",
              "  <svg xmlns=\"http://www.w3.org/2000/svg\" height=\"24px\"viewBox=\"0 0 24 24\"\n",
              "       width=\"24px\">\n",
              "    <path d=\"M0 0h24v24H0V0z\" fill=\"none\"/>\n",
              "    <path d=\"M18.56 5.44l.94 2.06.94-2.06 2.06-.94-2.06-.94-.94-2.06-.94 2.06-2.06.94zm-11 1L8.5 8.5l.94-2.06 2.06-.94-2.06-.94L8.5 2.5l-.94 2.06-2.06.94zm10 10l.94 2.06.94-2.06 2.06-.94-2.06-.94-.94-2.06-.94 2.06-2.06.94z\"/><path d=\"M17.41 7.96l-1.37-1.37c-.4-.4-.92-.59-1.43-.59-.52 0-1.04.2-1.43.59L10.3 9.45l-7.72 7.72c-.78.78-.78 2.05 0 2.83L4 21.41c.39.39.9.59 1.41.59.51 0 1.02-.2 1.41-.59l7.78-7.78 2.81-2.81c.8-.78.8-2.07 0-2.86zM5.41 20L4 18.59l7.72-7.72 1.47 1.35L5.41 20z\"/>\n",
              "  </svg>\n",
              "      </button>\n",
              "      \n",
              "  <style>\n",
              "    .colab-df-container {\n",
              "      display:flex;\n",
              "      flex-wrap:wrap;\n",
              "      gap: 12px;\n",
              "    }\n",
              "\n",
              "    .colab-df-convert {\n",
              "      background-color: #E8F0FE;\n",
              "      border: none;\n",
              "      border-radius: 50%;\n",
              "      cursor: pointer;\n",
              "      display: none;\n",
              "      fill: #1967D2;\n",
              "      height: 32px;\n",
              "      padding: 0 0 0 0;\n",
              "      width: 32px;\n",
              "    }\n",
              "\n",
              "    .colab-df-convert:hover {\n",
              "      background-color: #E2EBFA;\n",
              "      box-shadow: 0px 1px 2px rgba(60, 64, 67, 0.3), 0px 1px 3px 1px rgba(60, 64, 67, 0.15);\n",
              "      fill: #174EA6;\n",
              "    }\n",
              "\n",
              "    [theme=dark] .colab-df-convert {\n",
              "      background-color: #3B4455;\n",
              "      fill: #D2E3FC;\n",
              "    }\n",
              "\n",
              "    [theme=dark] .colab-df-convert:hover {\n",
              "      background-color: #434B5C;\n",
              "      box-shadow: 0px 1px 3px 1px rgba(0, 0, 0, 0.15);\n",
              "      filter: drop-shadow(0px 1px 2px rgba(0, 0, 0, 0.3));\n",
              "      fill: #FFFFFF;\n",
              "    }\n",
              "  </style>\n",
              "\n",
              "      <script>\n",
              "        const buttonEl =\n",
              "          document.querySelector('#df-f9e9ebd5-821f-4f96-b6c0-621a94a08e71 button.colab-df-convert');\n",
              "        buttonEl.style.display =\n",
              "          google.colab.kernel.accessAllowed ? 'block' : 'none';\n",
              "\n",
              "        async function convertToInteractive(key) {\n",
              "          const element = document.querySelector('#df-f9e9ebd5-821f-4f96-b6c0-621a94a08e71');\n",
              "          const dataTable =\n",
              "            await google.colab.kernel.invokeFunction('convertToInteractive',\n",
              "                                                     [key], {});\n",
              "          if (!dataTable) return;\n",
              "\n",
              "          const docLinkHtml = 'Like what you see? Visit the ' +\n",
              "            '<a target=\"_blank\" href=https://colab.research.google.com/notebooks/data_table.ipynb>data table notebook</a>'\n",
              "            + ' to learn more about interactive tables.';\n",
              "          element.innerHTML = '';\n",
              "          dataTable['output_type'] = 'display_data';\n",
              "          await google.colab.output.renderOutput(dataTable, element);\n",
              "          const docLink = document.createElement('div');\n",
              "          docLink.innerHTML = docLinkHtml;\n",
              "          element.appendChild(docLink);\n",
              "        }\n",
              "      </script>\n",
              "    </div>\n",
              "  </div>\n",
              "  "
            ],
            "text/plain": [
              "                                                 q&a\n",
              "0  بی حس یا بی هوش کردن مجرم قبل از قصاص ,در اعدا...\n",
              "1   عدم اطلاع شوهر از رجوع زن به بذل ,چنانچه در ع...\n",
              "2  قصاص عضو ضارب در صورت بهبودی عضو مضروب,حقّ قصا...\n",
              "3  رجوع زن به مهریه و عدم توانایی پرداخت مهریه تو...\n",
              "4  تملک ولی دم به اعضای بدن مجرم بعد از قصاص,ولىّ..."
            ]
          },
          "execution_count": 16,
          "metadata": {},
          "output_type": "execute_result"
        }
      ],
      "source": [
        "#create data frame\n",
        "data =df[['q&a']]\n",
        "data.head()"
      ]
    },
    {
      "cell_type": "code",
      "execution_count": null,
      "metadata": {
        "id": "pow7aOTDRw-C"
      },
      "outputs": [],
      "source": [
        "new_df=df.dropna()"
      ]
    },
    {
      "cell_type": "code",
      "execution_count": null,
      "metadata": {
        "colab": {
          "base_uri": "https://localhost:8080/"
        },
        "id": "uV8N_wRQR1iY",
        "outputId": "6f3de5c6-a456-4f6e-e663-819c6b5a09a3"
      },
      "outputs": [
        {
          "name": "stdout",
          "output_type": "stream",
          "text": [
            "38857\n"
          ]
        }
      ],
      "source": [
        "print(len(new_df))"
      ]
    },
    {
      "cell_type": "code",
      "execution_count": null,
      "metadata": {
        "colab": {
          "base_uri": "https://localhost:8080/",
          "height": 206
        },
        "id": "FRTLTX2OP-5H",
        "outputId": "f2e0375f-ca1b-49fe-dd05-0c38f1120efd"
      },
      "outputs": [
        {
          "data": {
            "text/html": [
              "\n",
              "  <div id=\"df-d0f4f714-37d6-42fd-ab04-2ed9e9021825\">\n",
              "    <div class=\"colab-df-container\">\n",
              "      <div>\n",
              "<style scoped>\n",
              "    .dataframe tbody tr th:only-of-type {\n",
              "        vertical-align: middle;\n",
              "    }\n",
              "\n",
              "    .dataframe tbody tr th {\n",
              "        vertical-align: top;\n",
              "    }\n",
              "\n",
              "    .dataframe thead th {\n",
              "        text-align: right;\n",
              "    }\n",
              "</style>\n",
              "<table border=\"1\" class=\"dataframe\">\n",
              "  <thead>\n",
              "    <tr style=\"text-align: right;\">\n",
              "      <th></th>\n",
              "      <th>question</th>\n",
              "      <th>full_question</th>\n",
              "      <th>answer</th>\n",
              "      <th>full_answer</th>\n",
              "    </tr>\n",
              "  </thead>\n",
              "  <tbody>\n",
              "    <tr>\n",
              "      <th>0</th>\n",
              "      <td>بی حس یا بی هوش کردن مجرم قبل از قصاص</td>\n",
              "      <td>کسى که قرار است کشته شود (تیرباران، حلق آویز و...</td>\n",
              "      <td>NaN</td>\n",
              "      <td>در اعدام یا همان قصاص نفس جایز نیست ولی در قطع...</td>\n",
              "    </tr>\n",
              "    <tr>\n",
              "      <th>1</th>\n",
              "      <td>عدم اطلاع شوهر از رجوع زن به بذل</td>\n",
              "      <td>این جانب با بذل یکصد عدد سکّه بهار آزادى از هم...</td>\n",
              "      <td>NaN</td>\n",
              "      <td>چنانچه در عدّه، رجوع به بذل خود کرده اید و به ...</td>\n",
              "    </tr>\n",
              "    <tr>\n",
              "      <th>2</th>\n",
              "      <td>قصاص عضو ضارب در صورت بهبودی عضو مضروب</td>\n",
              "      <td>اگر کسى انگشت یا دست کسى را عمداً قطع کند و م...</td>\n",
              "      <td>NaN</td>\n",
              "      <td>حقّ قصاص دارد ولى دوّمى نیز حق دارد انگشت خود ...</td>\n",
              "    </tr>\n",
              "    <tr>\n",
              "      <th>3</th>\n",
              "      <td>رجوع زن به مهریه و عدم توانایی پرداخت مهریه تو...</td>\n",
              "      <td>اگر در ایّام طلاق خلع، زن به مهر خود رجوع کند ...</td>\n",
              "      <td>NaN</td>\n",
              "      <td>اگر مقداری را بپردازد هر چند کم باشد، زوج حق ر...</td>\n",
              "    </tr>\n",
              "    <tr>\n",
              "      <th>4</th>\n",
              "      <td>تملک ولی دم به اعضای بدن مجرم بعد از قصاص</td>\n",
              "      <td>هرگاه مجرم محکوم به قصاص اعدام شود، آیا ولى دم...</td>\n",
              "      <td>NaN</td>\n",
              "      <td>ولىّ دم حقّى در آن ندارد.</td>\n",
              "    </tr>\n",
              "  </tbody>\n",
              "</table>\n",
              "</div>\n",
              "      <button class=\"colab-df-convert\" onclick=\"convertToInteractive('df-d0f4f714-37d6-42fd-ab04-2ed9e9021825')\"\n",
              "              title=\"Convert this dataframe to an interactive table.\"\n",
              "              style=\"display:none;\">\n",
              "        \n",
              "  <svg xmlns=\"http://www.w3.org/2000/svg\" height=\"24px\"viewBox=\"0 0 24 24\"\n",
              "       width=\"24px\">\n",
              "    <path d=\"M0 0h24v24H0V0z\" fill=\"none\"/>\n",
              "    <path d=\"M18.56 5.44l.94 2.06.94-2.06 2.06-.94-2.06-.94-.94-2.06-.94 2.06-2.06.94zm-11 1L8.5 8.5l.94-2.06 2.06-.94-2.06-.94L8.5 2.5l-.94 2.06-2.06.94zm10 10l.94 2.06.94-2.06 2.06-.94-2.06-.94-.94-2.06-.94 2.06-2.06.94z\"/><path d=\"M17.41 7.96l-1.37-1.37c-.4-.4-.92-.59-1.43-.59-.52 0-1.04.2-1.43.59L10.3 9.45l-7.72 7.72c-.78.78-.78 2.05 0 2.83L4 21.41c.39.39.9.59 1.41.59.51 0 1.02-.2 1.41-.59l7.78-7.78 2.81-2.81c.8-.78.8-2.07 0-2.86zM5.41 20L4 18.59l7.72-7.72 1.47 1.35L5.41 20z\"/>\n",
              "  </svg>\n",
              "      </button>\n",
              "      \n",
              "  <style>\n",
              "    .colab-df-container {\n",
              "      display:flex;\n",
              "      flex-wrap:wrap;\n",
              "      gap: 12px;\n",
              "    }\n",
              "\n",
              "    .colab-df-convert {\n",
              "      background-color: #E8F0FE;\n",
              "      border: none;\n",
              "      border-radius: 50%;\n",
              "      cursor: pointer;\n",
              "      display: none;\n",
              "      fill: #1967D2;\n",
              "      height: 32px;\n",
              "      padding: 0 0 0 0;\n",
              "      width: 32px;\n",
              "    }\n",
              "\n",
              "    .colab-df-convert:hover {\n",
              "      background-color: #E2EBFA;\n",
              "      box-shadow: 0px 1px 2px rgba(60, 64, 67, 0.3), 0px 1px 3px 1px rgba(60, 64, 67, 0.15);\n",
              "      fill: #174EA6;\n",
              "    }\n",
              "\n",
              "    [theme=dark] .colab-df-convert {\n",
              "      background-color: #3B4455;\n",
              "      fill: #D2E3FC;\n",
              "    }\n",
              "\n",
              "    [theme=dark] .colab-df-convert:hover {\n",
              "      background-color: #434B5C;\n",
              "      box-shadow: 0px 1px 3px 1px rgba(0, 0, 0, 0.15);\n",
              "      filter: drop-shadow(0px 1px 2px rgba(0, 0, 0, 0.3));\n",
              "      fill: #FFFFFF;\n",
              "    }\n",
              "  </style>\n",
              "\n",
              "      <script>\n",
              "        const buttonEl =\n",
              "          document.querySelector('#df-d0f4f714-37d6-42fd-ab04-2ed9e9021825 button.colab-df-convert');\n",
              "        buttonEl.style.display =\n",
              "          google.colab.kernel.accessAllowed ? 'block' : 'none';\n",
              "\n",
              "        async function convertToInteractive(key) {\n",
              "          const element = document.querySelector('#df-d0f4f714-37d6-42fd-ab04-2ed9e9021825');\n",
              "          const dataTable =\n",
              "            await google.colab.kernel.invokeFunction('convertToInteractive',\n",
              "                                                     [key], {});\n",
              "          if (!dataTable) return;\n",
              "\n",
              "          const docLinkHtml = 'Like what you see? Visit the ' +\n",
              "            '<a target=\"_blank\" href=https://colab.research.google.com/notebooks/data_table.ipynb>data table notebook</a>'\n",
              "            + ' to learn more about interactive tables.';\n",
              "          element.innerHTML = '';\n",
              "          dataTable['output_type'] = 'display_data';\n",
              "          await google.colab.output.renderOutput(dataTable, element);\n",
              "          const docLink = document.createElement('div');\n",
              "          docLink.innerHTML = docLinkHtml;\n",
              "          element.appendChild(docLink);\n",
              "        }\n",
              "      </script>\n",
              "    </div>\n",
              "  </div>\n",
              "  "
            ],
            "text/plain": [
              "                                            question  ...                                        full_answer\n",
              "0             بی حس یا بی هوش کردن مجرم قبل از قصاص   ...  در اعدام یا همان قصاص نفس جایز نیست ولی در قطع...\n",
              "1                  عدم اطلاع شوهر از رجوع زن به بذل   ...  چنانچه در عدّه، رجوع به بذل خود کرده اید و به ...\n",
              "2             قصاص عضو ضارب در صورت بهبودی عضو مضروب  ...  حقّ قصاص دارد ولى دوّمى نیز حق دارد انگشت خود ...\n",
              "3  رجوع زن به مهریه و عدم توانایی پرداخت مهریه تو...  ...  اگر مقداری را بپردازد هر چند کم باشد، زوج حق ر...\n",
              "4          تملک ولی دم به اعضای بدن مجرم بعد از قصاص  ...                          ولىّ دم حقّى در آن ندارد.\n",
              "\n",
              "[5 rows x 4 columns]"
            ]
          },
          "execution_count": 9,
          "metadata": {},
          "output_type": "execute_result"
        }
      ],
      "source": [
        "df['question_id'] = mylist"
      ]
    },
    {
      "cell_type": "code",
      "execution_count": null,
      "metadata": {
        "colab": {
          "base_uri": "https://localhost:8080/"
        },
        "id": "OkwOdnN-xam3",
        "outputId": "942a0c2a-76f7-4cb6-9f11-fd37625a3dcf"
      },
      "outputs": [
        {
          "name": "stdout",
          "output_type": "stream",
          "text": [
            "{'language': 'fa', 'index': None, 'category': ['رجوع در طلاق خلع '], 'phrase': None, 'category_phrase': None, 'tags': ['شوهر', 'عدم اطلاع', 'بذل', 'رجوع زن'], 'question': ' عدم اطلاع شوهر از رجوع زن به بذل ', 'full_question': 'این جانب با بذل یکصد عدد سکّه بهار آزادى از همسرم مطلّقه خلعى شده ام، در زمان عدّه طىّ نامه کتبى به دفتردار محضر، مراتب رجوع به بذل را اعلام کردم، اکنون متوجّه شده ام که دفتردار رجوع قانونى را به علّت فراموشى در دفتر ثبت ننموده است، حکم رجوع چیست؟ آیا مستحقّ دریافت مهریّه هستم؟ ', 'answer': None, 'full_answer': 'چنانچه در عدّه، رجوع به بذل خود کرده اید و به شوهر اطّلاع داده اید، حق دارید بذل خود ر ابازپس گیرید و اگر خبر نداده اید عده گذشته است کافى نیست و هر گاه دفتردار متکفّل این کار شده و کوتاهى کرده است ضامن مى باشد. ', 'resource': None, 'translate': None, 'link': 'https://makarem.ir/main.aspx?typeinfo=21&lid=0&catid=45076&mid=256780', 'owner': 'makarem.ir'}\n",
            "<class 'str'>\n"
          ]
        }
      ],
      "source": [
        "print(source[1])\n",
        "print(type(source[1]))"
      ]
    },
    {
      "cell_type": "code",
      "execution_count": null,
      "metadata": {
        "colab": {
          "base_uri": "https://localhost:8080/"
        },
        "id": "L-GRBSG3yMfj",
        "outputId": "b030a681-59ae-4a64-95f6-7d1336633a83"
      },
      "outputs": [
        {
          "name": "stdout",
          "output_type": "stream",
          "text": [
            "<class 'dict'>\n",
            "{'language': 'fa', 'index': 'None', 'category': ['رجوع در طلاق خلع '], 'phrase': 'None', 'category_phrase': 'None', 'tags': ['شوهر', 'عدم اطلاع', 'بذل', 'رجوع زن'], 'question': ' عدم اطلاع شوهر از رجوع زن به بذل ', 'full_question': 'این جانب با بذل یکصد عدد سکّه بهار آزادى از همسرم مطلّقه خلعى شده ام، در زمان عدّه طىّ نامه کتبى به دفتردار محضر، مراتب رجوع به بذل را اعلام کردم، اکنون متوجّه شده ام که دفتردار رجوع قانونى را به علّت فراموشى در دفتر ثبت ننموده است، حکم رجوع چیست؟ آیا مستحقّ دریافت مهریّه هستم؟ ', 'answer': 'None', 'full_answer': 'چنانچه در عدّه، رجوع به بذل خود کرده اید و به شوهر اطّلاع داده اید، حق دارید بذل خود ر ابازپس گیرید و اگر خبر نداده اید عده گذشته است کافى نیست و هر گاه دفتردار متکفّل این کار شده و کوتاهى کرده است ضامن مى باشد. ', 'resource': 'None', 'translate': 'None', 'link': 'https://makarem.ir/main.aspx?typeinfo=21&lid=0&catid=45076&mid=256780', 'owner': 'makarem.ir'}\n"
          ]
        }
      ],
      "source": [
        "import yaml\n",
        "s = source[1]\n",
        "\n",
        "ss=yaml.load(s)\n",
        "print(type(ss))\n",
        "print(ss)"
      ]
    },
    {
      "cell_type": "code",
      "execution_count": null,
      "metadata": {
        "id": "n3Jft2sb13SU"
      },
      "outputs": [],
      "source": [
        "for i in range(len(source)):\n",
        "  source[i]=yaml.load(source[i])"
      ]
    }
  ],
  "metadata": {
    "accelerator": "GPU",
    "colab": {
      "provenance": [],
      "authorship_tag": "ABX9TyPuMw9YLnYemkDwuzwzK5cA",
      "include_colab_link": true
    },
    "kernelspec": {
      "display_name": "Python 3",
      "name": "python3"
    },
    "language_info": {
      "name": "python"
    },
    "widgets": {
      "application/vnd.jupyter.widget-state+json": {
        "03312975ef88458faab9631e4cc29b25": {
          "model_module": "@jupyter-widgets/controls",
          "model_module_version": "1.5.0",
          "model_name": "DescriptionStyleModel",
          "state": {
            "_model_module": "@jupyter-widgets/controls",
            "_model_module_version": "1.5.0",
            "_model_name": "DescriptionStyleModel",
            "_view_count": null,
            "_view_module": "@jupyter-widgets/base",
            "_view_module_version": "1.2.0",
            "_view_name": "StyleView",
            "description_width": ""
          }
        },
        "06aa94daa3ce465aa832cda68658613f": {
          "model_module": "@jupyter-widgets/controls",
          "model_module_version": "1.5.0",
          "model_name": "ProgressStyleModel",
          "state": {
            "_model_module": "@jupyter-widgets/controls",
            "_model_module_version": "1.5.0",
            "_model_name": "ProgressStyleModel",
            "_view_count": null,
            "_view_module": "@jupyter-widgets/base",
            "_view_module_version": "1.2.0",
            "_view_name": "StyleView",
            "bar_color": null,
            "description_width": ""
          }
        },
        "072ec52d937d46048e005117708209c6": {
          "model_module": "@jupyter-widgets/controls",
          "model_module_version": "1.5.0",
          "model_name": "DescriptionStyleModel",
          "state": {
            "_model_module": "@jupyter-widgets/controls",
            "_model_module_version": "1.5.0",
            "_model_name": "DescriptionStyleModel",
            "_view_count": null,
            "_view_module": "@jupyter-widgets/base",
            "_view_module_version": "1.2.0",
            "_view_name": "StyleView",
            "description_width": ""
          }
        },
        "0cda9dc9e94c4f8b9d12bca572faa55c": {
          "model_module": "@jupyter-widgets/controls",
          "model_module_version": "1.5.0",
          "model_name": "ProgressStyleModel",
          "state": {
            "_model_module": "@jupyter-widgets/controls",
            "_model_module_version": "1.5.0",
            "_model_name": "ProgressStyleModel",
            "_view_count": null,
            "_view_module": "@jupyter-widgets/base",
            "_view_module_version": "1.2.0",
            "_view_name": "StyleView",
            "bar_color": null,
            "description_width": ""
          }
        },
        "0d4732bea0274566aee7d88a7c864f3d": {
          "model_module": "@jupyter-widgets/controls",
          "model_module_version": "1.5.0",
          "model_name": "HTMLModel",
          "state": {
            "_dom_classes": [],
            "_model_module": "@jupyter-widgets/controls",
            "_model_module_version": "1.5.0",
            "_model_name": "HTMLModel",
            "_view_count": null,
            "_view_module": "@jupyter-widgets/controls",
            "_view_module_version": "1.5.0",
            "_view_name": "HTMLView",
            "description": "",
            "description_tooltip": null,
            "layout": "IPY_MODEL_e79a5db167a44f69adcf1e555039deca",
            "placeholder": "​",
            "style": "IPY_MODEL_c9f72b9aea094efcbf213ea34257199e",
            "value": " 404/404 [00:00&lt;00:00, 7.75kB/s]"
          }
        },
        "0e4ccd07df6043aa9b0eb24b238202cf": {
          "model_module": "@jupyter-widgets/controls",
          "model_module_version": "1.5.0",
          "model_name": "ProgressStyleModel",
          "state": {
            "_model_module": "@jupyter-widgets/controls",
            "_model_module_version": "1.5.0",
            "_model_name": "ProgressStyleModel",
            "_view_count": null,
            "_view_module": "@jupyter-widgets/base",
            "_view_module_version": "1.2.0",
            "_view_name": "StyleView",
            "bar_color": null,
            "description_width": ""
          }
        },
        "0e5770b1df5c44d88a60c9890696eb41": {
          "model_module": "@jupyter-widgets/controls",
          "model_module_version": "1.5.0",
          "model_name": "HBoxModel",
          "state": {
            "_dom_classes": [],
            "_model_module": "@jupyter-widgets/controls",
            "_model_module_version": "1.5.0",
            "_model_name": "HBoxModel",
            "_view_count": null,
            "_view_module": "@jupyter-widgets/controls",
            "_view_module_version": "1.5.0",
            "_view_name": "HBoxView",
            "box_style": "",
            "children": [
              "IPY_MODEL_ace0cfa41b534008b6d1312a20dfd861",
              "IPY_MODEL_ccd558c7737044b7ad3ba52fdb0f7d56",
              "IPY_MODEL_0d4732bea0274566aee7d88a7c864f3d"
            ],
            "layout": "IPY_MODEL_4757054611c047e292eec74c61dc502c"
          }
        },
        "1738f68af6ed4a128c171bc8a280b384": {
          "model_module": "@jupyter-widgets/base",
          "model_module_version": "1.2.0",
          "model_name": "LayoutModel",
          "state": {
            "_model_module": "@jupyter-widgets/base",
            "_model_module_version": "1.2.0",
            "_model_name": "LayoutModel",
            "_view_count": null,
            "_view_module": "@jupyter-widgets/base",
            "_view_module_version": "1.2.0",
            "_view_name": "LayoutView",
            "align_content": null,
            "align_items": null,
            "align_self": null,
            "border": null,
            "bottom": null,
            "display": null,
            "flex": null,
            "flex_flow": null,
            "grid_area": null,
            "grid_auto_columns": null,
            "grid_auto_flow": null,
            "grid_auto_rows": null,
            "grid_column": null,
            "grid_gap": null,
            "grid_row": null,
            "grid_template_areas": null,
            "grid_template_columns": null,
            "grid_template_rows": null,
            "height": null,
            "justify_content": null,
            "justify_items": null,
            "left": null,
            "margin": null,
            "max_height": null,
            "max_width": null,
            "min_height": null,
            "min_width": null,
            "object_fit": null,
            "object_position": null,
            "order": null,
            "overflow": null,
            "overflow_x": null,
            "overflow_y": null,
            "padding": null,
            "right": null,
            "top": null,
            "visibility": null,
            "width": null
          }
        },
        "1cb70e0b45274645ac799786b300a0f2": {
          "model_module": "@jupyter-widgets/base",
          "model_module_version": "1.2.0",
          "model_name": "LayoutModel",
          "state": {
            "_model_module": "@jupyter-widgets/base",
            "_model_module_version": "1.2.0",
            "_model_name": "LayoutModel",
            "_view_count": null,
            "_view_module": "@jupyter-widgets/base",
            "_view_module_version": "1.2.0",
            "_view_name": "LayoutView",
            "align_content": null,
            "align_items": null,
            "align_self": null,
            "border": null,
            "bottom": null,
            "display": null,
            "flex": null,
            "flex_flow": null,
            "grid_area": null,
            "grid_auto_columns": null,
            "grid_auto_flow": null,
            "grid_auto_rows": null,
            "grid_column": null,
            "grid_gap": null,
            "grid_row": null,
            "grid_template_areas": null,
            "grid_template_columns": null,
            "grid_template_rows": null,
            "height": null,
            "justify_content": null,
            "justify_items": null,
            "left": null,
            "margin": null,
            "max_height": null,
            "max_width": null,
            "min_height": null,
            "min_width": null,
            "object_fit": null,
            "object_position": null,
            "order": null,
            "overflow": null,
            "overflow_x": null,
            "overflow_y": null,
            "padding": null,
            "right": null,
            "top": null,
            "visibility": null,
            "width": null
          }
        },
        "20c1c68fe1c64617b74f4d7a5849e5f7": {
          "model_module": "@jupyter-widgets/controls",
          "model_module_version": "1.5.0",
          "model_name": "HBoxModel",
          "state": {
            "_dom_classes": [],
            "_model_module": "@jupyter-widgets/controls",
            "_model_module_version": "1.5.0",
            "_model_name": "HBoxModel",
            "_view_count": null,
            "_view_module": "@jupyter-widgets/controls",
            "_view_module_version": "1.5.0",
            "_view_name": "HBoxView",
            "box_style": "",
            "children": [
              "IPY_MODEL_b1ba8359de0a4a108fa5b5e147e27991",
              "IPY_MODEL_513fb435c889474ab020328d450ae49c",
              "IPY_MODEL_bce666c459574361838ce7d4a1bcab61"
            ],
            "layout": "IPY_MODEL_8cc714cc0cda47d48d0fb35a118d053e"
          }
        },
        "2394dddade3f4eafa5bef521aa068520": {
          "model_module": "@jupyter-widgets/controls",
          "model_module_version": "1.5.0",
          "model_name": "HTMLModel",
          "state": {
            "_dom_classes": [],
            "_model_module": "@jupyter-widgets/controls",
            "_model_module_version": "1.5.0",
            "_model_name": "HTMLModel",
            "_view_count": null,
            "_view_module": "@jupyter-widgets/controls",
            "_view_module_version": "1.5.0",
            "_view_name": "HTMLView",
            "description": "",
            "description_tooltip": null,
            "layout": "IPY_MODEL_e13955d6c82146248b0f31c68385981f",
            "placeholder": "​",
            "style": "IPY_MODEL_4498905ac5cc4d988bc014dc2a2aee40",
            "value": "Batches: 100%"
          }
        },
        "27af3f0739374c1390f92a82637dc0b3": {
          "model_module": "@jupyter-widgets/base",
          "model_module_version": "1.2.0",
          "model_name": "LayoutModel",
          "state": {
            "_model_module": "@jupyter-widgets/base",
            "_model_module_version": "1.2.0",
            "_model_name": "LayoutModel",
            "_view_count": null,
            "_view_module": "@jupyter-widgets/base",
            "_view_module_version": "1.2.0",
            "_view_name": "LayoutView",
            "align_content": null,
            "align_items": null,
            "align_self": null,
            "border": null,
            "bottom": null,
            "display": null,
            "flex": null,
            "flex_flow": null,
            "grid_area": null,
            "grid_auto_columns": null,
            "grid_auto_flow": null,
            "grid_auto_rows": null,
            "grid_column": null,
            "grid_gap": null,
            "grid_row": null,
            "grid_template_areas": null,
            "grid_template_columns": null,
            "grid_template_rows": null,
            "height": null,
            "justify_content": null,
            "justify_items": null,
            "left": null,
            "margin": null,
            "max_height": null,
            "max_width": null,
            "min_height": null,
            "min_width": null,
            "object_fit": null,
            "object_position": null,
            "order": null,
            "overflow": null,
            "overflow_x": null,
            "overflow_y": null,
            "padding": null,
            "right": null,
            "top": null,
            "visibility": null,
            "width": null
          }
        },
        "311d339daec4434896263bd5b217afa4": {
          "model_module": "@jupyter-widgets/controls",
          "model_module_version": "1.5.0",
          "model_name": "FloatProgressModel",
          "state": {
            "_dom_classes": [],
            "_model_module": "@jupyter-widgets/controls",
            "_model_module_version": "1.5.0",
            "_model_name": "FloatProgressModel",
            "_view_count": null,
            "_view_module": "@jupyter-widgets/controls",
            "_view_module_version": "1.5.0",
            "_view_name": "ProgressView",
            "bar_style": "success",
            "description": "",
            "description_tooltip": null,
            "layout": "IPY_MODEL_27af3f0739374c1390f92a82637dc0b3",
            "max": 1215,
            "min": 0,
            "orientation": "horizontal",
            "style": "IPY_MODEL_06aa94daa3ce465aa832cda68658613f",
            "value": 1215
          }
        },
        "364dfc5ab4004e869e8b666262e4baed": {
          "model_module": "@jupyter-widgets/controls",
          "model_module_version": "1.5.0",
          "model_name": "HBoxModel",
          "state": {
            "_dom_classes": [],
            "_model_module": "@jupyter-widgets/controls",
            "_model_module_version": "1.5.0",
            "_model_name": "HBoxModel",
            "_view_count": null,
            "_view_module": "@jupyter-widgets/controls",
            "_view_module_version": "1.5.0",
            "_view_name": "HBoxView",
            "box_style": "",
            "children": [
              "IPY_MODEL_2394dddade3f4eafa5bef521aa068520",
              "IPY_MODEL_311d339daec4434896263bd5b217afa4",
              "IPY_MODEL_9cbca2ed31e14581a42abbdd6c37d98a"
            ],
            "layout": "IPY_MODEL_de0d535409a543b790e9134043c1b223"
          }
        },
        "3be1799486fd4c789b85e79e55ba85a2": {
          "model_module": "@jupyter-widgets/base",
          "model_module_version": "1.2.0",
          "model_name": "LayoutModel",
          "state": {
            "_model_module": "@jupyter-widgets/base",
            "_model_module_version": "1.2.0",
            "_model_name": "LayoutModel",
            "_view_count": null,
            "_view_module": "@jupyter-widgets/base",
            "_view_module_version": "1.2.0",
            "_view_name": "LayoutView",
            "align_content": null,
            "align_items": null,
            "align_self": null,
            "border": null,
            "bottom": null,
            "display": null,
            "flex": null,
            "flex_flow": null,
            "grid_area": null,
            "grid_auto_columns": null,
            "grid_auto_flow": null,
            "grid_auto_rows": null,
            "grid_column": null,
            "grid_gap": null,
            "grid_row": null,
            "grid_template_areas": null,
            "grid_template_columns": null,
            "grid_template_rows": null,
            "height": null,
            "justify_content": null,
            "justify_items": null,
            "left": null,
            "margin": null,
            "max_height": null,
            "max_width": null,
            "min_height": null,
            "min_width": null,
            "object_fit": null,
            "object_position": null,
            "order": null,
            "overflow": null,
            "overflow_x": null,
            "overflow_y": null,
            "padding": null,
            "right": null,
            "top": null,
            "visibility": null,
            "width": null
          }
        },
        "4172be7192ff494da2ae594aa9559c54": {
          "model_module": "@jupyter-widgets/controls",
          "model_module_version": "1.5.0",
          "model_name": "DescriptionStyleModel",
          "state": {
            "_model_module": "@jupyter-widgets/controls",
            "_model_module_version": "1.5.0",
            "_model_name": "DescriptionStyleModel",
            "_view_count": null,
            "_view_module": "@jupyter-widgets/base",
            "_view_module_version": "1.2.0",
            "_view_name": "StyleView",
            "description_width": ""
          }
        },
        "422ca468a1444a558d2cdfc294d1b71a": {
          "model_module": "@jupyter-widgets/base",
          "model_module_version": "1.2.0",
          "model_name": "LayoutModel",
          "state": {
            "_model_module": "@jupyter-widgets/base",
            "_model_module_version": "1.2.0",
            "_model_name": "LayoutModel",
            "_view_count": null,
            "_view_module": "@jupyter-widgets/base",
            "_view_module_version": "1.2.0",
            "_view_name": "LayoutView",
            "align_content": null,
            "align_items": null,
            "align_self": null,
            "border": null,
            "bottom": null,
            "display": null,
            "flex": null,
            "flex_flow": null,
            "grid_area": null,
            "grid_auto_columns": null,
            "grid_auto_flow": null,
            "grid_auto_rows": null,
            "grid_column": null,
            "grid_gap": null,
            "grid_row": null,
            "grid_template_areas": null,
            "grid_template_columns": null,
            "grid_template_rows": null,
            "height": null,
            "justify_content": null,
            "justify_items": null,
            "left": null,
            "margin": null,
            "max_height": null,
            "max_width": null,
            "min_height": null,
            "min_width": null,
            "object_fit": null,
            "object_position": null,
            "order": null,
            "overflow": null,
            "overflow_x": null,
            "overflow_y": null,
            "padding": null,
            "right": null,
            "top": null,
            "visibility": null,
            "width": null
          }
        },
        "4498905ac5cc4d988bc014dc2a2aee40": {
          "model_module": "@jupyter-widgets/controls",
          "model_module_version": "1.5.0",
          "model_name": "DescriptionStyleModel",
          "state": {
            "_model_module": "@jupyter-widgets/controls",
            "_model_module_version": "1.5.0",
            "_model_name": "DescriptionStyleModel",
            "_view_count": null,
            "_view_module": "@jupyter-widgets/base",
            "_view_module_version": "1.2.0",
            "_view_name": "StyleView",
            "description_width": ""
          }
        },
        "455326caf9234ae08cd43d3d86073485": {
          "model_module": "@jupyter-widgets/controls",
          "model_module_version": "1.5.0",
          "model_name": "HTMLModel",
          "state": {
            "_dom_classes": [],
            "_model_module": "@jupyter-widgets/controls",
            "_model_module_version": "1.5.0",
            "_model_name": "HTMLModel",
            "_view_count": null,
            "_view_module": "@jupyter-widgets/controls",
            "_view_module_version": "1.5.0",
            "_view_name": "HTMLView",
            "description": "",
            "description_tooltip": null,
            "layout": "IPY_MODEL_52f848ac17974c64862fc9bf02170c96",
            "placeholder": "​",
            "style": "IPY_MODEL_c2778e5f08034db882907558a2018197",
            "value": " 519/519 [00:00&lt;00:00, 3.83kB/s]"
          }
        },
        "4757054611c047e292eec74c61dc502c": {
          "model_module": "@jupyter-widgets/base",
          "model_module_version": "1.2.0",
          "model_name": "LayoutModel",
          "state": {
            "_model_module": "@jupyter-widgets/base",
            "_model_module_version": "1.2.0",
            "_model_name": "LayoutModel",
            "_view_count": null,
            "_view_module": "@jupyter-widgets/base",
            "_view_module_version": "1.2.0",
            "_view_name": "LayoutView",
            "align_content": null,
            "align_items": null,
            "align_self": null,
            "border": null,
            "bottom": null,
            "display": null,
            "flex": null,
            "flex_flow": null,
            "grid_area": null,
            "grid_auto_columns": null,
            "grid_auto_flow": null,
            "grid_auto_rows": null,
            "grid_column": null,
            "grid_gap": null,
            "grid_row": null,
            "grid_template_areas": null,
            "grid_template_columns": null,
            "grid_template_rows": null,
            "height": null,
            "justify_content": null,
            "justify_items": null,
            "left": null,
            "margin": null,
            "max_height": null,
            "max_width": null,
            "min_height": null,
            "min_width": null,
            "object_fit": null,
            "object_position": null,
            "order": null,
            "overflow": null,
            "overflow_x": null,
            "overflow_y": null,
            "padding": null,
            "right": null,
            "top": null,
            "visibility": null,
            "width": null
          }
        },
        "4ac3baae4c494589bb7663939e5feec3": {
          "model_module": "@jupyter-widgets/controls",
          "model_module_version": "1.5.0",
          "model_name": "FloatProgressModel",
          "state": {
            "_dom_classes": [],
            "_model_module": "@jupyter-widgets/controls",
            "_model_module_version": "1.5.0",
            "_model_name": "FloatProgressModel",
            "_view_count": null,
            "_view_module": "@jupyter-widgets/controls",
            "_view_module_version": "1.5.0",
            "_view_name": "ProgressView",
            "bar_style": "success",
            "description": "",
            "description_tooltip": null,
            "layout": "IPY_MODEL_dbd0fb51ee7b4d92a8786adaa72e77a8",
            "max": 112,
            "min": 0,
            "orientation": "horizontal",
            "style": "IPY_MODEL_0e4ccd07df6043aa9b0eb24b238202cf",
            "value": 112
          }
        },
        "4bb82a2e291f403da1faec67f2558cd6": {
          "model_module": "@jupyter-widgets/base",
          "model_module_version": "1.2.0",
          "model_name": "LayoutModel",
          "state": {
            "_model_module": "@jupyter-widgets/base",
            "_model_module_version": "1.2.0",
            "_model_name": "LayoutModel",
            "_view_count": null,
            "_view_module": "@jupyter-widgets/base",
            "_view_module_version": "1.2.0",
            "_view_name": "LayoutView",
            "align_content": null,
            "align_items": null,
            "align_self": null,
            "border": null,
            "bottom": null,
            "display": null,
            "flex": null,
            "flex_flow": null,
            "grid_area": null,
            "grid_auto_columns": null,
            "grid_auto_flow": null,
            "grid_auto_rows": null,
            "grid_column": null,
            "grid_gap": null,
            "grid_row": null,
            "grid_template_areas": null,
            "grid_template_columns": null,
            "grid_template_rows": null,
            "height": null,
            "justify_content": null,
            "justify_items": null,
            "left": null,
            "margin": null,
            "max_height": null,
            "max_width": null,
            "min_height": null,
            "min_width": null,
            "object_fit": null,
            "object_position": null,
            "order": null,
            "overflow": null,
            "overflow_x": null,
            "overflow_y": null,
            "padding": null,
            "right": null,
            "top": null,
            "visibility": null,
            "width": null
          }
        },
        "513fb435c889474ab020328d450ae49c": {
          "model_module": "@jupyter-widgets/controls",
          "model_module_version": "1.5.0",
          "model_name": "FloatProgressModel",
          "state": {
            "_dom_classes": [],
            "_model_module": "@jupyter-widgets/controls",
            "_model_module_version": "1.5.0",
            "_model_name": "FloatProgressModel",
            "_view_count": null,
            "_view_module": "@jupyter-widgets/controls",
            "_view_module_version": "1.5.0",
            "_view_name": "ProgressView",
            "bar_style": "success",
            "description": "",
            "description_tooltip": null,
            "layout": "IPY_MODEL_e7967f7b1b3f43deb505428bebdfb5cd",
            "max": 651449935,
            "min": 0,
            "orientation": "horizontal",
            "style": "IPY_MODEL_0cda9dc9e94c4f8b9d12bca572faa55c",
            "value": 651449935
          }
        },
        "526f38deb6fe42cc8887a1804cccede6": {
          "model_module": "@jupyter-widgets/controls",
          "model_module_version": "1.5.0",
          "model_name": "HBoxModel",
          "state": {
            "_dom_classes": [],
            "_model_module": "@jupyter-widgets/controls",
            "_model_module_version": "1.5.0",
            "_model_name": "HBoxModel",
            "_view_count": null,
            "_view_module": "@jupyter-widgets/controls",
            "_view_module_version": "1.5.0",
            "_view_name": "HBoxView",
            "box_style": "",
            "children": [
              "IPY_MODEL_9f29f2f188194936be004e07fd6fcb9a",
              "IPY_MODEL_4ac3baae4c494589bb7663939e5feec3",
              "IPY_MODEL_f93d62d228e34338ad677cd3bbe9b521"
            ],
            "layout": "IPY_MODEL_967eb41e3b3140798578a6448248b8ab"
          }
        },
        "52f848ac17974c64862fc9bf02170c96": {
          "model_module": "@jupyter-widgets/base",
          "model_module_version": "1.2.0",
          "model_name": "LayoutModel",
          "state": {
            "_model_module": "@jupyter-widgets/base",
            "_model_module_version": "1.2.0",
            "_model_name": "LayoutModel",
            "_view_count": null,
            "_view_module": "@jupyter-widgets/base",
            "_view_module_version": "1.2.0",
            "_view_name": "LayoutView",
            "align_content": null,
            "align_items": null,
            "align_self": null,
            "border": null,
            "bottom": null,
            "display": null,
            "flex": null,
            "flex_flow": null,
            "grid_area": null,
            "grid_auto_columns": null,
            "grid_auto_flow": null,
            "grid_auto_rows": null,
            "grid_column": null,
            "grid_gap": null,
            "grid_row": null,
            "grid_template_areas": null,
            "grid_template_columns": null,
            "grid_template_rows": null,
            "height": null,
            "justify_content": null,
            "justify_items": null,
            "left": null,
            "margin": null,
            "max_height": null,
            "max_width": null,
            "min_height": null,
            "min_width": null,
            "object_fit": null,
            "object_position": null,
            "order": null,
            "overflow": null,
            "overflow_x": null,
            "overflow_y": null,
            "padding": null,
            "right": null,
            "top": null,
            "visibility": null,
            "width": null
          }
        },
        "5a011db3fa2e429c8880267733215d1a": {
          "model_module": "@jupyter-widgets/controls",
          "model_module_version": "1.5.0",
          "model_name": "DescriptionStyleModel",
          "state": {
            "_model_module": "@jupyter-widgets/controls",
            "_model_module_version": "1.5.0",
            "_model_name": "DescriptionStyleModel",
            "_view_count": null,
            "_view_module": "@jupyter-widgets/base",
            "_view_module_version": "1.2.0",
            "_view_name": "StyleView",
            "description_width": ""
          }
        },
        "61e9a4237c1c4dc1915e440c77820cde": {
          "model_module": "@jupyter-widgets/base",
          "model_module_version": "1.2.0",
          "model_name": "LayoutModel",
          "state": {
            "_model_module": "@jupyter-widgets/base",
            "_model_module_version": "1.2.0",
            "_model_name": "LayoutModel",
            "_view_count": null,
            "_view_module": "@jupyter-widgets/base",
            "_view_module_version": "1.2.0",
            "_view_name": "LayoutView",
            "align_content": null,
            "align_items": null,
            "align_self": null,
            "border": null,
            "bottom": null,
            "display": null,
            "flex": null,
            "flex_flow": null,
            "grid_area": null,
            "grid_auto_columns": null,
            "grid_auto_flow": null,
            "grid_auto_rows": null,
            "grid_column": null,
            "grid_gap": null,
            "grid_row": null,
            "grid_template_areas": null,
            "grid_template_columns": null,
            "grid_template_rows": null,
            "height": null,
            "justify_content": null,
            "justify_items": null,
            "left": null,
            "margin": null,
            "max_height": null,
            "max_width": null,
            "min_height": null,
            "min_width": null,
            "object_fit": null,
            "object_position": null,
            "order": null,
            "overflow": null,
            "overflow_x": null,
            "overflow_y": null,
            "padding": null,
            "right": null,
            "top": null,
            "visibility": null,
            "width": null
          }
        },
        "6ce4445b90f4406e8619ff1e81ab6f7d": {
          "model_module": "@jupyter-widgets/controls",
          "model_module_version": "1.5.0",
          "model_name": "DescriptionStyleModel",
          "state": {
            "_model_module": "@jupyter-widgets/controls",
            "_model_module_version": "1.5.0",
            "_model_name": "DescriptionStyleModel",
            "_view_count": null,
            "_view_module": "@jupyter-widgets/base",
            "_view_module_version": "1.2.0",
            "_view_name": "StyleView",
            "description_width": ""
          }
        },
        "7b827b2338694629b66d8e69088b96b2": {
          "model_module": "@jupyter-widgets/controls",
          "model_module_version": "1.5.0",
          "model_name": "DescriptionStyleModel",
          "state": {
            "_model_module": "@jupyter-widgets/controls",
            "_model_module_version": "1.5.0",
            "_model_name": "DescriptionStyleModel",
            "_view_count": null,
            "_view_module": "@jupyter-widgets/base",
            "_view_module_version": "1.2.0",
            "_view_name": "StyleView",
            "description_width": ""
          }
        },
        "846504fdde2e414a9b900b816d4c4eca": {
          "model_module": "@jupyter-widgets/controls",
          "model_module_version": "1.5.0",
          "model_name": "FloatProgressModel",
          "state": {
            "_dom_classes": [],
            "_model_module": "@jupyter-widgets/controls",
            "_model_module_version": "1.5.0",
            "_model_name": "FloatProgressModel",
            "_view_count": null,
            "_view_module": "@jupyter-widgets/controls",
            "_view_module_version": "1.5.0",
            "_view_name": "ProgressView",
            "bar_style": "success",
            "description": "",
            "description_tooltip": null,
            "layout": "IPY_MODEL_1738f68af6ed4a128c171bc8a280b384",
            "max": 1198122,
            "min": 0,
            "orientation": "horizontal",
            "style": "IPY_MODEL_eca28dab45d44533b959efdfab523ada",
            "value": 1198122
          }
        },
        "860693383d214b89ab666c7bb4b8b620": {
          "model_module": "@jupyter-widgets/controls",
          "model_module_version": "1.5.0",
          "model_name": "ProgressStyleModel",
          "state": {
            "_model_module": "@jupyter-widgets/controls",
            "_model_module_version": "1.5.0",
            "_model_name": "ProgressStyleModel",
            "_view_count": null,
            "_view_module": "@jupyter-widgets/base",
            "_view_module_version": "1.2.0",
            "_view_name": "StyleView",
            "bar_color": null,
            "description_width": ""
          }
        },
        "896092a5f3774be6aad41379edfb8ef3": {
          "model_module": "@jupyter-widgets/base",
          "model_module_version": "1.2.0",
          "model_name": "LayoutModel",
          "state": {
            "_model_module": "@jupyter-widgets/base",
            "_model_module_version": "1.2.0",
            "_model_name": "LayoutModel",
            "_view_count": null,
            "_view_module": "@jupyter-widgets/base",
            "_view_module_version": "1.2.0",
            "_view_name": "LayoutView",
            "align_content": null,
            "align_items": null,
            "align_self": null,
            "border": null,
            "bottom": null,
            "display": null,
            "flex": null,
            "flex_flow": null,
            "grid_area": null,
            "grid_auto_columns": null,
            "grid_auto_flow": null,
            "grid_auto_rows": null,
            "grid_column": null,
            "grid_gap": null,
            "grid_row": null,
            "grid_template_areas": null,
            "grid_template_columns": null,
            "grid_template_rows": null,
            "height": null,
            "justify_content": null,
            "justify_items": null,
            "left": null,
            "margin": null,
            "max_height": null,
            "max_width": null,
            "min_height": null,
            "min_width": null,
            "object_fit": null,
            "object_position": null,
            "order": null,
            "overflow": null,
            "overflow_x": null,
            "overflow_y": null,
            "padding": null,
            "right": null,
            "top": null,
            "visibility": null,
            "width": null
          }
        },
        "8cc714cc0cda47d48d0fb35a118d053e": {
          "model_module": "@jupyter-widgets/base",
          "model_module_version": "1.2.0",
          "model_name": "LayoutModel",
          "state": {
            "_model_module": "@jupyter-widgets/base",
            "_model_module_version": "1.2.0",
            "_model_name": "LayoutModel",
            "_view_count": null,
            "_view_module": "@jupyter-widgets/base",
            "_view_module_version": "1.2.0",
            "_view_name": "LayoutView",
            "align_content": null,
            "align_items": null,
            "align_self": null,
            "border": null,
            "bottom": null,
            "display": null,
            "flex": null,
            "flex_flow": null,
            "grid_area": null,
            "grid_auto_columns": null,
            "grid_auto_flow": null,
            "grid_auto_rows": null,
            "grid_column": null,
            "grid_gap": null,
            "grid_row": null,
            "grid_template_areas": null,
            "grid_template_columns": null,
            "grid_template_rows": null,
            "height": null,
            "justify_content": null,
            "justify_items": null,
            "left": null,
            "margin": null,
            "max_height": null,
            "max_width": null,
            "min_height": null,
            "min_width": null,
            "object_fit": null,
            "object_position": null,
            "order": null,
            "overflow": null,
            "overflow_x": null,
            "overflow_y": null,
            "padding": null,
            "right": null,
            "top": null,
            "visibility": null,
            "width": null
          }
        },
        "8fdf01cfafb642d38e9b7dae2994f205": {
          "model_module": "@jupyter-widgets/controls",
          "model_module_version": "1.5.0",
          "model_name": "HBoxModel",
          "state": {
            "_dom_classes": [],
            "_model_module": "@jupyter-widgets/controls",
            "_model_module_version": "1.5.0",
            "_model_name": "HBoxModel",
            "_view_count": null,
            "_view_module": "@jupyter-widgets/controls",
            "_view_module_version": "1.5.0",
            "_view_name": "HBoxView",
            "box_style": "",
            "children": [
              "IPY_MODEL_aac918b1ee3c42edaacdae4f33019f29",
              "IPY_MODEL_846504fdde2e414a9b900b816d4c4eca",
              "IPY_MODEL_acf05dce2b4e4f1885d7faab53247e6a"
            ],
            "layout": "IPY_MODEL_d7b4350e471e46c5b2823e4c24e8504b"
          }
        },
        "9616ff8460ad4a7eba0dc47efa8676e7": {
          "model_module": "@jupyter-widgets/base",
          "model_module_version": "1.2.0",
          "model_name": "LayoutModel",
          "state": {
            "_model_module": "@jupyter-widgets/base",
            "_model_module_version": "1.2.0",
            "_model_name": "LayoutModel",
            "_view_count": null,
            "_view_module": "@jupyter-widgets/base",
            "_view_module_version": "1.2.0",
            "_view_name": "LayoutView",
            "align_content": null,
            "align_items": null,
            "align_self": null,
            "border": null,
            "bottom": null,
            "display": null,
            "flex": null,
            "flex_flow": null,
            "grid_area": null,
            "grid_auto_columns": null,
            "grid_auto_flow": null,
            "grid_auto_rows": null,
            "grid_column": null,
            "grid_gap": null,
            "grid_row": null,
            "grid_template_areas": null,
            "grid_template_columns": null,
            "grid_template_rows": null,
            "height": null,
            "justify_content": null,
            "justify_items": null,
            "left": null,
            "margin": null,
            "max_height": null,
            "max_width": null,
            "min_height": null,
            "min_width": null,
            "object_fit": null,
            "object_position": null,
            "order": null,
            "overflow": null,
            "overflow_x": null,
            "overflow_y": null,
            "padding": null,
            "right": null,
            "top": null,
            "visibility": null,
            "width": null
          }
        },
        "967eb41e3b3140798578a6448248b8ab": {
          "model_module": "@jupyter-widgets/base",
          "model_module_version": "1.2.0",
          "model_name": "LayoutModel",
          "state": {
            "_model_module": "@jupyter-widgets/base",
            "_model_module_version": "1.2.0",
            "_model_name": "LayoutModel",
            "_view_count": null,
            "_view_module": "@jupyter-widgets/base",
            "_view_module_version": "1.2.0",
            "_view_name": "LayoutView",
            "align_content": null,
            "align_items": null,
            "align_self": null,
            "border": null,
            "bottom": null,
            "display": null,
            "flex": null,
            "flex_flow": null,
            "grid_area": null,
            "grid_auto_columns": null,
            "grid_auto_flow": null,
            "grid_auto_rows": null,
            "grid_column": null,
            "grid_gap": null,
            "grid_row": null,
            "grid_template_areas": null,
            "grid_template_columns": null,
            "grid_template_rows": null,
            "height": null,
            "justify_content": null,
            "justify_items": null,
            "left": null,
            "margin": null,
            "max_height": null,
            "max_width": null,
            "min_height": null,
            "min_width": null,
            "object_fit": null,
            "object_position": null,
            "order": null,
            "overflow": null,
            "overflow_x": null,
            "overflow_y": null,
            "padding": null,
            "right": null,
            "top": null,
            "visibility": null,
            "width": null
          }
        },
        "9cbca2ed31e14581a42abbdd6c37d98a": {
          "model_module": "@jupyter-widgets/controls",
          "model_module_version": "1.5.0",
          "model_name": "HTMLModel",
          "state": {
            "_dom_classes": [],
            "_model_module": "@jupyter-widgets/controls",
            "_model_module_version": "1.5.0",
            "_model_name": "HTMLModel",
            "_view_count": null,
            "_view_module": "@jupyter-widgets/controls",
            "_view_module_version": "1.5.0",
            "_view_name": "HTMLView",
            "description": "",
            "description_tooltip": null,
            "layout": "IPY_MODEL_c1f3dc7e525146c2873fe98d0a56ce3c",
            "placeholder": "​",
            "style": "IPY_MODEL_6ce4445b90f4406e8619ff1e81ab6f7d",
            "value": " 1215/1215 [12:26&lt;00:00, 13.93it/s]"
          }
        },
        "9f29f2f188194936be004e07fd6fcb9a": {
          "model_module": "@jupyter-widgets/controls",
          "model_module_version": "1.5.0",
          "model_name": "HTMLModel",
          "state": {
            "_dom_classes": [],
            "_model_module": "@jupyter-widgets/controls",
            "_model_module_version": "1.5.0",
            "_model_name": "HTMLModel",
            "_view_count": null,
            "_view_module": "@jupyter-widgets/controls",
            "_view_module_version": "1.5.0",
            "_view_name": "HTMLView",
            "description": "",
            "description_tooltip": null,
            "layout": "IPY_MODEL_c35316c14d034309b79e583197dfb847",
            "placeholder": "​",
            "style": "IPY_MODEL_d273359694c94845b53b485ba87ff051",
            "value": "Downloading: 100%"
          }
        },
        "aac918b1ee3c42edaacdae4f33019f29": {
          "model_module": "@jupyter-widgets/controls",
          "model_module_version": "1.5.0",
          "model_name": "HTMLModel",
          "state": {
            "_dom_classes": [],
            "_model_module": "@jupyter-widgets/controls",
            "_model_module_version": "1.5.0",
            "_model_name": "HTMLModel",
            "_view_count": null,
            "_view_module": "@jupyter-widgets/controls",
            "_view_module_version": "1.5.0",
            "_view_name": "HTMLView",
            "description": "",
            "description_tooltip": null,
            "layout": "IPY_MODEL_896092a5f3774be6aad41379edfb8ef3",
            "placeholder": "​",
            "style": "IPY_MODEL_03312975ef88458faab9631e4cc29b25",
            "value": "Downloading: 100%"
          }
        },
        "ace0cfa41b534008b6d1312a20dfd861": {
          "model_module": "@jupyter-widgets/controls",
          "model_module_version": "1.5.0",
          "model_name": "HTMLModel",
          "state": {
            "_dom_classes": [],
            "_model_module": "@jupyter-widgets/controls",
            "_model_module_version": "1.5.0",
            "_model_name": "HTMLModel",
            "_view_count": null,
            "_view_module": "@jupyter-widgets/controls",
            "_view_module_version": "1.5.0",
            "_view_name": "HTMLView",
            "description": "",
            "description_tooltip": null,
            "layout": "IPY_MODEL_4bb82a2e291f403da1faec67f2558cd6",
            "placeholder": "​",
            "style": "IPY_MODEL_072ec52d937d46048e005117708209c6",
            "value": "Downloading: 100%"
          }
        },
        "acf05dce2b4e4f1885d7faab53247e6a": {
          "model_module": "@jupyter-widgets/controls",
          "model_module_version": "1.5.0",
          "model_name": "HTMLModel",
          "state": {
            "_dom_classes": [],
            "_model_module": "@jupyter-widgets/controls",
            "_model_module_version": "1.5.0",
            "_model_name": "HTMLModel",
            "_view_count": null,
            "_view_module": "@jupyter-widgets/controls",
            "_view_module_version": "1.5.0",
            "_view_name": "HTMLView",
            "description": "",
            "description_tooltip": null,
            "layout": "IPY_MODEL_422ca468a1444a558d2cdfc294d1b71a",
            "placeholder": "​",
            "style": "IPY_MODEL_4172be7192ff494da2ae594aa9559c54",
            "value": " 1.14M/1.14M [00:00&lt;00:00, 1.04MB/s]"
          }
        },
        "b1ba8359de0a4a108fa5b5e147e27991": {
          "model_module": "@jupyter-widgets/controls",
          "model_module_version": "1.5.0",
          "model_name": "HTMLModel",
          "state": {
            "_dom_classes": [],
            "_model_module": "@jupyter-widgets/controls",
            "_model_module_version": "1.5.0",
            "_model_name": "HTMLModel",
            "_view_count": null,
            "_view_module": "@jupyter-widgets/controls",
            "_view_module_version": "1.5.0",
            "_view_name": "HTMLView",
            "description": "",
            "description_tooltip": null,
            "layout": "IPY_MODEL_61e9a4237c1c4dc1915e440c77820cde",
            "placeholder": "​",
            "style": "IPY_MODEL_f2327b5c3b944b4bbf356651715d380f",
            "value": "Downloading: 100%"
          }
        },
        "bce666c459574361838ce7d4a1bcab61": {
          "model_module": "@jupyter-widgets/controls",
          "model_module_version": "1.5.0",
          "model_name": "HTMLModel",
          "state": {
            "_dom_classes": [],
            "_model_module": "@jupyter-widgets/controls",
            "_model_module_version": "1.5.0",
            "_model_name": "HTMLModel",
            "_view_count": null,
            "_view_module": "@jupyter-widgets/controls",
            "_view_module_version": "1.5.0",
            "_view_name": "HTMLView",
            "description": "",
            "description_tooltip": null,
            "layout": "IPY_MODEL_1cb70e0b45274645ac799786b300a0f2",
            "placeholder": "​",
            "style": "IPY_MODEL_5a011db3fa2e429c8880267733215d1a",
            "value": " 621M/621M [00:26&lt;00:00, 32.1MB/s]"
          }
        },
        "bff7a444929f4fb8854a0e39b9ff3716": {
          "model_module": "@jupyter-widgets/controls",
          "model_module_version": "1.5.0",
          "model_name": "ProgressStyleModel",
          "state": {
            "_model_module": "@jupyter-widgets/controls",
            "_model_module_version": "1.5.0",
            "_model_name": "ProgressStyleModel",
            "_view_count": null,
            "_view_module": "@jupyter-widgets/base",
            "_view_module_version": "1.2.0",
            "_view_name": "StyleView",
            "bar_color": null,
            "description_width": ""
          }
        },
        "c1f3dc7e525146c2873fe98d0a56ce3c": {
          "model_module": "@jupyter-widgets/base",
          "model_module_version": "1.2.0",
          "model_name": "LayoutModel",
          "state": {
            "_model_module": "@jupyter-widgets/base",
            "_model_module_version": "1.2.0",
            "_model_name": "LayoutModel",
            "_view_count": null,
            "_view_module": "@jupyter-widgets/base",
            "_view_module_version": "1.2.0",
            "_view_name": "LayoutView",
            "align_content": null,
            "align_items": null,
            "align_self": null,
            "border": null,
            "bottom": null,
            "display": null,
            "flex": null,
            "flex_flow": null,
            "grid_area": null,
            "grid_auto_columns": null,
            "grid_auto_flow": null,
            "grid_auto_rows": null,
            "grid_column": null,
            "grid_gap": null,
            "grid_row": null,
            "grid_template_areas": null,
            "grid_template_columns": null,
            "grid_template_rows": null,
            "height": null,
            "justify_content": null,
            "justify_items": null,
            "left": null,
            "margin": null,
            "max_height": null,
            "max_width": null,
            "min_height": null,
            "min_width": null,
            "object_fit": null,
            "object_position": null,
            "order": null,
            "overflow": null,
            "overflow_x": null,
            "overflow_y": null,
            "padding": null,
            "right": null,
            "top": null,
            "visibility": null,
            "width": null
          }
        },
        "c2778e5f08034db882907558a2018197": {
          "model_module": "@jupyter-widgets/controls",
          "model_module_version": "1.5.0",
          "model_name": "DescriptionStyleModel",
          "state": {
            "_model_module": "@jupyter-widgets/controls",
            "_model_module_version": "1.5.0",
            "_model_name": "DescriptionStyleModel",
            "_view_count": null,
            "_view_module": "@jupyter-widgets/base",
            "_view_module_version": "1.2.0",
            "_view_name": "StyleView",
            "description_width": ""
          }
        },
        "c35316c14d034309b79e583197dfb847": {
          "model_module": "@jupyter-widgets/base",
          "model_module_version": "1.2.0",
          "model_name": "LayoutModel",
          "state": {
            "_model_module": "@jupyter-widgets/base",
            "_model_module_version": "1.2.0",
            "_model_name": "LayoutModel",
            "_view_count": null,
            "_view_module": "@jupyter-widgets/base",
            "_view_module_version": "1.2.0",
            "_view_name": "LayoutView",
            "align_content": null,
            "align_items": null,
            "align_self": null,
            "border": null,
            "bottom": null,
            "display": null,
            "flex": null,
            "flex_flow": null,
            "grid_area": null,
            "grid_auto_columns": null,
            "grid_auto_flow": null,
            "grid_auto_rows": null,
            "grid_column": null,
            "grid_gap": null,
            "grid_row": null,
            "grid_template_areas": null,
            "grid_template_columns": null,
            "grid_template_rows": null,
            "height": null,
            "justify_content": null,
            "justify_items": null,
            "left": null,
            "margin": null,
            "max_height": null,
            "max_width": null,
            "min_height": null,
            "min_width": null,
            "object_fit": null,
            "object_position": null,
            "order": null,
            "overflow": null,
            "overflow_x": null,
            "overflow_y": null,
            "padding": null,
            "right": null,
            "top": null,
            "visibility": null,
            "width": null
          }
        },
        "c6a7db1e6b85419b9768f215075d92d2": {
          "model_module": "@jupyter-widgets/base",
          "model_module_version": "1.2.0",
          "model_name": "LayoutModel",
          "state": {
            "_model_module": "@jupyter-widgets/base",
            "_model_module_version": "1.2.0",
            "_model_name": "LayoutModel",
            "_view_count": null,
            "_view_module": "@jupyter-widgets/base",
            "_view_module_version": "1.2.0",
            "_view_name": "LayoutView",
            "align_content": null,
            "align_items": null,
            "align_self": null,
            "border": null,
            "bottom": null,
            "display": null,
            "flex": null,
            "flex_flow": null,
            "grid_area": null,
            "grid_auto_columns": null,
            "grid_auto_flow": null,
            "grid_auto_rows": null,
            "grid_column": null,
            "grid_gap": null,
            "grid_row": null,
            "grid_template_areas": null,
            "grid_template_columns": null,
            "grid_template_rows": null,
            "height": null,
            "justify_content": null,
            "justify_items": null,
            "left": null,
            "margin": null,
            "max_height": null,
            "max_width": null,
            "min_height": null,
            "min_width": null,
            "object_fit": null,
            "object_position": null,
            "order": null,
            "overflow": null,
            "overflow_x": null,
            "overflow_y": null,
            "padding": null,
            "right": null,
            "top": null,
            "visibility": null,
            "width": null
          }
        },
        "c9f72b9aea094efcbf213ea34257199e": {
          "model_module": "@jupyter-widgets/controls",
          "model_module_version": "1.5.0",
          "model_name": "DescriptionStyleModel",
          "state": {
            "_model_module": "@jupyter-widgets/controls",
            "_model_module_version": "1.5.0",
            "_model_name": "DescriptionStyleModel",
            "_view_count": null,
            "_view_module": "@jupyter-widgets/base",
            "_view_module_version": "1.2.0",
            "_view_name": "StyleView",
            "description_width": ""
          }
        },
        "ccd558c7737044b7ad3ba52fdb0f7d56": {
          "model_module": "@jupyter-widgets/controls",
          "model_module_version": "1.5.0",
          "model_name": "FloatProgressModel",
          "state": {
            "_dom_classes": [],
            "_model_module": "@jupyter-widgets/controls",
            "_model_module_version": "1.5.0",
            "_model_name": "FloatProgressModel",
            "_view_count": null,
            "_view_module": "@jupyter-widgets/controls",
            "_view_module_version": "1.5.0",
            "_view_name": "ProgressView",
            "bar_style": "success",
            "description": "",
            "description_tooltip": null,
            "layout": "IPY_MODEL_ff93cfd61e3a43888e7b6a0b5d2054a7",
            "max": 404,
            "min": 0,
            "orientation": "horizontal",
            "style": "IPY_MODEL_bff7a444929f4fb8854a0e39b9ff3716",
            "value": 404
          }
        },
        "d273359694c94845b53b485ba87ff051": {
          "model_module": "@jupyter-widgets/controls",
          "model_module_version": "1.5.0",
          "model_name": "DescriptionStyleModel",
          "state": {
            "_model_module": "@jupyter-widgets/controls",
            "_model_module_version": "1.5.0",
            "_model_name": "DescriptionStyleModel",
            "_view_count": null,
            "_view_module": "@jupyter-widgets/base",
            "_view_module_version": "1.2.0",
            "_view_name": "StyleView",
            "description_width": ""
          }
        },
        "d7b4350e471e46c5b2823e4c24e8504b": {
          "model_module": "@jupyter-widgets/base",
          "model_module_version": "1.2.0",
          "model_name": "LayoutModel",
          "state": {
            "_model_module": "@jupyter-widgets/base",
            "_model_module_version": "1.2.0",
            "_model_name": "LayoutModel",
            "_view_count": null,
            "_view_module": "@jupyter-widgets/base",
            "_view_module_version": "1.2.0",
            "_view_name": "LayoutView",
            "align_content": null,
            "align_items": null,
            "align_self": null,
            "border": null,
            "bottom": null,
            "display": null,
            "flex": null,
            "flex_flow": null,
            "grid_area": null,
            "grid_auto_columns": null,
            "grid_auto_flow": null,
            "grid_auto_rows": null,
            "grid_column": null,
            "grid_gap": null,
            "grid_row": null,
            "grid_template_areas": null,
            "grid_template_columns": null,
            "grid_template_rows": null,
            "height": null,
            "justify_content": null,
            "justify_items": null,
            "left": null,
            "margin": null,
            "max_height": null,
            "max_width": null,
            "min_height": null,
            "min_width": null,
            "object_fit": null,
            "object_position": null,
            "order": null,
            "overflow": null,
            "overflow_x": null,
            "overflow_y": null,
            "padding": null,
            "right": null,
            "top": null,
            "visibility": null,
            "width": null
          }
        },
        "dbd0fb51ee7b4d92a8786adaa72e77a8": {
          "model_module": "@jupyter-widgets/base",
          "model_module_version": "1.2.0",
          "model_name": "LayoutModel",
          "state": {
            "_model_module": "@jupyter-widgets/base",
            "_model_module_version": "1.2.0",
            "_model_name": "LayoutModel",
            "_view_count": null,
            "_view_module": "@jupyter-widgets/base",
            "_view_module_version": "1.2.0",
            "_view_name": "LayoutView",
            "align_content": null,
            "align_items": null,
            "align_self": null,
            "border": null,
            "bottom": null,
            "display": null,
            "flex": null,
            "flex_flow": null,
            "grid_area": null,
            "grid_auto_columns": null,
            "grid_auto_flow": null,
            "grid_auto_rows": null,
            "grid_column": null,
            "grid_gap": null,
            "grid_row": null,
            "grid_template_areas": null,
            "grid_template_columns": null,
            "grid_template_rows": null,
            "height": null,
            "justify_content": null,
            "justify_items": null,
            "left": null,
            "margin": null,
            "max_height": null,
            "max_width": null,
            "min_height": null,
            "min_width": null,
            "object_fit": null,
            "object_position": null,
            "order": null,
            "overflow": null,
            "overflow_x": null,
            "overflow_y": null,
            "padding": null,
            "right": null,
            "top": null,
            "visibility": null,
            "width": null
          }
        },
        "de0d535409a543b790e9134043c1b223": {
          "model_module": "@jupyter-widgets/base",
          "model_module_version": "1.2.0",
          "model_name": "LayoutModel",
          "state": {
            "_model_module": "@jupyter-widgets/base",
            "_model_module_version": "1.2.0",
            "_model_name": "LayoutModel",
            "_view_count": null,
            "_view_module": "@jupyter-widgets/base",
            "_view_module_version": "1.2.0",
            "_view_name": "LayoutView",
            "align_content": null,
            "align_items": null,
            "align_self": null,
            "border": null,
            "bottom": null,
            "display": null,
            "flex": null,
            "flex_flow": null,
            "grid_area": null,
            "grid_auto_columns": null,
            "grid_auto_flow": null,
            "grid_auto_rows": null,
            "grid_column": null,
            "grid_gap": null,
            "grid_row": null,
            "grid_template_areas": null,
            "grid_template_columns": null,
            "grid_template_rows": null,
            "height": null,
            "justify_content": null,
            "justify_items": null,
            "left": null,
            "margin": null,
            "max_height": null,
            "max_width": null,
            "min_height": null,
            "min_width": null,
            "object_fit": null,
            "object_position": null,
            "order": null,
            "overflow": null,
            "overflow_x": null,
            "overflow_y": null,
            "padding": null,
            "right": null,
            "top": null,
            "visibility": null,
            "width": null
          }
        },
        "e13955d6c82146248b0f31c68385981f": {
          "model_module": "@jupyter-widgets/base",
          "model_module_version": "1.2.0",
          "model_name": "LayoutModel",
          "state": {
            "_model_module": "@jupyter-widgets/base",
            "_model_module_version": "1.2.0",
            "_model_name": "LayoutModel",
            "_view_count": null,
            "_view_module": "@jupyter-widgets/base",
            "_view_module_version": "1.2.0",
            "_view_name": "LayoutView",
            "align_content": null,
            "align_items": null,
            "align_self": null,
            "border": null,
            "bottom": null,
            "display": null,
            "flex": null,
            "flex_flow": null,
            "grid_area": null,
            "grid_auto_columns": null,
            "grid_auto_flow": null,
            "grid_auto_rows": null,
            "grid_column": null,
            "grid_gap": null,
            "grid_row": null,
            "grid_template_areas": null,
            "grid_template_columns": null,
            "grid_template_rows": null,
            "height": null,
            "justify_content": null,
            "justify_items": null,
            "left": null,
            "margin": null,
            "max_height": null,
            "max_width": null,
            "min_height": null,
            "min_width": null,
            "object_fit": null,
            "object_position": null,
            "order": null,
            "overflow": null,
            "overflow_x": null,
            "overflow_y": null,
            "padding": null,
            "right": null,
            "top": null,
            "visibility": null,
            "width": null
          }
        },
        "e7967f7b1b3f43deb505428bebdfb5cd": {
          "model_module": "@jupyter-widgets/base",
          "model_module_version": "1.2.0",
          "model_name": "LayoutModel",
          "state": {
            "_model_module": "@jupyter-widgets/base",
            "_model_module_version": "1.2.0",
            "_model_name": "LayoutModel",
            "_view_count": null,
            "_view_module": "@jupyter-widgets/base",
            "_view_module_version": "1.2.0",
            "_view_name": "LayoutView",
            "align_content": null,
            "align_items": null,
            "align_self": null,
            "border": null,
            "bottom": null,
            "display": null,
            "flex": null,
            "flex_flow": null,
            "grid_area": null,
            "grid_auto_columns": null,
            "grid_auto_flow": null,
            "grid_auto_rows": null,
            "grid_column": null,
            "grid_gap": null,
            "grid_row": null,
            "grid_template_areas": null,
            "grid_template_columns": null,
            "grid_template_rows": null,
            "height": null,
            "justify_content": null,
            "justify_items": null,
            "left": null,
            "margin": null,
            "max_height": null,
            "max_width": null,
            "min_height": null,
            "min_width": null,
            "object_fit": null,
            "object_position": null,
            "order": null,
            "overflow": null,
            "overflow_x": null,
            "overflow_y": null,
            "padding": null,
            "right": null,
            "top": null,
            "visibility": null,
            "width": null
          }
        },
        "e79a5db167a44f69adcf1e555039deca": {
          "model_module": "@jupyter-widgets/base",
          "model_module_version": "1.2.0",
          "model_name": "LayoutModel",
          "state": {
            "_model_module": "@jupyter-widgets/base",
            "_model_module_version": "1.2.0",
            "_model_name": "LayoutModel",
            "_view_count": null,
            "_view_module": "@jupyter-widgets/base",
            "_view_module_version": "1.2.0",
            "_view_name": "LayoutView",
            "align_content": null,
            "align_items": null,
            "align_self": null,
            "border": null,
            "bottom": null,
            "display": null,
            "flex": null,
            "flex_flow": null,
            "grid_area": null,
            "grid_auto_columns": null,
            "grid_auto_flow": null,
            "grid_auto_rows": null,
            "grid_column": null,
            "grid_gap": null,
            "grid_row": null,
            "grid_template_areas": null,
            "grid_template_columns": null,
            "grid_template_rows": null,
            "height": null,
            "justify_content": null,
            "justify_items": null,
            "left": null,
            "margin": null,
            "max_height": null,
            "max_width": null,
            "min_height": null,
            "min_width": null,
            "object_fit": null,
            "object_position": null,
            "order": null,
            "overflow": null,
            "overflow_x": null,
            "overflow_y": null,
            "padding": null,
            "right": null,
            "top": null,
            "visibility": null,
            "width": null
          }
        },
        "e8fe8597f4f84f3ca4bbf4cefa863f73": {
          "model_module": "@jupyter-widgets/controls",
          "model_module_version": "1.5.0",
          "model_name": "DescriptionStyleModel",
          "state": {
            "_model_module": "@jupyter-widgets/controls",
            "_model_module_version": "1.5.0",
            "_model_name": "DescriptionStyleModel",
            "_view_count": null,
            "_view_module": "@jupyter-widgets/base",
            "_view_module_version": "1.2.0",
            "_view_name": "StyleView",
            "description_width": ""
          }
        },
        "eba8dda6a66948869ad31ff003ab0323": {
          "model_module": "@jupyter-widgets/controls",
          "model_module_version": "1.5.0",
          "model_name": "FloatProgressModel",
          "state": {
            "_dom_classes": [],
            "_model_module": "@jupyter-widgets/controls",
            "_model_module_version": "1.5.0",
            "_model_name": "FloatProgressModel",
            "_view_count": null,
            "_view_module": "@jupyter-widgets/controls",
            "_view_module_version": "1.5.0",
            "_view_name": "ProgressView",
            "bar_style": "success",
            "description": "",
            "description_tooltip": null,
            "layout": "IPY_MODEL_fd24c13f576f4962af2328ec0b2fe81b",
            "max": 519,
            "min": 0,
            "orientation": "horizontal",
            "style": "IPY_MODEL_860693383d214b89ab666c7bb4b8b620",
            "value": 519
          }
        },
        "eca28dab45d44533b959efdfab523ada": {
          "model_module": "@jupyter-widgets/controls",
          "model_module_version": "1.5.0",
          "model_name": "ProgressStyleModel",
          "state": {
            "_model_module": "@jupyter-widgets/controls",
            "_model_module_version": "1.5.0",
            "_model_name": "ProgressStyleModel",
            "_view_count": null,
            "_view_module": "@jupyter-widgets/base",
            "_view_module_version": "1.2.0",
            "_view_name": "StyleView",
            "bar_color": null,
            "description_width": ""
          }
        },
        "efd3ffbeecbd4866af4550ddb835dde1": {
          "model_module": "@jupyter-widgets/controls",
          "model_module_version": "1.5.0",
          "model_name": "HTMLModel",
          "state": {
            "_dom_classes": [],
            "_model_module": "@jupyter-widgets/controls",
            "_model_module_version": "1.5.0",
            "_model_name": "HTMLModel",
            "_view_count": null,
            "_view_module": "@jupyter-widgets/controls",
            "_view_module_version": "1.5.0",
            "_view_name": "HTMLView",
            "description": "",
            "description_tooltip": null,
            "layout": "IPY_MODEL_3be1799486fd4c789b85e79e55ba85a2",
            "placeholder": "​",
            "style": "IPY_MODEL_e8fe8597f4f84f3ca4bbf4cefa863f73",
            "value": "Downloading: 100%"
          }
        },
        "f0f46a1743bb48e19efd916dd0aa6e86": {
          "model_module": "@jupyter-widgets/controls",
          "model_module_version": "1.5.0",
          "model_name": "HBoxModel",
          "state": {
            "_dom_classes": [],
            "_model_module": "@jupyter-widgets/controls",
            "_model_module_version": "1.5.0",
            "_model_name": "HBoxModel",
            "_view_count": null,
            "_view_module": "@jupyter-widgets/controls",
            "_view_module_version": "1.5.0",
            "_view_name": "HBoxView",
            "box_style": "",
            "children": [
              "IPY_MODEL_efd3ffbeecbd4866af4550ddb835dde1",
              "IPY_MODEL_eba8dda6a66948869ad31ff003ab0323",
              "IPY_MODEL_455326caf9234ae08cd43d3d86073485"
            ],
            "layout": "IPY_MODEL_9616ff8460ad4a7eba0dc47efa8676e7"
          }
        },
        "f2327b5c3b944b4bbf356651715d380f": {
          "model_module": "@jupyter-widgets/controls",
          "model_module_version": "1.5.0",
          "model_name": "DescriptionStyleModel",
          "state": {
            "_model_module": "@jupyter-widgets/controls",
            "_model_module_version": "1.5.0",
            "_model_name": "DescriptionStyleModel",
            "_view_count": null,
            "_view_module": "@jupyter-widgets/base",
            "_view_module_version": "1.2.0",
            "_view_name": "StyleView",
            "description_width": ""
          }
        },
        "f93d62d228e34338ad677cd3bbe9b521": {
          "model_module": "@jupyter-widgets/controls",
          "model_module_version": "1.5.0",
          "model_name": "HTMLModel",
          "state": {
            "_dom_classes": [],
            "_model_module": "@jupyter-widgets/controls",
            "_model_module_version": "1.5.0",
            "_model_name": "HTMLModel",
            "_view_count": null,
            "_view_module": "@jupyter-widgets/controls",
            "_view_module_version": "1.5.0",
            "_view_name": "HTMLView",
            "description": "",
            "description_tooltip": null,
            "layout": "IPY_MODEL_c6a7db1e6b85419b9768f215075d92d2",
            "placeholder": "​",
            "style": "IPY_MODEL_7b827b2338694629b66d8e69088b96b2",
            "value": " 112/112 [00:00&lt;00:00, 2.64kB/s]"
          }
        },
        "fd24c13f576f4962af2328ec0b2fe81b": {
          "model_module": "@jupyter-widgets/base",
          "model_module_version": "1.2.0",
          "model_name": "LayoutModel",
          "state": {
            "_model_module": "@jupyter-widgets/base",
            "_model_module_version": "1.2.0",
            "_model_name": "LayoutModel",
            "_view_count": null,
            "_view_module": "@jupyter-widgets/base",
            "_view_module_version": "1.2.0",
            "_view_name": "LayoutView",
            "align_content": null,
            "align_items": null,
            "align_self": null,
            "border": null,
            "bottom": null,
            "display": null,
            "flex": null,
            "flex_flow": null,
            "grid_area": null,
            "grid_auto_columns": null,
            "grid_auto_flow": null,
            "grid_auto_rows": null,
            "grid_column": null,
            "grid_gap": null,
            "grid_row": null,
            "grid_template_areas": null,
            "grid_template_columns": null,
            "grid_template_rows": null,
            "height": null,
            "justify_content": null,
            "justify_items": null,
            "left": null,
            "margin": null,
            "max_height": null,
            "max_width": null,
            "min_height": null,
            "min_width": null,
            "object_fit": null,
            "object_position": null,
            "order": null,
            "overflow": null,
            "overflow_x": null,
            "overflow_y": null,
            "padding": null,
            "right": null,
            "top": null,
            "visibility": null,
            "width": null
          }
        },
        "ff93cfd61e3a43888e7b6a0b5d2054a7": {
          "model_module": "@jupyter-widgets/base",
          "model_module_version": "1.2.0",
          "model_name": "LayoutModel",
          "state": {
            "_model_module": "@jupyter-widgets/base",
            "_model_module_version": "1.2.0",
            "_model_name": "LayoutModel",
            "_view_count": null,
            "_view_module": "@jupyter-widgets/base",
            "_view_module_version": "1.2.0",
            "_view_name": "LayoutView",
            "align_content": null,
            "align_items": null,
            "align_self": null,
            "border": null,
            "bottom": null,
            "display": null,
            "flex": null,
            "flex_flow": null,
            "grid_area": null,
            "grid_auto_columns": null,
            "grid_auto_flow": null,
            "grid_auto_rows": null,
            "grid_column": null,
            "grid_gap": null,
            "grid_row": null,
            "grid_template_areas": null,
            "grid_template_columns": null,
            "grid_template_rows": null,
            "height": null,
            "justify_content": null,
            "justify_items": null,
            "left": null,
            "margin": null,
            "max_height": null,
            "max_width": null,
            "min_height": null,
            "min_width": null,
            "object_fit": null,
            "object_position": null,
            "order": null,
            "overflow": null,
            "overflow_x": null,
            "overflow_y": null,
            "padding": null,
            "right": null,
            "top": null,
            "visibility": null,
            "width": null
          }
        }
      }
    }
  },
  "nbformat": 4,
  "nbformat_minor": 0
}