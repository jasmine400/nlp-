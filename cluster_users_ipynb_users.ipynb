{
  "nbformat": 4,
  "nbformat_minor": 0,
  "metadata": {
    "colab": {
      "provenance": [],
      "authorship_tag": "ABX9TyPLRW6H/Oc/JglBHHBTk8JO",
      "include_colab_link": true
    },
    "kernelspec": {
      "name": "python3",
      "display_name": "Python 3"
    },
    "language_info": {
      "name": "python"
    }
  },
  "cells": [
    {
      "cell_type": "markdown",
      "metadata": {
        "id": "view-in-github",
        "colab_type": "text"
      },
      "source": [
        "<a href=\"https://colab.research.google.com/github/jasmine400/nlp-/blob/main/cluster_users_ipynb_users.ipynb\" target=\"_parent\"><img src=\"https://colab.research.google.com/assets/colab-badge.svg\" alt=\"Open In Colab\"/></a>"
      ]
    },
    {
      "cell_type": "code",
      "execution_count": null,
      "metadata": {
        "colab": {
          "base_uri": "https://localhost:8080/"
        },
        "id": "fe0DLCVdSfNb",
        "outputId": "d736b83e-4e64-42dc-8092-f10ad5fa5f2b"
      },
      "outputs": [
        {
          "output_type": "stream",
          "name": "stdout",
          "text": [
            "Drive already mounted at /content/gdrive; to attempt to forcibly remount, call drive.mount(\"/content/gdrive\", force_remount=True).\n"
          ]
        }
      ],
      "source": [
        "#access google drive\n",
        "from google.colab import drive\n",
        "drive.mount('/content/gdrive')"
      ]
    },
    {
      "cell_type": "code",
      "source": [
        "#access google drive\n",
        "%cd /content/gdrive/My\\ Drive/almojib_service\n",
        "!ls"
      ],
      "metadata": {
        "colab": {
          "base_uri": "https://localhost:8080/"
        },
        "id": "XOchxB0XUB3R",
        "outputId": "92683c02-0d70-48b2-a585-2baea5de6b41"
      },
      "execution_count": null,
      "outputs": [
        {
          "output_type": "stream",
          "name": "stdout",
          "text": [
            "/content/gdrive/My Drive/almojib_service\n",
            "almojib_svd.ipynb\t\t\tlog_mjb_tst.csv   test_only.ipynb\n",
            "clusters.csv\t\t\t\tmovies.csv\t  u.data\n",
            "cluster_users.ipynb_users\t\tratings.csv\t  u.item\n",
            "data_almojib.json\t\t\tsearch_log.ipynb  Untitled0.ipynb\n",
            "define_clusters.ipynb\t\t\tsvd.ipynb\t  u.user\n",
            "export_dataframerecommendertst_alm.csv\ttags.csv\n"
          ]
        }
      ]
    },
    {
      "cell_type": "code",
      "source": [
        "import pandas as pd"
      ],
      "metadata": {
        "id": "v-eGeP6mUEmH"
      },
      "execution_count": null,
      "outputs": []
    },
    {
      "cell_type": "code",
      "source": [
        "cluster_df = pd.read_csv('export_dataframerecommendertst_alm.csv',lineterminator='\\n')"
      ],
      "metadata": {
        "id": "qg9KeBKIUGIJ"
      },
      "execution_count": null,
      "outputs": []
    },
    {
      "cell_type": "code",
      "source": [
        "cluster_df.head()"
      ],
      "metadata": {
        "colab": {
          "base_uri": "https://localhost:8080/",
          "height": 206
        },
        "id": "4th0jilMU7XH",
        "outputId": "d68d1f09-0066-4280-8c31-f407601e7236"
      },
      "execution_count": null,
      "outputs": [
        {
          "output_type": "execute_result",
          "data": {
            "text/plain": [
              "   Unnamed: 0                                          user_info question_id\\r\n",
              "0           0                                {'id': 0, 'age': 0}    139053.0\\r\n",
              "1           1  {'country': {'id': 469}, 'role': 'user', 'gend...    121280.0\\r\n",
              "2           2  {'country': {'id': 469}, 'role': 'user', 'gend...            \\r\n",
              "3           3  {'country': {'id': 469}, 'role': 'user', 'gend...     12001.0\\r\n",
              "4           4  {'country': {'id': 469}, 'role': 'user', 'gend...     64259.0\\r"
            ],
            "text/html": [
              "\n",
              "  <div id=\"df-a494d192-8306-4e56-8f39-26b8edc7ccca\">\n",
              "    <div class=\"colab-df-container\">\n",
              "      <div>\n",
              "<style scoped>\n",
              "    .dataframe tbody tr th:only-of-type {\n",
              "        vertical-align: middle;\n",
              "    }\n",
              "\n",
              "    .dataframe tbody tr th {\n",
              "        vertical-align: top;\n",
              "    }\n",
              "\n",
              "    .dataframe thead th {\n",
              "        text-align: right;\n",
              "    }\n",
              "</style>\n",
              "<table border=\"1\" class=\"dataframe\">\n",
              "  <thead>\n",
              "    <tr style=\"text-align: right;\">\n",
              "      <th></th>\n",
              "      <th>Unnamed: 0</th>\n",
              "      <th>user_info</th>\n",
              "      <th>question_id\\r</th>\n",
              "    </tr>\n",
              "  </thead>\n",
              "  <tbody>\n",
              "    <tr>\n",
              "      <th>0</th>\n",
              "      <td>0</td>\n",
              "      <td>{'id': 0, 'age': 0}</td>\n",
              "      <td>139053.0\\r</td>\n",
              "    </tr>\n",
              "    <tr>\n",
              "      <th>1</th>\n",
              "      <td>1</td>\n",
              "      <td>{'country': {'id': 469}, 'role': 'user', 'gend...</td>\n",
              "      <td>121280.0\\r</td>\n",
              "    </tr>\n",
              "    <tr>\n",
              "      <th>2</th>\n",
              "      <td>2</td>\n",
              "      <td>{'country': {'id': 469}, 'role': 'user', 'gend...</td>\n",
              "      <td>\\r</td>\n",
              "    </tr>\n",
              "    <tr>\n",
              "      <th>3</th>\n",
              "      <td>3</td>\n",
              "      <td>{'country': {'id': 469}, 'role': 'user', 'gend...</td>\n",
              "      <td>12001.0\\r</td>\n",
              "    </tr>\n",
              "    <tr>\n",
              "      <th>4</th>\n",
              "      <td>4</td>\n",
              "      <td>{'country': {'id': 469}, 'role': 'user', 'gend...</td>\n",
              "      <td>64259.0\\r</td>\n",
              "    </tr>\n",
              "  </tbody>\n",
              "</table>\n",
              "</div>\n",
              "      <button class=\"colab-df-convert\" onclick=\"convertToInteractive('df-a494d192-8306-4e56-8f39-26b8edc7ccca')\"\n",
              "              title=\"Convert this dataframe to an interactive table.\"\n",
              "              style=\"display:none;\">\n",
              "        \n",
              "  <svg xmlns=\"http://www.w3.org/2000/svg\" height=\"24px\"viewBox=\"0 0 24 24\"\n",
              "       width=\"24px\">\n",
              "    <path d=\"M0 0h24v24H0V0z\" fill=\"none\"/>\n",
              "    <path d=\"M18.56 5.44l.94 2.06.94-2.06 2.06-.94-2.06-.94-.94-2.06-.94 2.06-2.06.94zm-11 1L8.5 8.5l.94-2.06 2.06-.94-2.06-.94L8.5 2.5l-.94 2.06-2.06.94zm10 10l.94 2.06.94-2.06 2.06-.94-2.06-.94-.94-2.06-.94 2.06-2.06.94z\"/><path d=\"M17.41 7.96l-1.37-1.37c-.4-.4-.92-.59-1.43-.59-.52 0-1.04.2-1.43.59L10.3 9.45l-7.72 7.72c-.78.78-.78 2.05 0 2.83L4 21.41c.39.39.9.59 1.41.59.51 0 1.02-.2 1.41-.59l7.78-7.78 2.81-2.81c.8-.78.8-2.07 0-2.86zM5.41 20L4 18.59l7.72-7.72 1.47 1.35L5.41 20z\"/>\n",
              "  </svg>\n",
              "      </button>\n",
              "      \n",
              "  <style>\n",
              "    .colab-df-container {\n",
              "      display:flex;\n",
              "      flex-wrap:wrap;\n",
              "      gap: 12px;\n",
              "    }\n",
              "\n",
              "    .colab-df-convert {\n",
              "      background-color: #E8F0FE;\n",
              "      border: none;\n",
              "      border-radius: 50%;\n",
              "      cursor: pointer;\n",
              "      display: none;\n",
              "      fill: #1967D2;\n",
              "      height: 32px;\n",
              "      padding: 0 0 0 0;\n",
              "      width: 32px;\n",
              "    }\n",
              "\n",
              "    .colab-df-convert:hover {\n",
              "      background-color: #E2EBFA;\n",
              "      box-shadow: 0px 1px 2px rgba(60, 64, 67, 0.3), 0px 1px 3px 1px rgba(60, 64, 67, 0.15);\n",
              "      fill: #174EA6;\n",
              "    }\n",
              "\n",
              "    [theme=dark] .colab-df-convert {\n",
              "      background-color: #3B4455;\n",
              "      fill: #D2E3FC;\n",
              "    }\n",
              "\n",
              "    [theme=dark] .colab-df-convert:hover {\n",
              "      background-color: #434B5C;\n",
              "      box-shadow: 0px 1px 3px 1px rgba(0, 0, 0, 0.15);\n",
              "      filter: drop-shadow(0px 1px 2px rgba(0, 0, 0, 0.3));\n",
              "      fill: #FFFFFF;\n",
              "    }\n",
              "  </style>\n",
              "\n",
              "      <script>\n",
              "        const buttonEl =\n",
              "          document.querySelector('#df-a494d192-8306-4e56-8f39-26b8edc7ccca button.colab-df-convert');\n",
              "        buttonEl.style.display =\n",
              "          google.colab.kernel.accessAllowed ? 'block' : 'none';\n",
              "\n",
              "        async function convertToInteractive(key) {\n",
              "          const element = document.querySelector('#df-a494d192-8306-4e56-8f39-26b8edc7ccca');\n",
              "          const dataTable =\n",
              "            await google.colab.kernel.invokeFunction('convertToInteractive',\n",
              "                                                     [key], {});\n",
              "          if (!dataTable) return;\n",
              "\n",
              "          const docLinkHtml = 'Like what you see? Visit the ' +\n",
              "            '<a target=\"_blank\" href=https://colab.research.google.com/notebooks/data_table.ipynb>data table notebook</a>'\n",
              "            + ' to learn more about interactive tables.';\n",
              "          element.innerHTML = '';\n",
              "          dataTable['output_type'] = 'display_data';\n",
              "          await google.colab.output.renderOutput(dataTable, element);\n",
              "          const docLink = document.createElement('div');\n",
              "          docLink.innerHTML = docLinkHtml;\n",
              "          element.appendChild(docLink);\n",
              "        }\n",
              "      </script>\n",
              "    </div>\n",
              "  </div>\n",
              "  "
            ]
          },
          "metadata": {},
          "execution_count": 5
        }
      ]
    },
    {
      "cell_type": "code",
      "source": [
        "cluster_df = cluster_df[cluster_df['user_info'].notna()]"
      ],
      "metadata": {
        "id": "yvd4RlU8Vaz-"
      },
      "execution_count": null,
      "outputs": []
    },
    {
      "cell_type": "code",
      "source": [
        "Name_list = cluster_df['user_info'].tolist()\n",
        "print(Name_list)"
      ],
      "metadata": {
        "colab": {
          "base_uri": "https://localhost:8080/"
        },
        "id": "nF7SaRDaVlfQ",
        "outputId": "c3bbc6a6-e69d-432c-94ef-02a30db89bf9"
      },
      "execution_count": null,
      "outputs": [
        {
          "output_type": "stream",
          "name": "stdout",
          "text": [
            "[\"{'id': 0, 'age': 0}\", \"{'country': {'id': 469}, 'role': 'user', 'gender': 'male', 'id': 123088, 'display_name': 'اكرم محسن ', 'age': 21}\", \"{'country': {'id': 469}, 'role': 'user', 'gender': 'male', 'id': 85382, 'display_name': 'ابو علي', 'age': 50}\", \"{'country': {'id': 469}, 'role': 'user', 'gender': 'male', 'id': 123633, 'display_name': 'مصطفى حسين كاظم', 'age': 17}\", \"{'country': {'id': 469}, 'role': 'user', 'gender': 'male', 'id': 132287, 'display_name': 'احمد', 'age': 19}\", \"{'country': {'name': 'العراق', 'id': 469}, 'role': 'user', 'gender': 'male', 'id': 23004, 'display_name': 'حسين علي', 'age': 14}\", \"{'country': {'id': 469}, 'role': 'user', 'gender': 'female', 'id': 118412, 'display_name': 'كَوثر', 'age': 16}\", \"{'country': {'id': 469}, 'role': 'user', 'gender': 'male', 'id': 141341, 'display_name': 'ياصاحب الزمان', 'age': 20}\", \"{'country': {'id': 469}, 'role': 'user', 'gender': 'male', 'id': 138418, 'display_name': 'أمير ', 'age': 21}\", \"{'country': {'id': 469}, 'role': 'user', 'gender': 'male', 'id': 135126, 'display_name': 'علي سالم نزال', 'age': 15}\", \"{'country': {'id': 469}, 'role': 'user', 'gender': 'male', 'id': 91918, 'display_name': 'Hussain Rashid', 'age': 20}\", \"{'id': 0, 'age': 0}\", \"{'country': {'id': 469}, 'role': 'user', 'gender': 'female', 'id': 152656, 'display_name': 'ام رقية ', 'age': 19}\", \"{'country': {'id': 469}, 'role': 'user', 'gender': 'male', 'id': 91918, 'display_name': 'Hussain Rashid', 'age': 20}\", \"{'country': {'id': 469}, 'role': 'user', 'gender': 'male', 'id': 127069, 'display_name': 'Almosawi', 'age': 23}\", \"{'id': 0, 'age': 0}\", \"{'country': {'id': 469}, 'role': 'user', 'gender': 'female', 'id': 118412, 'display_name': 'كَوثر', 'age': 16}\", \"{'country': {'id': 0}, 'role': 'user', 'id': 94830, 'display_name': 'Aa', 'age': 0}\", \"{'country': {'id': 469}, 'role': 'user', 'gender': 'male', 'id': 85382, 'display_name': 'ابو علي', 'age': 50}\", \"{'country': {'name': 'العراق', 'id': 469}, 'role': 'user', 'gender': 'male', 'id': 143227, 'display_name': 'محسن نعمة داوود', 'age': 35}\", \"{'country': {'name': 'العراق', 'id': 469}, 'role': 'user', 'gender': 'male', 'id': 23004, 'display_name': 'حسين علي', 'age': 14}\", \"{'country': {'id': 469}, 'role': 'user', 'gender': 'male', 'id': 156529, 'display_name': 'محمد توفيق', 'age': 46}\", \"{'country': {'id': 469}, 'role': 'user', 'gender': 'male', 'id': 133987, 'display_name': 'Ali', 'age': 20}\", \"{'id': 0, 'age': 0}\", \"{'country': {'id': 469}, 'role': 'user', 'gender': 'female', 'id': 141508, 'display_name': 'نجاة ', 'age': 50}\", \"{'country': {'id': 0}, 'role': 'user', 'id': 148273, 'display_name': 'Mustafa Fadel', 'age': 0}\", \"{'country': {'id': 0}, 'role': 'user', 'id': 136405, 'display_name': 'مدد', 'age': 0}\", \"{'id': 0, 'age': 0}\", \"{'country': {'id': 0}, 'role': 'user', 'id': 148240, 'display_name': 'محمد وال محمد', 'age': 0}\", \"{'country': {'id': 469}, 'role': 'user', 'gender': 'male', 'id': 143080, 'display_name': 'Saif Mhnd', 'age': 17}\", \"{'id': 0, 'age': 0}\", \"{'id': 0, 'age': 0}\", \"{'country': {'id': 469}, 'role': 'user', 'gender': 'male', 'id': 91918, 'display_name': 'Hussain Rashid', 'age': 20}\", \"{'id': 0, 'age': 0}\", \"{'country': {'name': 'السعودية', 'id': 550}, 'role': 'user', 'gender': 'male', 'id': 122278, 'display_name': 'حسين الجبران ', 'age': 17}\", \"{'id': 0, 'age': 0}\", \"{'country': {'id': 0}, 'role': 'user', 'id': 148273, 'display_name': 'Mustafa Fadel', 'age': 0}\", \"{'id': 0, 'age': 0}\", \"{'country': {'name': 'العراق', 'id': 469}, 'role': 'user', 'gender': 'female', 'id': 90812, 'display_name': 'خادمة الزهراء', 'age': 15}\", \"{'country': {'id': 0}, 'role': 'user', 'id': 87607, 'display_name': 'العابد', 'age': 0}\", \"{'id': 0, 'age': 0}\", \"{'country': {'id': 0}, 'role': 'user', 'id': 173704, 'display_name': 'Aliraqi', 'age': 0}\", \"{'country': {'name': 'العراق', 'id': 469}, 'role': 'user', 'gender': 'male', 'id': 127973, 'display_name': 'الصافي', 'age': 26}\", \"{'id': 0, 'age': 0}\", \"{'country': {'id': 469}, 'role': 'user', 'gender': 'female', 'id': 127787, 'display_name': 'huda jaafar', 'age': 31}\", \"{'country': {'id': 0}, 'role': 'user', 'id': 148240, 'display_name': 'محمد وال محمد', 'age': 0}\", \"{'country': {'id': 469}, 'role': 'user', 'gender': 'male', 'id': 135126, 'display_name': 'علي سالم نزال', 'age': 15}\", \"{'id': 0, 'age': 0}\", \"{'id': 0, 'age': 0}\", \"{'id': 0, 'age': 0}\", \"{'country': {'id': 0}, 'role': 'user', 'id': 148273, 'display_name': 'Mustafa Fadel', 'age': 0}\", \"{'country': {'name': 'العراق', 'id': 469}, 'role': 'user', 'gender': 'male', 'id': 127973, 'display_name': 'الصافي', 'age': 26}\", \"{'country': {'id': 469}, 'role': 'user', 'gender': 'male', 'id': 141706, 'display_name': 'عبد الرحمن ', 'age': 28}\", \"{'country': {'id': 469}, 'role': 'user', 'gender': 'female', 'id': 16558, 'display_name': 'فاطمية الهوى ', 'age': 25}\", \"{'country': {'id': 469}, 'role': 'user', 'gender': 'male', 'id': 141341, 'display_name': 'ياصاحب الزمان', 'age': 20}\", \"{'country': {'name': 'العراق', 'id': 469}, 'role': 'user', 'gender': 'male', 'id': 58709, 'display_name': 'محمد حسن', 'age': 16}\", \"{'country': {'id': 0}, 'role': 'user', 'id': 142477, 'display_name': 'علي آلذهہبي', 'age': 0}\", \"{'country': {'name': 'السعودية', 'id': 550}, 'role': 'user', 'gender': 'male', 'id': 122278, 'display_name': 'حسين الجبران ', 'age': 17}\", \"{'id': 0, 'age': 0}\", \"{'country': {'id': 469}, 'role': 'user', 'gender': 'male', 'id': 139333, 'display_name': 'البسمة ', 'age': 36}\", \"{'id': 0, 'age': 0}\", \"{'id': 0, 'age': 0}\", \"{'id': 0, 'age': 0}\", \"{'id': 0, 'age': 0}\", \"{'id': 0, 'age': 0}\", \"{'country': {'id': 469}, 'role': 'user', 'gender': 'male', 'id': 135126, 'display_name': 'علي سالم نزال', 'age': 15}\", \"{'country': {'id': 0}, 'role': 'user', 'id': 142477, 'display_name': 'علي آلذهہبي', 'age': 0}\", \"{'country': {'id': 469}, 'role': 'user', 'gender': 'female', 'id': 122908, 'display_name': 'الزهراء', 'age': 22}\", \"{'country': {'id': 0}, 'role': 'user', 'id': 148240, 'display_name': 'محمد وال محمد', 'age': 0}\", \"{'id': 0, 'age': 0}\", \"{'id': 0, 'age': 0}\", \"{'country': {'id': 469}, 'role': 'user', 'gender': 'male', 'id': 56773, 'display_name': 'حہٰسہٰونيٰ الہٰرماحہٰيٰ', 'age': 21}\", \"{'country': {'id': 469}, 'role': 'user', 'gender': 'male', 'id': 85382, 'display_name': 'ابو علي', 'age': 50}\", \"{'country': {'name': 'العراق', 'id': 469}, 'role': 'user', 'gender': 'male', 'id': 58709, 'display_name': 'محمد حسن', 'age': 16}\", \"{'id': 0, 'age': 0}\", \"{'id': 0, 'age': 0}\", \"{'country': {'name': 'العراق', 'id': 469}, 'role': 'user', 'gender': 'male', 'id': 58709, 'display_name': 'محمد حسن', 'age': 16}\", \"{'country': {'id': 469}, 'role': 'user', 'gender': 'male', 'id': 131461, 'display_name': 'يا ابا الفضل', 'age': 21}\"]\n"
          ]
        }
      ]
    },
    {
      "cell_type": "code",
      "source": [
        "new=[]\n",
        "import ast\n",
        "for i in Name_list:\n",
        "  nn=ast.literal_eval(i)\n",
        "  new.append(nn)\n",
        "print(new)\n",
        "\n"
      ],
      "metadata": {
        "colab": {
          "base_uri": "https://localhost:8080/"
        },
        "id": "ztFy2BtRR6iq",
        "outputId": "4ac8ee9b-aa51-4a25-ca87-46529f5b3360"
      },
      "execution_count": null,
      "outputs": [
        {
          "output_type": "stream",
          "name": "stdout",
          "text": [
            "[{'id': 0, 'age': 0}, {'country': {'id': 469}, 'role': 'user', 'gender': 'male', 'id': 123088, 'display_name': 'اكرم محسن ', 'age': 21}, {'country': {'id': 469}, 'role': 'user', 'gender': 'male', 'id': 85382, 'display_name': 'ابو علي', 'age': 50}, {'country': {'id': 469}, 'role': 'user', 'gender': 'male', 'id': 123633, 'display_name': 'مصطفى حسين كاظم', 'age': 17}, {'country': {'id': 469}, 'role': 'user', 'gender': 'male', 'id': 132287, 'display_name': 'احمد', 'age': 19}, {'country': {'name': 'العراق', 'id': 469}, 'role': 'user', 'gender': 'male', 'id': 23004, 'display_name': 'حسين علي', 'age': 14}, {'country': {'id': 469}, 'role': 'user', 'gender': 'female', 'id': 118412, 'display_name': 'كَوثر', 'age': 16}, {'country': {'id': 469}, 'role': 'user', 'gender': 'male', 'id': 141341, 'display_name': 'ياصاحب الزمان', 'age': 20}, {'country': {'id': 469}, 'role': 'user', 'gender': 'male', 'id': 138418, 'display_name': 'أمير ', 'age': 21}, {'country': {'id': 469}, 'role': 'user', 'gender': 'male', 'id': 135126, 'display_name': 'علي سالم نزال', 'age': 15}, {'country': {'id': 469}, 'role': 'user', 'gender': 'male', 'id': 91918, 'display_name': 'Hussain Rashid', 'age': 20}, {'id': 0, 'age': 0}, {'country': {'id': 469}, 'role': 'user', 'gender': 'female', 'id': 152656, 'display_name': 'ام رقية ', 'age': 19}, {'country': {'id': 469}, 'role': 'user', 'gender': 'male', 'id': 91918, 'display_name': 'Hussain Rashid', 'age': 20}, {'country': {'id': 469}, 'role': 'user', 'gender': 'male', 'id': 127069, 'display_name': 'Almosawi', 'age': 23}, {'id': 0, 'age': 0}, {'country': {'id': 469}, 'role': 'user', 'gender': 'female', 'id': 118412, 'display_name': 'كَوثر', 'age': 16}, {'country': {'id': 0}, 'role': 'user', 'id': 94830, 'display_name': 'Aa', 'age': 0}, {'country': {'id': 469}, 'role': 'user', 'gender': 'male', 'id': 85382, 'display_name': 'ابو علي', 'age': 50}, {'country': {'name': 'العراق', 'id': 469}, 'role': 'user', 'gender': 'male', 'id': 143227, 'display_name': 'محسن نعمة داوود', 'age': 35}, {'country': {'name': 'العراق', 'id': 469}, 'role': 'user', 'gender': 'male', 'id': 23004, 'display_name': 'حسين علي', 'age': 14}, {'country': {'id': 469}, 'role': 'user', 'gender': 'male', 'id': 156529, 'display_name': 'محمد توفيق', 'age': 46}, {'country': {'id': 469}, 'role': 'user', 'gender': 'male', 'id': 133987, 'display_name': 'Ali', 'age': 20}, {'id': 0, 'age': 0}, {'country': {'id': 469}, 'role': 'user', 'gender': 'female', 'id': 141508, 'display_name': 'نجاة ', 'age': 50}, {'country': {'id': 0}, 'role': 'user', 'id': 148273, 'display_name': 'Mustafa Fadel', 'age': 0}, {'country': {'id': 0}, 'role': 'user', 'id': 136405, 'display_name': 'مدد', 'age': 0}, {'id': 0, 'age': 0}, {'country': {'id': 0}, 'role': 'user', 'id': 148240, 'display_name': 'محمد وال محمد', 'age': 0}, {'country': {'id': 469}, 'role': 'user', 'gender': 'male', 'id': 143080, 'display_name': 'Saif Mhnd', 'age': 17}, {'id': 0, 'age': 0}, {'id': 0, 'age': 0}, {'country': {'id': 469}, 'role': 'user', 'gender': 'male', 'id': 91918, 'display_name': 'Hussain Rashid', 'age': 20}, {'id': 0, 'age': 0}, {'country': {'name': 'السعودية', 'id': 550}, 'role': 'user', 'gender': 'male', 'id': 122278, 'display_name': 'حسين الجبران ', 'age': 17}, {'id': 0, 'age': 0}, {'country': {'id': 0}, 'role': 'user', 'id': 148273, 'display_name': 'Mustafa Fadel', 'age': 0}, {'id': 0, 'age': 0}, {'country': {'name': 'العراق', 'id': 469}, 'role': 'user', 'gender': 'female', 'id': 90812, 'display_name': 'خادمة الزهراء', 'age': 15}, {'country': {'id': 0}, 'role': 'user', 'id': 87607, 'display_name': 'العابد', 'age': 0}, {'id': 0, 'age': 0}, {'country': {'id': 0}, 'role': 'user', 'id': 173704, 'display_name': 'Aliraqi', 'age': 0}, {'country': {'name': 'العراق', 'id': 469}, 'role': 'user', 'gender': 'male', 'id': 127973, 'display_name': 'الصافي', 'age': 26}, {'id': 0, 'age': 0}, {'country': {'id': 469}, 'role': 'user', 'gender': 'female', 'id': 127787, 'display_name': 'huda jaafar', 'age': 31}, {'country': {'id': 0}, 'role': 'user', 'id': 148240, 'display_name': 'محمد وال محمد', 'age': 0}, {'country': {'id': 469}, 'role': 'user', 'gender': 'male', 'id': 135126, 'display_name': 'علي سالم نزال', 'age': 15}, {'id': 0, 'age': 0}, {'id': 0, 'age': 0}, {'id': 0, 'age': 0}, {'country': {'id': 0}, 'role': 'user', 'id': 148273, 'display_name': 'Mustafa Fadel', 'age': 0}, {'country': {'name': 'العراق', 'id': 469}, 'role': 'user', 'gender': 'male', 'id': 127973, 'display_name': 'الصافي', 'age': 26}, {'country': {'id': 469}, 'role': 'user', 'gender': 'male', 'id': 141706, 'display_name': 'عبد الرحمن ', 'age': 28}, {'country': {'id': 469}, 'role': 'user', 'gender': 'female', 'id': 16558, 'display_name': 'فاطمية الهوى ', 'age': 25}, {'country': {'id': 469}, 'role': 'user', 'gender': 'male', 'id': 141341, 'display_name': 'ياصاحب الزمان', 'age': 20}, {'country': {'name': 'العراق', 'id': 469}, 'role': 'user', 'gender': 'male', 'id': 58709, 'display_name': 'محمد حسن', 'age': 16}, {'country': {'id': 0}, 'role': 'user', 'id': 142477, 'display_name': 'علي آلذهہبي', 'age': 0}, {'country': {'name': 'السعودية', 'id': 550}, 'role': 'user', 'gender': 'male', 'id': 122278, 'display_name': 'حسين الجبران ', 'age': 17}, {'id': 0, 'age': 0}, {'country': {'id': 469}, 'role': 'user', 'gender': 'male', 'id': 139333, 'display_name': 'البسمة ', 'age': 36}, {'id': 0, 'age': 0}, {'id': 0, 'age': 0}, {'id': 0, 'age': 0}, {'id': 0, 'age': 0}, {'id': 0, 'age': 0}, {'country': {'id': 469}, 'role': 'user', 'gender': 'male', 'id': 135126, 'display_name': 'علي سالم نزال', 'age': 15}, {'country': {'id': 0}, 'role': 'user', 'id': 142477, 'display_name': 'علي آلذهہبي', 'age': 0}, {'country': {'id': 469}, 'role': 'user', 'gender': 'female', 'id': 122908, 'display_name': 'الزهراء', 'age': 22}, {'country': {'id': 0}, 'role': 'user', 'id': 148240, 'display_name': 'محمد وال محمد', 'age': 0}, {'id': 0, 'age': 0}, {'id': 0, 'age': 0}, {'country': {'id': 469}, 'role': 'user', 'gender': 'male', 'id': 56773, 'display_name': 'حہٰسہٰونيٰ الہٰرماحہٰيٰ', 'age': 21}, {'country': {'id': 469}, 'role': 'user', 'gender': 'male', 'id': 85382, 'display_name': 'ابو علي', 'age': 50}, {'country': {'name': 'العراق', 'id': 469}, 'role': 'user', 'gender': 'male', 'id': 58709, 'display_name': 'محمد حسن', 'age': 16}, {'id': 0, 'age': 0}, {'id': 0, 'age': 0}, {'country': {'name': 'العراق', 'id': 469}, 'role': 'user', 'gender': 'male', 'id': 58709, 'display_name': 'محمد حسن', 'age': 16}, {'country': {'id': 469}, 'role': 'user', 'gender': 'male', 'id': 131461, 'display_name': 'يا ابا الفضل', 'age': 21}]\n"
          ]
        }
      ]
    },
    {
      "cell_type": "code",
      "source": [
        "import json"
      ],
      "metadata": {
        "id": "pP8juL8LVyNY"
      },
      "execution_count": null,
      "outputs": []
    },
    {
      "cell_type": "code",
      "source": [
        "def convert_to_jsone(str_list):\n",
        "  new_lst=[]\n",
        "  for i in str_list:\n",
        "    # print(type(i))\n",
        "    i = i.replace(\"\\'\", \"\\\"\")\n",
        "    res = json.loads(i)\n",
        "    new_lst.append(res)\n",
        "\n",
        "  return(new_lst)"
      ],
      "metadata": {
        "id": "eAwz63s5Vqyf"
      },
      "execution_count": null,
      "outputs": []
    },
    {
      "cell_type": "code",
      "source": [
        "def list_of_nan_user_ids(first_lst):\n",
        "  list_of_nan=[]\n",
        "  key='id'\n",
        "  for j in range(len(first_lst)):\n",
        "    i=first_lst[j]\n",
        "    if i['id']==0:\n",
        "      # print(j)\n",
        "      list_of_nan.append(j)\n",
        "\n",
        "  return list_of_nan"
      ],
      "metadata": {
        "id": "UAlg56FHVuoI"
      },
      "execution_count": null,
      "outputs": []
    },
    {
      "cell_type": "code",
      "source": [
        "list_of_dics=convert_to_jsone(Name_list)\n",
        "print(list_of_dics)\n",
        "nan_user_ids=list_of_nan_user_ids(list_of_dics)"
      ],
      "metadata": {
        "colab": {
          "base_uri": "https://localhost:8080/"
        },
        "id": "mN5vezUtVxYK",
        "outputId": "a9ec5df0-091d-4385-ff45-b48a0127b8e2"
      },
      "execution_count": null,
      "outputs": [
        {
          "output_type": "stream",
          "name": "stdout",
          "text": [
            "[{'id': 0, 'age': 0}, {'country': {'id': 469}, 'role': 'user', 'gender': 'male', 'id': 123088, 'display_name': 'اكرم محسن ', 'age': 21}, {'country': {'id': 469}, 'role': 'user', 'gender': 'male', 'id': 85382, 'display_name': 'ابو علي', 'age': 50}, {'country': {'id': 469}, 'role': 'user', 'gender': 'male', 'id': 123633, 'display_name': 'مصطفى حسين كاظم', 'age': 17}, {'country': {'id': 469}, 'role': 'user', 'gender': 'male', 'id': 132287, 'display_name': 'احمد', 'age': 19}, {'country': {'name': 'العراق', 'id': 469}, 'role': 'user', 'gender': 'male', 'id': 23004, 'display_name': 'حسين علي', 'age': 14}, {'country': {'id': 469}, 'role': 'user', 'gender': 'female', 'id': 118412, 'display_name': 'كَوثر', 'age': 16}, {'country': {'id': 469}, 'role': 'user', 'gender': 'male', 'id': 141341, 'display_name': 'ياصاحب الزمان', 'age': 20}, {'country': {'id': 469}, 'role': 'user', 'gender': 'male', 'id': 138418, 'display_name': 'أمير ', 'age': 21}, {'country': {'id': 469}, 'role': 'user', 'gender': 'male', 'id': 135126, 'display_name': 'علي سالم نزال', 'age': 15}, {'country': {'id': 469}, 'role': 'user', 'gender': 'male', 'id': 91918, 'display_name': 'Hussain Rashid', 'age': 20}, {'id': 0, 'age': 0}, {'country': {'id': 469}, 'role': 'user', 'gender': 'female', 'id': 152656, 'display_name': 'ام رقية ', 'age': 19}, {'country': {'id': 469}, 'role': 'user', 'gender': 'male', 'id': 91918, 'display_name': 'Hussain Rashid', 'age': 20}, {'country': {'id': 469}, 'role': 'user', 'gender': 'male', 'id': 127069, 'display_name': 'Almosawi', 'age': 23}, {'id': 0, 'age': 0}, {'country': {'id': 469}, 'role': 'user', 'gender': 'female', 'id': 118412, 'display_name': 'كَوثر', 'age': 16}, {'country': {'id': 0}, 'role': 'user', 'id': 94830, 'display_name': 'Aa', 'age': 0}, {'country': {'id': 469}, 'role': 'user', 'gender': 'male', 'id': 85382, 'display_name': 'ابو علي', 'age': 50}, {'country': {'name': 'العراق', 'id': 469}, 'role': 'user', 'gender': 'male', 'id': 143227, 'display_name': 'محسن نعمة داوود', 'age': 35}, {'country': {'name': 'العراق', 'id': 469}, 'role': 'user', 'gender': 'male', 'id': 23004, 'display_name': 'حسين علي', 'age': 14}, {'country': {'id': 469}, 'role': 'user', 'gender': 'male', 'id': 156529, 'display_name': 'محمد توفيق', 'age': 46}, {'country': {'id': 469}, 'role': 'user', 'gender': 'male', 'id': 133987, 'display_name': 'Ali', 'age': 20}, {'id': 0, 'age': 0}, {'country': {'id': 469}, 'role': 'user', 'gender': 'female', 'id': 141508, 'display_name': 'نجاة ', 'age': 50}, {'country': {'id': 0}, 'role': 'user', 'id': 148273, 'display_name': 'Mustafa Fadel', 'age': 0}, {'country': {'id': 0}, 'role': 'user', 'id': 136405, 'display_name': 'مدد', 'age': 0}, {'id': 0, 'age': 0}, {'country': {'id': 0}, 'role': 'user', 'id': 148240, 'display_name': 'محمد وال محمد', 'age': 0}, {'country': {'id': 469}, 'role': 'user', 'gender': 'male', 'id': 143080, 'display_name': 'Saif Mhnd', 'age': 17}, {'id': 0, 'age': 0}, {'id': 0, 'age': 0}, {'country': {'id': 469}, 'role': 'user', 'gender': 'male', 'id': 91918, 'display_name': 'Hussain Rashid', 'age': 20}, {'id': 0, 'age': 0}, {'country': {'name': 'السعودية', 'id': 550}, 'role': 'user', 'gender': 'male', 'id': 122278, 'display_name': 'حسين الجبران ', 'age': 17}, {'id': 0, 'age': 0}, {'country': {'id': 0}, 'role': 'user', 'id': 148273, 'display_name': 'Mustafa Fadel', 'age': 0}, {'id': 0, 'age': 0}, {'country': {'name': 'العراق', 'id': 469}, 'role': 'user', 'gender': 'female', 'id': 90812, 'display_name': 'خادمة الزهراء', 'age': 15}, {'country': {'id': 0}, 'role': 'user', 'id': 87607, 'display_name': 'العابد', 'age': 0}, {'id': 0, 'age': 0}, {'country': {'id': 0}, 'role': 'user', 'id': 173704, 'display_name': 'Aliraqi', 'age': 0}, {'country': {'name': 'العراق', 'id': 469}, 'role': 'user', 'gender': 'male', 'id': 127973, 'display_name': 'الصافي', 'age': 26}, {'id': 0, 'age': 0}, {'country': {'id': 469}, 'role': 'user', 'gender': 'female', 'id': 127787, 'display_name': 'huda jaafar', 'age': 31}, {'country': {'id': 0}, 'role': 'user', 'id': 148240, 'display_name': 'محمد وال محمد', 'age': 0}, {'country': {'id': 469}, 'role': 'user', 'gender': 'male', 'id': 135126, 'display_name': 'علي سالم نزال', 'age': 15}, {'id': 0, 'age': 0}, {'id': 0, 'age': 0}, {'id': 0, 'age': 0}, {'country': {'id': 0}, 'role': 'user', 'id': 148273, 'display_name': 'Mustafa Fadel', 'age': 0}, {'country': {'name': 'العراق', 'id': 469}, 'role': 'user', 'gender': 'male', 'id': 127973, 'display_name': 'الصافي', 'age': 26}, {'country': {'id': 469}, 'role': 'user', 'gender': 'male', 'id': 141706, 'display_name': 'عبد الرحمن ', 'age': 28}, {'country': {'id': 469}, 'role': 'user', 'gender': 'female', 'id': 16558, 'display_name': 'فاطمية الهوى ', 'age': 25}, {'country': {'id': 469}, 'role': 'user', 'gender': 'male', 'id': 141341, 'display_name': 'ياصاحب الزمان', 'age': 20}, {'country': {'name': 'العراق', 'id': 469}, 'role': 'user', 'gender': 'male', 'id': 58709, 'display_name': 'محمد حسن', 'age': 16}, {'country': {'id': 0}, 'role': 'user', 'id': 142477, 'display_name': 'علي آلذهہبي', 'age': 0}, {'country': {'name': 'السعودية', 'id': 550}, 'role': 'user', 'gender': 'male', 'id': 122278, 'display_name': 'حسين الجبران ', 'age': 17}, {'id': 0, 'age': 0}, {'country': {'id': 469}, 'role': 'user', 'gender': 'male', 'id': 139333, 'display_name': 'البسمة ', 'age': 36}, {'id': 0, 'age': 0}, {'id': 0, 'age': 0}, {'id': 0, 'age': 0}, {'id': 0, 'age': 0}, {'id': 0, 'age': 0}, {'country': {'id': 469}, 'role': 'user', 'gender': 'male', 'id': 135126, 'display_name': 'علي سالم نزال', 'age': 15}, {'country': {'id': 0}, 'role': 'user', 'id': 142477, 'display_name': 'علي آلذهہبي', 'age': 0}, {'country': {'id': 469}, 'role': 'user', 'gender': 'female', 'id': 122908, 'display_name': 'الزهراء', 'age': 22}, {'country': {'id': 0}, 'role': 'user', 'id': 148240, 'display_name': 'محمد وال محمد', 'age': 0}, {'id': 0, 'age': 0}, {'id': 0, 'age': 0}, {'country': {'id': 469}, 'role': 'user', 'gender': 'male', 'id': 56773, 'display_name': 'حہٰسہٰونيٰ الہٰرماحہٰيٰ', 'age': 21}, {'country': {'id': 469}, 'role': 'user', 'gender': 'male', 'id': 85382, 'display_name': 'ابو علي', 'age': 50}, {'country': {'name': 'العراق', 'id': 469}, 'role': 'user', 'gender': 'male', 'id': 58709, 'display_name': 'محمد حسن', 'age': 16}, {'id': 0, 'age': 0}, {'id': 0, 'age': 0}, {'country': {'name': 'العراق', 'id': 469}, 'role': 'user', 'gender': 'male', 'id': 58709, 'display_name': 'محمد حسن', 'age': 16}, {'country': {'id': 469}, 'role': 'user', 'gender': 'male', 'id': 131461, 'display_name': 'يا ابا الفضل', 'age': 21}]\n"
          ]
        }
      ]
    },
    {
      "cell_type": "code",
      "source": [
        "#drop rows with nan user ids\n",
        "cluster_df.drop(cluster_df.index[nan_user_ids],inplace=True)"
      ],
      "metadata": {
        "id": "omBrz9myV2Vn"
      },
      "execution_count": null,
      "outputs": []
    },
    {
      "cell_type": "code",
      "source": [
        "def delete_multiple_element(list_object, indices):\n",
        "    indices = sorted(indices, reverse=True)\n",
        "    for idx in indices:\n",
        "        # print(idx)\n",
        "        if idx < len(list_object):\n",
        "            # print(idx)\n",
        "            list_object.pop(idx)\n",
        "    return(list_object)"
      ],
      "metadata": {
        "id": "u3Y-gDMiWFKA"
      },
      "execution_count": null,
      "outputs": []
    },
    {
      "cell_type": "code",
      "source": [
        "remain_ids=delete_multiple_element(list_of_dics, nan_user_ids)\n",
        "print(len(remain_ids))"
      ],
      "metadata": {
        "colab": {
          "base_uri": "https://localhost:8080/"
        },
        "id": "xcPRq6GSWSh6",
        "outputId": "bc820dbc-b738-45a8-abf2-603e41d25a3b"
      },
      "execution_count": null,
      "outputs": [
        {
          "output_type": "stream",
          "name": "stdout",
          "text": [
            "53\n"
          ]
        }
      ]
    },
    {
      "cell_type": "code",
      "source": [
        "import numpy as np"
      ],
      "metadata": {
        "id": "DvwYrLB8WluW"
      },
      "execution_count": null,
      "outputs": []
    },
    {
      "cell_type": "code",
      "source": [
        "def list_of_genders(i):\n",
        "  if 'gender' in i.keys():\n",
        "     gender_t=i['gender']\n",
        "     if gender_t=='male'   :\n",
        "       gender=20\n",
        "     elif  gender_t=='female':\n",
        "       gender=30\n",
        "\n",
        "     else:\n",
        "      gender=np.nan\n",
        "  else:\n",
        "    gender=np.nan\n",
        "  return(gender)"
      ],
      "metadata": {
        "id": "grXiqAnYWYsH"
      },
      "execution_count": null,
      "outputs": []
    },
    {
      "cell_type": "code",
      "source": [
        "def list_of_ages(i):\n",
        "  if  'age' in i.keys():\n",
        "    age=i['age']\n",
        "    if (age>0 or age==0):\n",
        "      age_cnt=age\n",
        "    else:\n",
        "      age_cnt=np.nan\n",
        "  else:\n",
        "    age_cnt=np.nan\n",
        "  return(age_cnt)"
      ],
      "metadata": {
        "id": "OzNFBCwxWcea"
      },
      "execution_count": null,
      "outputs": []
    },
    {
      "cell_type": "code",
      "source": [
        "def list_of_countries(i):\n",
        "  if 'country' in i.keys():\n",
        "    country_id=i['country']['id']\n",
        "    if (country_id>0 or country_id==0):\n",
        "      cnt_id=country_id\n",
        "    else:\n",
        "      cnt_id=np.nan\n",
        "  else:\n",
        "    cnt_id=np.nan\n",
        "  return(cnt_id)"
      ],
      "metadata": {
        "id": "_4XI4M4PWfzK"
      },
      "execution_count": null,
      "outputs": []
    },
    {
      "cell_type": "code",
      "source": [
        "def list_of_user_ids(i):\n",
        "  if 'id' in i.keys():\n",
        "    user_id=i['id']\n",
        "    if (user_id>0 or user_id==0):\n",
        "      id=user_id\n",
        "    else:\n",
        "      id=np.nan\n",
        "  else:\n",
        "    id=np.nan\n",
        "  return(id)"
      ],
      "metadata": {
        "id": "k6SpYIMyWh10"
      },
      "execution_count": null,
      "outputs": []
    },
    {
      "cell_type": "code",
      "source": [
        "user_ids=[]\n",
        "country_ids=[]\n",
        "ages=[]\n",
        "genders=[]\n",
        "for i in remain_ids:\n",
        "  user_id=list_of_user_ids(i)\n",
        "  user_ids.append(user_id)\n",
        "  cnt_id=list_of_countries(i)\n",
        "  country_ids.append(cnt_id)\n",
        "  age_cnt=list_of_ages(i)\n",
        "  ages.append(age_cnt)\n",
        "  gender=list_of_genders(i)\n",
        "  genders.append(gender)"
      ],
      "metadata": {
        "id": "Q47glre5WjeE"
      },
      "execution_count": null,
      "outputs": []
    },
    {
      "cell_type": "code",
      "source": [
        "cluster_df['user_id'] = user_ids\n",
        "cluster_df['age']= ages\n",
        "cluster_df['gender']=genders\n",
        "cluster_df['country_id']=country_ids"
      ],
      "metadata": {
        "id": "h-w-if8CW9ty"
      },
      "execution_count": null,
      "outputs": []
    },
    {
      "cell_type": "code",
      "source": [
        "df_info = cluster_df[['user_id', 'age','gender','country_id']]"
      ],
      "metadata": {
        "id": "CKQillE8XHI6"
      },
      "execution_count": null,
      "outputs": []
    },
    {
      "cell_type": "code",
      "source": [
        "df_info.drop_duplicates(subset ='user_id',\n",
        "                     keep = 'first', inplace = True)"
      ],
      "metadata": {
        "colab": {
          "base_uri": "https://localhost:8080/"
        },
        "id": "RENIjgjNXNCh",
        "outputId": "3f852f91-4349-4b56-de87-72683c46c12e"
      },
      "execution_count": null,
      "outputs": [
        {
          "output_type": "stream",
          "name": "stderr",
          "text": [
            "/usr/local/lib/python3.7/dist-packages/pandas/util/_decorators.py:311: SettingWithCopyWarning: \n",
            "A value is trying to be set on a copy of a slice from a DataFrame\n",
            "\n",
            "See the caveats in the documentation: https://pandas.pydata.org/pandas-docs/stable/user_guide/indexing.html#returning-a-view-versus-a-copy\n",
            "  return func(*args, **kwargs)\n"
          ]
        }
      ]
    },
    {
      "cell_type": "code",
      "source": [
        "df_info = df_info.set_index('user_id', drop=False)"
      ],
      "metadata": {
        "id": "4EMJEtIMXQf9"
      },
      "execution_count": null,
      "outputs": []
    },
    {
      "cell_type": "code",
      "source": [
        "df_info.head()"
      ],
      "metadata": {
        "colab": {
          "base_uri": "https://localhost:8080/",
          "height": 237
        },
        "id": "S3r2nLpkd5rP",
        "outputId": "aa112d12-1ddd-4863-993b-026192d0cff1"
      },
      "execution_count": null,
      "outputs": [
        {
          "output_type": "execute_result",
          "data": {
            "text/plain": [
              "         user_id  age  gender  country_id\n",
              "user_id                                  \n",
              "123088    123088   21    20.0         469\n",
              "85382      85382   50    20.0         469\n",
              "123633    123633   17    20.0         469\n",
              "132287    132287   19    20.0         469\n",
              "23004      23004   14    20.0         469"
            ],
            "text/html": [
              "\n",
              "  <div id=\"df-11135bf8-df80-43a8-9a97-8b6ff8edbafd\">\n",
              "    <div class=\"colab-df-container\">\n",
              "      <div>\n",
              "<style scoped>\n",
              "    .dataframe tbody tr th:only-of-type {\n",
              "        vertical-align: middle;\n",
              "    }\n",
              "\n",
              "    .dataframe tbody tr th {\n",
              "        vertical-align: top;\n",
              "    }\n",
              "\n",
              "    .dataframe thead th {\n",
              "        text-align: right;\n",
              "    }\n",
              "</style>\n",
              "<table border=\"1\" class=\"dataframe\">\n",
              "  <thead>\n",
              "    <tr style=\"text-align: right;\">\n",
              "      <th></th>\n",
              "      <th>user_id</th>\n",
              "      <th>age</th>\n",
              "      <th>gender</th>\n",
              "      <th>country_id</th>\n",
              "    </tr>\n",
              "    <tr>\n",
              "      <th>user_id</th>\n",
              "      <th></th>\n",
              "      <th></th>\n",
              "      <th></th>\n",
              "      <th></th>\n",
              "    </tr>\n",
              "  </thead>\n",
              "  <tbody>\n",
              "    <tr>\n",
              "      <th>123088</th>\n",
              "      <td>123088</td>\n",
              "      <td>21</td>\n",
              "      <td>20.0</td>\n",
              "      <td>469</td>\n",
              "    </tr>\n",
              "    <tr>\n",
              "      <th>85382</th>\n",
              "      <td>85382</td>\n",
              "      <td>50</td>\n",
              "      <td>20.0</td>\n",
              "      <td>469</td>\n",
              "    </tr>\n",
              "    <tr>\n",
              "      <th>123633</th>\n",
              "      <td>123633</td>\n",
              "      <td>17</td>\n",
              "      <td>20.0</td>\n",
              "      <td>469</td>\n",
              "    </tr>\n",
              "    <tr>\n",
              "      <th>132287</th>\n",
              "      <td>132287</td>\n",
              "      <td>19</td>\n",
              "      <td>20.0</td>\n",
              "      <td>469</td>\n",
              "    </tr>\n",
              "    <tr>\n",
              "      <th>23004</th>\n",
              "      <td>23004</td>\n",
              "      <td>14</td>\n",
              "      <td>20.0</td>\n",
              "      <td>469</td>\n",
              "    </tr>\n",
              "  </tbody>\n",
              "</table>\n",
              "</div>\n",
              "      <button class=\"colab-df-convert\" onclick=\"convertToInteractive('df-11135bf8-df80-43a8-9a97-8b6ff8edbafd')\"\n",
              "              title=\"Convert this dataframe to an interactive table.\"\n",
              "              style=\"display:none;\">\n",
              "        \n",
              "  <svg xmlns=\"http://www.w3.org/2000/svg\" height=\"24px\"viewBox=\"0 0 24 24\"\n",
              "       width=\"24px\">\n",
              "    <path d=\"M0 0h24v24H0V0z\" fill=\"none\"/>\n",
              "    <path d=\"M18.56 5.44l.94 2.06.94-2.06 2.06-.94-2.06-.94-.94-2.06-.94 2.06-2.06.94zm-11 1L8.5 8.5l.94-2.06 2.06-.94-2.06-.94L8.5 2.5l-.94 2.06-2.06.94zm10 10l.94 2.06.94-2.06 2.06-.94-2.06-.94-.94-2.06-.94 2.06-2.06.94z\"/><path d=\"M17.41 7.96l-1.37-1.37c-.4-.4-.92-.59-1.43-.59-.52 0-1.04.2-1.43.59L10.3 9.45l-7.72 7.72c-.78.78-.78 2.05 0 2.83L4 21.41c.39.39.9.59 1.41.59.51 0 1.02-.2 1.41-.59l7.78-7.78 2.81-2.81c.8-.78.8-2.07 0-2.86zM5.41 20L4 18.59l7.72-7.72 1.47 1.35L5.41 20z\"/>\n",
              "  </svg>\n",
              "      </button>\n",
              "      \n",
              "  <style>\n",
              "    .colab-df-container {\n",
              "      display:flex;\n",
              "      flex-wrap:wrap;\n",
              "      gap: 12px;\n",
              "    }\n",
              "\n",
              "    .colab-df-convert {\n",
              "      background-color: #E8F0FE;\n",
              "      border: none;\n",
              "      border-radius: 50%;\n",
              "      cursor: pointer;\n",
              "      display: none;\n",
              "      fill: #1967D2;\n",
              "      height: 32px;\n",
              "      padding: 0 0 0 0;\n",
              "      width: 32px;\n",
              "    }\n",
              "\n",
              "    .colab-df-convert:hover {\n",
              "      background-color: #E2EBFA;\n",
              "      box-shadow: 0px 1px 2px rgba(60, 64, 67, 0.3), 0px 1px 3px 1px rgba(60, 64, 67, 0.15);\n",
              "      fill: #174EA6;\n",
              "    }\n",
              "\n",
              "    [theme=dark] .colab-df-convert {\n",
              "      background-color: #3B4455;\n",
              "      fill: #D2E3FC;\n",
              "    }\n",
              "\n",
              "    [theme=dark] .colab-df-convert:hover {\n",
              "      background-color: #434B5C;\n",
              "      box-shadow: 0px 1px 3px 1px rgba(0, 0, 0, 0.15);\n",
              "      filter: drop-shadow(0px 1px 2px rgba(0, 0, 0, 0.3));\n",
              "      fill: #FFFFFF;\n",
              "    }\n",
              "  </style>\n",
              "\n",
              "      <script>\n",
              "        const buttonEl =\n",
              "          document.querySelector('#df-11135bf8-df80-43a8-9a97-8b6ff8edbafd button.colab-df-convert');\n",
              "        buttonEl.style.display =\n",
              "          google.colab.kernel.accessAllowed ? 'block' : 'none';\n",
              "\n",
              "        async function convertToInteractive(key) {\n",
              "          const element = document.querySelector('#df-11135bf8-df80-43a8-9a97-8b6ff8edbafd');\n",
              "          const dataTable =\n",
              "            await google.colab.kernel.invokeFunction('convertToInteractive',\n",
              "                                                     [key], {});\n",
              "          if (!dataTable) return;\n",
              "\n",
              "          const docLinkHtml = 'Like what you see? Visit the ' +\n",
              "            '<a target=\"_blank\" href=https://colab.research.google.com/notebooks/data_table.ipynb>data table notebook</a>'\n",
              "            + ' to learn more about interactive tables.';\n",
              "          element.innerHTML = '';\n",
              "          dataTable['output_type'] = 'display_data';\n",
              "          await google.colab.output.renderOutput(dataTable, element);\n",
              "          const docLink = document.createElement('div');\n",
              "          docLink.innerHTML = docLinkHtml;\n",
              "          element.appendChild(docLink);\n",
              "        }\n",
              "      </script>\n",
              "    </div>\n",
              "  </div>\n",
              "  "
            ]
          },
          "metadata": {},
          "execution_count": 57
        }
      ]
    },
    {
      "cell_type": "code",
      "source": [
        "df_info=df_info.drop(['user_id'], axis = 1)"
      ],
      "metadata": {
        "id": "INHWEL69eP0z"
      },
      "execution_count": null,
      "outputs": []
    },
    {
      "cell_type": "code",
      "source": [
        "from sklearn.preprocessing import MinMaxScaler\n",
        "cols_to_norm = ['age','country_id','gender']\n",
        "df_info[cols_to_norm] = MinMaxScaler().fit_transform(df_info[cols_to_norm])"
      ],
      "metadata": {
        "id": "yrw6aSaldi4f"
      },
      "execution_count": null,
      "outputs": []
    },
    {
      "cell_type": "code",
      "source": [
        "df_info=df_info.drop(['user_id'], axis = 1)"
      ],
      "metadata": {
        "id": "-lQ6WpoOiBIv"
      },
      "execution_count": null,
      "outputs": []
    },
    {
      "cell_type": "code",
      "source": [
        "df_info.head()"
      ],
      "metadata": {
        "colab": {
          "base_uri": "https://localhost:8080/",
          "height": 237
        },
        "id": "T-hrbfrWgEgM",
        "outputId": "b19f877a-1e33-4c45-a312-96b96b73995a"
      },
      "execution_count": null,
      "outputs": [
        {
          "output_type": "execute_result",
          "data": {
            "text/plain": [
              "          age  gender  country_id\n",
              "user_id                          \n",
              "123088   0.42     0.0    0.852727\n",
              "85382    1.00     0.0    0.852727\n",
              "123633   0.34     0.0    0.852727\n",
              "132287   0.38     0.0    0.852727\n",
              "23004    0.28     0.0    0.852727"
            ],
            "text/html": [
              "\n",
              "  <div id=\"df-da1f7b18-2377-4300-84ab-4540c9ca821f\">\n",
              "    <div class=\"colab-df-container\">\n",
              "      <div>\n",
              "<style scoped>\n",
              "    .dataframe tbody tr th:only-of-type {\n",
              "        vertical-align: middle;\n",
              "    }\n",
              "\n",
              "    .dataframe tbody tr th {\n",
              "        vertical-align: top;\n",
              "    }\n",
              "\n",
              "    .dataframe thead th {\n",
              "        text-align: right;\n",
              "    }\n",
              "</style>\n",
              "<table border=\"1\" class=\"dataframe\">\n",
              "  <thead>\n",
              "    <tr style=\"text-align: right;\">\n",
              "      <th></th>\n",
              "      <th>age</th>\n",
              "      <th>gender</th>\n",
              "      <th>country_id</th>\n",
              "    </tr>\n",
              "    <tr>\n",
              "      <th>user_id</th>\n",
              "      <th></th>\n",
              "      <th></th>\n",
              "      <th></th>\n",
              "    </tr>\n",
              "  </thead>\n",
              "  <tbody>\n",
              "    <tr>\n",
              "      <th>123088</th>\n",
              "      <td>0.42</td>\n",
              "      <td>0.0</td>\n",
              "      <td>0.852727</td>\n",
              "    </tr>\n",
              "    <tr>\n",
              "      <th>85382</th>\n",
              "      <td>1.00</td>\n",
              "      <td>0.0</td>\n",
              "      <td>0.852727</td>\n",
              "    </tr>\n",
              "    <tr>\n",
              "      <th>123633</th>\n",
              "      <td>0.34</td>\n",
              "      <td>0.0</td>\n",
              "      <td>0.852727</td>\n",
              "    </tr>\n",
              "    <tr>\n",
              "      <th>132287</th>\n",
              "      <td>0.38</td>\n",
              "      <td>0.0</td>\n",
              "      <td>0.852727</td>\n",
              "    </tr>\n",
              "    <tr>\n",
              "      <th>23004</th>\n",
              "      <td>0.28</td>\n",
              "      <td>0.0</td>\n",
              "      <td>0.852727</td>\n",
              "    </tr>\n",
              "  </tbody>\n",
              "</table>\n",
              "</div>\n",
              "      <button class=\"colab-df-convert\" onclick=\"convertToInteractive('df-da1f7b18-2377-4300-84ab-4540c9ca821f')\"\n",
              "              title=\"Convert this dataframe to an interactive table.\"\n",
              "              style=\"display:none;\">\n",
              "        \n",
              "  <svg xmlns=\"http://www.w3.org/2000/svg\" height=\"24px\"viewBox=\"0 0 24 24\"\n",
              "       width=\"24px\">\n",
              "    <path d=\"M0 0h24v24H0V0z\" fill=\"none\"/>\n",
              "    <path d=\"M18.56 5.44l.94 2.06.94-2.06 2.06-.94-2.06-.94-.94-2.06-.94 2.06-2.06.94zm-11 1L8.5 8.5l.94-2.06 2.06-.94-2.06-.94L8.5 2.5l-.94 2.06-2.06.94zm10 10l.94 2.06.94-2.06 2.06-.94-2.06-.94-.94-2.06-.94 2.06-2.06.94z\"/><path d=\"M17.41 7.96l-1.37-1.37c-.4-.4-.92-.59-1.43-.59-.52 0-1.04.2-1.43.59L10.3 9.45l-7.72 7.72c-.78.78-.78 2.05 0 2.83L4 21.41c.39.39.9.59 1.41.59.51 0 1.02-.2 1.41-.59l7.78-7.78 2.81-2.81c.8-.78.8-2.07 0-2.86zM5.41 20L4 18.59l7.72-7.72 1.47 1.35L5.41 20z\"/>\n",
              "  </svg>\n",
              "      </button>\n",
              "      \n",
              "  <style>\n",
              "    .colab-df-container {\n",
              "      display:flex;\n",
              "      flex-wrap:wrap;\n",
              "      gap: 12px;\n",
              "    }\n",
              "\n",
              "    .colab-df-convert {\n",
              "      background-color: #E8F0FE;\n",
              "      border: none;\n",
              "      border-radius: 50%;\n",
              "      cursor: pointer;\n",
              "      display: none;\n",
              "      fill: #1967D2;\n",
              "      height: 32px;\n",
              "      padding: 0 0 0 0;\n",
              "      width: 32px;\n",
              "    }\n",
              "\n",
              "    .colab-df-convert:hover {\n",
              "      background-color: #E2EBFA;\n",
              "      box-shadow: 0px 1px 2px rgba(60, 64, 67, 0.3), 0px 1px 3px 1px rgba(60, 64, 67, 0.15);\n",
              "      fill: #174EA6;\n",
              "    }\n",
              "\n",
              "    [theme=dark] .colab-df-convert {\n",
              "      background-color: #3B4455;\n",
              "      fill: #D2E3FC;\n",
              "    }\n",
              "\n",
              "    [theme=dark] .colab-df-convert:hover {\n",
              "      background-color: #434B5C;\n",
              "      box-shadow: 0px 1px 3px 1px rgba(0, 0, 0, 0.15);\n",
              "      filter: drop-shadow(0px 1px 2px rgba(0, 0, 0, 0.3));\n",
              "      fill: #FFFFFF;\n",
              "    }\n",
              "  </style>\n",
              "\n",
              "      <script>\n",
              "        const buttonEl =\n",
              "          document.querySelector('#df-da1f7b18-2377-4300-84ab-4540c9ca821f button.colab-df-convert');\n",
              "        buttonEl.style.display =\n",
              "          google.colab.kernel.accessAllowed ? 'block' : 'none';\n",
              "\n",
              "        async function convertToInteractive(key) {\n",
              "          const element = document.querySelector('#df-da1f7b18-2377-4300-84ab-4540c9ca821f');\n",
              "          const dataTable =\n",
              "            await google.colab.kernel.invokeFunction('convertToInteractive',\n",
              "                                                     [key], {});\n",
              "          if (!dataTable) return;\n",
              "\n",
              "          const docLinkHtml = 'Like what you see? Visit the ' +\n",
              "            '<a target=\"_blank\" href=https://colab.research.google.com/notebooks/data_table.ipynb>data table notebook</a>'\n",
              "            + ' to learn more about interactive tables.';\n",
              "          element.innerHTML = '';\n",
              "          dataTable['output_type'] = 'display_data';\n",
              "          await google.colab.output.renderOutput(dataTable, element);\n",
              "          const docLink = document.createElement('div');\n",
              "          docLink.innerHTML = docLinkHtml;\n",
              "          element.appendChild(docLink);\n",
              "        }\n",
              "      </script>\n",
              "    </div>\n",
              "  </div>\n",
              "  "
            ]
          },
          "metadata": {},
          "execution_count": 62
        }
      ]
    },
    {
      "cell_type": "code",
      "source": [
        "df_info=df_info.fillna(0)"
      ],
      "metadata": {
        "id": "M0pDwYAaiV2I"
      },
      "execution_count": null,
      "outputs": []
    },
    {
      "cell_type": "code",
      "source": [
        "from sklearn.cluster import KMeans"
      ],
      "metadata": {
        "id": "4DtPwbLielRQ"
      },
      "execution_count": null,
      "outputs": []
    },
    {
      "cell_type": "code",
      "source": [
        "num_clusters = 10"
      ],
      "metadata": {
        "id": "Kd3jAJ_mhy_e"
      },
      "execution_count": null,
      "outputs": []
    },
    {
      "cell_type": "code",
      "source": [
        "clustering_model = KMeans(n_clusters=num_clusters)\n",
        "clustering_model.fit(df_info)\n",
        "cluster_assignment = clustering_model.labels_\n",
        "centers=clustering_model.cluster_centers_"
      ],
      "metadata": {
        "id": "yJ8GJiA-hrl_"
      },
      "execution_count": null,
      "outputs": []
    },
    {
      "cell_type": "code",
      "source": [
        "a=[]\n",
        "clustered_sentences = [[] for i in range(num_clusters)]\n",
        "for sentence_id, cluster_id in enumerate(cluster_assignment):\n",
        "    clustered_sentences[cluster_id].append(sentence_id)\n",
        "    a.append(cluster_id)"
      ],
      "metadata": {
        "id": "3YbE755mljam"
      },
      "execution_count": null,
      "outputs": []
    },
    {
      "cell_type": "code",
      "source": [
        "print(cluster_assignment)"
      ],
      "metadata": {
        "colab": {
          "base_uri": "https://localhost:8080/"
        },
        "id": "hunO2_3HiqoW",
        "outputId": "259d9e45-72e9-4414-e247-ac5fcdd92fb1"
      },
      "execution_count": null,
      "outputs": [
        {
          "output_type": "stream",
          "name": "stdout",
          "text": [
            "[7 3 1 7 1 4 7 7 1 7 4 7 2 8 3 7 6 2 2 2 1 9 4 2 2 5 0 5 0 1 2 8 4 7 7]\n"
          ]
        }
      ]
    },
    {
      "cell_type": "code",
      "source": [
        "df_info['clusters'] = a"
      ],
      "metadata": {
        "id": "PGEe-xX4lw4z"
      },
      "execution_count": null,
      "outputs": []
    },
    {
      "cell_type": "code",
      "source": [
        "df_info.head()"
      ],
      "metadata": {
        "colab": {
          "base_uri": "https://localhost:8080/",
          "height": 237
        },
        "id": "BRjenXjLl1T8",
        "outputId": "37f9f5f2-01ee-470e-b141-aa16008948f2"
      },
      "execution_count": null,
      "outputs": [
        {
          "output_type": "execute_result",
          "data": {
            "text/plain": [
              "          age  gender  country_id  clusters\n",
              "user_id                                    \n",
              "123088   0.42     0.0    0.852727         7\n",
              "85382    1.00     0.0    0.852727         3\n",
              "123633   0.34     0.0    0.852727         1\n",
              "132287   0.38     0.0    0.852727         7\n",
              "23004    0.28     0.0    0.852727         1"
            ],
            "text/html": [
              "\n",
              "  <div id=\"df-0ae9f0f4-d4ba-4b2f-818d-10a4722421eb\">\n",
              "    <div class=\"colab-df-container\">\n",
              "      <div>\n",
              "<style scoped>\n",
              "    .dataframe tbody tr th:only-of-type {\n",
              "        vertical-align: middle;\n",
              "    }\n",
              "\n",
              "    .dataframe tbody tr th {\n",
              "        vertical-align: top;\n",
              "    }\n",
              "\n",
              "    .dataframe thead th {\n",
              "        text-align: right;\n",
              "    }\n",
              "</style>\n",
              "<table border=\"1\" class=\"dataframe\">\n",
              "  <thead>\n",
              "    <tr style=\"text-align: right;\">\n",
              "      <th></th>\n",
              "      <th>age</th>\n",
              "      <th>gender</th>\n",
              "      <th>country_id</th>\n",
              "      <th>clusters</th>\n",
              "    </tr>\n",
              "    <tr>\n",
              "      <th>user_id</th>\n",
              "      <th></th>\n",
              "      <th></th>\n",
              "      <th></th>\n",
              "      <th></th>\n",
              "    </tr>\n",
              "  </thead>\n",
              "  <tbody>\n",
              "    <tr>\n",
              "      <th>123088</th>\n",
              "      <td>0.42</td>\n",
              "      <td>0.0</td>\n",
              "      <td>0.852727</td>\n",
              "      <td>7</td>\n",
              "    </tr>\n",
              "    <tr>\n",
              "      <th>85382</th>\n",
              "      <td>1.00</td>\n",
              "      <td>0.0</td>\n",
              "      <td>0.852727</td>\n",
              "      <td>3</td>\n",
              "    </tr>\n",
              "    <tr>\n",
              "      <th>123633</th>\n",
              "      <td>0.34</td>\n",
              "      <td>0.0</td>\n",
              "      <td>0.852727</td>\n",
              "      <td>1</td>\n",
              "    </tr>\n",
              "    <tr>\n",
              "      <th>132287</th>\n",
              "      <td>0.38</td>\n",
              "      <td>0.0</td>\n",
              "      <td>0.852727</td>\n",
              "      <td>7</td>\n",
              "    </tr>\n",
              "    <tr>\n",
              "      <th>23004</th>\n",
              "      <td>0.28</td>\n",
              "      <td>0.0</td>\n",
              "      <td>0.852727</td>\n",
              "      <td>1</td>\n",
              "    </tr>\n",
              "  </tbody>\n",
              "</table>\n",
              "</div>\n",
              "      <button class=\"colab-df-convert\" onclick=\"convertToInteractive('df-0ae9f0f4-d4ba-4b2f-818d-10a4722421eb')\"\n",
              "              title=\"Convert this dataframe to an interactive table.\"\n",
              "              style=\"display:none;\">\n",
              "        \n",
              "  <svg xmlns=\"http://www.w3.org/2000/svg\" height=\"24px\"viewBox=\"0 0 24 24\"\n",
              "       width=\"24px\">\n",
              "    <path d=\"M0 0h24v24H0V0z\" fill=\"none\"/>\n",
              "    <path d=\"M18.56 5.44l.94 2.06.94-2.06 2.06-.94-2.06-.94-.94-2.06-.94 2.06-2.06.94zm-11 1L8.5 8.5l.94-2.06 2.06-.94-2.06-.94L8.5 2.5l-.94 2.06-2.06.94zm10 10l.94 2.06.94-2.06 2.06-.94-2.06-.94-.94-2.06-.94 2.06-2.06.94z\"/><path d=\"M17.41 7.96l-1.37-1.37c-.4-.4-.92-.59-1.43-.59-.52 0-1.04.2-1.43.59L10.3 9.45l-7.72 7.72c-.78.78-.78 2.05 0 2.83L4 21.41c.39.39.9.59 1.41.59.51 0 1.02-.2 1.41-.59l7.78-7.78 2.81-2.81c.8-.78.8-2.07 0-2.86zM5.41 20L4 18.59l7.72-7.72 1.47 1.35L5.41 20z\"/>\n",
              "  </svg>\n",
              "      </button>\n",
              "      \n",
              "  <style>\n",
              "    .colab-df-container {\n",
              "      display:flex;\n",
              "      flex-wrap:wrap;\n",
              "      gap: 12px;\n",
              "    }\n",
              "\n",
              "    .colab-df-convert {\n",
              "      background-color: #E8F0FE;\n",
              "      border: none;\n",
              "      border-radius: 50%;\n",
              "      cursor: pointer;\n",
              "      display: none;\n",
              "      fill: #1967D2;\n",
              "      height: 32px;\n",
              "      padding: 0 0 0 0;\n",
              "      width: 32px;\n",
              "    }\n",
              "\n",
              "    .colab-df-convert:hover {\n",
              "      background-color: #E2EBFA;\n",
              "      box-shadow: 0px 1px 2px rgba(60, 64, 67, 0.3), 0px 1px 3px 1px rgba(60, 64, 67, 0.15);\n",
              "      fill: #174EA6;\n",
              "    }\n",
              "\n",
              "    [theme=dark] .colab-df-convert {\n",
              "      background-color: #3B4455;\n",
              "      fill: #D2E3FC;\n",
              "    }\n",
              "\n",
              "    [theme=dark] .colab-df-convert:hover {\n",
              "      background-color: #434B5C;\n",
              "      box-shadow: 0px 1px 3px 1px rgba(0, 0, 0, 0.15);\n",
              "      filter: drop-shadow(0px 1px 2px rgba(0, 0, 0, 0.3));\n",
              "      fill: #FFFFFF;\n",
              "    }\n",
              "  </style>\n",
              "\n",
              "      <script>\n",
              "        const buttonEl =\n",
              "          document.querySelector('#df-0ae9f0f4-d4ba-4b2f-818d-10a4722421eb button.colab-df-convert');\n",
              "        buttonEl.style.display =\n",
              "          google.colab.kernel.accessAllowed ? 'block' : 'none';\n",
              "\n",
              "        async function convertToInteractive(key) {\n",
              "          const element = document.querySelector('#df-0ae9f0f4-d4ba-4b2f-818d-10a4722421eb');\n",
              "          const dataTable =\n",
              "            await google.colab.kernel.invokeFunction('convertToInteractive',\n",
              "                                                     [key], {});\n",
              "          if (!dataTable) return;\n",
              "\n",
              "          const docLinkHtml = 'Like what you see? Visit the ' +\n",
              "            '<a target=\"_blank\" href=https://colab.research.google.com/notebooks/data_table.ipynb>data table notebook</a>'\n",
              "            + ' to learn more about interactive tables.';\n",
              "          element.innerHTML = '';\n",
              "          dataTable['output_type'] = 'display_data';\n",
              "          await google.colab.output.renderOutput(dataTable, element);\n",
              "          const docLink = document.createElement('div');\n",
              "          docLink.innerHTML = docLinkHtml;\n",
              "          element.appendChild(docLink);\n",
              "        }\n",
              "      </script>\n",
              "    </div>\n",
              "  </div>\n",
              "  "
            ]
          },
          "metadata": {},
          "execution_count": 77
        }
      ]
    },
    {
      "cell_type": "code",
      "source": [
        "df_info=df_info.drop(['age','gender','country_id'], axis = 1)"
      ],
      "metadata": {
        "id": "XWR70naCrfFO"
      },
      "execution_count": null,
      "outputs": []
    },
    {
      "cell_type": "code",
      "source": [
        "a=df_info.T.to_dict('index')"
      ],
      "metadata": {
        "id": "fpszX9OanXex"
      },
      "execution_count": null,
      "outputs": []
    },
    {
      "cell_type": "code",
      "source": [
        "print(a)"
      ],
      "metadata": {
        "colab": {
          "base_uri": "https://localhost:8080/"
        },
        "id": "pvZ8yZu7oo9L",
        "outputId": "f50ddcc1-afa8-41ce-8790-665d7917c6a4"
      },
      "execution_count": null,
      "outputs": [
        {
          "output_type": "stream",
          "name": "stdout",
          "text": [
            "{'clusters': {123088: 7, 85382: 3, 123633: 1, 132287: 7, 23004: 1, 118412: 4, 141341: 7, 138418: 7, 135126: 1, 91918: 7, 152656: 4, 127069: 7, 94830: 2, 143227: 8, 156529: 3, 133987: 7, 141508: 6, 148273: 2, 136405: 2, 148240: 2, 143080: 1, 122278: 9, 90812: 4, 87607: 2, 173704: 2, 127973: 5, 127787: 0, 141706: 5, 16558: 0, 58709: 1, 142477: 2, 139333: 8, 122908: 4, 56773: 7, 131461: 7}}\n"
          ]
        }
      ]
    },
    {
      "cell_type": "code",
      "source": [
        "b=a['clusters']\n",
        "for i in b:\n",
        "  print(b[i])\n",
        "  break"
      ],
      "metadata": {
        "colab": {
          "base_uri": "https://localhost:8080/"
        },
        "id": "Di88eW2184fE",
        "outputId": "50410063-9bce-4bc9-8e19-6a22224d4085"
      },
      "execution_count": null,
      "outputs": [
        {
          "output_type": "stream",
          "name": "stdout",
          "text": [
            "7\n"
          ]
        }
      ]
    },
    {
      "cell_type": "code",
      "source": [
        "kkk={0:{\"user_info.id\":0,'cluster':0}}"
      ],
      "metadata": {
        "id": "kcnp_d799SHt"
      },
      "execution_count": null,
      "outputs": []
    },
    {
      "cell_type": "code",
      "source": [
        "for i in b:\n",
        "  kk={i:{\"user_info.id\":i,'cluster':b[i]}}\n",
        "  kkk.update(kk)"
      ],
      "metadata": {
        "id": "wiyDsIbR9eeF"
      },
      "execution_count": null,
      "outputs": []
    },
    {
      "cell_type": "code",
      "source": [
        "print(kkk)"
      ],
      "metadata": {
        "colab": {
          "base_uri": "https://localhost:8080/"
        },
        "id": "Yqc08pdE-GI2",
        "outputId": "9dfd0774-2d38-4182-d66e-baf509489b39"
      },
      "execution_count": null,
      "outputs": [
        {
          "output_type": "stream",
          "name": "stdout",
          "text": [
            "{0: {'user_info.id': 0, 'cluster': 0}, 123088: {'user_info.id': 123088, 'cluster': 7}, 85382: {'user_info.id': 85382, 'cluster': 3}, 123633: {'user_info.id': 123633, 'cluster': 1}, 132287: {'user_info.id': 132287, 'cluster': 7}, 23004: {'user_info.id': 23004, 'cluster': 1}, 118412: {'user_info.id': 118412, 'cluster': 4}, 141341: {'user_info.id': 141341, 'cluster': 7}, 138418: {'user_info.id': 138418, 'cluster': 7}, 135126: {'user_info.id': 135126, 'cluster': 1}, 91918: {'user_info.id': 91918, 'cluster': 7}, 152656: {'user_info.id': 152656, 'cluster': 4}, 127069: {'user_info.id': 127069, 'cluster': 7}, 94830: {'user_info.id': 94830, 'cluster': 2}, 143227: {'user_info.id': 143227, 'cluster': 8}, 156529: {'user_info.id': 156529, 'cluster': 3}, 133987: {'user_info.id': 133987, 'cluster': 7}, 141508: {'user_info.id': 141508, 'cluster': 6}, 148273: {'user_info.id': 148273, 'cluster': 2}, 136405: {'user_info.id': 136405, 'cluster': 2}, 148240: {'user_info.id': 148240, 'cluster': 2}, 143080: {'user_info.id': 143080, 'cluster': 1}, 122278: {'user_info.id': 122278, 'cluster': 9}, 90812: {'user_info.id': 90812, 'cluster': 4}, 87607: {'user_info.id': 87607, 'cluster': 2}, 173704: {'user_info.id': 173704, 'cluster': 2}, 127973: {'user_info.id': 127973, 'cluster': 5}, 127787: {'user_info.id': 127787, 'cluster': 0}, 141706: {'user_info.id': 141706, 'cluster': 5}, 16558: {'user_info.id': 16558, 'cluster': 0}, 58709: {'user_info.id': 58709, 'cluster': 1}, 142477: {'user_info.id': 142477, 'cluster': 2}, 139333: {'user_info.id': 139333, 'cluster': 8}, 122908: {'user_info.id': 122908, 'cluster': 4}, 56773: {'user_info.id': 56773, 'cluster': 7}, 131461: {'user_info.id': 131461, 'cluster': 7}}\n"
          ]
        }
      ]
    },
    {
      "cell_type": "code",
      "source": [
        "import json"
      ],
      "metadata": {
        "id": "h5DrPaUx_hgT"
      },
      "execution_count": null,
      "outputs": []
    },
    {
      "cell_type": "code",
      "source": [
        "with open('user_info_cluster.json', 'w') as fp:\n",
        "    json.dump(kkk, fp,  indent=4)"
      ],
      "metadata": {
        "id": "t1q6Mq31_h8J"
      },
      "execution_count": null,
      "outputs": []
    }
  ]
}