{
  "nbformat": 4,
  "nbformat_minor": 0,
  "metadata": {
    "colab": {
      "provenance": [],
      "authorship_tag": "ABX9TyN86CcXxn2VRM6I25AM1EBT",
      "include_colab_link": true
    },
    "kernelspec": {
      "name": "python3",
      "display_name": "Python 3"
    },
    "language_info": {
      "name": "python"
    }
  },
  "cells": [
    {
      "cell_type": "markdown",
      "metadata": {
        "id": "view-in-github",
        "colab_type": "text"
      },
      "source": [
        "<a href=\"https://colab.research.google.com/github/jasmine400/nlp-/blob/main/Queue_implementation.ipynb\" target=\"_parent\"><img src=\"https://colab.research.google.com/assets/colab-badge.svg\" alt=\"Open In Colab\"/></a>"
      ]
    },
    {
      "cell_type": "code",
      "metadata": {
        "id": "ZHLxB5RdeqZS"
      },
      "source": [
        "class Queue:\n",
        "\n",
        "    def __init__(self):\n",
        "        self.items = []\n",
        "\n",
        "    def enqueue(self, item):\n",
        "\n",
        "        self.items.append(item)\n",
        "\n",
        "    def dequeue(self):\n",
        "\n",
        "        if self.items:\n",
        "            return self.items.pop(0)\n",
        "        return None\n",
        "\n",
        "    def peek(self):\n",
        "\n",
        "\n",
        "        if self.items:\n",
        "            return self.items[-1]\n",
        "        return None\n",
        "\n",
        "    def size(self):\n",
        "\n",
        "        return len(self.items)\n",
        "\n",
        "    def is_empty(self):\n",
        "\n",
        "        return self.items == []\n",
        "queue=Queue()\n",
        "\n",
        "\n",
        "\n",
        "\n",
        "graph = {\n",
        "  'H' : ['B','F'],\n",
        "  'B' : ['A'],\n",
        "  'A' : [],\n",
        "  'F' : ['G'],\n",
        "  'G' : ['E'],\n",
        "  'E' : ['C','D'],\n",
        "  'C' : [],\n",
        "  'D' : []\n",
        "\n",
        "}\n",
        "\n",
        "visited = []\n",
        "\n",
        "\n",
        "def bfs(visited, graph, node):\n",
        "  visited.append(node)\n",
        "  queue.enqueue(node)\n",
        "\n",
        "  while queue:\n",
        "    s= queue.dequeue()\n",
        "    print (s, end = \" \")\n",
        "    if graph[s]:\n",
        "      for neighbour in graph[s]:\n",
        "        if neighbour not in visited:\n",
        "          visited.append(neighbour)\n",
        "          queue.enqueue(neighbour)\n",
        "\n",
        "\n",
        "bfs(visited, graph, 'H')"
      ],
      "execution_count": null,
      "outputs": []
    },
    {
      "cell_type": "code",
      "metadata": {
        "colab": {
          "base_uri": "https://localhost:8080/"
        },
        "id": "g1n8_slRffbi",
        "outputId": "5cc907d0-19a7-4969-bef7-3ef513934fcc"
      },
      "source": [
        "graph = {\n",
        "  'H' : ['B','F'],\n",
        "  'B' : ['A'],\n",
        "  'A' : [],\n",
        "  'F' : ['G'],\n",
        "  'G' : ['E'],\n",
        "  'E' : ['C','D'],\n",
        "  'C' : [],\n",
        "  'D' : []\n",
        "\n",
        "}\n",
        "\n",
        "visited = []\n",
        "queue = []\n",
        "\n",
        "def bfs(visited, graph, node):\n",
        "  visited.append(node)\n",
        "  queue.append(node)\n",
        "\n",
        "  while queue:\n",
        "    s = queue.pop(0)\n",
        "    print (s, end = \" \")\n",
        "\n",
        "    for neighbour in graph[s]:\n",
        "      if neighbour not in visited:\n",
        "        visited.append(neighbour)\n",
        "        queue.append(neighbour)\n",
        "\n",
        "\n",
        "bfs(visited, graph, 'H')"
      ],
      "execution_count": null,
      "outputs": [
        {
          "output_type": "stream",
          "text": [
            "H B F A G E C D "
          ],
          "name": "stdout"
        }
      ]
    },
    {
      "cell_type": "code",
      "metadata": {
        "id": "c96uhPd-arqH"
      },
      "source": [
        "graph = {\n",
        "  'H' : ['B','F'],\n",
        "  'B' : ['A'],\n",
        "  'A' : [],\n",
        "  'F' : ['G'],\n",
        "  'G' : ['E'],\n",
        "  'E' : ['C','D'],\n",
        "  'C' : [],\n",
        "  'D' : []\n",
        "\n",
        "}\n",
        "\n",
        "visited = set() # Set to keep track of visited nodes.\n",
        "\n",
        "def dfs(visited, graph, node):\n",
        "    if node not in visited:\n",
        "        print (node)\n",
        "        visited.add(node)\n",
        "        for neighbour in graph[node]:\n",
        "            dfs(visited, graph, neighbour)\n",
        "\n",
        "# Driver Code\n",
        "dfs(visited, graph, 'H')"
      ],
      "execution_count": null,
      "outputs": []
    },
    {
      "cell_type": "code",
      "metadata": {
        "id": "hXnRbd8SbCIA"
      },
      "source": [
        "def dijkstra(graph, start):\n",
        "\n",
        "\n",
        "    distances = [float(\"inf\") for _ in range(len(graph))]\n",
        "\n",
        "\n",
        "    visited = [False for _ in range(len(graph))]\n",
        "\n",
        "    distances[start] = 0\n",
        "\n",
        "    while True:\n",
        "\n",
        "        shortest_distance = float(\"inf\")\n",
        "        shortest_index = -1\n",
        "        for i in range(len(graph)):\n",
        "            if distances[i] < shortest_distance and not visited[i]:\n",
        "                shortest_distance = distances[i]\n",
        "                shortest_index = i\n",
        "\n",
        "\n",
        "        if shortest_index == -1:\n",
        "            return distances\n",
        "\n",
        "        for i in range(len(graph[shortest_index])):\n",
        "            if graph[shortest_index][i] != 0 and distances[i] > distances[shortest_index] + graph[shortest_index][i]:\n",
        "                distances[i] = distances[shortest_index] + graph[shortest_index][i]\n",
        "\n",
        "        visited[shortest_index] = True\n"
      ],
      "execution_count": null,
      "outputs": []
    }
  ]
}