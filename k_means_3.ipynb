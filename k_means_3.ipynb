{
  "nbformat": 4,
  "nbformat_minor": 0,
  "metadata": {
    "colab": {
      "provenance": [],
      "authorship_tag": "ABX9TyNqlFvjLKnhAlvlm8jjv830",
      "include_colab_link": true
    },
    "kernelspec": {
      "name": "python3",
      "display_name": "Python 3"
    }
  },
  "cells": [
    {
      "cell_type": "markdown",
      "metadata": {
        "id": "view-in-github",
        "colab_type": "text"
      },
      "source": [
        "<a href=\"https://colab.research.google.com/github/jasmine400/nlp-/blob/main/k_means_3.ipynb\" target=\"_parent\"><img src=\"https://colab.research.google.com/assets/colab-badge.svg\" alt=\"Open In Colab\"/></a>"
      ]
    },
    {
      "cell_type": "code",
      "metadata": {
        "id": "LIYgP7NjtU5E"
      },
      "source": [
        "import pandas as pd\n",
        "import numpy as np\n",
        "import matplotlib.pyplot as plt\n",
        "from matplotlib import pyplot\n",
        "from mpl_toolkits.mplot3d import Axes3D\n",
        "from sklearn.cluster import KMeans\n",
        "%matplotlib inline\n",
        "from mpl_toolkits import mplot3d\n",
        "import random\n",
        "import plotly.express as px\n",
        "\n"
      ],
      "execution_count": null,
      "outputs": []
    },
    {
      "cell_type": "code",
      "metadata": {
        "colab": {
          "base_uri": "https://localhost:8080/"
        },
        "id": "E0U5Styjtg76",
        "outputId": "a31e3c22-2287-411c-db6d-d91151c07e7e"
      },
      "source": [
        "from google.colab import drive\n",
        "drive.mount('/content/gdrive')\n"
      ],
      "execution_count": null,
      "outputs": [
        {
          "output_type": "stream",
          "text": [
            "Mounted at /content/gdrive\n"
          ],
          "name": "stdout"
        }
      ]
    },
    {
      "cell_type": "code",
      "metadata": {
        "colab": {
          "base_uri": "https://localhost:8080/"
        },
        "id": "nL_AffHItsx1",
        "outputId": "f0d88eac-f302-4536-c192-064de666939c"
      },
      "source": [
        "%cd /content/gdrive/My\\ Drive/Colab\\ Notebooks/clustering\n",
        "!ls"
      ],
      "execution_count": null,
      "outputs": [
        {
          "output_type": "stream",
          "text": [
            "/content/gdrive/My Drive/Colab Notebooks/clustering\n",
            "'CC GENERAL.csv'      dbscan.ipynb     k-means_clustering.ipynb\n",
            " clustering_2.ipynb   FLOWERDATA.txt   scatterolpt.ipynb\n",
            " dbscan_2.ipynb       k-means_3\n"
          ],
          "name": "stdout"
        }
      ]
    },
    {
      "cell_type": "code",
      "metadata": {
        "colab": {
          "base_uri": "https://localhost:8080/"
        },
        "id": "nh_QA673txFg",
        "outputId": "f06c6ab1-a8cc-4318-af5a-78e16e44bb76"
      },
      "source": [
        "  f = open('FLOWERDATA.txt', 'r');\n",
        "  lines = f.read().splitlines();\n",
        "  f.close();\n",
        "\n",
        "  items = [];\n",
        "  for i in range(1, len(lines)):\n",
        "      line = lines[i].split(',');\n",
        "      itemFeatures = [];\n",
        "      for j in range(len(line)-1):\n",
        "        v = float(line[j]);\n",
        "        itemFeatures.append(v);\n",
        "      items.append(itemFeatures);\n",
        "print(items)\n",
        "print(type(items))\n",
        "for i in items:\n",
        "    del i[3]\n",
        "\n",
        "print(items)"
      ],
      "execution_count": null,
      "outputs": [
        {
          "output_type": "stream",
          "text": [
            "[[4.9, 3.0, 1.4, 0.2], [4.7, 3.2, 1.3, 0.2], [4.6, 3.1, 1.5, 0.2], [5.0, 3.6, 1.4, 0.2], [5.4, 3.9, 1.7, 0.4], [4.6, 3.4, 1.4, 0.3], [5.0, 3.4, 1.5, 0.2], [4.4, 2.9, 1.4, 0.2], [4.9, 3.1, 1.5, 0.1], [5.4, 3.7, 1.5, 0.2], [4.8, 3.4, 1.6, 0.2], [4.8, 3.0, 1.4, 0.1], [4.3, 3.0, 1.1, 0.1], [5.8, 4.0, 1.2, 0.2], [5.7, 4.4, 1.5, 0.4], [5.4, 3.9, 1.3, 0.4], [5.1, 3.5, 1.4, 0.3], [5.7, 3.8, 1.7, 0.3], [5.1, 3.8, 1.5, 0.3], [5.4, 3.4, 1.7, 0.2], [5.1, 3.7, 1.5, 0.4], [4.6, 3.6, 1.0, 0.2], [5.1, 3.3, 1.7, 0.5], [4.8, 3.4, 1.9, 0.2], [5.0, 3.0, 1.6, 0.2], [5.0, 3.4, 1.6, 0.4], [5.2, 3.5, 1.5, 0.2], [5.2, 3.4, 1.4, 0.2], [4.7, 3.2, 1.6, 0.2], [4.8, 3.1, 1.6, 0.2], [5.4, 3.4, 1.5, 0.4], [5.2, 4.1, 1.5, 0.1], [5.5, 4.2, 1.4, 0.2], [4.9, 3.1, 1.5, 0.1], [5.0, 3.2, 1.2, 0.2], [5.5, 3.5, 1.3, 0.2], [4.9, 3.1, 1.5, 0.1], [4.4, 3.0, 1.3, 0.2], [5.1, 3.4, 1.5, 0.2], [5.0, 3.5, 1.3, 0.3], [4.5, 2.3, 1.3, 0.3], [4.4, 3.2, 1.3, 0.2], [5.0, 3.5, 1.6, 0.6], [5.1, 3.8, 1.9, 0.4], [4.8, 3.0, 1.4, 0.3], [5.1, 3.8, 1.6, 0.2], [4.6, 3.2, 1.4, 0.2], [5.3, 3.7, 1.5, 0.2], [5.0, 3.3, 1.4, 0.2], [7.0, 3.2, 4.7, 1.4], [6.4, 3.2, 4.5, 1.5], [6.9, 3.1, 4.9, 1.5], [5.5, 2.3, 4.0, 1.3], [6.5, 2.8, 4.6, 1.5], [5.7, 2.8, 4.5, 1.3], [6.3, 3.3, 4.7, 1.6], [4.9, 2.4, 3.3, 1.0], [6.6, 2.9, 4.6, 1.3], [5.2, 2.7, 3.9, 1.4], [5.0, 2.0, 3.5, 1.0], [5.9, 3.0, 4.2, 1.5], [6.0, 2.2, 4.0, 1.0], [6.1, 2.9, 4.7, 1.4], [5.6, 2.9, 3.6, 1.3], [6.7, 3.1, 4.4, 1.4], [5.6, 3.0, 4.5, 1.5], [5.8, 2.7, 4.1, 1.0], [6.2, 2.2, 4.5, 1.5], [5.6, 2.5, 3.9, 1.1], [5.9, 3.2, 4.8, 1.8], [6.1, 2.8, 4.0, 1.3], [6.3, 2.5, 4.9, 1.5], [6.1, 2.8, 4.7, 1.2], [6.4, 2.9, 4.3, 1.3], [6.6, 3.0, 4.4, 1.4], [6.8, 2.8, 4.8, 1.4], [6.7, 3.0, 5.0, 1.7], [6.0, 2.9, 4.5, 1.5], [5.7, 2.6, 3.5, 1.0], [5.5, 2.4, 3.8, 1.1], [5.5, 2.4, 3.7, 1.0], [5.8, 2.7, 3.9, 1.2], [6.0, 2.7, 5.1, 1.6], [5.4, 3.0, 4.5, 1.5], [6.0, 3.4, 4.5, 1.6], [6.7, 3.1, 4.7, 1.5], [6.3, 2.3, 4.4, 1.3], [5.6, 3.0, 4.1, 1.3], [5.5, 2.5, 4.0, 1.3], [5.5, 2.6, 4.4, 1.2], [6.1, 3.0, 4.6, 1.4], [5.8, 2.6, 4.0, 1.2], [5.0, 2.3, 3.3, 1.0], [5.6, 2.7, 4.2, 1.3], [5.7, 3.0, 4.2, 1.2], [5.7, 2.9, 4.2, 1.3], [6.2, 2.9, 4.3, 1.3], [5.1, 2.5, 3.0, 1.1], [5.7, 2.8, 4.1, 1.3], [6.3, 3.3, 6.0, 2.5], [5.8, 2.7, 5.1, 1.9], [7.1, 3.0, 5.9, 2.1], [6.3, 2.9, 5.6, 1.8], [6.5, 3.0, 5.8, 2.2], [7.6, 3.0, 6.6, 2.1], [4.9, 2.5, 4.5, 1.7], [7.3, 2.9, 6.3, 1.8], [6.7, 2.5, 5.8, 1.8], [7.2, 3.6, 6.1, 2.5], [6.5, 3.2, 5.1, 2.0], [6.4, 2.7, 5.3, 1.9], [6.8, 3.0, 5.5, 2.1], [5.7, 2.5, 5.0, 2.0], [5.8, 2.8, 5.1, 2.4], [6.4, 3.2, 5.3, 2.3], [6.5, 3.0, 5.5, 1.8], [7.7, 3.8, 6.7, 2.2], [7.7, 2.6, 6.9, 2.3], [6.0, 2.2, 5.0, 1.5], [6.9, 3.2, 5.7, 2.3], [5.6, 2.8, 4.9, 2.0], [7.7, 2.8, 6.7, 2.0], [6.3, 2.7, 4.9, 1.8], [6.7, 3.3, 5.7, 2.1], [7.2, 3.2, 6.0, 1.8], [6.2, 2.8, 4.8, 1.8], [6.1, 3.0, 4.9, 1.8], [6.4, 2.8, 5.6, 2.1], [7.2, 3.0, 5.8, 1.6], [7.4, 2.8, 6.1, 1.9], [7.9, 3.8, 6.4, 2.0], [6.4, 2.8, 5.6, 2.2], [6.3, 2.8, 5.1, 1.5], [6.1, 2.6, 5.6, 1.4], [7.7, 3.0, 6.1, 2.3], [6.3, 3.4, 5.6, 2.4], [6.4, 3.1, 5.5, 1.8], [6.0, 3.0, 4.8, 1.8], [6.9, 3.1, 5.4, 2.1], [6.7, 3.1, 5.6, 2.4], [6.9, 3.1, 5.1, 2.3], [5.8, 2.7, 5.1, 1.9], [6.8, 3.2, 5.9, 2.3], [6.7, 3.3, 5.7, 2.5], [6.7, 3.0, 5.2, 2.3], [6.3, 2.5, 5.0, 1.9], [6.5, 3.0, 5.2, 2.0], [6.2, 3.4, 5.4, 2.3], [5.9, 3.0, 5.1, 1.8]]\n",
            "<class 'list'>\n",
            "[[4.9, 3.0, 1.4], [4.7, 3.2, 1.3], [4.6, 3.1, 1.5], [5.0, 3.6, 1.4], [5.4, 3.9, 1.7], [4.6, 3.4, 1.4], [5.0, 3.4, 1.5], [4.4, 2.9, 1.4], [4.9, 3.1, 1.5], [5.4, 3.7, 1.5], [4.8, 3.4, 1.6], [4.8, 3.0, 1.4], [4.3, 3.0, 1.1], [5.8, 4.0, 1.2], [5.7, 4.4, 1.5], [5.4, 3.9, 1.3], [5.1, 3.5, 1.4], [5.7, 3.8, 1.7], [5.1, 3.8, 1.5], [5.4, 3.4, 1.7], [5.1, 3.7, 1.5], [4.6, 3.6, 1.0], [5.1, 3.3, 1.7], [4.8, 3.4, 1.9], [5.0, 3.0, 1.6], [5.0, 3.4, 1.6], [5.2, 3.5, 1.5], [5.2, 3.4, 1.4], [4.7, 3.2, 1.6], [4.8, 3.1, 1.6], [5.4, 3.4, 1.5], [5.2, 4.1, 1.5], [5.5, 4.2, 1.4], [4.9, 3.1, 1.5], [5.0, 3.2, 1.2], [5.5, 3.5, 1.3], [4.9, 3.1, 1.5], [4.4, 3.0, 1.3], [5.1, 3.4, 1.5], [5.0, 3.5, 1.3], [4.5, 2.3, 1.3], [4.4, 3.2, 1.3], [5.0, 3.5, 1.6], [5.1, 3.8, 1.9], [4.8, 3.0, 1.4], [5.1, 3.8, 1.6], [4.6, 3.2, 1.4], [5.3, 3.7, 1.5], [5.0, 3.3, 1.4], [7.0, 3.2, 4.7], [6.4, 3.2, 4.5], [6.9, 3.1, 4.9], [5.5, 2.3, 4.0], [6.5, 2.8, 4.6], [5.7, 2.8, 4.5], [6.3, 3.3, 4.7], [4.9, 2.4, 3.3], [6.6, 2.9, 4.6], [5.2, 2.7, 3.9], [5.0, 2.0, 3.5], [5.9, 3.0, 4.2], [6.0, 2.2, 4.0], [6.1, 2.9, 4.7], [5.6, 2.9, 3.6], [6.7, 3.1, 4.4], [5.6, 3.0, 4.5], [5.8, 2.7, 4.1], [6.2, 2.2, 4.5], [5.6, 2.5, 3.9], [5.9, 3.2, 4.8], [6.1, 2.8, 4.0], [6.3, 2.5, 4.9], [6.1, 2.8, 4.7], [6.4, 2.9, 4.3], [6.6, 3.0, 4.4], [6.8, 2.8, 4.8], [6.7, 3.0, 5.0], [6.0, 2.9, 4.5], [5.7, 2.6, 3.5], [5.5, 2.4, 3.8], [5.5, 2.4, 3.7], [5.8, 2.7, 3.9], [6.0, 2.7, 5.1], [5.4, 3.0, 4.5], [6.0, 3.4, 4.5], [6.7, 3.1, 4.7], [6.3, 2.3, 4.4], [5.6, 3.0, 4.1], [5.5, 2.5, 4.0], [5.5, 2.6, 4.4], [6.1, 3.0, 4.6], [5.8, 2.6, 4.0], [5.0, 2.3, 3.3], [5.6, 2.7, 4.2], [5.7, 3.0, 4.2], [5.7, 2.9, 4.2], [6.2, 2.9, 4.3], [5.1, 2.5, 3.0], [5.7, 2.8, 4.1], [6.3, 3.3, 6.0], [5.8, 2.7, 5.1], [7.1, 3.0, 5.9], [6.3, 2.9, 5.6], [6.5, 3.0, 5.8], [7.6, 3.0, 6.6], [4.9, 2.5, 4.5], [7.3, 2.9, 6.3], [6.7, 2.5, 5.8], [7.2, 3.6, 6.1], [6.5, 3.2, 5.1], [6.4, 2.7, 5.3], [6.8, 3.0, 5.5], [5.7, 2.5, 5.0], [5.8, 2.8, 5.1], [6.4, 3.2, 5.3], [6.5, 3.0, 5.5], [7.7, 3.8, 6.7], [7.7, 2.6, 6.9], [6.0, 2.2, 5.0], [6.9, 3.2, 5.7], [5.6, 2.8, 4.9], [7.7, 2.8, 6.7], [6.3, 2.7, 4.9], [6.7, 3.3, 5.7], [7.2, 3.2, 6.0], [6.2, 2.8, 4.8], [6.1, 3.0, 4.9], [6.4, 2.8, 5.6], [7.2, 3.0, 5.8], [7.4, 2.8, 6.1], [7.9, 3.8, 6.4], [6.4, 2.8, 5.6], [6.3, 2.8, 5.1], [6.1, 2.6, 5.6], [7.7, 3.0, 6.1], [6.3, 3.4, 5.6], [6.4, 3.1, 5.5], [6.0, 3.0, 4.8], [6.9, 3.1, 5.4], [6.7, 3.1, 5.6], [6.9, 3.1, 5.1], [5.8, 2.7, 5.1], [6.8, 3.2, 5.9], [6.7, 3.3, 5.7], [6.7, 3.0, 5.2], [6.3, 2.5, 5.0], [6.5, 3.0, 5.2], [6.2, 3.4, 5.4], [5.9, 3.0, 5.1]]\n"
          ],
          "name": "stdout"
        }
      ]
    },
    {
      "cell_type": "code",
      "metadata": {
        "colab": {
          "base_uri": "https://localhost:8080/"
        },
        "id": "9ISZOhAbuR51",
        "outputId": "1fedfac2-7fb1-4060-e085-d8218fae3ae6"
      },
      "source": [
        "X=[]\n",
        "Y=[]\n",
        "Z=[]\n",
        "for i in items:\n",
        "  X.append(i[0])\n",
        "for i in items:\n",
        "  Y.append(i[1])\n",
        "for i in items:\n",
        "  Z.append(i[2])\n",
        "\n",
        "print(X)"
      ],
      "execution_count": null,
      "outputs": [
        {
          "output_type": "stream",
          "text": [
            "[4.9, 4.7, 4.6, 5.0, 5.4, 4.6, 5.0, 4.4, 4.9, 5.4, 4.8, 4.8, 4.3, 5.8, 5.7, 5.4, 5.1, 5.7, 5.1, 5.4, 5.1, 4.6, 5.1, 4.8, 5.0, 5.0, 5.2, 5.2, 4.7, 4.8, 5.4, 5.2, 5.5, 4.9, 5.0, 5.5, 4.9, 4.4, 5.1, 5.0, 4.5, 4.4, 5.0, 5.1, 4.8, 5.1, 4.6, 5.3, 5.0, 7.0, 6.4, 6.9, 5.5, 6.5, 5.7, 6.3, 4.9, 6.6, 5.2, 5.0, 5.9, 6.0, 6.1, 5.6, 6.7, 5.6, 5.8, 6.2, 5.6, 5.9, 6.1, 6.3, 6.1, 6.4, 6.6, 6.8, 6.7, 6.0, 5.7, 5.5, 5.5, 5.8, 6.0, 5.4, 6.0, 6.7, 6.3, 5.6, 5.5, 5.5, 6.1, 5.8, 5.0, 5.6, 5.7, 5.7, 6.2, 5.1, 5.7, 6.3, 5.8, 7.1, 6.3, 6.5, 7.6, 4.9, 7.3, 6.7, 7.2, 6.5, 6.4, 6.8, 5.7, 5.8, 6.4, 6.5, 7.7, 7.7, 6.0, 6.9, 5.6, 7.7, 6.3, 6.7, 7.2, 6.2, 6.1, 6.4, 7.2, 7.4, 7.9, 6.4, 6.3, 6.1, 7.7, 6.3, 6.4, 6.0, 6.9, 6.7, 6.9, 5.8, 6.8, 6.7, 6.7, 6.3, 6.5, 6.2, 5.9]\n"
          ],
          "name": "stdout"
        }
      ]
    },
    {
      "cell_type": "code",
      "metadata": {
        "colab": {
          "base_uri": "https://localhost:8080/"
        },
        "id": "Ml0E4rZbtzuV",
        "outputId": "ee090d36-927e-4800-f85a-b50c0592dcac"
      },
      "source": [
        "a=(random.choice(items))\n",
        "b=(random.choice(items))\n",
        "c=(random.choice(items))\n",
        "print(a,b,c)\n",
        "x_centroid1=a[0]\n",
        "y_centroid1=a[1]\n",
        "z_centroid1=a[2]\n",
        "\n",
        "x_centroid2=b[0]\n",
        "y_centroid2=b[1]\n",
        "z_centroid2=b[2]\n",
        "\n",
        "x_centroid3=c[0]\n",
        "y_centroid3=c[1]\n",
        "z_centroid3=c[2]\n",
        "\n"
      ],
      "execution_count": null,
      "outputs": [
        {
          "output_type": "stream",
          "text": [
            "[6.0, 2.2, 4.0] [5.0, 3.4, 1.5] [5.7, 2.9, 4.2]\n"
          ],
          "name": "stdout"
        }
      ]
    },
    {
      "cell_type": "code",
      "metadata": {
        "id": "FnxFUDfOvJgO"
      },
      "source": [
        "dif_1=1.5\n",
        "dif_2=1.5\n",
        "dif_3=1.5"
      ],
      "execution_count": null,
      "outputs": []
    },
    {
      "cell_type": "code",
      "metadata": {
        "colab": {
          "base_uri": "https://localhost:8080/"
        },
        "id": "axX4dV3qvZF6",
        "outputId": "10dd4ce5-2688-4169-bde6-f52eb1077766"
      },
      "source": [
        "while (dif_1>0.05 or dif_2>0.05 or dif_3>0.05):\n",
        "  if dif_1>0.05:\n",
        "    distances_c1=[]\n",
        "    for i in items:\n",
        "      root_diff_x=(i[0]-x_centroid1)**2\n",
        "      root_diff_y=(i[1]-y_centroid1)**2\n",
        "      root_diff_z=(i[2]-z_centroid1)**2\n",
        "      distance = np.sqrt(root_diff_x + root_diff_y+root_diff_z)\n",
        "      distances_c1.append(distance)\n",
        "    #print(distances_c1)\n",
        "  if dif_2>0.05:\n",
        "\n",
        "    distances_c2=[]\n",
        "    for i in items:\n",
        "      root_diff_x=(i[0]-x_centroid2)**2\n",
        "      root_diff_y=(i[1]-y_centroid2)**2\n",
        "      root_diff_z=(i[2]-z_centroid2)**2\n",
        "      distance = np.sqrt(root_diff_x + root_diff_y+root_diff_z)\n",
        "      distances_c2.append(distance)\n",
        "    #print(distances_c2)\n",
        "  if dif_3>0.05:\n",
        "\n",
        "    distances_c3=[]\n",
        "    for i in items:\n",
        "      root_diff_x=(i[0]-x_centroid3)**2\n",
        "      root_diff_y=(i[1]-y_centroid3)**2\n",
        "      root_diff_z=(i[2]-z_centroid3)**2\n",
        "      distance = np.sqrt(root_diff_x + root_diff_y+root_diff_z)\n",
        "      distances_c3.append(distance)\n",
        "    #print(distances_c3)\n",
        "  data=pd.DataFrame()\n",
        "  data['X_value']=X\n",
        "  data['Y_value']=Y\n",
        "  data['Z_value']=Z\n",
        "  data['C1_Distance']=distances_c1\n",
        "  data['C2_Distance']=distances_c2\n",
        "  data['C3_Distance']=distances_c3\n",
        "  #print(data.head())\n",
        "  data['Cluster'] = data[['C1_Distance', 'C2_Distance', 'C3_Distance']].apply(np.argmin, axis =1)\n",
        "  #data['Cluster'] = data['Cluster'].map({'C1_Distance': 'C1', 'C2_Distance': 'C2', 'C3_Distance': 'C3'})\n",
        "  print(data.head(10))\n",
        "  x_new_centroid1 = data[data['Cluster']==0]['X_value'].mean()\n",
        "  y_new_centroid1 = data[data['Cluster']==0]['Y_value'].mean()\n",
        "  z_new_centroid1 = data[data['Cluster']==0]['Z_value'].mean()\n",
        "\n",
        "  x_new_centroid2 = data[data['Cluster']==1]['X_value'].mean()\n",
        "  y_new_centroid2 = data[data['Cluster']==1]['Y_value'].mean()\n",
        "  z_new_centroid2 = data[data['Cluster']==1]['Z_value'].mean()\n",
        "\n",
        "  x_new_centroid3 = data[data['Cluster']==2]['X_value'].mean()\n",
        "  y_new_centroid3 = data[data['Cluster']==2]['Y_value'].mean()\n",
        "  z_new_centroid3 = data[data['Cluster']==2]['Z_value'].mean()\n",
        "\n",
        "  print('Centroid 1 ({}, {}, {})'.format(x_new_centroid1, y_new_centroid1,z_new_centroid1))\n",
        "  print('Centroid 2 ({}, {}, {})'.format(x_new_centroid2, y_new_centroid2,z_new_centroid2))\n",
        "  print('Centroid 3 ({}, {}, {})'.format(x_new_centroid3, y_new_centroid3,z_new_centroid3))\n",
        "  x11=(x_new_centroid1-x_centroid1)**2\n",
        "  y11=(y_new_centroid1-y_centroid1)**2\n",
        "  z11=(z_new_centroid1-z_centroid1)**2\n",
        "  dif_1=np.sqrt(x11+y11+z11)\n",
        "  x_centroid1=x_new_centroid1\n",
        "  y_centroid1=y_new_centroid1\n",
        "  z_centroid1=z_new_centroid1\n",
        "\n",
        "  x22=(x_new_centroid2-x_centroid2)**2\n",
        "  y22=(y_new_centroid2-y_centroid2)**2\n",
        "  z22=(z_new_centroid2-z_centroid2)**2\n",
        "  dif_2=np.sqrt(x22+y22+z22)\n",
        "  x_centroid2=x_new_centroid2\n",
        "  y_centroid2=y_new_centroid2\n",
        "  z_centroid2=z_new_centroid2\n",
        "\n",
        "  x33=(x_new_centroid3-x_centroid3)**2\n",
        "  y33=(y_new_centroid3-y_centroid3)**2\n",
        "  z33=(z_new_centroid3-z_centroid3)**2\n",
        "  dif_3=np.sqrt(x33+y33+z33)\n",
        "  x_centroid3=x_new_centroid3\n",
        "  y_centroid3=y_new_centroid3\n",
        "  z_centroid3=z_new_centroid3\n",
        "\n",
        "\n",
        "\n",
        "\n",
        "\n",
        "\n"
      ],
      "execution_count": null,
      "outputs": [
        {
          "output_type": "stream",
          "text": [
            "   X_value  Y_value  Z_value  C1_Distance  C2_Distance  C3_Distance  Cluster\n",
            "0      4.9      3.0      1.4     2.934280     0.424264     2.913760        1\n",
            "1      4.7      3.2      1.3     3.159114     0.412311     3.082207        1\n",
            "2      4.6      3.1      1.5     3.003331     0.500000     2.922328        1\n",
            "3      5.0      3.6      1.4     3.117691     0.223607     2.969848        1\n",
            "4      5.4      3.9      1.7     2.922328     0.670820     2.709243        1\n",
            "5      4.6      3.4      1.4     3.187475     0.412311     3.049590        1\n",
            "6      5.0      3.4      1.5     2.947881     0.000000     2.833725        1\n",
            "7      4.4      2.9      1.4     3.132092     0.787401     3.087070        1\n",
            "8      4.9      3.1      1.5     2.875761     0.316228     2.823119        1\n",
            "9      5.4      3.7      1.5     2.976575     0.500000     2.831960        1\n",
            "Centroid 1 (5.669230769230769, 2.338461538461538, 3.961538461538461)\n",
            "Centroid 2 (5.004081632653061, 3.416326530612245, 1.4653061224489796)\n",
            "Centroid 3 (6.350574712643676, 2.951724137931035, 5.0471264367816095)\n",
            "   X_value  Y_value  Z_value  C1_Distance  C2_Distance  C3_Distance  Cluster\n",
            "0      4.9      3.0      1.4     2.755146     0.424264     3.925306        1\n",
            "1      4.7      3.2      1.3     2.960649     0.412311     4.102072        1\n",
            "2      4.6      3.1      1.5     2.789689     0.500000     3.958359        1\n",
            "3      5.0      3.6      1.4     2.932717     0.223607     3.942822        1\n",
            "4      5.4      3.9      1.7     2.761421     0.670820     3.606394        1\n",
            "5      4.6      3.4      1.4     2.971800     0.412311     4.070257        1\n",
            "6      5.0      3.4      1.5     2.762952     0.000000     3.821925        1\n",
            "7      4.4      2.9      1.4     2.913375     0.787401     4.136296        1\n",
            "8      4.9      3.1      1.5     2.689020     0.316228     3.835135        1\n",
            "9      5.4      3.7      1.5     2.825853     0.500000     3.747748        1\n",
            "Centroid 1 (5.579999999999998, 2.61, 3.9933333333333336)\n",
            "Centroid 2 (5.004081632653061, 3.416326530612245, 1.4653061224489796)\n",
            "Centroid 3 (6.554285714285712, 2.984285714285715, 5.297142857142859)\n",
            "   X_value  Y_value  Z_value  C1_Distance  C2_Distance  C3_Distance  Cluster\n",
            "0      4.9      3.0      1.4     2.709221     0.424264     4.233749        1\n",
            "1      4.7      3.2      1.3     2.894226     0.412311     4.411582        1\n",
            "2      4.6      3.1      1.5     2.723456     0.500000     4.272109        1\n",
            "3      5.0      3.6      1.4     2.835820     0.223607     4.240593        1\n",
            "4      5.4      3.9      1.7     2.637400     0.670820     3.887203        1\n",
            "5      4.6      3.4      1.4     2.882686     0.412311     4.379472        1\n",
            "6      5.0      3.4      1.5     2.679032     0.000000     4.123944        1\n",
            "7      4.4      2.9      1.4     2.863892     0.787401     4.453737        1\n",
            "8      4.9      3.1      1.5     2.630439     0.316228     4.143470        1\n",
            "9      5.4      3.7      1.5     2.727125     0.500000     4.032731        1\n",
            "Centroid 1 (5.647222222222221, 2.658333333333333, 4.091666666666667)\n",
            "Centroid 2 (5.004081632653061, 3.416326530612245, 1.4653061224489796)\n",
            "Centroid 3 (6.607812499999997, 2.9921875000000004, 5.3640625)\n",
            "   X_value  Y_value  Z_value  C1_Distance  C2_Distance  C3_Distance  Cluster\n",
            "0      4.9      3.0      1.4     2.814276     0.424264     4.316304        1\n",
            "1      4.7      3.2      1.3     2.997338     0.412311     4.494390        1\n",
            "2      4.6      3.1      1.5     2.829926     0.500000     4.355906        1\n",
            "3      5.0      3.6      1.4     2.924158     0.223607     4.320681        1\n",
            "4      5.4      3.9      1.7     2.706090     0.670820     3.963368        1\n",
            "5      4.6      3.4      1.4     2.981914     0.412311     4.462221        1\n",
            "6      5.0      3.4      1.5     2.772310     0.000000     4.205039        1\n",
            "7      4.4      2.9      1.4     2.976413     0.787401     4.538362        1\n",
            "8      4.9      3.1      1.5     2.733157     0.316228     4.226018        1\n",
            "9      5.4      3.7      1.5     2.804091     0.500000     4.109840        1\n",
            "Centroid 1 (5.687499999999998, 2.6899999999999995, 4.1525)\n",
            "Centroid 2 (5.004081632653061, 3.416326530612245, 1.4653061224489796)\n",
            "Centroid 3 (6.644999999999997, 2.993333333333333, 5.408333333333332)\n",
            "   X_value  Y_value  Z_value  C1_Distance  C2_Distance  C3_Distance  Cluster\n",
            "0      4.9      3.0      1.4     2.879672     0.424264     4.371705        1\n",
            "1      4.7      3.2      1.3     3.061374     0.412311     4.550180        1\n",
            "2      4.6      3.1      1.5     2.895948     0.500000     4.412309        1\n",
            "3      5.0      3.6      1.4     2.979432     0.223607     4.375021        1\n",
            "4      5.4      3.9      1.7     2.749820     0.670820     4.015446        1\n",
            "5      4.6      3.4      1.4     3.043520     0.412311     4.518201        1\n",
            "6      5.0      3.4      1.5     2.830638     0.000000     4.259868        1\n",
            "7      4.4      2.9      1.4     3.045983     0.787401     4.595157        1\n",
            "8      4.9      3.1      1.5     2.797144     0.316228     4.281527        1\n",
            "9      5.4      3.7      1.5     2.852808     0.500000     4.162268        1\n",
            "Centroid 1 (5.738636363636363, 2.7045454545454546, 4.2)\n",
            "Centroid 2 (5.004081632653061, 3.416326530612245, 1.4653061224489796)\n",
            "Centroid 3 (6.673214285714283, 3.0035714285714272, 5.4607142857142845)\n",
            "   X_value  Y_value  Z_value  C1_Distance  C2_Distance  C3_Distance  Cluster\n",
            "0      4.9      3.0      1.4     2.937789     0.424264     4.430993        1\n",
            "1      4.7      3.2      1.3     3.119974     0.412311     4.609089        1\n",
            "2      4.6      3.1      1.5     2.956836     0.500000     4.471552        1\n",
            "3      5.0      3.6      1.4     3.031076     0.223607     4.432243        1\n",
            "4      5.4      3.9      1.7     2.791735     0.670820     4.070335        1\n",
            "5      4.6      3.4      1.4     3.101637     0.412311     4.576546        1\n",
            "6      5.0      3.4      1.5     2.884309     0.000000     4.317877        1\n",
            "7      4.4      2.9      1.4     3.109686     0.787401     4.654850        1\n",
            "8      4.9      3.1      1.5     2.854767     0.316228     4.340604        1\n",
            "9      5.4      3.7      1.5     2.897517     0.500000     4.218216        1\n",
            "Centroid 1 (5.785999999999999, 2.718, 4.2780000000000005)\n",
            "Centroid 2 (5.004081632653061, 3.416326530612245, 1.4653061224489796)\n",
            "Centroid 3 (6.737999999999997, 3.026, 5.533999999999997)\n",
            "   X_value  Y_value  Z_value  C1_Distance  C2_Distance  C3_Distance  Cluster\n",
            "0      4.9      3.0      1.4     3.024468     0.424264     4.524254        1\n",
            "1      4.7      3.2      1.3     3.206276     0.412311     4.702178        1\n",
            "2      4.6      3.1      1.5     3.044635     0.500000     4.566145        1\n",
            "3      5.0      3.6      1.4     3.111045     0.223607     4.521070        1\n",
            "4      5.4      3.9      1.7     2.862203     0.670820     4.153754        1\n",
            "5      4.6      3.4      1.4     3.186629     0.412311     4.669141        1\n",
            "6      5.0      3.4      1.5     2.966514     0.000000     4.408364        1\n",
            "7      4.4      2.9      1.4     3.199532     0.787401     4.751008        1\n",
            "8      4.9      3.1      1.5     2.940783     0.316228     4.433608        1\n",
            "9      5.4      3.7      1.5     2.971633     0.500000     4.303217        1\n",
            "Centroid 1 (5.83859649122807, 2.736842105263158, 4.352631578947369)\n",
            "Centroid 2 (5.004081632653061, 3.416326530612245, 1.4653061224489796)\n",
            "Centroid 3 (6.823255813953488, 3.0511627906976737, 5.639534883720929)\n",
            "   X_value  Y_value  Z_value  C1_Distance  C2_Distance  C3_Distance  Cluster\n",
            "0      4.9      3.0      1.4     3.109381     0.424264     4.655662        1\n",
            "1      4.7      3.2      1.3     3.290817     0.412311     4.833418        1\n",
            "2      4.6      3.1      1.5     3.131056     0.500000     4.699043        1\n",
            "3      5.0      3.6      1.4     3.188467     0.223607     4.647488        1\n",
            "4      5.4      3.9      1.7     2.929464     0.670820     4.273888        1\n",
            "5      4.6      3.4      1.4     3.269852     0.412311     4.799814        1\n",
            "6      5.0      3.4      1.5     3.046396     0.000000     4.536706        1\n",
            "7      4.4      2.9      1.4     3.288497     0.787401     4.885558        1\n",
            "8      4.9      3.1      1.5     3.024955     0.316228     4.564761        1\n",
            "9      5.4      3.7      1.5     3.042622     0.500000     4.425200        1\n",
            "Centroid 1 (5.846551724137931, 2.7327586206896552, 4.363793103448276)\n",
            "Centroid 2 (5.004081632653061, 3.416326530612245, 1.4653061224489796)\n",
            "Centroid 3 (6.8357142857142845, 3.064285714285713, 5.654761904761903)\n"
          ],
          "name": "stdout"
        }
      ]
    },
    {
      "cell_type": "code",
      "metadata": {
        "colab": {
          "base_uri": "https://localhost:8080/"
        },
        "id": "wl52xy4ruGEl",
        "outputId": "fe044a83-309d-45b8-ea93-7c9799d7765d"
      },
      "source": [
        "\n",
        "text=data['Cluster'].values\n",
        "print(text)\n"
      ],
      "execution_count": null,
      "outputs": [
        {
          "output_type": "stream",
          "text": [
            "[1 1 1 1 1 1 1 1 1 1 1 1 1 1 1 1 1 1 1 1 1 1 1 1 1 1 1 1 1 1 1 1 1 1 1 1 1\n",
            " 1 1 1 1 1 1 1 1 1 1 1 1 2 0 2 0 0 0 0 0 0 0 0 0 0 0 0 0 0 0 0 0 0 0 0 0 0\n",
            " 0 2 2 0 0 0 0 0 0 0 0 2 0 0 0 0 0 0 0 0 0 0 0 0 0 2 0 2 2 2 2 0 2 2 2 2 2\n",
            " 2 0 0 2 2 2 2 0 2 0 2 0 2 2 0 0 2 2 2 2 2 2 2 2 2 2 0 2 2 2 0 2 2 2 0 2 2\n",
            " 0]\n"
          ],
          "name": "stdout"
        }
      ]
    },
    {
      "cell_type": "code",
      "metadata": {
        "id": "TK4xpgwSfc5P"
      },
      "source": [
        "df=px.data.iris\n",
        "fig= px.scatter_3d(df,x='X_values',y='Y_values',z='Z_values',color='Cluster')\n",
        "fig.show"
      ],
      "execution_count": null,
      "outputs": []
    },
    {
      "cell_type": "code",
      "metadata": {
        "id": "j2dVfiXDuaVZ"
      },
      "source": [
        "x=data.iloc[:,[3,4]].values"
      ],
      "execution_count": null,
      "outputs": []
    },
    {
      "cell_type": "code",
      "metadata": {
        "id": "lqeza1ARs3WV"
      },
      "source": [
        "fig=plt.figure(figsize=(15,15))\n",
        "ax=fig.add_subplot(111,projection='3d')\n",
        "ax.scatter(x[y_cluster==0,0],x[y_cluster==0,1],x[y_cluster==0,2],s=40,color='blue',lable='cluster 0')\n",
        "ax.scatter(x[y_cluster==1,0],x[y_cluster==1,1],x[y_cluster==1,2],s=40,color='orange',lable='cluster 1')\n",
        "ax.scatter(x[y_cluster==2,0],x[y_cluster==2,1],x[y_cluster==2,2],s=40,color='green',lable='cluster 2')\n",
        "ax.legend()\n",
        "plt.show()\n"
      ],
      "execution_count": null,
      "outputs": []
    },
    {
      "cell_type": "code",
      "metadata": {
        "id": "TDMy2HnZchmo"
      },
      "source": [
        "x_a=data['X_value']\n",
        "y_a=data['Y_value']\n",
        "z_a=data['Z_value']"
      ],
      "execution_count": null,
      "outputs": []
    },
    {
      "cell_type": "code",
      "metadata": {
        "id": "AQu1Dwgzgj3R"
      },
      "source": [
        "fig = plt.figure(figsize = (16, 9))\n",
        "ax = plt.axes(projection =\"3d\")"
      ],
      "execution_count": null,
      "outputs": []
    },
    {
      "cell_type": "code",
      "metadata": {
        "id": "7k0gx2gVg1bH"
      },
      "source": [
        "ax.grid(b = True, color ='grey',\n",
        "        linestyle ='-.', linewidth = 0.3,\n",
        "        alpha = 0.2)"
      ],
      "execution_count": null,
      "outputs": []
    },
    {
      "cell_type": "code",
      "metadata": {
        "id": "azpaZK57g6Rf"
      },
      "source": [
        "my_cmap = plt.get_cmap('hsv')"
      ],
      "execution_count": null,
      "outputs": []
    },
    {
      "cell_type": "code",
      "metadata": {
        "id": "mKM_zXIfhAAd"
      },
      "source": [
        "sctt = ax.scatter3D(x_a, y_a, z_a,\n",
        "                    alpha = 0.8,\n",
        "                    c = (x_a + y_a + z_a),\n",
        "                    cmap = my_cmap,\n",
        "                    marker ='^')"
      ],
      "execution_count": null,
      "outputs": []
    },
    {
      "cell_type": "code",
      "metadata": {
        "id": "2qOjUbv6hRQG"
      },
      "source": [
        "plt.title(\"simple 3D scatter plot\")\n",
        "ax.set_xlabel('X-axis', fontweight ='bold')\n",
        "ax.set_ylabel('Y-axis', fontweight ='bold')\n",
        "ax.set_zlabel('Z-axis', fontweight ='bold')\n",
        "fig.colorbar(sctt, ax = ax, shrink = 0.5, aspect = 5)"
      ],
      "execution_count": null,
      "outputs": []
    },
    {
      "cell_type": "code",
      "metadata": {
        "id": "LbfafxRKhVm8"
      },
      "source": [
        "plt.show()"
      ],
      "execution_count": null,
      "outputs": []
    },
    {
      "cell_type": "code",
      "metadata": {
        "id": "PRjOGDOqcTgn"
      },
      "source": [
        "fig = plt.figure()\n",
        "ax = fig.add_subplot(111, projection='3d')"
      ],
      "execution_count": null,
      "outputs": []
    },
    {
      "cell_type": "code",
      "metadata": {
        "colab": {
          "base_uri": "https://localhost:8080/",
          "height": 319
        },
        "id": "svD8m8NPeOCf",
        "outputId": "d0867ded-231f-4183-b3f8-7e6ec756f12f"
      },
      "source": [
        "fig = pyplot.figure()\n",
        "ax = Axes3D(fig)\n",
        "ax.scatter(x_a, y_a,z_a)\n",
        "pyplot.show()"
      ],
      "execution_count": null,
      "outputs": [
        {
          "output_type": "display_data",
          "data": {
            "image/png": "[encoded data removed]",
            "text/plain": [
              "<Figure size 432x288 with 1 Axes>"
            ]
          },
          "metadata": {
            "tags": [],
            "needs_background": "light"
          }
        }
      ]
    },
    {
      "cell_type": "code",
      "metadata": {
        "colab": {
          "base_uri": "https://localhost:8080/"
        },
        "id": "Na07Z5zsdGoZ",
        "outputId": "4a9ae2a5-51c6-45d3-d91d-d8d9a1d0dc2f"
      },
      "source": [
        "\n",
        "ax.scatter(x_a, y_a, z_a, c='r', marker='o')"
      ],
      "execution_count": null,
      "outputs": [
        {
          "output_type": "execute_result",
          "data": {
            "text/plain": [
              "<mpl_toolkits.mplot3d.art3d.Path3DCollection at 0x7fc45fd5fc50>"
            ]
          },
          "metadata": {
            "tags": []
          },
          "execution_count": 22
        }
      ]
    },
    {
      "cell_type": "code",
      "metadata": {
        "id": "czzm-n0cdOR4"
      },
      "source": [
        "plt.show()"
      ],
      "execution_count": null,
      "outputs": []
    }
  ]
}