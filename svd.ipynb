{
  "cells": [
    {
      "cell_type": "markdown",
      "metadata": {
        "id": "view-in-github",
        "colab_type": "text"
      },
      "source": [
        "<a href=\"https://colab.research.google.com/github/jasmine400/nlp-/blob/main/svd.ipynb\" target=\"_parent\"><img src=\"https://colab.research.google.com/assets/colab-badge.svg\" alt=\"Open In Colab\"/></a>"
      ]
    },
    {
      "cell_type": "code",
      "execution_count": null,
      "metadata": {
        "id": "W4X0XPWVxo1w"
      },
      "outputs": [],
      "source": [
        "import pandas as pd\n",
        "import json\n",
        "import numpy as np"
      ]
    },
    {
      "cell_type": "code",
      "execution_count": null,
      "metadata": {
        "id": "ygwRe5smxvp0"
      },
      "outputs": [],
      "source": [
        "#access google drive\n",
        "from google.colab import drive\n",
        "drive.mount('/content/gdrive')"
      ]
    },
    {
      "cell_type": "code",
      "execution_count": null,
      "metadata": {
        "colab": {
          "base_uri": "https://localhost:8080/"
        },
        "id": "Y6vB0X9MxwzO",
        "outputId": "7dd654d5-3270-49e9-b27e-d459dcee91b9"
      },
      "outputs": [
        {
          "name": "stdout",
          "output_type": "stream",
          "text": [
            "/content/gdrive/My Drive/almojib_service\n",
            "almojib_svd.ipynb\t\t\tlog_mjb_tst.csv   tags.csv\n",
            "clusters.csv\t\t\t\tmovies.csv\t  test_only.ipynb\n",
            "cluster_users.ipynb_users\t\tratings.csv\t  u.data\n",
            "data_almojib.json\t\t\tRatings.csv\t  u.item\n",
            "define_clusters.ipynb\t\t\tsearch_log.ipynb  Untitled0.ipynb\n",
            "export_dataframerecommendertst_alm.csv\tsvd.ipynb\t  u.user\n"
          ]
        }
      ],
      "source": [
        "#access google drive\n",
        "%cd /content/gdrive/My\\ Drive/almojib_service\n",
        "!ls"
      ]
    },
    {
      "cell_type": "code",
      "execution_count": null,
      "metadata": {
        "colab": {
          "base_uri": "https://localhost:8080/"
        },
        "id": "IqPC6gbJxy30",
        "outputId": "a7097ce8-5fbe-410f-9536-8931a06da369"
      },
      "outputs": [
        {
          "name": "stdout",
          "output_type": "stream",
          "text": [
            "1000\n"
          ]
        }
      ],
      "source": [
        "# creating a test data frame u should change it to all log\n",
        "df1 = pd.read_csv(\"log_mjb_tst.csv\")\n",
        "print(len(df1))"
      ]
    },
    {
      "cell_type": "code",
      "execution_count": null,
      "metadata": {
        "colab": {
          "background_save": true,
          "base_uri": "https://localhost:8080/",
          "height": 629
        },
        "id": "0PQUTdRIA4tF",
        "outputId": "0c74bc46-f85a-46a7-8635-39f0b9b56446"
      },
      "outputs": [
        {
          "data": {
            "text/html": [
              "\n",
              "  <div id=\"df-f54281ad-7a28-4905-aff0-63225c37d668\">\n",
              "    <div class=\"colab-df-container\">\n",
              "      <div>\n",
              "<style scoped>\n",
              "    .dataframe tbody tr th:only-of-type {\n",
              "        vertical-align: middle;\n",
              "    }\n",
              "\n",
              "    .dataframe tbody tr th {\n",
              "        vertical-align: top;\n",
              "    }\n",
              "\n",
              "    .dataframe thead th {\n",
              "        text-align: right;\n",
              "    }\n",
              "</style>\n",
              "<table border=\"1\" class=\"dataframe\">\n",
              "  <thead>\n",
              "    <tr style=\"text-align: right;\">\n",
              "      <th></th>\n",
              "      <th>Unnamed: 0</th>\n",
              "      <th>similar_parent_id</th>\n",
              "      <th>app_version</th>\n",
              "      <th>category</th>\n",
              "      <th>device_info</th>\n",
              "      <th>institute</th>\n",
              "      <th>marja</th>\n",
              "      <th>page</th>\n",
              "      <th>position</th>\n",
              "      <th>question_id</th>\n",
              "      <th>...</th>\n",
              "      <th>category_filter</th>\n",
              "      <th>marja_filter</th>\n",
              "      <th>not_searched_terms</th>\n",
              "      <th>term</th>\n",
              "      <th>search_time</th>\n",
              "      <th>server_search_id</th>\n",
              "      <th>uncompleted_term</th>\n",
              "      <th>category_list</th>\n",
              "      <th>marja_list</th>\n",
              "      <th>term_list</th>\n",
              "    </tr>\n",
              "  </thead>\n",
              "  <tbody>\n",
              "    <tr>\n",
              "      <th>0</th>\n",
              "      <td>0</td>\n",
              "      <td>0.0</td>\n",
              "      <td>1.2.8</td>\n",
              "      <td>الفقهية (إستفتائات)</td>\n",
              "      <td>{'os': {'name': 'android', 'version': '29'}, '...</td>\n",
              "      <td>برنامج فقه المصطفى ص</td>\n",
              "      <td>['السيد السيستاني']</td>\n",
              "      <td>institute_question</td>\n",
              "      <td>30.0</td>\n",
              "      <td>139053.0</td>\n",
              "      <td>...</td>\n",
              "      <td>NaN</td>\n",
              "      <td>NaN</td>\n",
              "      <td>NaN</td>\n",
              "      <td>NaN</td>\n",
              "      <td>NaN</td>\n",
              "      <td>NaN</td>\n",
              "      <td>NaN</td>\n",
              "      <td>NaN</td>\n",
              "      <td>NaN</td>\n",
              "      <td>NaN</td>\n",
              "    </tr>\n",
              "    <tr>\n",
              "      <th>1</th>\n",
              "      <td>1</td>\n",
              "      <td>0.0</td>\n",
              "      <td>1.2.1</td>\n",
              "      <td>القرآن الكريم</td>\n",
              "      <td>{'os': {'name': 'android', 'version': '27'}, '...</td>\n",
              "      <td>مؤسسة المصطفى للإرشاد و التوعية الدينية</td>\n",
              "      <td>NaN</td>\n",
              "      <td>home_category</td>\n",
              "      <td>3.0</td>\n",
              "      <td>121280.0</td>\n",
              "      <td>...</td>\n",
              "      <td>['القرآن الكريم']</td>\n",
              "      <td>[]</td>\n",
              "      <td>[]</td>\n",
              "      <td>NaN</td>\n",
              "      <td>NaN</td>\n",
              "      <td>NaN</td>\n",
              "      <td>NaN</td>\n",
              "      <td>NaN</td>\n",
              "      <td>NaN</td>\n",
              "      <td>NaN</td>\n",
              "    </tr>\n",
              "    <tr>\n",
              "      <th>2</th>\n",
              "      <td>2</td>\n",
              "      <td>0.0</td>\n",
              "      <td>1.2.7</td>\n",
              "      <td>NaN</td>\n",
              "      <td>{'os': {'name': 'android', 'version': '29'}, '...</td>\n",
              "      <td>NaN</td>\n",
              "      <td>['السيد السيستاني']</td>\n",
              "      <td>search</td>\n",
              "      <td>NaN</td>\n",
              "      <td>NaN</td>\n",
              "      <td>...</td>\n",
              "      <td>NaN</td>\n",
              "      <td>NaN</td>\n",
              "      <td>['احكام الارث تلزوجة', 'احكام الارث زوجة المتو...</td>\n",
              "      <td>هل الزوجة ترث السكن من الزوج المتوفي</td>\n",
              "      <td>2021-04-27 04:36:24</td>\n",
              "      <td>367fb89204d632fbf48d2931c1825368</td>\n",
              "      <td>NaN</td>\n",
              "      <td>NaN</td>\n",
              "      <td>NaN</td>\n",
              "      <td>NaN</td>\n",
              "    </tr>\n",
              "    <tr>\n",
              "      <th>3</th>\n",
              "      <td>3</td>\n",
              "      <td>0.0</td>\n",
              "      <td>1.2.8</td>\n",
              "      <td>العقائدية</td>\n",
              "      <td>{'os': {'name': 'android', 'version': '23'}, '...</td>\n",
              "      <td>مركز الابحاث العقائدية</td>\n",
              "      <td>NaN</td>\n",
              "      <td>search_click_suggestion</td>\n",
              "      <td>1.0</td>\n",
              "      <td>12001.0</td>\n",
              "      <td>...</td>\n",
              "      <td>[]</td>\n",
              "      <td>[]</td>\n",
              "      <td>['العس']</td>\n",
              "      <td>حديث العشرة المبشرة بالجنة</td>\n",
              "      <td>NaN</td>\n",
              "      <td>08f65c904632d67129ee9ac7e0a965fd</td>\n",
              "      <td>العشرة ال</td>\n",
              "      <td>NaN</td>\n",
              "      <td>NaN</td>\n",
              "      <td>NaN</td>\n",
              "    </tr>\n",
              "    <tr>\n",
              "      <th>4</th>\n",
              "      <td>4</td>\n",
              "      <td>0.0</td>\n",
              "      <td>1.2.8</td>\n",
              "      <td>الفقهية (إستفتائات)</td>\n",
              "      <td>{'os': {'name': 'android', 'version': '29'}, '...</td>\n",
              "      <td>مؤسسة المصطفى للإرشاد</td>\n",
              "      <td>['السيد السيستاني']</td>\n",
              "      <td>search</td>\n",
              "      <td>13.0</td>\n",
              "      <td>64259.0</td>\n",
              "      <td>...</td>\n",
              "      <td>[]</td>\n",
              "      <td>[]</td>\n",
              "      <td>['اكتئاب ']</td>\n",
              "      <td>اكتئاب</td>\n",
              "      <td>NaN</td>\n",
              "      <td>866f50b62967246cddff22495634734b</td>\n",
              "      <td>NaN</td>\n",
              "      <td>NaN</td>\n",
              "      <td>NaN</td>\n",
              "      <td>NaN</td>\n",
              "    </tr>\n",
              "  </tbody>\n",
              "</table>\n",
              "<p>5 rows × 28 columns</p>\n",
              "</div>\n",
              "      <button class=\"colab-df-convert\" onclick=\"convertToInteractive('df-f54281ad-7a28-4905-aff0-63225c37d668')\"\n",
              "              title=\"Convert this dataframe to an interactive table.\"\n",
              "              style=\"display:none;\">\n",
              "        \n",
              "  <svg xmlns=\"http://www.w3.org/2000/svg\" height=\"24px\"viewBox=\"0 0 24 24\"\n",
              "       width=\"24px\">\n",
              "    <path d=\"M0 0h24v24H0V0z\" fill=\"none\"/>\n",
              "    <path d=\"M18.56 5.44l.94 2.06.94-2.06 2.06-.94-2.06-.94-.94-2.06-.94 2.06-2.06.94zm-11 1L8.5 8.5l.94-2.06 2.06-.94-2.06-.94L8.5 2.5l-.94 2.06-2.06.94zm10 10l.94 2.06.94-2.06 2.06-.94-2.06-.94-.94-2.06-.94 2.06-2.06.94z\"/><path d=\"M17.41 7.96l-1.37-1.37c-.4-.4-.92-.59-1.43-.59-.52 0-1.04.2-1.43.59L10.3 9.45l-7.72 7.72c-.78.78-.78 2.05 0 2.83L4 21.41c.39.39.9.59 1.41.59.51 0 1.02-.2 1.41-.59l7.78-7.78 2.81-2.81c.8-.78.8-2.07 0-2.86zM5.41 20L4 18.59l7.72-7.72 1.47 1.35L5.41 20z\"/>\n",
              "  </svg>\n",
              "      </button>\n",
              "      \n",
              "  <style>\n",
              "    .colab-df-container {\n",
              "      display:flex;\n",
              "      flex-wrap:wrap;\n",
              "      gap: 12px;\n",
              "    }\n",
              "\n",
              "    .colab-df-convert {\n",
              "      background-color: #E8F0FE;\n",
              "      border: none;\n",
              "      border-radius: 50%;\n",
              "      cursor: pointer;\n",
              "      display: none;\n",
              "      fill: #1967D2;\n",
              "      height: 32px;\n",
              "      padding: 0 0 0 0;\n",
              "      width: 32px;\n",
              "    }\n",
              "\n",
              "    .colab-df-convert:hover {\n",
              "      background-color: #E2EBFA;\n",
              "      box-shadow: 0px 1px 2px rgba(60, 64, 67, 0.3), 0px 1px 3px 1px rgba(60, 64, 67, 0.15);\n",
              "      fill: #174EA6;\n",
              "    }\n",
              "\n",
              "    [theme=dark] .colab-df-convert {\n",
              "      background-color: #3B4455;\n",
              "      fill: #D2E3FC;\n",
              "    }\n",
              "\n",
              "    [theme=dark] .colab-df-convert:hover {\n",
              "      background-color: #434B5C;\n",
              "      box-shadow: 0px 1px 3px 1px rgba(0, 0, 0, 0.15);\n",
              "      filter: drop-shadow(0px 1px 2px rgba(0, 0, 0, 0.3));\n",
              "      fill: #FFFFFF;\n",
              "    }\n",
              "  </style>\n",
              "\n",
              "      <script>\n",
              "        const buttonEl =\n",
              "          document.querySelector('#df-f54281ad-7a28-4905-aff0-63225c37d668 button.colab-df-convert');\n",
              "        buttonEl.style.display =\n",
              "          google.colab.kernel.accessAllowed ? 'block' : 'none';\n",
              "\n",
              "        async function convertToInteractive(key) {\n",
              "          const element = document.querySelector('#df-f54281ad-7a28-4905-aff0-63225c37d668');\n",
              "          const dataTable =\n",
              "            await google.colab.kernel.invokeFunction('convertToInteractive',\n",
              "                                                     [key], {});\n",
              "          if (!dataTable) return;\n",
              "\n",
              "          const docLinkHtml = 'Like what you see? Visit the ' +\n",
              "            '<a target=\"_blank\" href=https://colab.research.google.com/notebooks/data_table.ipynb>data table notebook</a>'\n",
              "            + ' to learn more about interactive tables.';\n",
              "          element.innerHTML = '';\n",
              "          dataTable['output_type'] = 'display_data';\n",
              "          await google.colab.output.renderOutput(dataTable, element);\n",
              "          const docLink = document.createElement('div');\n",
              "          docLink.innerHTML = docLinkHtml;\n",
              "          element.appendChild(docLink);\n",
              "        }\n",
              "      </script>\n",
              "    </div>\n",
              "  </div>\n",
              "  "
            ],
            "text/plain": [
              "   Unnamed: 0  similar_parent_id app_version             category  \\\n",
              "0           0                0.0       1.2.8  الفقهية (إستفتائات)   \n",
              "1           1                0.0       1.2.1        القرآن الكريم   \n",
              "2           2                0.0       1.2.7                  NaN   \n",
              "3           3                0.0       1.2.8            العقائدية   \n",
              "4           4                0.0       1.2.8  الفقهية (إستفتائات)   \n",
              "\n",
              "                                         device_info  \\\n",
              "0  {'os': {'name': 'android', 'version': '29'}, '...   \n",
              "1  {'os': {'name': 'android', 'version': '27'}, '...   \n",
              "2  {'os': {'name': 'android', 'version': '29'}, '...   \n",
              "3  {'os': {'name': 'android', 'version': '23'}, '...   \n",
              "4  {'os': {'name': 'android', 'version': '29'}, '...   \n",
              "\n",
              "                                 institute                marja  \\\n",
              "0                     برنامج فقه المصطفى ص  ['السيد السيستاني']   \n",
              "1  مؤسسة المصطفى للإرشاد و التوعية الدينية                  NaN   \n",
              "2                                      NaN  ['السيد السيستاني']   \n",
              "3                   مركز الابحاث العقائدية                  NaN   \n",
              "4                    مؤسسة المصطفى للإرشاد  ['السيد السيستاني']   \n",
              "\n",
              "                      page  position  question_id  ...    category_filter  \\\n",
              "0       institute_question      30.0     139053.0  ...                NaN   \n",
              "1            home_category       3.0     121280.0  ...  ['القرآن الكريم']   \n",
              "2                   search       NaN          NaN  ...                NaN   \n",
              "3  search_click_suggestion       1.0      12001.0  ...                 []   \n",
              "4                   search      13.0      64259.0  ...                 []   \n",
              "\n",
              "  marja_filter                                 not_searched_terms  \\\n",
              "0          NaN                                                NaN   \n",
              "1           []                                                 []   \n",
              "2          NaN  ['احكام الارث تلزوجة', 'احكام الارث زوجة المتو...   \n",
              "3           []                                           ['العس']   \n",
              "4           []                                        ['اكتئاب ']   \n",
              "\n",
              "                                   term          search_time  \\\n",
              "0                                   NaN                  NaN   \n",
              "1                                   NaN                  NaN   \n",
              "2  هل الزوجة ترث السكن من الزوج المتوفي  2021-04-27 04:36:24   \n",
              "3            حديث العشرة المبشرة بالجنة                  NaN   \n",
              "4                                اكتئاب                  NaN   \n",
              "\n",
              "                   server_search_id uncompleted_term category_list marja_list  \\\n",
              "0                               NaN              NaN           NaN        NaN   \n",
              "1                               NaN              NaN           NaN        NaN   \n",
              "2  367fb89204d632fbf48d2931c1825368              NaN           NaN        NaN   \n",
              "3  08f65c904632d67129ee9ac7e0a965fd        العشرة ال           NaN        NaN   \n",
              "4  866f50b62967246cddff22495634734b              NaN           NaN        NaN   \n",
              "\n",
              "  term_list  \n",
              "0       NaN  \n",
              "1       NaN  \n",
              "2       NaN  \n",
              "3       NaN  \n",
              "4       NaN  \n",
              "\n",
              "[5 rows x 28 columns]"
            ]
          },
          "execution_count": null,
          "metadata": {},
          "output_type": "execute_result"
        }
      ],
      "source": [
        "df1.head()"
      ]
    },
    {
      "cell_type": "code",
      "execution_count": null,
      "metadata": {
        "colab": {
          "base_uri": "https://localhost:8080/"
        },
        "id": "y-6svZ3hA_cE",
        "outputId": "abdf1166-494b-4e9c-fda8-2ad5677cb676"
      },
      "outputs": [
        {
          "name": "stdout",
          "output_type": "stream",
          "text": [
            "<class 'pandas.core.frame.DataFrame'>\n",
            "RangeIndex: 1000 entries, 0 to 999\n",
            "Data columns (total 28 columns):\n",
            " #   Column              Non-Null Count  Dtype  \n",
            "---  ------              --------------  -----  \n",
            " 0   Unnamed: 0          1000 non-null   int64  \n",
            " 1   similar_parent_id   846 non-null    float64\n",
            " 2   app_version         898 non-null    object \n",
            " 3   category            745 non-null    object \n",
            " 4   device_info         898 non-null    object \n",
            " 5   institute           663 non-null    object \n",
            " 6   marja               631 non-null    object \n",
            " 7   page                999 non-null    object \n",
            " 8   position            736 non-null    float64\n",
            " 9   question_id         745 non-null    float64\n",
            " 10  reference           999 non-null    object \n",
            " 11  time                903 non-null    object \n",
            " 12  subject             422 non-null    object \n",
            " 13  tag                 747 non-null    object \n",
            " 14  after_search        782 non-null    float64\n",
            " 15  user_info           812 non-null    object \n",
            " 16  user_session_id     891 non-null    object \n",
            " 17  server_time         1000 non-null   object \n",
            " 18  category_filter     395 non-null    object \n",
            " 19  marja_filter        392 non-null    object \n",
            " 20  not_searched_terms  615 non-null    object \n",
            " 21  term                521 non-null    object \n",
            " 22  search_time         265 non-null    object \n",
            " 23  server_search_id    520 non-null    object \n",
            " 24  uncompleted_term    167 non-null    object \n",
            " 25  category_list       1 non-null      object \n",
            " 26  marja_list          1 non-null      object \n",
            " 27  term_list           1 non-null      object \n",
            "dtypes: float64(4), int64(1), object(23)\n",
            "memory usage: 218.9+ KB\n"
          ]
        }
      ],
      "source": [
        "df1.info()"
      ]
    },
    {
      "cell_type": "code",
      "execution_count": null,
      "metadata": {
        "colab": {
          "base_uri": "https://localhost:8080/"
        },
        "id": "AcXQM4Uxx5da",
        "outputId": "a5d48855-882c-4066-e161-4ab38ded0512"
      },
      "outputs": [
        {
          "name": "stdout",
          "output_type": "stream",
          "text": [
            "80816\n"
          ]
        }
      ],
      "source": [
        "#load dataframe of clusters\n",
        "df2 = pd.read_csv(\"clusters.csv\")\n",
        "print(len(df2))"
      ]
    },
    {
      "cell_type": "code",
      "execution_count": null,
      "metadata": {
        "colab": {
          "base_uri": "https://localhost:8080/"
        },
        "id": "Gz9h21nUPq6L",
        "outputId": "3b64e15d-7818-49ff-ac50-91e6fb17cc5a"
      },
      "outputs": [
        {
          "name": "stdout",
          "output_type": "stream",
          "text": [
            "[0, 1, 2, 3, 4, 5, 6, 7, 8, 9, 10, 11, 12, 13, 14, 15, 16, 17, 18, 19, 20, 21, 22, 23, 24, 25, 26, 27, 28, 29, 30, 31, 32, 33, 34, 35, 36, 37, 38, 39, 40, 41, 42, 43, 44, 45, 46, 47, 48, 49, 50, 51, 52, 53, 54, 55, 56, 57, 58, 59, 60, 61, 62, 63, 64, 65, 66, 67, 68, 69, 70, 71, 72, 73, 74, 75, 76, 77, 78, 79, 80, 81, 82, 83, 84, 85, 86, 87, 88, 89, 90, 91, 92, 93, 94, 95, 96, 97, 98, 99, 100, 101, 102, 103, 104, 105, 106, 107, 108, 109, 110, 111, 112, 113, 114, 115, 116, 117, 118, 119, 120, 121, 122, 123, 124, 125, 126, 127, 128, 129, 130, 131, 132, 133, 134, 135, 136, 137, 138, 139, 140, 141, 142, 143, 144, 145, 146, 147, 148, 149, 150, 151, 152, 153, 154, 155, 156, 157, 158, 159, 160, 161, 162, 163, 164, 165, 166, 167, 168, 169, 170, 171, 172, 173, 174, 175, 176, 177, 178, 179, 180, 181, 182, 183, 184, 185, 186, 187, 188, 189, 190, 191, 192, 193, 194, 195, 196, 197, 198, 199]\n"
          ]
        }
      ],
      "source": [
        "#count of clusters\n",
        "cls = df2[\"clusters\"].tolist()\n",
        "cls=list(set(cls))\n",
        "print(cls)"
      ]
    },
    {
      "cell_type": "code",
      "execution_count": null,
      "metadata": {
        "id": "8ZuQf3NCyAXB"
      },
      "outputs": [],
      "source": [
        "df2.rename(columns={'q_id': 'question_id'}, inplace=True)"
      ]
    },
    {
      "cell_type": "code",
      "execution_count": null,
      "metadata": {
        "colab": {
          "base_uri": "https://localhost:8080/"
        },
        "id": "1ALUL3BtyIHC",
        "outputId": "a584321e-8e36-431d-e214-c1a9000ba6c9"
      },
      "outputs": [
        {
          "name": "stdout",
          "output_type": "stream",
          "text": [
            "692\n"
          ]
        }
      ],
      "source": [
        "#remove nan rows\n",
        "df1 = df1[df1['user_info'].notna()]\n",
        "df1 = df1[df1['question_id'].notna()]\n",
        "print(len(df1))"
      ]
    },
    {
      "cell_type": "code",
      "execution_count": null,
      "metadata": {
        "colab": {
          "base_uri": "https://localhost:8080/"
        },
        "id": "aI3433nlyLP_",
        "outputId": "c6cb8a7c-7934-495a-c7c4-fde5bf1623fb"
      },
      "outputs": [
        {
          "name": "stdout",
          "output_type": "stream",
          "text": [
            "641\n"
          ]
        }
      ],
      "source": [
        "#merge 2 dataframes clusters and questions and user info\n",
        "df = pd.merge(df2, df1, on ='question_id')\n",
        "print(len(df))"
      ]
    },
    {
      "cell_type": "code",
      "execution_count": null,
      "metadata": {
        "colab": {
          "base_uri": "https://localhost:8080/"
        },
        "id": "brbbLb2fyXl0",
        "outputId": "211ddcf6-f7df-4f3d-c575-97b2851e23d2"
      },
      "outputs": [
        {
          "name": "stdout",
          "output_type": "stream",
          "text": [
            "[\"{'age': 20, 'country': {'id': 469}, 'display_name': 'فاطمة', 'gender': 'female', 'id': 110888, 'role': 'user'}\", \"{'age': 0, 'country': {'id': 0}, 'display_name': 'Mustafa Fadel', 'id': 148273, 'role': 'user'}\", \"{'age': 47, 'country': {'id': 469, 'name': 'العراق'}, 'display_name': 'ابو محمد', 'gender': 'male', 'id': 124005, 'role': 'user'}\", \"{'age': 28, 'country': {'id': 469, 'name': 'العراق'}, 'display_name': 'أبہو مہحہمہد', 'gender': 'male', 'id': 38667, 'role': 'user'}\", \"{'age': 21, 'country': {'id': 469, 'name': 'العراق'}, 'display_name': 'bbbvv', 'gender': 'male', 'id': 74210, 'role': 'user'}\", \"{'age': 20, 'country': {'id': 469}, 'display_name': 'Hussain Rashid', 'gender': 'male', 'id': 91918, 'role': 'user'}\", \"{'age': 15, 'id': 130161, 'gender': 'male', 'country': {'id': 469, 'name': 'العراق', 'code': '+964'}, 'display_name': 'كرار', 'role': 'user'}\", \"{'age': 27, 'country': {'id': 469, 'name': 'العراق'}, 'display_name': 'ام محمد', 'gender': 'female', 'id': 34299, 'role': 'user'}\", \"{'age': 0, 'id': 0}\", \"{'age': 0, 'country': {'id': 0}, 'display_name': 'بالزهراء وجودي', 'id': 133649, 'role': 'user'}\", \"{'age': 19, 'country': {'id': 469, 'name': 'العراق'}, 'display_name': 'حب علي جنة قسيم النار و الجنة ', 'gender': 'female', 'id': 129482, 'role': 'user'}\", \"{'age': 25, 'country': {'id': 469}, 'display_name': 'فاطمية الهوى ', 'gender': 'female', 'id': 16558, 'role': 'user'}\", \"{'age': 0, 'id': 0}\", \"{'age': 50, 'country': {'id': 469}, 'display_name': 'ابو علي', 'gender': 'male', 'id': 85382, 'role': 'user'}\", \"{'age': 15, 'id': 130161, 'gender': 'male', 'country': {'id': 469, 'name': 'العراق', 'code': '+964'}, 'display_name': 'كرار', 'role': 'user'}\", \"{'age': 17, 'country': {'id': 469}, 'display_name': 'Zoshi H', 'gender': 'female', 'id': 141289, 'role': 'user'}\", \"{'age': 0, 'id': 0}\", \"{'age': 0, 'id': 0}\", \"{'age': 20, 'country': {'id': 469}, 'display_name': 'Duha M.r', 'gender': 'female', 'id': 134003, 'role': 'user'}\", \"{'age': 27, 'id': 173161, 'gender': 'male', 'country': {'id': 469, 'name': 'العراق', 'code': '+964'}, 'display_name': 'Muntadher Raad', 'role': 'user'}\", \"{'age': 22, 'country': {'id': 469}, 'display_name': 'Yasmin HA', 'gender': 'female', 'id': 144181, 'role': 'user'}\", \"{'age': 20, 'country': {'id': 469}, 'display_name': 'فاطمة', 'gender': 'female', 'id': 110888, 'role': 'user'}\", \"{'age': 44, 'country': {'id': 469}, 'display_name': 'مرتضى حميد سلمان ', 'gender': 'male', 'id': 142942, 'role': 'user'}\", \"{'age': 20, 'country': {'id': 469}, 'display_name': 'حسن', 'gender': 'male', 'id': 140954, 'role': 'user'}\", \"{'age': 16, 'id': 86290, 'gender': 'female', 'country': {'id': 469, 'name': 'العراق'}, 'display_name': 'Apple', 'role': 'user'}\", \"{'age': 0, 'id': 0}\", \"{'age': 20, 'country': {'id': 469}, 'display_name': 'ياصاحب الزمان', 'gender': 'male', 'id': 141341, 'role': 'user'}\", \"{'age': 26, 'country': {'id': 469}, 'display_name': 'عاشقة الموعود ٣١٣', 'gender': 'female', 'id': 48712, 'role': 'user'}\", \"{'age': 14, 'country': {'id': 469}, 'display_name': 'mohamed', 'gender': 'male', 'id': 164875, 'role': 'user'}\", \"{'age': 0, 'country': {'id': 0}, 'display_name': 'عطرالجنه عطرالجنه', 'id': 141667, 'role': 'user'}\", \"{'age': 9, 'id': 46, 'gender': 'male', 'country': {'id': 469, 'name': 'العراق'}, 'display_name': 'يا ابا صالح المهدي', 'role': 'admin'}\", \"{'age': 9, 'id': 46, 'gender': 'male', 'country': {'id': 469, 'name': 'العراق'}, 'display_name': 'يا ابا صالح المهدي', 'role': 'admin'}\", \"{'age': 21, 'country': {'id': 469, 'name': 'العراق'}, 'display_name': 'bbbvv', 'gender': 'male', 'id': 74210, 'role': 'user'}\", \"{'age': 24, 'country': {'id': 469}, 'display_name': 'نور ميثم صافي', 'gender': 'female', 'id': 141284, 'role': 'user'}\", \"{'age': 21, 'country': {'id': 550}, 'display_name': 'مجهول ', 'gender': 'male', 'id': 50596, 'role': 'user'}\", \"{'age': 0, 'id': 0}\", \"{'age': 15, 'id': 130161, 'gender': 'male', 'country': {'id': 469, 'name': 'العراق', 'code': '+964'}, 'display_name': 'كرار', 'role': 'user'}\", \"{'age': 0, 'id': 0}\", \"{'age': 0, 'id': 0}\", \"{'age': 17, 'country': {'id': 469}, 'display_name': 'Zoshi H', 'gender': 'female', 'id': 141289, 'role': 'user'}\", \"{'age': 24, 'country': {'id': 469}, 'display_name': 'Salam', 'gender': 'male', 'id': 124570, 'role': 'user'}\", \"{'age': 15, 'country': {'id': 469}, 'display_name': 'علي سالم نزال', 'gender': 'male', 'id': 135126, 'role': 'user'}\", \"{'age': 17, 'country': {'id': 469}, 'display_name': 'القمر', 'gender': 'female', 'id': 116892, 'role': 'user'}\", \"{'age': 17, 'country': {'id': 469}, 'display_name': 'حسين رعد موير', 'gender': 'male', 'id': 133278, 'role': 'user'}\", \"{'age': 17, 'country': {'id': 469, 'name': 'العراق'}, 'display_name': 'تمار ميثم', 'gender': 'male', 'id': 83326, 'role': 'user'}\", \"{'age': 0, 'id': 0}\", \"{'age': 15, 'country': {'id': 469}, 'display_name': 'علي سالم نزال', 'gender': 'male', 'id': 135126, 'role': 'user'}\", \"{'age': 0, 'id': 0}\", \"{'age': 0, 'id': 0}\", \"{'age': 19, 'country': {'id': 469}, 'display_name': 'احمد', 'gender': 'male', 'id': 132287, 'role': 'user'}\", \"{'age': 20, 'country': {'id': 469}, 'display_name': 'مرتضئ حسن', 'gender': 'male', 'id': 124309, 'role': 'user'}\", \"{'age': 0, 'country': {'id': 550, 'name': 'السعودية'}, 'id': 89647, 'role': 'user'}\", \"{'age': 20, 'country': {'id': 469}, 'display_name': 'ياصاحب الزمان', 'gender': 'male', 'id': 141341, 'role': 'user'}\", \"{'age': 24, 'country': {'id': 469}, 'display_name': 'مريم الكربلائيه ', 'gender': 'female', 'id': 78558, 'role': 'user'}\", \"{'age': 17, 'country': {'id': 527, 'name': 'عمان'}, 'display_name': 'فاطمة', 'gender': 'female', 'id': 86708, 'role': 'user'}\", \"{'age': 0, 'id': 0}\", \"{'age': 0, 'country': {'id': 0}, 'display_name': 'Hussain AL Juboury', 'id': 76107, 'role': 'user'}\", \"{'age': 27, 'country': {'id': 469}, 'display_name': 'خطواتي زينبية ', 'gender': 'female', 'id': 145678, 'role': 'user'}\", \"{'age': 0, 'id': 0}\", \"{'age': 22, 'country': {'id': 469}, 'display_name': 'الزهراء', 'gender': 'female', 'id': 122908, 'role': 'user'}\", \"{'age': 75, 'id': 139598, 'gender': 'male', 'country': {'id': 469, 'name': 'العراق'}, 'display_name': 'فالح الحداد', 'role': 'user'}\", \"{'age': 30, 'id': 137340, 'gender': 'male', 'country': {'id': 469, 'name': 'العراق', 'code': '+964'}, 'display_name': 'سجاد علي الفاخر', 'role': 'user'}\", \"{'age': 25, 'country': {'id': 469}, 'display_name': 'علي الميالي', 'gender': 'female', 'id': 70394, 'role': 'user'}\", \"{'age': 27, 'id': 173161, 'gender': 'male', 'country': {'id': 469, 'name': 'العراق', 'code': '+964'}, 'display_name': 'Muntadher Raad', 'role': 'user'}\", \"{'age': 14, 'country': {'id': 469, 'name': 'العراق'}, 'display_name': 'حسين علي', 'gender': 'male', 'id': 23004, 'role': 'user'}\", \"{'age': 22, 'country': {'id': 475}, 'display_name': 'عبدالله محمد عبدالله ', 'gender': 'male', 'id': 50623, 'role': 'user'}\", \"{'age': 0, 'id': 0}\", \"{'age': 0, 'id': 0}\", \"{'age': 41, 'country': {'id': 469}, 'display_name': 'AliAli ', 'gender': 'female', 'id': 138516, 'role': 'user'}\", \"{'age': 30, 'id': 137340, 'gender': 'male', 'country': {'id': 469, 'name': 'العراق', 'code': '+964'}, 'display_name': 'سجاد علي الفاخر', 'role': 'user'}\", \"{'age': 16, 'country': {'id': 469, 'name': 'العراق'}, 'display_name': 'محمد حسن', 'gender': 'male', 'id': 58709, 'role': 'user'}\", \"{'age': 18, 'country': {'id': 469}, 'display_name': 'علي البصراوي', 'gender': 'male', 'id': 134745, 'role': 'user'}\", \"{'age': 19, 'country': {'id': 469}, 'display_name': 'زينب ', 'gender': 'female', 'id': 148231, 'role': 'user'}\", \"{'age': 22, 'country': {'id': 469}, 'display_name': 'حسين ', 'gender': 'male', 'id': 133285, 'role': 'user'}\", \"{'age': 15, 'country': {'id': 469}, 'display_name': 'علي سالم نزال', 'gender': 'male', 'id': 135126, 'role': 'user'}\", \"{'age': 25, 'country': {'id': 469}, 'display_name': 'حسين ', 'gender': 'male', 'id': 144247, 'role': 'user'}\", \"{'age': 0, 'country': {'id': 0}, 'display_name': 'مولاتي رقيه', 'id': 82394, 'role': 'user'}\", \"{'age': 0, 'id': 0}\", \"{'age': 0, 'id': 0}\", \"{'age': 20, 'country': {'id': 469}, 'display_name': 'حسن', 'gender': 'male', 'id': 140954, 'role': 'user'}\", \"{'age': 25, 'country': {'id': 469}, 'display_name': 'م. علي الجيزاني', 'gender': 'male', 'id': 140514, 'role': 'user'}\", \"{'age': 15, 'country': {'id': 469}, 'display_name': 'علي سالم نزال', 'gender': 'male', 'id': 135126, 'role': 'user'}\", \"{'age': 0, 'id': 0}\", \"{'age': 14, 'country': {'id': 469}, 'display_name': 'mohamed', 'gender': 'male', 'id': 164875, 'role': 'user'}\", \"{'age': 0, 'id': 0}\", \"{'age': 0, 'id': 0}\", \"{'age': 17, 'country': {'id': 469}, 'display_name': 'Zoshi H', 'gender': 'female', 'id': 141289, 'role': 'user'}\", \"{'age': 22, 'country': {'id': 469}, 'display_name': 'uo.ti6', 'gender': 'female', 'id': 68056, 'role': 'user'}\", \"{'age': 18, 'country': {'id': 469}, 'display_name': 'Ameer', 'gender': 'female', 'id': 122906, 'role': 'user'}\", \"{'age': 0, 'id': 0}\", \"{'age': 15, 'country': {'id': 469}, 'display_name': 'علي سالم نزال', 'gender': 'male', 'id': 135126, 'role': 'user'}\", \"{'age': 15, 'country': {'id': 469}, 'display_name': 'علي سالم نزال', 'gender': 'male', 'id': 135126, 'role': 'user'}\", \"{'age': 57, 'country': {'id': 469, 'name': 'العراق'}, 'display_name': 'Sadeq Alabadi', 'gender': 'male', 'id': 19038, 'role': 'user'}\", \"{'age': 0, 'country': {'id': 0}, 'display_name': 'حسين', 'id': 144220, 'role': 'user'}\", \"{'age': 44, 'country': {'id': 469}, 'display_name': 'وليد الكعبه', 'gender': 'male', 'id': 11524, 'role': 'user'}\", \"{'age': 32, 'country': {'id': 469}, 'display_name': 'laheb albaha', 'gender': 'male', 'id': 142393, 'role': 'user'}\", \"{'age': 0, 'id': 0}\", \"{'age': 19, 'country': {'id': 469}, 'display_name': 'زينب ', 'gender': 'female', 'id': 148231, 'role': 'user'}\", \"{'age': 20, 'country': {'id': 469}, 'display_name': 'Hussain Rashid', 'gender': 'male', 'id': 91918, 'role': 'user'}\", \"{'age': 16, 'country': {'id': 469, 'name': 'العراق'}, 'display_name': 'Abbas Ahmed', 'gender': 'male', 'id': 12393, 'role': 'user'}\", \"{'age': 0, 'id': 0}\", \"{'age': 33, 'id': 78147, 'gender': 'female', 'country': {'id': 469, 'name': 'العراق', 'code': '+964'}, 'display_name': 'Naarjs Beeboo', 'role': 'user'}\", \"{'age': 25, 'country': {'id': 469}, 'display_name': 'Fhjkk', 'gender': 'female', 'id': 82496, 'role': 'user'}\", \"{'age': 0, 'id': 0}\", \"{'age': 20, 'country': {'id': 469}, 'display_name': 'Hussain Rashid', 'gender': 'male', 'id': 91918, 'role': 'user'}\", \"{'age': 26, 'country': {'id': 469, 'name': 'العراق'}, 'display_name': 'الصافي', 'gender': 'male', 'id': 127973, 'role': 'user'}\", \"{'age': 0, 'country': {'id': 0}, 'display_name': 'خليل سلطان', 'id': 137962, 'role': 'user'}\", \"{'age': 0, 'id': 0}\", \"{'age': 0, 'id': 0}\", \"{'role': 'user', 'country': {'id': 469}, 'display_name': 'Mahdi', 'gender': 'male', 'id': 128527, 'age': 52}\", \"{'age': 17, 'country': {'id': 469, 'name': 'العراق'}, 'display_name': 'تمار ميثم', 'gender': 'male', 'id': 83326, 'role': 'user'}\", \"{'age': 25, 'country': {'id': 469}, 'display_name': 'حسين ', 'gender': 'male', 'id': 144247, 'role': 'user'}\", \"{'age': 0, 'country': {'id': 0}, 'display_name': 'د', 'id': 139641, 'role': 'user'}\", \"{'age': 0, 'id': 0}\", \"{'age': 18, 'country': {'id': 469}, 'display_name': 'saif salah', 'gender': 'male', 'id': 126104, 'role': 'user'}\", \"{'age': 26, 'country': {'id': 469, 'name': 'العراق'}, 'display_name': 'الصافي', 'gender': 'male', 'id': 127973, 'role': 'user'}\", \"{'age': 16, 'country': {'id': 469}, 'display_name': 'احمد', 'gender': 'male', 'id': 140513, 'role': 'user'}\", \"{'age': 25, 'country': {'id': 469}, 'display_name': 'أسعد الجنابي', 'gender': 'male', 'id': 136175, 'role': 'user'}\", \"{'age': 0, 'id': 0}\", \"{'age': 15, 'country': {'id': 469}, 'display_name': 'علي سالم نزال', 'gender': 'male', 'id': 135126, 'role': 'user'}\", \"{'age': 50, 'country': {'id': 469}, 'display_name': 'ابو علي', 'gender': 'male', 'id': 85382, 'role': 'user'}\", \"{'age': 0, 'country': {'id': 0}, 'display_name': 'Mustafa Fadel', 'id': 148273, 'role': 'user'}\", \"{'age': 24, 'country': {'id': 469}, 'display_name': 'نور ميثم صافي', 'gender': 'female', 'id': 141284, 'role': 'user'}\", \"{'age': 20, 'country': {'id': 469}, 'display_name': 'حسن', 'gender': 'male', 'id': 140954, 'role': 'user'}\", \"{'age': 19, 'country': {'id': 569, 'name': 'رومانيا'}, 'display_name': 'علي ', 'gender': 'male', 'id': 159172, 'role': 'user'}\", \"{'age': 17, 'country': {'id': 469, 'name': 'العراق'}, 'display_name': 'تمار ميثم', 'gender': 'male', 'id': 83326, 'role': 'user'}\", \"{'age': 24, 'country': {'id': 469}, 'display_name': 'باسمك افتخر يا علي', 'gender': 'female', 'id': 124011, 'role': 'user'}\", \"{'age': 0, 'id': 0}\", \"{'age': 22, 'country': {'id': 469}, 'display_name': 'حسين ', 'gender': 'male', 'id': 133285, 'role': 'user'}\", \"{'age': 0, 'id': 0}\", \"{'age': 0, 'id': 0}\", \"{'age': 27, 'country': {'id': 469}, 'display_name': 'روان فؤاد نجم', 'gender': 'female', 'id': 143230, 'role': 'user'}\", \"{'age': 15, 'country': {'id': 469}, 'display_name': 'علي سالم نزال', 'gender': 'male', 'id': 135126, 'role': 'user'}\", \"{'age': 0, 'id': 0}\", \"{'age': 27, 'id': 123987, 'gender': 'male', 'country': {'id': 550, 'name': 'السعودية', 'code': '+966'}, 'display_name': 'ح.ن', 'role': 'user'}\", \"{'age': 20, 'country': {'id': 469}, 'display_name': 'فاطمة', 'gender': 'female', 'id': 110888, 'role': 'user'}\", \"{'age': 0, 'id': 0}\", \"{'age': 24, 'country': {'id': 469}, 'display_name': 'مريم', 'gender': 'female', 'id': 93741, 'role': 'user'}\", \"{'age': 0, 'id': 0}\", \"{'age': 26, 'country': {'id': 469}, 'display_name': 'ميلاد ابراهيم', 'gender': 'female', 'id': 173902, 'role': 'user'}\", \"{'age': 43, 'id': 48451, 'gender': 'male', 'country': {'id': 469, 'name': 'العراق', 'code': '+964'}, 'display_name': 'سجادعبدالصمد مجيد', 'role': 'user'}\", \"{'age': 0, 'id': 0}\", \"{'age': 31, 'id': 139677, 'gender': 'female', 'country': {'id': 469, 'name': 'العراق', 'code': '+964'}, 'display_name': 'M karim', 'role': 'user'}\", \"{'age': 50, 'country': {'id': 469}, 'display_name': 'ابو علي', 'gender': 'male', 'id': 85382, 'role': 'user'}\", \"{'age': 0, 'id': 0}\", \"{'age': 30, 'id': 137340, 'gender': 'male', 'country': {'id': 469, 'name': 'العراق', 'code': '+964'}, 'display_name': 'سجاد علي الفاخر', 'role': 'user'}\", \"{'age': 30, 'id': 137340, 'gender': 'male', 'country': {'id': 469, 'name': 'العراق', 'code': '+964'}, 'display_name': 'سجاد علي الفاخر', 'role': 'user'}\", \"{'age': 0, 'country': {'id': 469}, 'display_name': 'حيدر البصري', 'gender': 'male', 'id': 37186, 'role': 'user'}\", \"{'age': 0, 'id': 0}\", \"{'age': 21, 'country': {'id': 469}, 'display_name': 'almuswi', 'gender': 'male', 'id': 139462, 'role': 'user'}\", \"{'age': 15, 'country': {'id': 469}, 'display_name': 'م م م م م م م ', 'gender': 'female', 'id': 49636, 'role': 'user'}\", \"{'age': 0, 'id': 0}\", \"{'age': 0, 'id': 0}\", \"{'age': 20, 'country': {'id': 469}, 'display_name': 'فاطمة', 'gender': 'female', 'id': 110888, 'role': 'user'}\", \"{'age': 31, 'country': {'id': 469}, 'display_name': 'huda jaafar', 'gender': 'female', 'id': 127787, 'role': 'user'}\", \"{'age': 21, 'country': {'id': 469}, 'display_name': 'Fatima Hayder', 'gender': 'female', 'id': 126655, 'role': 'user'}\", \"{'age': 0, 'id': 0}\", \"{'age': 15, 'country': {'id': 469}, 'display_name': 'علي سالم نزال', 'gender': 'male', 'id': 135126, 'role': 'user'}\", \"{'age': 20, 'country': {'id': 469}, 'display_name': 'فاطمة', 'gender': 'female', 'id': 110888, 'role': 'user'}\", \"{'age': 20, 'country': {'id': 469}, 'display_name': 'حسن', 'gender': 'male', 'id': 140954, 'role': 'user'}\", \"{'id': 0, 'age': 0}\", \"{'age': 55, 'country': {'id': 469}, 'display_name': 'علي جهاد رمضان', 'gender': 'male', 'id': 83076, 'role': 'user'}\", \"{'age': 27, 'country': {'id': 469}, 'display_name': 'Ali Ali', 'gender': 'female', 'id': 29639, 'role': 'user'}\", \"{'age': 31, 'id': 139677, 'gender': 'female', 'country': {'id': 469, 'name': 'العراق', 'code': '+964'}, 'display_name': 'M karim', 'role': 'user'}\", \"{'age': 0, 'id': 0}\", \"{'age': 31, 'id': 139677, 'gender': 'female', 'country': {'id': 469, 'name': 'العراق', 'code': '+964'}, 'display_name': 'M karim', 'role': 'user'}\", \"{'age': 28, 'id': 43560, 'gender': 'male', 'country': {'id': 469, 'name': 'العراق', 'code': '+964'}, 'display_name': 'Ali Sagheer Ghalib', 'role': 'user'}\", \"{'age': 20, 'country': {'id': 469}, 'display_name': 'فاطمة', 'gender': 'female', 'id': 110888, 'role': 'user'}\", \"{'age': 28, 'id': 88051, 'gender': 'male', 'country': {'id': 585, 'name': 'الإمارات'}, 'display_name': 'العامر', 'role': 'user'}\", \"{'age': 15, 'country': {'id': 469}, 'display_name': 'علي سالم نزال', 'gender': 'male', 'id': 135126, 'role': 'user'}\", \"{'age': 19, 'country': {'id': 550}, 'display_name': '...... ', 'gender': 'male', 'id': 138464, 'role': 'user'}\", \"{'age': 50, 'country': {'id': 469}, 'display_name': 'ابو علي', 'gender': 'male', 'id': 85382, 'role': 'user'}\", \"{'age': 26, 'country': {'id': 469, 'name': 'العراق'}, 'display_name': 'الصافي', 'gender': 'male', 'id': 127973, 'role': 'user'}\", \"{'age': 26, 'country': {'id': 469, 'name': 'العراق'}, 'display_name': 'الصافي', 'gender': 'male', 'id': 127973, 'role': 'user'}\", \"{'age': 41, 'country': {'id': 469}, 'display_name': 'AliAli ', 'gender': 'female', 'id': 138516, 'role': 'user'}\", \"{'age': 25, 'country': {'id': 469}, 'display_name': 'جنة المأوى ', 'gender': 'female', 'id': 126595, 'role': 'user'}\", \"{'age': 19, 'country': {'id': 469}, 'display_name': 'احمد', 'gender': 'male', 'id': 132287, 'role': 'user'}\", \"{'age': 15, 'country': {'id': 469, 'name': 'العراق'}, 'display_name': 'خادمة الزهراء', 'gender': 'female', 'id': 90812, 'role': 'user'}\", \"{'age': 19, 'country': {'id': 469}, 'display_name': 'Almujtaba ', 'gender': 'male', 'id': 89871, 'role': 'user'}\", \"{'age': 18, 'country': {'id': 469}, 'display_name': 'سوسن باسم ', 'gender': 'female', 'id': 140879, 'role': 'user'}\", \"{'age': 0, 'country': {'id': 0}, 'display_name': 'العابد', 'id': 87607, 'role': 'user'}\", \"{'age': 26, 'country': {'id': 469}, 'display_name': 'الدفاعي', 'gender': 'male', 'id': 126181, 'role': 'user'}\", \"{'age': 0, 'id': 0}\", \"{'age': 18, 'country': {'id': 469}, 'display_name': 'سوسن باسم ', 'gender': 'female', 'id': 140879, 'role': 'user'}\", \"{'age': 16, 'country': {'id': 469}, 'display_name': 'الوردة السوداء', 'gender': 'female', 'id': 153616, 'role': 'user'}\", \"{'age': 0, 'id': 0}\", \"{'age': 17, 'country': {'id': 469}, 'display_name': 'Zoshi H', 'gender': 'female', 'id': 141289, 'role': 'user'}\", \"{'age': 12, 'country': {'id': 469}, 'display_name': 'Zainab', 'gender': 'female', 'id': 136500, 'role': 'user'}\", \"{'age': 27, 'id': 122846, 'gender': 'male', 'country': {'id': 469, 'name': 'العراق', 'code': '+964'}, 'display_name': 'Ali Blaik', 'role': 'user'}\", \"{'age': 14, 'country': {'id': 469}, 'display_name': 'Mustafa ', 'gender': 'male', 'id': 144574, 'role': 'user'}\", \"{'age': 0, 'id': 0}\", \"{'age': 16, 'country': {'id': 469}, 'display_name': 'AL-Jabri', 'gender': 'male', 'id': 157951, 'role': 'user'}\", \"{'age': 0, 'country': {'id': 0}, 'display_name': 'جديد موقت', 'id': 148255, 'role': 'user'}\", \"{'age': 18, 'country': {'id': 469}, 'display_name': 'Ameer', 'gender': 'female', 'id': 122906, 'role': 'user'}\", \"{'age': 41, 'country': {'id': 469}, 'display_name': 'ام محمد النجفية', 'gender': 'female', 'id': 126441, 'role': 'user'}\", \"{'age': 26, 'country': {'id': 469, 'name': 'العراق'}, 'display_name': 'محمد كريم ', 'gender': 'male', 'id': 37144, 'role': 'user'}\", \"{'age': 19, 'country': {'id': 569, 'name': 'رومانيا'}, 'display_name': 'علي ', 'gender': 'male', 'id': 159172, 'role': 'user'}\", \"{'age': 0, 'id': 0}\", \"{'age': 46, 'country': {'id': 469, 'name': 'العراق'}, 'display_name': 'فاطمة الزهراء', 'gender': 'female', 'id': 83098, 'role': 'user'}\", \"{'age': 0, 'country': {'id': 469}, 'display_name': 'علي محرب فجة الخزعلي', 'gender': 'male', 'id': 50214, 'role': 'user'}\", \"{'age': 50, 'country': {'id': 469}, 'display_name': 'ابو علي', 'gender': 'male', 'id': 85382, 'role': 'user'}\", \"{'age': 0, 'id': 0}\", \"{'age': 0, 'id': 0}\", \"{'age': 26, 'country': {'id': 469}, 'display_name': 'الدفاعي', 'gender': 'male', 'id': 126181, 'role': 'user'}\", \"{'age': 0, 'id': 0}\", \"{'age': 26, 'country': {'id': 469}, 'display_name': 'حسون الحشداوي', 'gender': 'male', 'id': 135087, 'role': 'user'}\", \"{'age': 0, 'id': 0}\", \"{'age': 0, 'id': 0}\", \"{'age': 25, 'country': {'id': 469}, 'display_name': 'بنـين', 'gender': 'female', 'id': 123616, 'role': 'user'}\", \"{'age': 0, 'id': 0}\", \"{'age': 0, 'id': 0}\", \"{'age': 14, 'country': {'id': 469, 'name': 'العراق'}, 'display_name': 'حسين علي', 'gender': 'male', 'id': 23004, 'role': 'user'}\", \"{'age': 20, 'country': {'id': 469}, 'display_name': 'فاطمة', 'gender': 'female', 'id': 110888, 'role': 'user'}\", \"{'age': 0, 'country': {'id': 0}, 'display_name': 'ام احمد الخاقاني', 'id': 82197, 'role': 'user'}\", \"{'age': 18, 'country': {'id': 469}, 'display_name': 'علي البصراوي', 'gender': 'male', 'id': 134745, 'role': 'user'}\", \"{'age': 21, 'country': {'id': 469}, 'display_name': 'ياصاحب الزمان ادركنا ', 'gender': 'female', 'id': 140915, 'role': 'user'}\", \"{'age': 15, 'country': {'id': 469}, 'display_name': 'علي سالم نزال', 'gender': 'male', 'id': 135126, 'role': 'user'}\", \"{'age': 16, 'country': {'id': 469}, 'display_name': 'كَوثر', 'gender': 'female', 'id': 118412, 'role': 'user'}\", \"{'age': 0, 'id': 0}\", \"{'age': 0, 'id': 0}\", \"{'age': 25, 'country': {'id': 469, 'name': 'العراق'}, 'display_name': 'اببد', 'gender': 'female', 'id': 130826, 'role': 'user'}\", \"{'role': 'user', 'country': {'id': 469}, 'display_name': 'ام مصطفى', 'gender': 'female', 'id': 65686, 'age': 44}\", \"{'age': 16, 'country': {'id': 469}, 'display_name': 'Mohamad', 'gender': 'female', 'id': 137835, 'role': 'user'}\", \"{'age': 19, 'country': {'id': 469}, 'display_name': 'احمد', 'gender': 'male', 'id': 132287, 'role': 'user'}\", \"{'age': 0, 'id': 0}\", \"{'age': 0, 'id': 0}\", \"{'age': 55, 'country': {'id': 469}, 'display_name': 'علي جهاد رمضان', 'gender': 'male', 'id': 83076, 'role': 'user'}\", \"{'age': 31, 'id': 139677, 'gender': 'female', 'country': {'id': 469, 'name': 'العراق', 'code': '+964'}, 'display_name': 'M karim', 'role': 'user'}\", \"{'age': 0, 'id': 0}\", \"{'age': 0, 'id': 0}\", \"{'age': 15, 'country': {'id': 469}, 'display_name': 'Haider Alkhzrijy', 'gender': 'male', 'id': 87239, 'role': 'user'}\", \"{'age': 21, 'id': 52784, 'gender': 'male', 'country': {'id': 469, 'name': 'العراق', 'code': '+964'}, 'display_name': 'هادي', 'role': 'user'}\", \"{'age': 0, 'country': {'id': 550, 'name': 'السعودية'}, 'id': 89647, 'role': 'user'}\", \"{'age': 21, 'country': {'id': 469}, 'display_name': 'بتول حسن الكربلائية', 'gender': 'male', 'id': 11303, 'role': 'user'}\", \"{'age': 0, 'id': 0}\", \"{'age': 21, 'country': {'id': 469}, 'display_name': 'محمد', 'gender': 'male', 'id': 127584, 'role': 'user'}\", \"{'age': 20, 'country': {'id': 469}, 'display_name': 'Duha M.r', 'gender': 'female', 'id': 134003, 'role': 'user'}\", \"{'age': 15, 'country': {'id': 469}, 'display_name': 'علي سالم نزال', 'gender': 'male', 'id': 135126, 'role': 'user'}\", \"{'age': 16, 'country': {'id': 469}, 'display_name': 'كَوثر', 'gender': 'female', 'id': 118412, 'role': 'user'}\", \"{'age': 14, 'country': {'id': 469}, 'display_name': 'mohamed', 'gender': 'male', 'id': 164875, 'role': 'user'}\", \"{'age': 48, 'country': {'id': 469}, 'display_name': 'ام حسن', 'gender': 'female', 'id': 40952, 'role': 'user'}\", \"{'age': 26, 'country': {'id': 469, 'name': 'العراق'}, 'display_name': 'الصافي', 'gender': 'male', 'id': 127973, 'role': 'user'}\", \"{'age': 25, 'country': {'id': 469}, 'display_name': 'سعد عودة', 'gender': 'male', 'id': 148246, 'role': 'user'}\", \"{'age': 18, 'country': {'id': 469}, 'display_name': 'علي البصراوي', 'gender': 'male', 'id': 134745, 'role': 'user'}\", \"{'age': 18, 'country': {'id': 469}, 'display_name': 'علي البصراوي', 'gender': 'male', 'id': 134745, 'role': 'user'}\", \"{'age': 0, 'id': 0}\", \"{'age': 0, 'id': 0}\", \"{'age': 0, 'id': 0}\", \"{'age': 0, 'country': {'id': 0}, 'display_name': 'محمد وال محمد', 'id': 148240, 'role': 'user'}\", \"{'age': 0, 'id': 0}\", \"{'age': 0, 'id': 0}\", \"{'age': 22, 'id': 144538, 'gender': 'female', 'country': {'id': 469, 'name': 'العراق', 'code': '+964'}, 'display_name': 'رحاب منتظر فالح', 'role': 'user'}\", \"{'age': 44, 'id': 45489, 'gender': 'female', 'country': {'id': 469, 'name': 'العراق', 'code': '+964'}, 'display_name': 'الزهرة المحمديه', 'role': 'user'}\", \"{'age': 0, 'country': {'id': 0}, 'display_name': 'Aliraqi', 'id': 173704, 'role': 'user'}\", \"{'age': 0, 'id': 0}\", \"{'role': 'user', 'country': {'id': 469}, 'display_name': 'أمير ', 'gender': 'male', 'id': 138418, 'age': 21}\", \"{'age': 27, 'country': {'id': 469}, 'display_name': 'Yasir ALbadr', 'gender': 'male', 'id': 144016, 'role': 'user'}\", \"{'age': 16, 'country': {'id': 469}, 'display_name': 'Mohamad', 'gender': 'female', 'id': 137835, 'role': 'user'}\", \"{'age': 12, 'country': {'id': 469}, 'display_name': 'Zainab', 'gender': 'female', 'id': 136500, 'role': 'user'}\", \"{'age': 0, 'id': 0}\", \"{'age': 0, 'id': 0}\", \"{'age': 26, 'country': {'id': 469, 'name': 'العراق'}, 'display_name': 'الصافي', 'gender': 'male', 'id': 127973, 'role': 'user'}\", \"{'age': 19, 'country': {'id': 469}, 'display_name': 'زينب ', 'gender': 'female', 'id': 148231, 'role': 'user'}\", \"{'age': 39, 'country': {'id': 469}, 'display_name': 'صابره', 'gender': 'female', 'id': 162661, 'role': 'user'}\", \"{'age': 26, 'country': {'id': 469}, 'display_name': 'ﻣﺤﻤﺪ الشطري', 'gender': 'male', 'id': 144676, 'role': 'user'}\", \"{'age': 21, 'country': {'id': 469}, 'display_name': 'محمد', 'gender': 'male', 'id': 127584, 'role': 'user'}\", \"{'age': 17, 'country': {'id': 469}, 'display_name': 'Zoshi H', 'gender': 'female', 'id': 141289, 'role': 'user'}\", \"{'age': 0, 'id': 0}\", \"{'age': 48, 'country': {'id': 469}, 'display_name': 'حسين الدلفي', 'gender': 'male', 'id': 170152, 'role': 'user'}\", \"{'age': 20, 'country': {'id': 469}, 'display_name': 'Hussain Rashid', 'gender': 'male', 'id': 91918, 'role': 'user'}\", \"{'age': 21, 'country': {'id': 469}, 'display_name': 'اكرم محسن ', 'gender': 'male', 'id': 123088, 'role': 'user'}\", \"{'age': 0, 'id': 0}\", \"{'age': 0, 'id': 0}\", \"{'age': 25, 'country': {'id': 469}, 'display_name': 'جنة المأوى ', 'gender': 'female', 'id': 126595, 'role': 'user'}\", \"{'age': 31, 'id': 139677, 'gender': 'female', 'country': {'id': 469, 'name': 'العراق', 'code': '+964'}, 'display_name': 'M karim', 'role': 'user'}\", \"{'age': 26, 'country': {'id': 469, 'name': 'العراق'}, 'display_name': 'الصافي', 'gender': 'male', 'id': 127973, 'role': 'user'}\", \"{'age': 0, 'id': 0}\", \"{'age': 25, 'country': {'id': 469}, 'display_name': 'حسين ', 'gender': 'male', 'id': 144247, 'role': 'user'}\", \"{'age': 23, 'id': 48147, 'gender': 'female', 'country': {'id': 469, 'name': 'العراق', 'code': '+964'}, 'display_name': 'وجدان عدنان ', 'role': 'user'}\", \"{'id': 0, 'age': 0}\", \"{'age': 0, 'country': {'id': 0}, 'display_name': 'يا حسين', 'id': 144235, 'role': 'user'}\", \"{'age': 20, 'country': {'id': 469}, 'display_name': 'فاطمة', 'gender': 'female', 'id': 110888, 'role': 'user'}\", \"{'age': 28, 'country': {'id': 469, 'name': 'العراق'}, 'display_name': 'أبہو مہحہمہد', 'gender': 'male', 'id': 38667, 'role': 'user'}\", \"{'age': 0, 'id': 0}\", \"{'age': 0, 'country': {'id': 0}, 'id': 123973, 'role': 'user'}\", \"{'age': 19, 'id': 154102, 'gender': 'female', 'country': {'id': 469, 'name': 'العراق'}, 'display_name': 'Hussain Hussain', 'role': 'user'}\", \"{'age': 0, 'country': {'id': 0}, 'display_name': 'احمد الكوري', 'id': 142366, 'role': 'user'}\", \"{'age': 19, 'country': {'id': 469}, 'display_name': 'احمد', 'gender': 'male', 'id': 132287, 'role': 'user'}\", \"{'age': 25, 'country': {'id': 469}, 'display_name': 'علي ', 'gender': 'male', 'id': 143851, 'role': 'user'}\", \"{'age': 15, 'country': {'id': 469, 'name': 'العراق'}, 'display_name': 'حسين جاسم', 'gender': 'male', 'id': 27774, 'role': 'user'}\", \"{'age': 0, 'id': 0}\", \"{'age': 0, 'id': 0}\", \"{'age': 29, 'country': {'id': 469}, 'display_name': 'آلاء', 'gender': 'female', 'id': 140842, 'role': 'user'}\", \"{'age': 0, 'id': 0}\", \"{'age': 55, 'country': {'id': 469}, 'display_name': 'علي جهاد رمضان', 'gender': 'male', 'id': 83076, 'role': 'user'}\", \"{'age': 0, 'id': 0}\", \"{'age': 55, 'country': {'id': 469}, 'display_name': 'علي جهاد رمضان', 'gender': 'male', 'id': 83076, 'role': 'user'}\", \"{'age': 0, 'id': 0}\", \"{'age': 30, 'id': 137340, 'gender': 'male', 'country': {'id': 469, 'name': 'العراق', 'code': '+964'}, 'display_name': 'سجاد علي الفاخر', 'role': 'user'}\", \"{'age': 0, 'id': 0}\", \"{'age': 18, 'country': {'id': 469}, 'display_name': 'عباس رحيم', 'gender': 'male', 'id': 139368, 'role': 'user'}\", \"{'age': 0, 'id': 0}\", \"{'age': 17, 'country': {'id': 469}, 'display_name': 'القمر', 'gender': 'female', 'id': 116892, 'role': 'user'}\", \"{'age': 0, 'country': {'id': 0}, 'display_name': 'محمد وال محمد', 'id': 148240, 'role': 'user'}\", \"{'age': 0, 'country': {'id': 0}, 'display_name': 'محمد وال محمد', 'id': 148240, 'role': 'user'}\", \"{'age': 0, 'id': 0}\", \"{'age': 0, 'id': 0}\", \"{'age': 15, 'country': {'id': 469}, 'display_name': 'علي سالم نزال', 'gender': 'male', 'id': 135126, 'role': 'user'}\", \"{'age': 25, 'country': {'id': 469}, 'display_name': 'سعد عودة', 'gender': 'male', 'id': 148246, 'role': 'user'}\", \"{'age': 0, 'id': 0}\", \"{'age': 27, 'country': {'id': 469}, 'display_name': 'خطواتي زينبية ', 'gender': 'female', 'id': 145678, 'role': 'user'}\", \"{'age': 15, 'country': {'id': 469}, 'display_name': 'علي سالم نزال', 'gender': 'male', 'id': 135126, 'role': 'user'}\", \"{'age': 0, 'id': 0}\", \"{'age': 0, 'id': 0}\", \"{'age': 0, 'id': 0}\", \"{'age': 19, 'country': {'id': 469}, 'display_name': 'زينب ', 'gender': 'female', 'id': 148231, 'role': 'user'}\", \"{'age': 0, 'id': 0}\", \"{'age': 0, 'id': 0}\", \"{'age': 0, 'id': 0}\", \"{'age': 26, 'country': {'id': 469}, 'display_name': 'ميلاد ابراهيم', 'gender': 'female', 'id': 173902, 'role': 'user'}\", \"{'age': 18, 'country': {'id': 469}, 'display_name': 'علي البصراوي', 'gender': 'male', 'id': 134745, 'role': 'user'}\", \"{'age': 20, 'country': {'id': 469}, 'display_name': 'فاطمة', 'gender': 'female', 'id': 110888, 'role': 'user'}\", \"{'age': 0, 'id': 0}\", \"{'age': 50, 'country': {'id': 469}, 'display_name': 'نجاة ', 'gender': 'female', 'id': 141508, 'role': 'user'}\", \"{'age': 0, 'id': 0}\", \"{'age': 0, 'id': 0}\", \"{'age': 48, 'country': {'id': 469}, 'display_name': 'Qais Alaraqi', 'gender': 'male', 'id': 140278, 'role': 'user'}\", \"{'age': 0, 'id': 0}\", \"{'age': 0, 'id': 0}\", \"{'age': 0, 'id': 0}\", \"{'age': 47, 'country': {'id': 469, 'name': 'العراق'}, 'display_name': 'ابو محمد', 'gender': 'male', 'id': 124005, 'role': 'user'}\", \"{'age': 21, 'country': {'id': 469}, 'display_name': 'almuswi', 'gender': 'male', 'id': 139462, 'role': 'user'}\", \"{'age': 0, 'id': 0}\", \"{'age': 20, 'country': {'id': 469}, 'display_name': 'Hussain Rashid', 'gender': 'male', 'id': 91918, 'role': 'user'}\", \"{'age': 19, 'country': {'id': 469}, 'display_name': 'ام رقية ', 'gender': 'female', 'id': 152656, 'role': 'user'}\", \"{'age': 22, 'id': 71, 'gender': 'male', 'country': {'id': 469, 'name': 'العراق'}, 'display_name': 'سيد محمد', 'role': 'admin'}\", \"{'age': 31, 'id': 139677, 'gender': 'female', 'country': {'id': 469, 'name': 'العراق', 'code': '+964'}, 'display_name': 'M karim', 'role': 'user'}\", \"{'age': 48, 'country': {'id': 469}, 'display_name': 'جابر خيرالله', 'gender': 'male', 'id': 94153, 'role': 'user'}\", \"{'age': 0, 'country': {'id': 0}, 'display_name': 'محسن ابراهيم', 'id': 142405, 'role': 'user'}\", \"{'age': 26, 'country': {'id': 469, 'name': 'العراق'}, 'display_name': 'الصافي', 'gender': 'male', 'id': 127973, 'role': 'user'}\", \"{'age': 0, 'country': {'id': 469}, 'display_name': 'الحجيه الحيدريه ', 'gender': 'female', 'id': 26310, 'role': 'user'}\", \"{'age': 0, 'country': {'id': 469}, 'display_name': 'zaineb al - jed', 'gender': 'female', 'id': 26625, 'role': 'user'}\", \"{'age': 0, 'id': 0}\", \"{'age': 0, 'id': 0}\", \"{'age': 35, 'country': {'id': 469, 'name': 'العراق'}, 'display_name': 'صمت الاحزان', 'gender': 'female', 'id': 81797, 'role': 'user'}\", \"{'age': 0, 'id': 0}\", \"{'age': 53, 'country': {'id': 469}, 'display_name': 'ام يونس', 'gender': 'female', 'id': 93815, 'role': 'user'}\", \"{'age': 57, 'country': {'id': 469}, 'display_name': 'ملكه الورود*', 'gender': 'female', 'id': 142444, 'role': 'user'}\", \"{'age': 0, 'id': 0}\", \"{'age': 23, 'country': {'id': 469, 'name': 'العراق'}, 'display_name': 'AthraaJaafar', 'gender': 'female', 'id': 34320, 'role': 'user'}\", \"{'age': 20, 'country': {'id': 469}, 'display_name': 'Mahdi Almaiahi', 'gender': 'male', 'id': 88936, 'role': 'user'}\", \"{'age': 28, 'id': 88051, 'gender': 'male', 'country': {'id': 585, 'name': 'الإمارات'}, 'display_name': 'العامر', 'role': 'user'}\", \"{'age': 19, 'country': {'id': 469}, 'display_name': 'احمد', 'gender': 'male', 'id': 132287, 'role': 'user'}\", \"{'age': 35, 'country': {'id': 469}, 'display_name': 'زينب عبد ', 'gender': 'female', 'id': 148222, 'role': 'user'}\", \"{'age': 20, 'country': {'id': 469}, 'display_name': 'Hussain Rashid', 'gender': 'male', 'id': 91918, 'role': 'user'}\", \"{'age': 21, 'country': {'id': 469}, 'display_name': 'بتول حسن الكربلائية', 'gender': 'male', 'id': 11303, 'role': 'user'}\", \"{'age': 54, 'country': {'id': 469, 'name': 'العراق'}, 'display_name': 'جميل كرمش خضر التميمي ماهي الذنوب التي تغفر في صلاة جعفر الطيار ع', 'gender': 'male', 'id': 42642, 'role': 'user'}\", \"{'age': 20, 'country': {'id': 469}, 'display_name': 'فاطمة', 'gender': 'female', 'id': 110888, 'role': 'user'}\", \"{'age': 0, 'id': 0}\", \"{'age': 50, 'country': {'id': 469}, 'display_name': 'ابو علي', 'gender': 'male', 'id': 85382, 'role': 'user'}\", \"{'age': 0, 'id': 0}\", \"{'age': 38, 'country': {'id': 469, 'name': 'العراق'}, 'display_name': 'ام حيدر', 'gender': 'female', 'id': 23051, 'role': 'user'}\", \"{'age': 0, 'id': 0}\", \"{'age': 0, 'id': 0}\", \"{'age': 30, 'id': 137340, 'gender': 'male', 'country': {'id': 469, 'name': 'العراق', 'code': '+964'}, 'display_name': 'سجاد علي الفاخر', 'role': 'user'}\", \"{'age': 0, 'id': 0}\", \"{'age': 0, 'id': 0}\", \"{'age': 17, 'country': {'id': 469}, 'display_name': 'Zoshi H', 'gender': 'female', 'id': 141289, 'role': 'user'}\", \"{'age': 17, 'country': {'id': 469}, 'display_name': 'Zoshi H', 'gender': 'female', 'id': 141289, 'role': 'user'}\", \"{'age': 0, 'id': 0}\", \"{'age': 17, 'country': {'id': 469}, 'display_name': 'Zoshi H', 'gender': 'female', 'id': 141289, 'role': 'user'}\", \"{'age': 0, 'id': 0}\", \"{'age': 26, 'country': {'id': 469, 'name': 'العراق'}, 'display_name': 'الصافي', 'gender': 'male', 'id': 127973, 'role': 'user'}\", \"{'age': 29, 'country': {'id': 469}, 'display_name': 'الفتى المهدوي 👑💚،', 'gender': 'male', 'id': 127379, 'role': 'user'}\", \"{'age': 0, 'id': 0}\", \"{'age': 20, 'country': {'id': 469}, 'display_name': 'فاطمة', 'gender': 'female', 'id': 110888, 'role': 'user'}\", \"{'age': 0, 'id': 0}\", \"{'age': 26, 'country': {'id': 469}, 'display_name': 'سجاد ', 'gender': 'male', 'id': 76764, 'role': 'user'}\", \"{'age': 0, 'country': {'id': 469}, 'display_name': 'zaineb al - jed', 'gender': 'female', 'id': 26625, 'role': 'user'}\", \"{'age': 17, 'country': {'id': 469}, 'display_name': 'Zoshi H', 'gender': 'female', 'id': 141289, 'role': 'user'}\", \"{'age': 17, 'country': {'id': 469}, 'display_name': 'Zoshi H', 'gender': 'female', 'id': 141289, 'role': 'user'}\", \"{'age': 29, 'id': 123447, 'gender': 'female', 'country': {'id': 580, 'name': 'تركيا', 'code': '+90'}, 'display_name': 'ام نرجس', 'role': 'user'}\", \"{'age': 0, 'id': 0}\", \"{'age': 25, 'country': {'id': 469}, 'display_name': 'نور الهدى علي ', 'gender': 'female', 'id': 70528, 'role': 'user'}\", \"{'age': 16, 'country': {'id': 469}, 'display_name': 'كَوثر', 'gender': 'female', 'id': 118412, 'role': 'user'}\", \"{'age': 26, 'country': {'id': 469, 'name': 'العراق'}, 'display_name': 'الصافي', 'gender': 'male', 'id': 127973, 'role': 'user'}\", \"{'age': 31, 'id': 10436, 'gender': 'female', 'country': {'id': 469, 'name': 'العراق'}, 'display_name': 'Mariam Al-ewhaili', 'role': 'user'}\", \"{'age': 31, 'id': 10436, 'gender': 'female', 'country': {'id': 469, 'name': 'العراق'}, 'display_name': 'Mariam Al-ewhaili', 'role': 'user'}\", \"{'age': 22, 'id': 58335, 'gender': 'male', 'country': {'id': 469, 'name': 'العراق'}, 'display_name': 'عباس راشد', 'role': 'user'}\", \"{'age': 28, 'id': 73832, 'gender': 'female', 'country': {'id': 469, 'name': 'العراق'}, 'display_name': 'اغثنا يا امامي', 'role': 'user'}\", \"{'age': 22, 'country': {'id': 469}, 'display_name': 'مجتبى مهدي كاظم', 'gender': 'male', 'id': 26866, 'role': 'user'}\", \"{'age': 20, 'country': {'id': 469}, 'display_name': 'فاطمة', 'gender': 'female', 'id': 110888, 'role': 'user'}\", \"{'age': 0, 'id': 0}\", \"{'age': 15, 'country': {'id': 469}, 'display_name': 'علي سالم نزال', 'gender': 'male', 'id': 135126, 'role': 'user'}\", \"{'age': 28, 'country': {'id': 469}, 'display_name': 'علي رحمان', 'gender': 'male', 'id': 131911, 'role': 'user'}\", \"{'age': 17, 'country': {'id': 550, 'name': 'السعودية'}, 'display_name': 'حسين الجبران ', 'gender': 'male', 'id': 122278, 'role': 'user'}\", \"{'age': 0, 'id': 0}\", \"{'age': 37, 'id': 66199, 'gender': 'female', 'country': {'id': 469, 'name': 'العراق'}, 'display_name': 'فاطمة', 'role': 'user'}\", \"{'age': 20, 'country': {'id': 469}, 'display_name': 'حسن', 'gender': 'male', 'id': 140954, 'role': 'user'}\", \"{'age': 0, 'id': 0}\", \"{'age': 0, 'id': 0}\", \"{'age': 30, 'id': 137340, 'gender': 'male', 'country': {'id': 469, 'name': 'العراق', 'code': '+964'}, 'display_name': 'سجاد علي الفاخر', 'role': 'user'}\", \"{'age': 0, 'country': {'id': 0}, 'display_name': 'فاطم', 'id': 148264, 'role': 'user'}\", \"{'age': 0, 'id': 0}\", \"{'age': 44, 'country': {'id': 469}, 'display_name': 'ام حسين ', 'gender': 'female', 'id': 137866, 'role': 'user'}\", \"{'age': 0, 'id': 0}\", \"{'age': 0, 'country': {'id': 0}, 'id': 124313, 'role': 'user'}\", \"{'age': 0, 'id': 0}\", \"{'age': 0, 'id': 0}\", \"{'age': 0, 'id': 0}\", \"{'age': 21, 'country': {'id': 469, 'name': 'العراق'}, 'display_name': 'علي', 'gender': 'male', 'id': 140706, 'role': 'user'}\", \"{'age': 0, 'id': 0}\", \"{'age': 48, 'country': {'id': 469}, 'display_name': 'محمد كاظم الخماسي', 'gender': 'male', 'id': 126634, 'role': 'user'}\", \"{'age': 26, 'country': {'id': 469, 'name': 'العراق'}, 'display_name': 'الصافي', 'gender': 'male', 'id': 127973, 'role': 'user'}\", \"{'age': 17, 'country': {'id': 469}, 'display_name': 'محمد', 'gender': 'male', 'id': 94712, 'role': 'user'}\", \"{'age': 18, 'country': {'id': 469}, 'display_name': 'علي البصراوي', 'gender': 'male', 'id': 134745, 'role': 'user'}\", \"{'age': 0, 'id': 0}\", \"{'age': 54, 'country': {'id': 469}, 'display_name': 'Mathof', 'gender': 'male', 'id': 131003, 'role': 'user'}\", \"{'role': 'user', 'country': {'id': 469}, 'display_name': 'أمير ', 'gender': 'male', 'id': 138418, 'age': 21}\", \"{'age': 17, 'country': {'id': 469}, 'display_name': 'Zoshi H', 'gender': 'female', 'id': 141289, 'role': 'user'}\", \"{'age': 0, 'id': 0}\", \"{'age': 25, 'country': {'id': 469}, 'display_name': 'حسين ', 'gender': 'male', 'id': 144247, 'role': 'user'}\", \"{'age': 22, 'country': {'id': 469}, 'display_name': 'm', 'gender': 'female', 'id': 159451, 'role': 'user'}\", \"{'age': 0, 'id': 0}\", \"{'age': 26, 'country': {'id': 469}, 'display_name': 'الدفاعي', 'gender': 'male', 'id': 126181, 'role': 'user'}\", \"{'age': 25, 'country': {'id': 469}, 'display_name': 'حسين ', 'gender': 'male', 'id': 144247, 'role': 'user'}\", \"{'age': 17, 'country': {'id': 469}, 'display_name': 'Zoshi H', 'gender': 'female', 'id': 141289, 'role': 'user'}\", \"{'age': 15, 'id': 130161, 'gender': 'male', 'country': {'id': 469, 'name': 'العراق', 'code': '+964'}, 'display_name': 'كرار', 'role': 'user'}\", \"{'age': 46, 'country': {'id': 469}, 'display_name': 'ام عبدالله', 'gender': 'female', 'id': 172033, 'role': 'user'}\", \"{'age': 26, 'country': {'id': 469, 'name': 'العراق'}, 'display_name': 'الصافي', 'gender': 'male', 'id': 127973, 'role': 'user'}\", \"{'age': 0, 'id': 0}\", \"{'age': 16, 'country': {'id': 469}, 'display_name': 'أحمد', 'gender': 'male', 'id': 141723, 'role': 'user'}\", \"{'age': 0, 'country': {'id': 0}, 'display_name': 'علي آلذهہبي', 'id': 142477, 'role': 'user'}\", \"{'age': 0, 'id': 0}\", \"{'age': 0, 'id': 0}\", \"{'age': 0, 'id': 0}\", \"{'age': 0, 'id': 0}\", \"{'age': 0, 'id': 0}\", \"{'age': 0, 'id': 0}\", \"{'age': 0, 'id': 0}\", \"{'age': 0, 'id': 0}\", \"{'age': 0, 'id': 0}\", \"{'age': 0, 'id': 0}\", \"{'age': 0, 'id': 0}\", \"{'age': 0, 'id': 0}\", \"{'age': 26, 'country': {'id': 469}, 'display_name': 'الدفاعي', 'gender': 'male', 'id': 126181, 'role': 'user'}\", \"{'age': 0, 'country': {'id': 0}, 'display_name': 'محمد وال محمد', 'id': 148240, 'role': 'user'}\", \"{'age': 21, 'country': {'id': 469}, 'display_name': 'طريقي حسيني', 'gender': 'female', 'id': 145645, 'role': 'user'}\", \"{'age': 0, 'country': {'id': 0}, 'display_name': 'محسن ابراهيم', 'id': 142405, 'role': 'user'}\", \"{'age': 0, 'id': 0}\", \"{'age': 0, 'id': 0}\", \"{'age': 0, 'id': 0}\", \"{'age': 0, 'id': 0}\", \"{'age': 57, 'country': {'id': 469, 'name': 'العراق'}, 'display_name': 'Abo Ashraf', 'gender': 'male', 'id': 11406, 'role': 'user'}\", \"{'age': 55, 'id': 121684, 'gender': 'male', 'country': {'id': 469, 'name': 'العراق', 'code': '+964'}, 'display_name': 'حيدرباقرمواش ', 'role': 'user'}\", \"{'age': 20, 'country': {'id': 469}, 'display_name': 'فاطمة', 'gender': 'female', 'id': 110888, 'role': 'user'}\", \"{'age': 30, 'id': 137340, 'gender': 'male', 'country': {'id': 469, 'name': 'العراق', 'code': '+964'}, 'display_name': 'سجاد علي الفاخر', 'role': 'user'}\", \"{'age': 0, 'id': 0}\", \"{'age': 13, 'id': 129760, 'gender': 'male', 'country': {'id': 469, 'name': 'العراق', 'code': '+964'}, 'display_name': 'عبدالله ستار', 'role': 'user'}\", \"{'age': 0, 'id': 0}\", \"{'age': 0, 'id': 0}\", \"{'age': 0, 'id': 0}\", \"{'age': 20, 'country': {'id': 469}, 'display_name': 'فاطمة', 'gender': 'female', 'id': 110888, 'role': 'user'}\", \"{'age': 0, 'id': 0}\", \"{'age': 40, 'country': {'id': 469}, 'display_name': 'رقية احمد', 'gender': 'female', 'id': 133525, 'role': 'user'}\", \"{'age': 21, 'country': {'id': 469}, 'display_name': 'بتول حسن الكربلائية', 'gender': 'male', 'id': 11303, 'role': 'user'}\", \"{'age': 0, 'id': 0}\", \"{'age': 16, 'country': {'id': 469}, 'display_name': 'Mohamad', 'gender': 'female', 'id': 137835, 'role': 'user'}\", \"{'age': 0, 'country': {'id': 0}, 'display_name': 'Sayed Hassan', 'id': 15773, 'role': 'user'}\", \"{'age': 14, 'country': {'id': 469}, 'display_name': 'Mustafa ', 'gender': 'male', 'id': 144574, 'role': 'user'}\", \"{'age': 29, 'country': {'id': 469}, 'display_name': 'ماجد الحيدري', 'gender': 'male', 'id': 139113, 'role': 'user'}\", \"{'age': 0, 'id': 0}\", \"{'age': 26, 'country': {'id': 469}, 'display_name': 'حسنين ناظم جواد عبدالحسين', 'gender': 'male', 'id': 65939, 'role': 'user'}\", \"{'age': 16, 'country': {'id': 469, 'name': 'العراق'}, 'display_name': 'محمد حسن', 'gender': 'male', 'id': 58709, 'role': 'user'}\", \"{'age': 23, 'country': {'id': 469}, 'display_name': 'انين الصبر', 'gender': 'female', 'id': 144658, 'role': 'user'}\", \"{'age': 0, 'id': 0}\", \"{'age': 0, 'id': 0}\", \"{'age': 0, 'id': 0}\", \"{'role': 'user', 'country': {'id': 469}, 'display_name': 'ورده الياسمين ', 'gender': 'female', 'id': 148180, 'age': 19}\", \"{'age': 19, 'country': {'id': 469}, 'display_name': 'زينب ', 'gender': 'female', 'id': 148231, 'role': 'user'}\", \"{'age': 0, 'country': {'id': 469, 'name': 'العراق'}, 'id': 147622, 'role': 'user'}\", \"{'age': 26, 'country': {'id': 469, 'name': 'العراق'}, 'display_name': 'الصافي', 'gender': 'male', 'id': 127973, 'role': 'user'}\", \"{'age': 31, 'country': {'id': 469}, 'display_name': 'الكناني', 'gender': 'male', 'id': 132183, 'role': 'user'}\", \"{'age': 20, 'country': {'id': 469}, 'display_name': 'فاطمة', 'gender': 'female', 'id': 110888, 'role': 'user'}\", \"{'age': 26, 'country': {'id': 469}, 'display_name': 'ميلاد ابراهيم', 'gender': 'female', 'id': 173902, 'role': 'user'}\", \"{'age': 18, 'country': {'id': 469}, 'display_name': 'سوسن باسم ', 'gender': 'female', 'id': 140879, 'role': 'user'}\", \"{'age': 0, 'id': 0}\", \"{'age': 0, 'country': {'id': 0}, 'display_name': 'محمد وال محمد', 'id': 148240, 'role': 'user'}\", \"{'id': 0, 'age': 0}\", \"{'age': 0, 'id': 0}\", \"{'age': 36, 'country': {'id': 469}, 'display_name': 'محمد الخفاجي', 'gender': 'male', 'id': 137094, 'role': 'user'}\", \"{'age': 20, 'country': {'id': 469}, 'display_name': 'حسن', 'gender': 'male', 'id': 140954, 'role': 'user'}\", \"{'age': 26, 'country': {'id': 469, 'name': 'العراق'}, 'display_name': 'الصافي', 'gender': 'male', 'id': 127973, 'role': 'user'}\", \"{'age': 26, 'country': {'id': 469, 'name': 'العراق'}, 'display_name': 'الصافي', 'gender': 'male', 'id': 127973, 'role': 'user'}\", \"{'age': 26, 'country': {'id': 469, 'name': 'العراق'}, 'display_name': 'الصافي', 'gender': 'male', 'id': 127973, 'role': 'user'}\", \"{'age': 28, 'country': {'id': 469}, 'display_name': 'عبد الرحمن ', 'gender': 'male', 'id': 141706, 'role': 'user'}\", \"{'age': 35, 'country': {'id': 469}, 'display_name': 'علي ابومحمد', 'gender': 'male', 'id': 139784, 'role': 'user'}\", \"{'age': 21, 'country': {'id': 469, 'name': 'العراق'}, 'display_name': 'يابقيه الله العجل', 'gender': 'female', 'id': 123029, 'role': 'user'}\", \"{'age': 19, 'country': {'id': 469}, 'display_name': 'Almujtaba ', 'gender': 'male', 'id': 89871, 'role': 'user'}\", \"{'age': 21, 'country': {'id': 469}, 'display_name': 'بنين باسم عزيز ', 'gender': 'female', 'id': 131565, 'role': 'user'}\", \"{'age': 0, 'id': 0}\", \"{'age': 25, 'id': 58670, 'gender': 'male', 'country': {'id': 410, 'name': 'كندا', 'code': '+1'}, 'display_name': 'Mohammad Al-husseini', 'role': 'user'}\", \"{'age': 0, 'id': 0}\", \"{'age': 0, 'country': {'id': 0}, 'display_name': 'محسن ابراهيم', 'id': 142405, 'role': 'user'}\", \"{'age': 50, 'country': {'id': 469}, 'display_name': 'نجاة ', 'gender': 'female', 'id': 141508, 'role': 'user'}\", \"{'age': 21, 'country': {'id': 469}, 'display_name': 'علاء الدين', 'gender': 'male', 'id': 89479, 'role': 'user'}\", \"{'age': 17, 'country': {'id': 550, 'name': 'السعودية'}, 'display_name': 'حسين الجبران ', 'gender': 'male', 'id': 122278, 'role': 'user'}\", \"{'age': 21, 'country': {'id': 469}, 'display_name': 'بتول حسن الكربلائية', 'gender': 'male', 'id': 11303, 'role': 'user'}\", \"{'age': 28, 'country': {'id': 469, 'name': 'العراق'}, 'display_name': 'أبہو مہحہمہد', 'gender': 'male', 'id': 38667, 'role': 'user'}\", \"{'age': 16, 'country': {'id': 469}, 'display_name': 'احمد', 'gender': 'male', 'id': 140513, 'role': 'user'}\", \"{'age': 21, 'country': {'id': 469}, 'display_name': 'نــور ', 'gender': 'female', 'id': 143404, 'role': 'user'}\", \"{'age': 21, 'country': {'id': 469, 'name': 'العراق'}, 'display_name': 'محمد قاسم', 'gender': 'male', 'id': 83177, 'role': 'user'}\", \"{'age': 26, 'country': {'id': 469, 'name': 'العراق'}, 'display_name': 'الصافي', 'gender': 'male', 'id': 127973, 'role': 'user'}\", \"{'age': 27, 'country': {'id': 469}, 'display_name': 'روان فؤاد نجم', 'gender': 'female', 'id': 143230, 'role': 'user'}\", \"{'age': 18, 'country': {'id': 469}, 'display_name': 'علي البصراوي', 'gender': 'male', 'id': 134745, 'role': 'user'}\", \"{'age': 24, 'country': {'id': 469}, 'display_name': 'جود سلام فاضل', 'gender': 'male', 'id': 130856, 'role': 'user'}\", \"{'age': 26, 'country': {'id': 469, 'name': 'العراق'}, 'display_name': 'الصافي', 'gender': 'male', 'id': 127973, 'role': 'user'}\", \"{'age': 35, 'country': {'id': 469}, 'display_name': 'علي ابومحمد', 'gender': 'male', 'id': 139784, 'role': 'user'}\", \"{'age': 0, 'id': 0}\", \"{'age': 0, 'country': {'id': 0}, 'display_name': 'محسن ابراهيم', 'id': 142405, 'role': 'user'}\", \"{'age': 0, 'id': 0}\", \"{'age': 0, 'id': 0}\", \"{'age': 30, 'id': 137340, 'gender': 'male', 'country': {'id': 469, 'name': 'العراق', 'code': '+964'}, 'display_name': 'سجاد علي الفاخر', 'role': 'user'}\", \"{'age': 0, 'id': 0}\", \"{'age': 38, 'id': 130712, 'gender': 'male', 'country': {'id': 469, 'name': 'العراق'}, 'display_name': 'حسن البغدادي', 'role': 'admin'}\", \"{'age': 17, 'country': {'id': 469}, 'display_name': 'Saif Mhnd', 'gender': 'male', 'id': 143080, 'role': 'user'}\", \"{'age': 0, 'id': 0}\", \"{'age': 20, 'country': {'id': 469}, 'display_name': 'فاطمة', 'gender': 'female', 'id': 110888, 'role': 'user'}\", \"{'age': 0, 'country': {'id': 0}, 'display_name': 'سيدحراحمد الحسيني', 'id': 144283, 'role': 'user'}\", \"{'age': 0, 'id': 0}\", \"{'age': 16, 'country': {'id': 469, 'name': 'العراق'}, 'display_name': 'محمد حسن', 'gender': 'male', 'id': 58709, 'role': 'user'}\", \"{'age': 0, 'id': 0}\", \"{'age': 0, 'id': 0}\", \"{'age': 31, 'id': 139677, 'gender': 'female', 'country': {'id': 469, 'name': 'العراق', 'code': '+964'}, 'display_name': 'M karim', 'role': 'user'}\", \"{'age': 0, 'id': 0}\", \"{'role': 'user', 'country': {'id': 469}, 'display_name': 'اميرة جبر حسين ', 'gender': 'female', 'id': 23195, 'age': 58}\", \"{'age': 20, 'country': {'id': 469}, 'display_name': 'نرجسية المهدي', 'gender': 'female', 'id': 138476, 'role': 'user'}\", \"{'age': 21, 'country': {'id': 469}, 'display_name': 'البصراوي', 'gender': 'male', 'id': 123468, 'role': 'user'}\", \"{'age': 20, 'country': {'id': 469}, 'display_name': 'حسن', 'gender': 'male', 'id': 140954, 'role': 'user'}\", \"{'age': 0, 'id': 0}\", \"{'age': 0, 'id': 0}\", \"{'age': 44, 'country': {'id': 469}, 'display_name': 'مرتضى حميد سلمان ', 'gender': 'male', 'id': 142942, 'role': 'user'}\", \"{'age': 26, 'country': {'id': 469, 'name': 'العراق'}, 'display_name': 'الصافي', 'gender': 'male', 'id': 127973, 'role': 'user'}\", \"{'age': 0, 'id': 0}\", \"{'age': 0, 'country': {'id': 0}, 'display_name': 'Muntadher Alzergany', 'id': 173914, 'role': 'user'}\", \"{'age': 21, 'country': {'id': 469}, 'display_name': 'يا ابا الفضل', 'gender': 'male', 'id': 131461, 'role': 'user'}\", \"{'age': 17, 'country': {'id': 469}, 'display_name': 'Zoshi H', 'gender': 'female', 'id': 141289, 'role': 'user'}\", \"{'age': 26, 'country': {'id': 469, 'name': 'العراق'}, 'display_name': 'الصافي', 'gender': 'male', 'id': 127973, 'role': 'user'}\", \"{'age': 0, 'id': 0}\", \"{'age': 50, 'country': {'id': 469}, 'display_name': 'ابو علي', 'gender': 'male', 'id': 85382, 'role': 'user'}\", \"{'age': 24, 'country': {'id': 469}, 'display_name': 'زينب', 'gender': 'female', 'id': 93755, 'role': 'user'}\", \"{'age': 25, 'id': 58670, 'gender': 'male', 'country': {'id': 410, 'name': 'كندا', 'code': '+1'}, 'display_name': 'Mohammad Al-husseini', 'role': 'user'}\", \"{'age': 26, 'country': {'id': 469, 'name': 'العراق'}, 'display_name': 'الصافي', 'gender': 'male', 'id': 127973, 'role': 'user'}\", \"{'age': 0, 'country': {'id': 469}, 'display_name': 'محمد البهادلي', 'gender': 'male', 'id': 21749, 'role': 'user'}\", \"{'age': 29, 'country': {'id': 469}, 'display_name': 'جعفر صباح', 'gender': 'male', 'id': 12192, 'role': 'user'}\", \"{'age': 0, 'id': 0}\", \"{'age': 26, 'country': {'id': 469, 'name': 'العراق'}, 'display_name': 'الصافي', 'gender': 'male', 'id': 127973, 'role': 'user'}\", \"{'age': 50, 'country': {'id': 469}, 'display_name': 'ابو علي', 'gender': 'male', 'id': 85382, 'role': 'user'}\", \"{'age': 26, 'id': 11193, 'gender': 'male', 'country': {'id': 469, 'name': 'العراق', 'code': '+964'}, 'display_name': 'عبدالله جاسم', 'role': 'user'}\", \"{'age': 0, 'id': 0}\", \"{'age': 21, 'country': {'id': 469}, 'display_name': 'مجهولة الهوية', 'gender': 'female', 'id': 16186, 'role': 'user'}\", \"{'age': 31, 'id': 139677, 'gender': 'female', 'country': {'id': 469, 'name': 'العراق', 'code': '+964'}, 'display_name': 'M karim', 'role': 'user'}\", \"{'country': {'id': 469}, 'display_name': 'Ali Khalefh Youssif', 'gender': 'male', 'age': 0, 'id': 71352}\", \"{'age': 0, 'id': 0}\", \"{'age': 28, 'country': {'id': 469}, 'display_name': 'عبد الرحمن ', 'gender': 'male', 'id': 141706, 'role': 'user'}\", \"{'age': 0, 'id': 0}\", \"{'age': 15, 'country': {'id': 469}, 'display_name': 'علي سالم نزال', 'gender': 'male', 'id': 135126, 'role': 'user'}\", \"{'age': 26, 'country': {'id': 469, 'name': 'العراق'}, 'display_name': 'الصافي', 'gender': 'male', 'id': 127973, 'role': 'user'}\", \"{'age': 0, 'id': 0}\", \"{'age': 31, 'country': {'id': 469}, 'display_name': 'كاظم كريم كاظم ', 'gender': 'male', 'id': 148225, 'role': 'user'}\", \"{'age': 0, 'id': 0}\", \"{'age': 16, 'country': {'id': 469}, 'display_name': 'Mohamad', 'gender': 'female', 'id': 137835, 'role': 'user'}\", \"{'age': 29, 'country': {'id': 469}, 'display_name': 'عباس', 'gender': 'male', 'id': 123836, 'role': 'user'}\", \"{'age': 0, 'id': 0}\", \"{'age': 36, 'country': {'id': 469}, 'display_name': 'محمد الخفاجي', 'gender': 'male', 'id': 137094, 'role': 'user'}\", \"{'age': 0, 'id': 0}\", \"{'age': 26, 'country': {'id': 469, 'name': 'العراق'}, 'display_name': 'الصافي', 'gender': 'male', 'id': 127973, 'role': 'user'}\", \"{'age': 26, 'country': {'id': 469, 'name': 'العراق'}, 'display_name': 'الصافي', 'gender': 'male', 'id': 127973, 'role': 'user'}\", \"{'age': 21, 'country': {'id': 469}, 'display_name': 'نــور ', 'gender': 'female', 'id': 143404, 'role': 'user'}\", \"{'age': 0, 'id': 0}\", \"{'age': 20, 'country': {'id': 469}, 'display_name': 'فاطمة', 'gender': 'female', 'id': 110888, 'role': 'user'}\", \"{'age': 0, 'country': {'id': 0}, 'display_name': 'محمد وال محمد', 'id': 148240, 'role': 'user'}\", \"{'age': 0, 'id': 0}\", \"{'age': 0, 'id': 0}\", \"{'age': 17, 'country': {'id': 469}, 'display_name': 'Zoshi H', 'gender': 'female', 'id': 141289, 'role': 'user'}\", \"{'age': 14, 'country': {'id': 469}, 'display_name': 'mohamed', 'gender': 'male', 'id': 164875, 'role': 'user'}\", \"{'age': 0, 'id': 0}\", \"{'age': 17, 'country': {'id': 469}, 'display_name': 'Zoshi H', 'gender': 'female', 'id': 141289, 'role': 'user'}\", \"{'age': 21, 'country': {'id': 469}, 'display_name': 'بتول حسن الكربلائية', 'gender': 'male', 'id': 11303, 'role': 'user'}\", \"{'age': 0, 'id': 0}\", \"{'age': 22, 'country': {'id': 469}, 'display_name': 'سيف البصراوي', 'gender': 'male', 'id': 172927, 'role': 'user'}\", \"{'age': 36, 'country': {'id': 469}, 'display_name': 'مرتضى السلطاني', 'gender': 'male', 'id': 56957, 'role': 'user'}\", \"{'age': 0, 'country': {'id': 0}, 'display_name': 'مدد', 'id': 136405, 'role': 'user'}\", \"{'age': 45, 'country': {'id': 469, 'name': 'العراق'}, 'display_name': 'علي علي', 'gender': 'female', 'id': 54173, 'role': 'user'}\", \"{'age': 0, 'id': 0}\", \"{'age': 0, 'country': {'id': 0}, 'display_name': 'علي آلذهہبي', 'id': 142477, 'role': 'user'}\", \"{'age': 39, 'country': {'id': 469}, 'display_name': 'qazwan', 'gender': 'female', 'id': 130340, 'role': 'user'}\", \"{'age': 28, 'id': 88051, 'gender': 'male', 'country': {'id': 585, 'name': 'الإمارات'}, 'display_name': 'العامر', 'role': 'user'}\", \"{'age': 20, 'country': {'id': 469}, 'display_name': 'حسن', 'gender': 'male', 'id': 140954, 'role': 'user'}\", \"{'age': 31, 'id': 139677, 'gender': 'female', 'country': {'id': 469, 'name': 'العراق', 'code': '+964'}, 'display_name': 'M karim', 'role': 'user'}\", \"{'age': 20, 'country': {'id': 469}, 'display_name': 'Ali', 'gender': 'male', 'id': 133987, 'role': 'user'}\", \"{'age': 0, 'country': {'id': 0}, 'display_name': 'محمد وال محمد', 'id': 148240, 'role': 'user'}\", \"{'age': 22, 'id': 71, 'gender': 'male', 'country': {'id': 469, 'name': 'العراق'}, 'display_name': 'سيد محمد', 'role': 'admin'}\", \"{'age': 35, 'country': {'id': 469, 'name': 'العراق'}, 'display_name': 'صمت الاحزان', 'gender': 'female', 'id': 81797, 'role': 'user'}\", \"{'age': 22, 'country': {'id': 469}, 'display_name': 'karblaa', 'gender': 'female', 'id': 36549, 'role': 'user'}\", \"{'age': 17, 'country': {'id': 527, 'name': 'عمان'}, 'display_name': 'فاطمة', 'gender': 'female', 'id': 86708, 'role': 'user'}\", \"{'age': 15, 'country': {'id': 469}, 'display_name': 'علي سالم نزال', 'gender': 'male', 'id': 135126, 'role': 'user'}\", \"{'age': 0, 'id': 0}\", \"{'age': 30, 'id': 137340, 'gender': 'male', 'country': {'id': 469, 'name': 'العراق', 'code': '+964'}, 'display_name': 'سجاد علي الفاخر', 'role': 'user'}\", \"{'age': 16, 'country': {'id': 469, 'name': 'العراق'}, 'display_name': 'محمد حسن', 'gender': 'male', 'id': 58709, 'role': 'user'}\", \"{'age': 23, 'country': {'id': 469, 'name': 'العراق'}, 'display_name': 'هدى', 'gender': 'female', 'id': 86649, 'role': 'user'}\", \"{'age': 0, 'id': 0}\", \"{'id': 0, 'age': 0}\", \"{'age': 0, 'id': 0}\", \"{'age': 52, 'country': {'id': 469, 'name': 'العراق'}, 'display_name': 'انتظار الفرج', 'gender': 'female', 'id': 21724, 'role': 'user'}\", \"{'age': 0, 'country': {'id': 0}, 'display_name': 'Aa', 'id': 94830, 'role': 'user'}\", \"{'age': 20, 'country': {'id': 469}, 'display_name': 'فاطمة', 'gender': 'female', 'id': 110888, 'role': 'user'}\", \"{'age': 0, 'id': 0}\", \"{'age': 0, 'id': 0}\", \"{'age': 21, 'country': {'id': 469}, 'display_name': 'بتول حسن الكربلائية', 'gender': 'male', 'id': 11303, 'role': 'user'}\", \"{'age': 0, 'id': 0}\", \"{'age': 0, 'id': 0}\", \"{'age': 25, 'country': {'id': 469}, 'display_name': 'جنة المأوى ', 'gender': 'female', 'id': 126595, 'role': 'user'}\", \"{'age': 0, 'id': 0}\", \"{'id': 0, 'age': 0}\", \"{'age': 20, 'country': {'id': 469}, 'display_name': 'فاطمة', 'gender': 'female', 'id': 110888, 'role': 'user'}\", \"{'age': 17, 'country': {'id': 469}, 'display_name': 'مصطفى حسين كاظم', 'gender': 'male', 'id': 123633, 'role': 'user'}\", \"{'age': 20, 'country': {'id': 469}, 'display_name': 'Hussain Rashid', 'gender': 'male', 'id': 91918, 'role': 'user'}\", \"{'age': 0, 'id': 0}\", \"{'role': 'user', 'country': {'id': 469}, 'display_name': 'أمير ', 'gender': 'male', 'id': 138418, 'age': 21}\", \"{'age': 0, 'id': 0}\", \"{'age': 0, 'id': 0}\", \"{'age': 47, 'country': {'id': 469}, 'display_name': 'هدى المتقين   الكاظمي', 'gender': 'female', 'id': 15636, 'role': 'user'}\", \"{'age': 20, 'country': {'id': 469}, 'display_name': 'فاطمة', 'gender': 'female', 'id': 110888, 'role': 'user'}\", \"{'age': 0, 'id': 0}\", \"{'age': 0, 'country': {'id': 0}, 'display_name': 'حسام الغرابي', 'id': 75194, 'role': 'user'}\", \"{'age': 16, 'country': {'id': 469, 'name': 'العراق'}, 'display_name': 'محمد حسن', 'gender': 'male', 'id': 58709, 'role': 'user'}\", \"{'age': 16, 'country': {'id': 469, 'name': 'العراق'}, 'display_name': 'محمد حسن', 'gender': 'male', 'id': 58709, 'role': 'user'}\", \"{'age': 21, 'country': {'id': 469, 'name': 'العراق'}, 'display_name': 'علي', 'gender': 'male', 'id': 140706, 'role': 'user'}\", \"{'age': 22, 'country': {'id': 469}, 'display_name': 'دعاء الحسني  🇮🇶', 'gender': 'female', 'id': 68846, 'role': 'user'}\", \"{'age': 20, 'country': {'id': 469}, 'display_name': 'فاطمة', 'gender': 'female', 'id': 110888, 'role': 'user'}\"]\n"
          ]
        }
      ],
      "source": [
        "Name_list = df['user_info'].tolist()\n",
        "print(Name_list)"
      ]
    },
    {
      "cell_type": "code",
      "execution_count": null,
      "metadata": {
        "id": "QPiyoJ43yggU"
      },
      "outputs": [],
      "source": [
        "def convert_to_jsone(str_list):\n",
        "  new_lst=[]\n",
        "  for i in str_list:\n",
        "    # print(type(i))\n",
        "    i = i.replace(\"\\'\", \"\\\"\")\n",
        "    res = json.loads(i)\n",
        "    new_lst.append(res)\n",
        "\n",
        "  return(new_lst)"
      ]
    },
    {
      "cell_type": "code",
      "execution_count": null,
      "metadata": {
        "id": "uwpcDXFMyiGt"
      },
      "outputs": [],
      "source": [
        "def list_of_nan_user_ids(first_lst):\n",
        "  list_of_nan=[]\n",
        "  key='id'\n",
        "  for j in range(len(first_lst)):\n",
        "    i=first_lst[j]\n",
        "    if i['id']==0:\n",
        "      # print(j)\n",
        "      list_of_nan.append(j)\n",
        "\n",
        "  return list_of_nan"
      ]
    },
    {
      "cell_type": "code",
      "execution_count": null,
      "metadata": {
        "id": "MUxCQxh6yrDc"
      },
      "outputs": [],
      "source": [
        "list_of_dics=convert_to_jsone(Name_list)\n",
        "nan_user_ids=list_of_nan_user_ids(list_of_dics)"
      ]
    },
    {
      "cell_type": "code",
      "execution_count": null,
      "metadata": {
        "id": "yEzQIwm0y4bk"
      },
      "outputs": [],
      "source": [
        "#drop rows with nan user ids\n",
        "df.drop(df.index[nan_user_ids],inplace=True)"
      ]
    },
    {
      "cell_type": "code",
      "execution_count": null,
      "metadata": {
        "colab": {
          "base_uri": "https://localhost:8080/"
        },
        "id": "98K_KGxX9p7D",
        "outputId": "32172a67-4bec-4c03-aace-61f4f3476eb5"
      },
      "outputs": [
        {
          "data": {
            "text/plain": [
              "443"
            ]
          },
          "execution_count": 17,
          "metadata": {},
          "output_type": "execute_result"
        }
      ],
      "source": [
        "len(df)"
      ]
    },
    {
      "cell_type": "code",
      "execution_count": null,
      "metadata": {
        "id": "rsCuGPrgzCob"
      },
      "outputs": [],
      "source": [
        "def delete_multiple_element(list_object, indices):\n",
        "    indices = sorted(indices, reverse=True)\n",
        "    for idx in indices:\n",
        "        # print(idx)\n",
        "        if idx < len(list_object):\n",
        "            # print(idx)\n",
        "            list_object.pop(idx)\n",
        "    return(list_object)"
      ]
    },
    {
      "cell_type": "code",
      "execution_count": null,
      "metadata": {
        "colab": {
          "base_uri": "https://localhost:8080/"
        },
        "id": "nxdit2vJzIXL",
        "outputId": "26e1e71a-b490-42eb-88c0-c316f33c7d52"
      },
      "outputs": [
        {
          "name": "stdout",
          "output_type": "stream",
          "text": [
            "443\n"
          ]
        }
      ],
      "source": [
        "remain_ids=delete_multiple_element(list_of_dics, nan_user_ids)\n",
        "print(len(remain_ids))"
      ]
    },
    {
      "cell_type": "code",
      "execution_count": null,
      "metadata": {
        "id": "7BmUPiTRzLkZ"
      },
      "outputs": [],
      "source": [
        "def list_of_genders(i):\n",
        "  if 'gender' in i.keys():\n",
        "     gender_t=i['gender']\n",
        "     if gender_t=='male'   :\n",
        "       gender=20\n",
        "     elif  gender_t=='female':\n",
        "       gender=30\n",
        "\n",
        "     else:\n",
        "      gender=np.nan\n",
        "  else:\n",
        "    gender=np.nan\n",
        "  return(gender)"
      ]
    },
    {
      "cell_type": "code",
      "execution_count": null,
      "metadata": {
        "id": "oFpRL076zNmS"
      },
      "outputs": [],
      "source": [
        "def list_of_ages(i):\n",
        "  if  'age' in i.keys():\n",
        "    age=i['age']\n",
        "    if (age>0 or age==0):\n",
        "      age_cnt=age\n",
        "    else:\n",
        "      age_cnt=np.nan\n",
        "  else:\n",
        "    age_cnt=np.nan\n",
        "  return(age_cnt)"
      ]
    },
    {
      "cell_type": "code",
      "execution_count": null,
      "metadata": {
        "id": "MbiRGtjIzToh"
      },
      "outputs": [],
      "source": [
        "def list_of_countries(i):\n",
        "  if 'country' in i.keys():\n",
        "    country_id=i['country']['id']\n",
        "    if (country_id>0 or country_id==0):\n",
        "      cnt_id=country_id\n",
        "    else:\n",
        "      cnt_id=np.nan\n",
        "  else:\n",
        "    cnt_id=np.nan\n",
        "  return(cnt_id)"
      ]
    },
    {
      "cell_type": "code",
      "execution_count": null,
      "metadata": {
        "id": "LzGs7pluzVcS"
      },
      "outputs": [],
      "source": [
        "def list_of_user_ids(i):\n",
        "  if 'id' in i.keys():\n",
        "    user_id=i['id']\n",
        "    if (user_id>0 or user_id==0):\n",
        "      id=user_id\n",
        "    else:\n",
        "      id=np.nan\n",
        "  else:\n",
        "    id=np.nan\n",
        "  return(id)"
      ]
    },
    {
      "cell_type": "code",
      "execution_count": null,
      "metadata": {
        "id": "p4AMJbOuzXC5"
      },
      "outputs": [],
      "source": [
        "user_ids=[]\n",
        "country_ids=[]\n",
        "ages=[]\n",
        "genders=[]\n",
        "for i in remain_ids:\n",
        "  user_id=list_of_user_ids(i)\n",
        "  user_ids.append(user_id)\n",
        "  cnt_id=list_of_countries(i)\n",
        "  country_ids.append(cnt_id)\n",
        "  age_cnt=list_of_ages(i)\n",
        "  ages.append(age_cnt)\n",
        "  gender=list_of_genders(i)\n",
        "  genders.append(gender)"
      ]
    },
    {
      "cell_type": "code",
      "execution_count": null,
      "metadata": {
        "id": "mFLpkY_uzbnk"
      },
      "outputs": [],
      "source": [
        "#اگر تابع درست عمل کنه این نیازی نیس\n",
        "for index, item in enumerate(genders):\n",
        "  if (item=='female'):\n",
        "    genders[index] = 1\n",
        "  elif (item=='male') :\n",
        "   genders[index] = 0"
      ]
    },
    {
      "cell_type": "code",
      "execution_count": null,
      "metadata": {
        "id": "mpzcpva95r1c"
      },
      "outputs": [],
      "source": [
        "#tessst\n",
        "f = pd.DataFrame()"
      ]
    },
    {
      "cell_type": "code",
      "execution_count": null,
      "metadata": {
        "id": "860OwrLr0QcC"
      },
      "outputs": [],
      "source": [
        "df['user_id'] = user_ids\n",
        "df['age']= ages\n",
        "df['gender']=genders\n",
        "df['country_id']=country_ids"
      ]
    },
    {
      "cell_type": "code",
      "execution_count": null,
      "metadata": {
        "id": "MoAgBDYaplv9"
      },
      "outputs": [],
      "source": [
        "df_info = df[['user_id', 'age','gender','country_id']]"
      ]
    },
    {
      "cell_type": "code",
      "execution_count": null,
      "metadata": {
        "colab": {
          "base_uri": "https://localhost:8080/"
        },
        "id": "vHcncjIZqEUa",
        "outputId": "fb9f68a7-dfab-4bd5-b30c-425a699358c1"
      },
      "outputs": [
        {
          "name": "stderr",
          "output_type": "stream",
          "text": [
            "/usr/local/lib/python3.7/dist-packages/pandas/util/_decorators.py:311: SettingWithCopyWarning: \n",
            "A value is trying to be set on a copy of a slice from a DataFrame\n",
            "\n",
            "See the caveats in the documentation: https://pandas.pydata.org/pandas-docs/stable/user_guide/indexing.html#returning-a-view-versus-a-copy\n",
            "  return func(*args, **kwargs)\n"
          ]
        }
      ],
      "source": [
        "df_info.drop_duplicates(subset ='user_id',\n",
        "                     keep = 'first', inplace = True)"
      ]
    },
    {
      "cell_type": "code",
      "execution_count": null,
      "metadata": {
        "colab": {
          "base_uri": "https://localhost:8080/",
          "height": 528
        },
        "id": "AQ9ZQqYrvagU",
        "outputId": "9cb895ed-444e-438e-b32f-1bf6ee88cc8e"
      },
      "outputs": [
        {
          "name": "stderr",
          "output_type": "stream",
          "text": [
            "/usr/local/lib/python3.7/dist-packages/ipykernel_launcher.py:9: SettingWithCopyWarning: \n",
            "A value is trying to be set on a copy of a slice from a DataFrame.\n",
            "Try using .loc[row_indexer,col_indexer] = value instead\n",
            "\n",
            "See the caveats in the documentation: https://pandas.pydata.org/pandas-docs/stable/user_guide/indexing.html#returning-a-view-versus-a-copy\n",
            "  if __name__ == '__main__':\n"
          ]
        },
        {
          "data": {
            "text/html": [
              "\n",
              "  <div id=\"df-a1680138-d046-45df-9e46-a10903101450\">\n",
              "    <div class=\"colab-df-container\">\n",
              "      <div>\n",
              "<style scoped>\n",
              "    .dataframe tbody tr th:only-of-type {\n",
              "        vertical-align: middle;\n",
              "    }\n",
              "\n",
              "    .dataframe tbody tr th {\n",
              "        vertical-align: top;\n",
              "    }\n",
              "\n",
              "    .dataframe thead th {\n",
              "        text-align: right;\n",
              "    }\n",
              "</style>\n",
              "<table border=\"1\" class=\"dataframe\">\n",
              "  <thead>\n",
              "    <tr style=\"text-align: right;\">\n",
              "      <th></th>\n",
              "      <th>user_id</th>\n",
              "      <th>age</th>\n",
              "      <th>gender</th>\n",
              "      <th>country_id</th>\n",
              "    </tr>\n",
              "  </thead>\n",
              "  <tbody>\n",
              "    <tr>\n",
              "      <th>0</th>\n",
              "      <td>110888</td>\n",
              "      <td>20</td>\n",
              "      <td>30.0</td>\n",
              "      <td>0.801709</td>\n",
              "    </tr>\n",
              "    <tr>\n",
              "      <th>1</th>\n",
              "      <td>148273</td>\n",
              "      <td>0</td>\n",
              "      <td>NaN</td>\n",
              "      <td>0.000000</td>\n",
              "    </tr>\n",
              "    <tr>\n",
              "      <th>2</th>\n",
              "      <td>124005</td>\n",
              "      <td>47</td>\n",
              "      <td>20.0</td>\n",
              "      <td>0.801709</td>\n",
              "    </tr>\n",
              "    <tr>\n",
              "      <th>3</th>\n",
              "      <td>38667</td>\n",
              "      <td>28</td>\n",
              "      <td>20.0</td>\n",
              "      <td>0.801709</td>\n",
              "    </tr>\n",
              "    <tr>\n",
              "      <th>4</th>\n",
              "      <td>74210</td>\n",
              "      <td>21</td>\n",
              "      <td>20.0</td>\n",
              "      <td>0.801709</td>\n",
              "    </tr>\n",
              "    <tr>\n",
              "      <th>...</th>\n",
              "      <td>...</td>\n",
              "      <td>...</td>\n",
              "      <td>...</td>\n",
              "      <td>...</td>\n",
              "    </tr>\n",
              "    <tr>\n",
              "      <th>615</th>\n",
              "      <td>94830</td>\n",
              "      <td>0</td>\n",
              "      <td>NaN</td>\n",
              "      <td>0.000000</td>\n",
              "    </tr>\n",
              "    <tr>\n",
              "      <th>626</th>\n",
              "      <td>123633</td>\n",
              "      <td>17</td>\n",
              "      <td>20.0</td>\n",
              "      <td>0.801709</td>\n",
              "    </tr>\n",
              "    <tr>\n",
              "      <th>632</th>\n",
              "      <td>15636</td>\n",
              "      <td>47</td>\n",
              "      <td>30.0</td>\n",
              "      <td>0.801709</td>\n",
              "    </tr>\n",
              "    <tr>\n",
              "      <th>635</th>\n",
              "      <td>75194</td>\n",
              "      <td>0</td>\n",
              "      <td>NaN</td>\n",
              "      <td>0.000000</td>\n",
              "    </tr>\n",
              "    <tr>\n",
              "      <th>639</th>\n",
              "      <td>68846</td>\n",
              "      <td>22</td>\n",
              "      <td>30.0</td>\n",
              "      <td>0.801709</td>\n",
              "    </tr>\n",
              "  </tbody>\n",
              "</table>\n",
              "<p>225 rows × 4 columns</p>\n",
              "</div>\n",
              "      <button class=\"colab-df-convert\" onclick=\"convertToInteractive('df-a1680138-d046-45df-9e46-a10903101450')\"\n",
              "              title=\"Convert this dataframe to an interactive table.\"\n",
              "              style=\"display:none;\">\n",
              "        \n",
              "  <svg xmlns=\"http://www.w3.org/2000/svg\" height=\"24px\"viewBox=\"0 0 24 24\"\n",
              "       width=\"24px\">\n",
              "    <path d=\"M0 0h24v24H0V0z\" fill=\"none\"/>\n",
              "    <path d=\"M18.56 5.44l.94 2.06.94-2.06 2.06-.94-2.06-.94-.94-2.06-.94 2.06-2.06.94zm-11 1L8.5 8.5l.94-2.06 2.06-.94-2.06-.94L8.5 2.5l-.94 2.06-2.06.94zm10 10l.94 2.06.94-2.06 2.06-.94-2.06-.94-.94-2.06-.94 2.06-2.06.94z\"/><path d=\"M17.41 7.96l-1.37-1.37c-.4-.4-.92-.59-1.43-.59-.52 0-1.04.2-1.43.59L10.3 9.45l-7.72 7.72c-.78.78-.78 2.05 0 2.83L4 21.41c.39.39.9.59 1.41.59.51 0 1.02-.2 1.41-.59l7.78-7.78 2.81-2.81c.8-.78.8-2.07 0-2.86zM5.41 20L4 18.59l7.72-7.72 1.47 1.35L5.41 20z\"/>\n",
              "  </svg>\n",
              "      </button>\n",
              "      \n",
              "  <style>\n",
              "    .colab-df-container {\n",
              "      display:flex;\n",
              "      flex-wrap:wrap;\n",
              "      gap: 12px;\n",
              "    }\n",
              "\n",
              "    .colab-df-convert {\n",
              "      background-color: #E8F0FE;\n",
              "      border: none;\n",
              "      border-radius: 50%;\n",
              "      cursor: pointer;\n",
              "      display: none;\n",
              "      fill: #1967D2;\n",
              "      height: 32px;\n",
              "      padding: 0 0 0 0;\n",
              "      width: 32px;\n",
              "    }\n",
              "\n",
              "    .colab-df-convert:hover {\n",
              "      background-color: #E2EBFA;\n",
              "      box-shadow: 0px 1px 2px rgba(60, 64, 67, 0.3), 0px 1px 3px 1px rgba(60, 64, 67, 0.15);\n",
              "      fill: #174EA6;\n",
              "    }\n",
              "\n",
              "    [theme=dark] .colab-df-convert {\n",
              "      background-color: #3B4455;\n",
              "      fill: #D2E3FC;\n",
              "    }\n",
              "\n",
              "    [theme=dark] .colab-df-convert:hover {\n",
              "      background-color: #434B5C;\n",
              "      box-shadow: 0px 1px 3px 1px rgba(0, 0, 0, 0.15);\n",
              "      filter: drop-shadow(0px 1px 2px rgba(0, 0, 0, 0.3));\n",
              "      fill: #FFFFFF;\n",
              "    }\n",
              "  </style>\n",
              "\n",
              "      <script>\n",
              "        const buttonEl =\n",
              "          document.querySelector('#df-a1680138-d046-45df-9e46-a10903101450 button.colab-df-convert');\n",
              "        buttonEl.style.display =\n",
              "          google.colab.kernel.accessAllowed ? 'block' : 'none';\n",
              "\n",
              "        async function convertToInteractive(key) {\n",
              "          const element = document.querySelector('#df-a1680138-d046-45df-9e46-a10903101450');\n",
              "          const dataTable =\n",
              "            await google.colab.kernel.invokeFunction('convertToInteractive',\n",
              "                                                     [key], {});\n",
              "          if (!dataTable) return;\n",
              "\n",
              "          const docLinkHtml = 'Like what you see? Visit the ' +\n",
              "            '<a target=\"_blank\" href=https://colab.research.google.com/notebooks/data_table.ipynb>data table notebook</a>'\n",
              "            + ' to learn more about interactive tables.';\n",
              "          element.innerHTML = '';\n",
              "          dataTable['output_type'] = 'display_data';\n",
              "          await google.colab.output.renderOutput(dataTable, element);\n",
              "          const docLink = document.createElement('div');\n",
              "          docLink.innerHTML = docLinkHtml;\n",
              "          element.appendChild(docLink);\n",
              "        }\n",
              "      </script>\n",
              "    </div>\n",
              "  </div>\n",
              "  "
            ],
            "text/plain": [
              "     user_id  age  gender  country_id\n",
              "0     110888   20    30.0    0.801709\n",
              "1     148273    0     NaN    0.000000\n",
              "2     124005   47    20.0    0.801709\n",
              "3      38667   28    20.0    0.801709\n",
              "4      74210   21    20.0    0.801709\n",
              "..       ...  ...     ...         ...\n",
              "615    94830    0     NaN    0.000000\n",
              "626   123633   17    20.0    0.801709\n",
              "632    15636   47    30.0    0.801709\n",
              "635    75194    0     NaN    0.000000\n",
              "639    68846   22    30.0    0.801709\n",
              "\n",
              "[225 rows x 4 columns]"
            ]
          },
          "metadata": {},
          "output_type": "display_data"
        }
      ],
      "source": [
        "\n",
        "from sklearn.preprocessing import MinMaxScaler\n",
        "import numpy as np\n",
        "\n",
        "\n",
        "# apply normalization techniques\n",
        "columns = ['country_id']\n",
        "for column in columns:\n",
        "  df_info[column] = MinMaxScaler().fit_transform(np.array(df_info[column]).reshape(-1,1))\n",
        "\n",
        "\n",
        "\n",
        "\n",
        "# view normalized data\n",
        "display(df_info)"
      ]
    },
    {
      "cell_type": "code",
      "execution_count": null,
      "metadata": {
        "id": "sJj5rrTasLP3"
      },
      "outputs": [],
      "source": [
        "df_info=df_info.fillna(0)"
      ]
    },
    {
      "cell_type": "code",
      "execution_count": null,
      "metadata": {
        "colab": {
          "base_uri": "https://localhost:8080/"
        },
        "id": "QYyrdOlUsomp",
        "outputId": "480095b0-d262-4058-a94c-6b8801159457"
      },
      "outputs": [
        {
          "name": "stdout",
          "output_type": "stream",
          "text": [
            "225\n"
          ]
        }
      ],
      "source": [
        "print(len(df_info))"
      ]
    },
    {
      "cell_type": "code",
      "execution_count": null,
      "metadata": {
        "id": "YamssUWEdff2"
      },
      "outputs": [],
      "source": [
        "from sklearn.metrics.pairwise import cosine_similarity"
      ]
    },
    {
      "cell_type": "code",
      "execution_count": null,
      "metadata": {
        "colab": {
          "base_uri": "https://localhost:8080/",
          "height": 331
        },
        "id": "M4oEz4WTr5xs",
        "outputId": "dc891607-3351-48f3-ff0b-b6b4cc0b4c80"
      },
      "outputs": [
        {
          "data": {
            "text/html": [
              "\n",
              "  <div id=\"df-bbbee4e0-01a6-4b7b-bce5-8b99417f79c7\">\n",
              "    <div class=\"colab-df-container\">\n",
              "      <div>\n",
              "<style scoped>\n",
              "    .dataframe tbody tr th:only-of-type {\n",
              "        vertical-align: middle;\n",
              "    }\n",
              "\n",
              "    .dataframe tbody tr th {\n",
              "        vertical-align: top;\n",
              "    }\n",
              "\n",
              "    .dataframe thead th {\n",
              "        text-align: right;\n",
              "    }\n",
              "</style>\n",
              "<table border=\"1\" class=\"dataframe\">\n",
              "  <thead>\n",
              "    <tr style=\"text-align: right;\">\n",
              "      <th>user_id</th>\n",
              "      <th>110888</th>\n",
              "      <th>148273</th>\n",
              "      <th>124005</th>\n",
              "      <th>38667</th>\n",
              "      <th>74210</th>\n",
              "      <th>91918</th>\n",
              "      <th>130161</th>\n",
              "      <th>34299</th>\n",
              "      <th>133649</th>\n",
              "      <th>129482</th>\n",
              "      <th>...</th>\n",
              "      <th>130340</th>\n",
              "      <th>133987</th>\n",
              "      <th>36549</th>\n",
              "      <th>86649</th>\n",
              "      <th>21724</th>\n",
              "      <th>94830</th>\n",
              "      <th>123633</th>\n",
              "      <th>15636</th>\n",
              "      <th>75194</th>\n",
              "      <th>68846</th>\n",
              "    </tr>\n",
              "    <tr>\n",
              "      <th>user_id</th>\n",
              "      <th></th>\n",
              "      <th></th>\n",
              "      <th></th>\n",
              "      <th></th>\n",
              "      <th></th>\n",
              "      <th></th>\n",
              "      <th></th>\n",
              "      <th></th>\n",
              "      <th></th>\n",
              "      <th></th>\n",
              "      <th></th>\n",
              "      <th></th>\n",
              "      <th></th>\n",
              "      <th></th>\n",
              "      <th></th>\n",
              "      <th></th>\n",
              "      <th></th>\n",
              "      <th></th>\n",
              "      <th></th>\n",
              "      <th></th>\n",
              "      <th></th>\n",
              "    </tr>\n",
              "  </thead>\n",
              "  <tbody>\n",
              "    <tr>\n",
              "      <th>110888</th>\n",
              "      <td>0.0</td>\n",
              "      <td>1.0</td>\n",
              "      <td>1.0</td>\n",
              "      <td>1.0</td>\n",
              "      <td>1.0</td>\n",
              "      <td>1.0</td>\n",
              "      <td>1.0</td>\n",
              "      <td>1.000000</td>\n",
              "      <td>1.0</td>\n",
              "      <td>1.0</td>\n",
              "      <td>...</td>\n",
              "      <td>1.0</td>\n",
              "      <td>1.0</td>\n",
              "      <td>1.000000</td>\n",
              "      <td>1.0</td>\n",
              "      <td>0.999997</td>\n",
              "      <td>1.0</td>\n",
              "      <td>1.0</td>\n",
              "      <td>0.999995</td>\n",
              "      <td>1.0</td>\n",
              "      <td>1.0</td>\n",
              "    </tr>\n",
              "    <tr>\n",
              "      <th>148273</th>\n",
              "      <td>1.0</td>\n",
              "      <td>0.0</td>\n",
              "      <td>1.0</td>\n",
              "      <td>1.0</td>\n",
              "      <td>1.0</td>\n",
              "      <td>1.0</td>\n",
              "      <td>1.0</td>\n",
              "      <td>0.999999</td>\n",
              "      <td>1.0</td>\n",
              "      <td>1.0</td>\n",
              "      <td>...</td>\n",
              "      <td>1.0</td>\n",
              "      <td>1.0</td>\n",
              "      <td>0.999999</td>\n",
              "      <td>1.0</td>\n",
              "      <td>0.999996</td>\n",
              "      <td>1.0</td>\n",
              "      <td>1.0</td>\n",
              "      <td>0.999994</td>\n",
              "      <td>1.0</td>\n",
              "      <td>1.0</td>\n",
              "    </tr>\n",
              "    <tr>\n",
              "      <th>124005</th>\n",
              "      <td>1.0</td>\n",
              "      <td>1.0</td>\n",
              "      <td>0.0</td>\n",
              "      <td>1.0</td>\n",
              "      <td>1.0</td>\n",
              "      <td>1.0</td>\n",
              "      <td>1.0</td>\n",
              "      <td>1.000000</td>\n",
              "      <td>1.0</td>\n",
              "      <td>1.0</td>\n",
              "      <td>...</td>\n",
              "      <td>1.0</td>\n",
              "      <td>1.0</td>\n",
              "      <td>1.000000</td>\n",
              "      <td>1.0</td>\n",
              "      <td>0.999997</td>\n",
              "      <td>1.0</td>\n",
              "      <td>1.0</td>\n",
              "      <td>0.999995</td>\n",
              "      <td>1.0</td>\n",
              "      <td>1.0</td>\n",
              "    </tr>\n",
              "    <tr>\n",
              "      <th>38667</th>\n",
              "      <td>1.0</td>\n",
              "      <td>1.0</td>\n",
              "      <td>1.0</td>\n",
              "      <td>0.0</td>\n",
              "      <td>1.0</td>\n",
              "      <td>1.0</td>\n",
              "      <td>1.0</td>\n",
              "      <td>1.000000</td>\n",
              "      <td>1.0</td>\n",
              "      <td>1.0</td>\n",
              "      <td>...</td>\n",
              "      <td>1.0</td>\n",
              "      <td>1.0</td>\n",
              "      <td>1.000000</td>\n",
              "      <td>1.0</td>\n",
              "      <td>0.999998</td>\n",
              "      <td>1.0</td>\n",
              "      <td>1.0</td>\n",
              "      <td>0.999996</td>\n",
              "      <td>1.0</td>\n",
              "      <td>1.0</td>\n",
              "    </tr>\n",
              "    <tr>\n",
              "      <th>74210</th>\n",
              "      <td>1.0</td>\n",
              "      <td>1.0</td>\n",
              "      <td>1.0</td>\n",
              "      <td>1.0</td>\n",
              "      <td>0.0</td>\n",
              "      <td>1.0</td>\n",
              "      <td>1.0</td>\n",
              "      <td>1.000000</td>\n",
              "      <td>1.0</td>\n",
              "      <td>1.0</td>\n",
              "      <td>...</td>\n",
              "      <td>1.0</td>\n",
              "      <td>1.0</td>\n",
              "      <td>1.000000</td>\n",
              "      <td>1.0</td>\n",
              "      <td>0.999997</td>\n",
              "      <td>1.0</td>\n",
              "      <td>1.0</td>\n",
              "      <td>0.999995</td>\n",
              "      <td>1.0</td>\n",
              "      <td>1.0</td>\n",
              "    </tr>\n",
              "  </tbody>\n",
              "</table>\n",
              "<p>5 rows × 225 columns</p>\n",
              "</div>\n",
              "      <button class=\"colab-df-convert\" onclick=\"convertToInteractive('df-bbbee4e0-01a6-4b7b-bce5-8b99417f79c7')\"\n",
              "              title=\"Convert this dataframe to an interactive table.\"\n",
              "              style=\"display:none;\">\n",
              "        \n",
              "  <svg xmlns=\"http://www.w3.org/2000/svg\" height=\"24px\"viewBox=\"0 0 24 24\"\n",
              "       width=\"24px\">\n",
              "    <path d=\"M0 0h24v24H0V0z\" fill=\"none\"/>\n",
              "    <path d=\"M18.56 5.44l.94 2.06.94-2.06 2.06-.94-2.06-.94-.94-2.06-.94 2.06-2.06.94zm-11 1L8.5 8.5l.94-2.06 2.06-.94-2.06-.94L8.5 2.5l-.94 2.06-2.06.94zm10 10l.94 2.06.94-2.06 2.06-.94-2.06-.94-.94-2.06-.94 2.06-2.06.94z\"/><path d=\"M17.41 7.96l-1.37-1.37c-.4-.4-.92-.59-1.43-.59-.52 0-1.04.2-1.43.59L10.3 9.45l-7.72 7.72c-.78.78-.78 2.05 0 2.83L4 21.41c.39.39.9.59 1.41.59.51 0 1.02-.2 1.41-.59l7.78-7.78 2.81-2.81c.8-.78.8-2.07 0-2.86zM5.41 20L4 18.59l7.72-7.72 1.47 1.35L5.41 20z\"/>\n",
              "  </svg>\n",
              "      </button>\n",
              "      \n",
              "  <style>\n",
              "    .colab-df-container {\n",
              "      display:flex;\n",
              "      flex-wrap:wrap;\n",
              "      gap: 12px;\n",
              "    }\n",
              "\n",
              "    .colab-df-convert {\n",
              "      background-color: #E8F0FE;\n",
              "      border: none;\n",
              "      border-radius: 50%;\n",
              "      cursor: pointer;\n",
              "      display: none;\n",
              "      fill: #1967D2;\n",
              "      height: 32px;\n",
              "      padding: 0 0 0 0;\n",
              "      width: 32px;\n",
              "    }\n",
              "\n",
              "    .colab-df-convert:hover {\n",
              "      background-color: #E2EBFA;\n",
              "      box-shadow: 0px 1px 2px rgba(60, 64, 67, 0.3), 0px 1px 3px 1px rgba(60, 64, 67, 0.15);\n",
              "      fill: #174EA6;\n",
              "    }\n",
              "\n",
              "    [theme=dark] .colab-df-convert {\n",
              "      background-color: #3B4455;\n",
              "      fill: #D2E3FC;\n",
              "    }\n",
              "\n",
              "    [theme=dark] .colab-df-convert:hover {\n",
              "      background-color: #434B5C;\n",
              "      box-shadow: 0px 1px 3px 1px rgba(0, 0, 0, 0.15);\n",
              "      filter: drop-shadow(0px 1px 2px rgba(0, 0, 0, 0.3));\n",
              "      fill: #FFFFFF;\n",
              "    }\n",
              "  </style>\n",
              "\n",
              "      <script>\n",
              "        const buttonEl =\n",
              "          document.querySelector('#df-bbbee4e0-01a6-4b7b-bce5-8b99417f79c7 button.colab-df-convert');\n",
              "        buttonEl.style.display =\n",
              "          google.colab.kernel.accessAllowed ? 'block' : 'none';\n",
              "\n",
              "        async function convertToInteractive(key) {\n",
              "          const element = document.querySelector('#df-bbbee4e0-01a6-4b7b-bce5-8b99417f79c7');\n",
              "          const dataTable =\n",
              "            await google.colab.kernel.invokeFunction('convertToInteractive',\n",
              "                                                     [key], {});\n",
              "          if (!dataTable) return;\n",
              "\n",
              "          const docLinkHtml = 'Like what you see? Visit the ' +\n",
              "            '<a target=\"_blank\" href=https://colab.research.google.com/notebooks/data_table.ipynb>data table notebook</a>'\n",
              "            + ' to learn more about interactive tables.';\n",
              "          element.innerHTML = '';\n",
              "          dataTable['output_type'] = 'display_data';\n",
              "          await google.colab.output.renderOutput(dataTable, element);\n",
              "          const docLink = document.createElement('div');\n",
              "          docLink.innerHTML = docLinkHtml;\n",
              "          element.appendChild(docLink);\n",
              "        }\n",
              "      </script>\n",
              "    </div>\n",
              "  </div>\n",
              "  "
            ],
            "text/plain": [
              "user_id  110888  148273  124005  38667   74210   91918   130161    34299   \\\n",
              "user_id                                                                     \n",
              "110888      0.0     1.0     1.0     1.0     1.0     1.0     1.0  1.000000   \n",
              "148273      1.0     0.0     1.0     1.0     1.0     1.0     1.0  0.999999   \n",
              "124005      1.0     1.0     0.0     1.0     1.0     1.0     1.0  1.000000   \n",
              "38667       1.0     1.0     1.0     0.0     1.0     1.0     1.0  1.000000   \n",
              "74210       1.0     1.0     1.0     1.0     0.0     1.0     1.0  1.000000   \n",
              "\n",
              "user_id  133649  129482  ...  130340  133987    36549   86649     21724   \\\n",
              "user_id                  ...                                               \n",
              "110888      1.0     1.0  ...     1.0     1.0  1.000000     1.0  0.999997   \n",
              "148273      1.0     1.0  ...     1.0     1.0  0.999999     1.0  0.999996   \n",
              "124005      1.0     1.0  ...     1.0     1.0  1.000000     1.0  0.999997   \n",
              "38667       1.0     1.0  ...     1.0     1.0  1.000000     1.0  0.999998   \n",
              "74210       1.0     1.0  ...     1.0     1.0  1.000000     1.0  0.999997   \n",
              "\n",
              "user_id  94830   123633    15636   75194   68846   \n",
              "user_id                                            \n",
              "110888      1.0     1.0  0.999995     1.0     1.0  \n",
              "148273      1.0     1.0  0.999994     1.0     1.0  \n",
              "124005      1.0     1.0  0.999995     1.0     1.0  \n",
              "38667       1.0     1.0  0.999996     1.0     1.0  \n",
              "74210       1.0     1.0  0.999995     1.0     1.0  \n",
              "\n",
              "[5 rows x 225 columns]"
            ]
          },
          "execution_count": 31,
          "metadata": {},
          "output_type": "execute_result"
        }
      ],
      "source": [
        "# user similarity on replacing NAN by user avg\n",
        "b = cosine_similarity(df_info)\n",
        "np.fill_diagonal(b, 0 )\n",
        "similarity_with_user_info = pd.DataFrame(b,index=df_info['user_id'])\n",
        "similarity_with_user_info.columns=df_info['user_id']\n",
        "similarity_with_user_info.head()"
      ]
    },
    {
      "cell_type": "code",
      "execution_count": null,
      "metadata": {
        "id": "13Kx7Qsm0K-K"
      },
      "outputs": [],
      "source": [
        "def find_n_neighbours(df,n):\n",
        "    order = np.argsort(df.values, axis=1)[:, :n]\n",
        "    df = df.apply(lambda x: pd.Series(x.sort_values(ascending=False)\n",
        "           .iloc[:n].index,\n",
        "          index=['top{}'.format(i) for i in range(1, n+1)]), axis=1)\n",
        "    return df"
      ]
    },
    {
      "cell_type": "code",
      "execution_count": null,
      "metadata": {
        "colab": {
          "base_uri": "https://localhost:8080/",
          "height": 205
        },
        "id": "swK7F4l0pI75",
        "outputId": "151c7d61-80db-43c7-9c6f-cb540786ebe2"
      },
      "outputs": [
        {
          "data": {
            "text/html": [
              "\n",
              "  <div id=\"df-cdf00a53-207f-45a9-8491-e7d2f9ff0e67\">\n",
              "    <div class=\"colab-df-container\">\n",
              "      <div>\n",
              "<style scoped>\n",
              "    .dataframe tbody tr th:only-of-type {\n",
              "        vertical-align: middle;\n",
              "    }\n",
              "\n",
              "    .dataframe tbody tr th {\n",
              "        vertical-align: top;\n",
              "    }\n",
              "\n",
              "    .dataframe thead th {\n",
              "        text-align: right;\n",
              "    }\n",
              "</style>\n",
              "<table border=\"1\" class=\"dataframe\">\n",
              "  <thead>\n",
              "    <tr style=\"text-align: right;\">\n",
              "      <th></th>\n",
              "      <th>top1</th>\n",
              "      <th>top2</th>\n",
              "      <th>top3</th>\n",
              "      <th>top4</th>\n",
              "      <th>top5</th>\n",
              "      <th>top6</th>\n",
              "      <th>top7</th>\n",
              "      <th>top8</th>\n",
              "      <th>top9</th>\n",
              "      <th>top10</th>\n",
              "      <th>...</th>\n",
              "      <th>top21</th>\n",
              "      <th>top22</th>\n",
              "      <th>top23</th>\n",
              "      <th>top24</th>\n",
              "      <th>top25</th>\n",
              "      <th>top26</th>\n",
              "      <th>top27</th>\n",
              "      <th>top28</th>\n",
              "      <th>top29</th>\n",
              "      <th>top30</th>\n",
              "    </tr>\n",
              "    <tr>\n",
              "      <th>user_id</th>\n",
              "      <th></th>\n",
              "      <th></th>\n",
              "      <th></th>\n",
              "      <th></th>\n",
              "      <th></th>\n",
              "      <th></th>\n",
              "      <th></th>\n",
              "      <th></th>\n",
              "      <th></th>\n",
              "      <th></th>\n",
              "      <th></th>\n",
              "      <th></th>\n",
              "      <th></th>\n",
              "      <th></th>\n",
              "      <th></th>\n",
              "      <th></th>\n",
              "      <th></th>\n",
              "      <th></th>\n",
              "      <th></th>\n",
              "      <th></th>\n",
              "      <th></th>\n",
              "    </tr>\n",
              "  </thead>\n",
              "  <tbody>\n",
              "    <tr>\n",
              "      <th>110888</th>\n",
              "      <td>122908</td>\n",
              "      <td>123029</td>\n",
              "      <td>124011</td>\n",
              "      <td>123616</td>\n",
              "      <td>126655</td>\n",
              "      <td>116892</td>\n",
              "      <td>126595</td>\n",
              "      <td>83326</td>\n",
              "      <td>87239</td>\n",
              "      <td>130826</td>\n",
              "      <td>...</td>\n",
              "      <td>90812</td>\n",
              "      <td>140842</td>\n",
              "      <td>88936</td>\n",
              "      <td>91918</td>\n",
              "      <td>138476</td>\n",
              "      <td>145678</td>\n",
              "      <td>140915</td>\n",
              "      <td>144658</td>\n",
              "      <td>144181</td>\n",
              "      <td>144538</td>\n",
              "    </tr>\n",
              "  </tbody>\n",
              "</table>\n",
              "<p>1 rows × 30 columns</p>\n",
              "</div>\n",
              "      <button class=\"colab-df-convert\" onclick=\"convertToInteractive('df-cdf00a53-207f-45a9-8491-e7d2f9ff0e67')\"\n",
              "              title=\"Convert this dataframe to an interactive table.\"\n",
              "              style=\"display:none;\">\n",
              "        \n",
              "  <svg xmlns=\"http://www.w3.org/2000/svg\" height=\"24px\"viewBox=\"0 0 24 24\"\n",
              "       width=\"24px\">\n",
              "    <path d=\"M0 0h24v24H0V0z\" fill=\"none\"/>\n",
              "    <path d=\"M18.56 5.44l.94 2.06.94-2.06 2.06-.94-2.06-.94-.94-2.06-.94 2.06-2.06.94zm-11 1L8.5 8.5l.94-2.06 2.06-.94-2.06-.94L8.5 2.5l-.94 2.06-2.06.94zm10 10l.94 2.06.94-2.06 2.06-.94-2.06-.94-.94-2.06-.94 2.06-2.06.94z\"/><path d=\"M17.41 7.96l-1.37-1.37c-.4-.4-.92-.59-1.43-.59-.52 0-1.04.2-1.43.59L10.3 9.45l-7.72 7.72c-.78.78-.78 2.05 0 2.83L4 21.41c.39.39.9.59 1.41.59.51 0 1.02-.2 1.41-.59l7.78-7.78 2.81-2.81c.8-.78.8-2.07 0-2.86zM5.41 20L4 18.59l7.72-7.72 1.47 1.35L5.41 20z\"/>\n",
              "  </svg>\n",
              "      </button>\n",
              "      \n",
              "  <style>\n",
              "    .colab-df-container {\n",
              "      display:flex;\n",
              "      flex-wrap:wrap;\n",
              "      gap: 12px;\n",
              "    }\n",
              "\n",
              "    .colab-df-convert {\n",
              "      background-color: #E8F0FE;\n",
              "      border: none;\n",
              "      border-radius: 50%;\n",
              "      cursor: pointer;\n",
              "      display: none;\n",
              "      fill: #1967D2;\n",
              "      height: 32px;\n",
              "      padding: 0 0 0 0;\n",
              "      width: 32px;\n",
              "    }\n",
              "\n",
              "    .colab-df-convert:hover {\n",
              "      background-color: #E2EBFA;\n",
              "      box-shadow: 0px 1px 2px rgba(60, 64, 67, 0.3), 0px 1px 3px 1px rgba(60, 64, 67, 0.15);\n",
              "      fill: #174EA6;\n",
              "    }\n",
              "\n",
              "    [theme=dark] .colab-df-convert {\n",
              "      background-color: #3B4455;\n",
              "      fill: #D2E3FC;\n",
              "    }\n",
              "\n",
              "    [theme=dark] .colab-df-convert:hover {\n",
              "      background-color: #434B5C;\n",
              "      box-shadow: 0px 1px 3px 1px rgba(0, 0, 0, 0.15);\n",
              "      filter: drop-shadow(0px 1px 2px rgba(0, 0, 0, 0.3));\n",
              "      fill: #FFFFFF;\n",
              "    }\n",
              "  </style>\n",
              "\n",
              "      <script>\n",
              "        const buttonEl =\n",
              "          document.querySelector('#df-cdf00a53-207f-45a9-8491-e7d2f9ff0e67 button.colab-df-convert');\n",
              "        buttonEl.style.display =\n",
              "          google.colab.kernel.accessAllowed ? 'block' : 'none';\n",
              "\n",
              "        async function convertToInteractive(key) {\n",
              "          const element = document.querySelector('#df-cdf00a53-207f-45a9-8491-e7d2f9ff0e67');\n",
              "          const dataTable =\n",
              "            await google.colab.kernel.invokeFunction('convertToInteractive',\n",
              "                                                     [key], {});\n",
              "          if (!dataTable) return;\n",
              "\n",
              "          const docLinkHtml = 'Like what you see? Visit the ' +\n",
              "            '<a target=\"_blank\" href=https://colab.research.google.com/notebooks/data_table.ipynb>data table notebook</a>'\n",
              "            + ' to learn more about interactive tables.';\n",
              "          element.innerHTML = '';\n",
              "          dataTable['output_type'] = 'display_data';\n",
              "          await google.colab.output.renderOutput(dataTable, element);\n",
              "          const docLink = document.createElement('div');\n",
              "          docLink.innerHTML = docLinkHtml;\n",
              "          element.appendChild(docLink);\n",
              "        }\n",
              "      </script>\n",
              "    </div>\n",
              "  </div>\n",
              "  "
            ],
            "text/plain": [
              "           top1    top2    top3    top4    top5    top6    top7   top8   top9  \\\n",
              "user_id                                                                         \n",
              "110888   122908  123029  124011  123616  126655  116892  126595  83326  87239   \n",
              "\n",
              "          top10  ...  top21   top22  top23  top24   top25   top26   top27  \\\n",
              "user_id          ...                                                        \n",
              "110888   130826  ...  90812  140842  88936  91918  138476  145678  140915   \n",
              "\n",
              "          top28   top29   top30  \n",
              "user_id                          \n",
              "110888   144658  144181  144538  \n",
              "\n",
              "[1 rows x 30 columns]"
            ]
          },
          "execution_count": 33,
          "metadata": {},
          "output_type": "execute_result"
        }
      ],
      "source": [
        "input_id=110888\n",
        "target_uer=similarity_with_user_info. loc[[input_id]]\n",
        "sim_user_30_u=find_n_neighbours(target_uer,30)\n",
        "sim_user_30_u.head()"
      ]
    },
    {
      "cell_type": "code",
      "execution_count": null,
      "metadata": {
        "colab": {
          "base_uri": "https://localhost:8080/"
        },
        "id": "ViWLtZLU1nhy",
        "outputId": "fc63a21f-0820-4959-976b-a283714057ba"
      },
      "outputs": [
        {
          "name": "stdout",
          "output_type": "stream",
          "text": [
            "[[122908, 123029, 124011, 123616, 126655, 116892, 126595, 83326, 87239, 130826, 122906, 131565, 118412, 129482, 134003, 89871, 141284, 94712, 123447, 143230, 90812, 140842, 88936, 91918, 138476, 145678, 140915, 144658, 144181, 144538]]\n",
            "31\n"
          ]
        }
      ],
      "source": [
        "df_list = sim_user_30_u.values.tolist()\n",
        "print(df_list)\n",
        "flat_list = [item for sublist in df_list for item in sublist]\n",
        "flat_list.append(input_id)\n",
        "print(len(flat_list))"
      ]
    },
    {
      "cell_type": "code",
      "execution_count": null,
      "metadata": {
        "colab": {
          "base_uri": "https://localhost:8080/"
        },
        "id": "ap2tbnYZ0VTU",
        "outputId": "e8674143-ff29-4bbd-c23b-b7e32e14938b"
      },
      "outputs": [
        {
          "name": "stdout",
          "output_type": "stream",
          "text": [
            "225\n"
          ]
        }
      ],
      "source": [
        "#no need\n",
        "user_idss = df[\"user_id\"].tolist()\n",
        "user_idss=list(set(user_idss))\n",
        "print(len(user_idss))"
      ]
    },
    {
      "cell_type": "code",
      "execution_count": null,
      "metadata": {
        "colab": {
          "base_uri": "https://localhost:8080/"
        },
        "id": "S8oj4-un0XGu",
        "outputId": "5ab2e04f-23c7-4a73-e0a1-5ba9edeb154a"
      },
      "outputs": [
        {
          "name": "stdout",
          "output_type": "stream",
          "text": [
            "225\n"
          ]
        }
      ],
      "source": [
        "gk = df.groupby('user_id')\n",
        "print(len(gk))"
      ]
    },
    {
      "cell_type": "code",
      "execution_count": null,
      "metadata": {
        "id": "aA39ViaS0ZpS"
      },
      "outputs": [],
      "source": [
        "def calculate_frequency(list_of_clusters,user_time):\n",
        "  last2=len(user_time)-1\n",
        "  last = user_time[last2]\n",
        "  frequency = {}\n",
        "  for item in range(len(list_of_clusters)):\n",
        "   # checking the element in dictionary\n",
        "   if user_time[item] == last:\n",
        "\n",
        "    if list_of_clusters[item] in frequency:\n",
        "        # incrementing the counr\n",
        "        frequency[list_of_clusters[item]] += 1.6\n",
        "    else:\n",
        "        # initializing the count\n",
        "        frequency[list_of_clusters[item]] = 1.6\n",
        "   else:\n",
        "     if list_of_clusters[item] in frequency:\n",
        "        # incrementing the counr\n",
        "        frequency[list_of_clusters[item]] += 1\n",
        "     else:\n",
        "        # initializing the count\n",
        "        frequency[list_of_clusters[item]] = 1\n",
        "\n",
        "  return(frequency)"
      ]
    },
    {
      "cell_type": "code",
      "execution_count": null,
      "metadata": {
        "id": "5umka-msG0dz"
      },
      "outputs": [],
      "source": [
        "def correct_time_format(user_time):\n",
        "  for i in range(len(user_time)):\n",
        "    # print(type(user_time[i]))\n",
        "    if user_time[i]!= 0:\n",
        "      before=user_time[i].split()\n",
        "      user_time[i]=before[0]\n",
        "  return (user_time)\n",
        ""
      ]
    },
    {
      "cell_type": "code",
      "execution_count": null,
      "metadata": {
        "id": "R7FqH3Ay0Zvt"
      },
      "outputs": [],
      "source": [
        "list_of_dfs=[]\n",
        "for i in flat_list:\n",
        "  user_search=gk.get_group(i)\n",
        "  user_search = user_search.sort_values(by=\"time\")\n",
        "  user_search=user_search.fillna(0)\n",
        "  user_time = user_search[\"time\"].tolist()\n",
        "  user_time = correct_time_format(user_time)\n",
        "  user_topics = user_search[\"clusters\"].tolist()\n",
        "\n",
        "  frequencies=calculate_frequency(user_topics,user_time)\n",
        "  rate = pd.DataFrame(list(frequencies.items()),columns = ['clusters', 'freq'])\n",
        "  full= pd.merge(rate, user_search, on ='clusters')\n",
        "  list_of_dfs.append(full)\n",
        "combined = pd.concat(list_of_dfs)"
      ]
    },
    {
      "cell_type": "code",
      "execution_count": null,
      "metadata": {
        "colab": {
          "base_uri": "https://localhost:8080/"
        },
        "id": "3c6I8wnP3_Ot",
        "outputId": "a5c1c6e7-0806-44c3-cc0e-69e05e0cee41"
      },
      "outputs": [
        {
          "name": "stdout",
          "output_type": "stream",
          "text": [
            "70\n"
          ]
        }
      ],
      "source": [
        "print(len(combined))"
      ]
    },
    {
      "cell_type": "code",
      "execution_count": null,
      "metadata": {
        "id": "2sByx4yz4G-H"
      },
      "outputs": [],
      "source": [
        "combined1=combined[['clusters', 'freq','user_id','age','gender','country_id']]"
      ]
    },
    {
      "cell_type": "code",
      "execution_count": null,
      "metadata": {
        "id": "omlaJIU04MRV"
      },
      "outputs": [],
      "source": [
        "\n",
        "combined2=combined1.drop_duplicates(\n",
        "                     keep = 'first')"
      ]
    },
    {
      "cell_type": "code",
      "execution_count": null,
      "metadata": {
        "id": "BuIOAVLg4SKr"
      },
      "outputs": [],
      "source": [
        "Ratings=combined2[['user_id', 'clusters','freq']]"
      ]
    },
    {
      "cell_type": "code",
      "execution_count": null,
      "metadata": {
        "colab": {
          "base_uri": "https://localhost:8080/",
          "height": 17
        },
        "id": "7pa4uBeC-H5b",
        "outputId": "e731461d-5d93-4079-fc99-5fdc0539bc4e"
      },
      "outputs": [
        {
          "data": {
            "application/javascript": [
              "\n",
              "    async function download(id, filename, size) {\n",
              "      if (!google.colab.kernel.accessAllowed) {\n",
              "        return;\n",
              "      }\n",
              "      const div = document.createElement('div');\n",
              "      const label = document.createElement('label');\n",
              "      label.textContent = `Downloading \"${filename}\": `;\n",
              "      div.appendChild(label);\n",
              "      const progress = document.createElement('progress');\n",
              "      progress.max = size;\n",
              "      div.appendChild(progress);\n",
              "      document.body.appendChild(div);\n",
              "\n",
              "      const buffers = [];\n",
              "      let downloaded = 0;\n",
              "\n",
              "      const channel = await google.colab.kernel.comms.open(id);\n",
              "      // Send a message to notify the kernel that we're ready.\n",
              "      channel.send({})\n",
              "\n",
              "      for await (const message of channel.messages) {\n",
              "        // Send a message to notify the kernel that we're ready.\n",
              "        channel.send({})\n",
              "        if (message.buffers) {\n",
              "          for (const buffer of message.buffers) {\n",
              "            buffers.push(buffer);\n",
              "            downloaded += buffer.byteLength;\n",
              "            progress.value = downloaded;\n",
              "          }\n",
              "        }\n",
              "      }\n",
              "      const blob = new Blob(buffers, {type: 'application/binary'});\n",
              "      const a = document.createElement('a');\n",
              "      a.href = window.URL.createObjectURL(blob);\n",
              "      a.download = filename;\n",
              "      div.appendChild(a);\n",
              "      a.click();\n",
              "      div.remove();\n",
              "    }\n",
              "  "
            ],
            "text/plain": [
              "<IPython.core.display.Javascript object>"
            ]
          },
          "metadata": {},
          "output_type": "display_data"
        },
        {
          "data": {
            "application/javascript": [
              "download(\"download_d0a98de7-fffb-4ab6-80dc-514fd5d5e54e\", \"Ratings.csv\", 1129)"
            ],
            "text/plain": [
              "<IPython.core.display.Javascript object>"
            ]
          },
          "metadata": {},
          "output_type": "display_data"
        }
      ],
      "source": [
        "Ratings.head()\n",
        "from google.colab import files\n",
        "Ratings.to_csv('Ratings.csv', encoding = 'utf-8-sig')\n",
        "files.download('Ratings.csv')"
      ]
    },
    {
      "cell_type": "code",
      "execution_count": null,
      "metadata": {
        "colab": {
          "base_uri": "https://localhost:8080/"
        },
        "id": "tyP8SGCr-V5Z",
        "outputId": "6ca159bd-4c74-42cc-c0a9-b20ab9616815"
      },
      "outputs": [
        {
          "name": "stdout",
          "output_type": "stream",
          "text": [
            "Collecting surprise\n",
            "  Downloading surprise-0.1-py2.py3-none-any.whl (1.8 kB)\n",
            "Collecting scikit-surprise\n",
            "  Downloading scikit-surprise-1.1.1.tar.gz (11.8 MB)\n",
            "\u001b[K     |████████████████████████████████| 11.8 MB 4.5 MB/s \n",
            "\u001b[?25hRequirement already satisfied: joblib>=0.11 in /usr/local/lib/python3.7/dist-packages (from scikit-surprise->surprise) (1.1.0)\n",
            "Requirement already satisfied: numpy>=1.11.2 in /usr/local/lib/python3.7/dist-packages (from scikit-surprise->surprise) (1.21.6)\n",
            "Requirement already satisfied: scipy>=1.0.0 in /usr/local/lib/python3.7/dist-packages (from scikit-surprise->surprise) (1.4.1)\n",
            "Requirement already satisfied: six>=1.10.0 in /usr/local/lib/python3.7/dist-packages (from scikit-surprise->surprise) (1.15.0)\n",
            "Building wheels for collected packages: scikit-surprise\n",
            "  Building wheel for scikit-surprise (setup.py) ... \u001b[?25l\u001b[?25hdone\n",
            "  Created wheel for scikit-surprise: filename=scikit_surprise-1.1.1-cp37-cp37m-linux_x86_64.whl size=1633831 sha256=32a9fb90727f2f1da7562399f87055fc6ba2be994b5d5d9024caf8e666870a1a\n",
            "  Stored in directory: /root/.cache/pip/wheels/76/44/74/b498c42be47b2406bd27994e16c5188e337c657025ab400c1c\n",
            "Successfully built scikit-surprise\n",
            "Installing collected packages: scikit-surprise, surprise\n",
            "Successfully installed scikit-surprise-1.1.1 surprise-0.1\n"
          ]
        }
      ],
      "source": [
        "pip install surprise"
      ]
    },
    {
      "cell_type": "code",
      "execution_count": null,
      "metadata": {
        "id": "7UFRQAnx-fry"
      },
      "outputs": [],
      "source": [
        "#importing necessary libraries\n",
        "import numpy as np\n",
        "import pandas as pd\n",
        "from sklearn.metrics.pairwise import cosine_similarity\n",
        "from sklearn.metrics import mean_squared_error\n",
        "from sklearn.model_selection import train_test_split\n",
        "from surprise import Reader, Dataset, KNNBasic\n",
        "from surprise.model_selection import cross_validate\n",
        "from surprise import SVD"
      ]
    },
    {
      "cell_type": "code",
      "execution_count": null,
      "metadata": {
        "id": "fa1sUF4P-oZz"
      },
      "outputs": [],
      "source": [
        "reader = Reader()\n",
        "data = Dataset.load_from_df(Ratings, reader)"
      ]
    },
    {
      "cell_type": "code",
      "execution_count": null,
      "metadata": {
        "colab": {
          "base_uri": "https://localhost:8080/"
        },
        "id": "_2nff41E-wDD",
        "outputId": "bd180493-f77e-412b-f25b-df79bcc7e10a"
      },
      "outputs": [
        {
          "data": {
            "text/plain": [
              "{'fit_time': (0.014781951904296875,\n",
              "  0.006743669509887695,\n",
              "  0.013055086135864258),\n",
              " 'test_rmse': array([0.40718149, 0.24554521, 0.12331974]),\n",
              " 'test_time': (0.0003790855407714844,\n",
              "  0.0003688335418701172,\n",
              "  0.0003426074981689453)}"
            ]
          },
          "execution_count": 45,
          "metadata": {},
          "output_type": "execute_result"
        }
      ],
      "source": [
        "#Define the SVD algorithm object\n",
        "svd = SVD()\n",
        "#Evaluate the performance in terms of RMSE\n",
        "cross_validate(svd, data, measures=['RMSE'], cv = 3)"
      ]
    },
    {
      "cell_type": "code",
      "execution_count": null,
      "metadata": {
        "colab": {
          "base_uri": "https://localhost:8080/"
        },
        "id": "1jZR5ZYW_QjG",
        "outputId": "fb0269ae-97ec-4f31-8d5f-29f756a1df03"
      },
      "outputs": [
        {
          "data": {
            "text/plain": [
              "<surprise.prediction_algorithms.matrix_factorization.SVD at 0x7ffb8a6785d0>"
            ]
          },
          "execution_count": 46,
          "metadata": {},
          "output_type": "execute_result"
        }
      ],
      "source": [
        "trainset = data.build_full_trainset()\n",
        "svd.fit(trainset)"
      ]
    },
    {
      "cell_type": "code",
      "execution_count": null,
      "metadata": {
        "colab": {
          "base_uri": "https://localhost:8080/"
        },
        "id": "2YUkmGaM_Ue_",
        "outputId": "a3ce3d80-3ae0-45cd-c562-f3c49f6c8145"
      },
      "outputs": [
        {
          "name": "stdout",
          "output_type": "stream",
          "text": [
            "1.5721210235676772\n"
          ]
        }
      ],
      "source": [
        "a=svd.predict(110888, 90\t).est\n",
        "print(a)"
      ]
    },
    {
      "cell_type": "code",
      "execution_count": null,
      "metadata": {
        "id": "4ZT6LnjA_2Yk"
      },
      "outputs": [],
      "source": [
        "TSTT=Ratings[Ratings['user_id'] == 26625]"
      ]
    },
    {
      "cell_type": "code",
      "execution_count": null,
      "metadata": {
        "colab": {
          "base_uri": "https://localhost:8080/"
        },
        "id": "iOvAfJwtTEd_",
        "outputId": "31418663-fda4-461c-f466-eea7fe32bbbe"
      },
      "outputs": [
        {
          "name": "stdout",
          "output_type": "stream",
          "text": [
            "430\n"
          ]
        }
      ],
      "source": [
        "print(len(Ratings))"
      ]
    },
    {
      "cell_type": "code",
      "execution_count": null,
      "metadata": {
        "colab": {
          "base_uri": "https://localhost:8080/",
          "height": 112
        },
        "id": "xDIp4jmWABdn",
        "outputId": "61f29d2a-68d0-4cba-8ebd-54dfcaeb0550"
      },
      "outputs": [
        {
          "data": {
            "text/html": [
              "\n",
              "  <div id=\"df-e47ed851-5e24-4724-b73c-5a7931c8df04\">\n",
              "    <div class=\"colab-df-container\">\n",
              "      <div>\n",
              "<style scoped>\n",
              "    .dataframe tbody tr th:only-of-type {\n",
              "        vertical-align: middle;\n",
              "    }\n",
              "\n",
              "    .dataframe tbody tr th {\n",
              "        vertical-align: top;\n",
              "    }\n",
              "\n",
              "    .dataframe thead th {\n",
              "        text-align: right;\n",
              "    }\n",
              "</style>\n",
              "<table border=\"1\" class=\"dataframe\">\n",
              "  <thead>\n",
              "    <tr style=\"text-align: right;\">\n",
              "      <th></th>\n",
              "      <th>user_id</th>\n",
              "      <th>clusters</th>\n",
              "      <th>freq</th>\n",
              "    </tr>\n",
              "  </thead>\n",
              "  <tbody>\n",
              "    <tr>\n",
              "      <th>0</th>\n",
              "      <td>26625</td>\n",
              "      <td>75</td>\n",
              "      <td>1</td>\n",
              "    </tr>\n",
              "    <tr>\n",
              "      <th>1</th>\n",
              "      <td>26625</td>\n",
              "      <td>102</td>\n",
              "      <td>1</td>\n",
              "    </tr>\n",
              "  </tbody>\n",
              "</table>\n",
              "</div>\n",
              "      <button class=\"colab-df-convert\" onclick=\"convertToInteractive('df-e47ed851-5e24-4724-b73c-5a7931c8df04')\"\n",
              "              title=\"Convert this dataframe to an interactive table.\"\n",
              "              style=\"display:none;\">\n",
              "        \n",
              "  <svg xmlns=\"http://www.w3.org/2000/svg\" height=\"24px\"viewBox=\"0 0 24 24\"\n",
              "       width=\"24px\">\n",
              "    <path d=\"M0 0h24v24H0V0z\" fill=\"none\"/>\n",
              "    <path d=\"M18.56 5.44l.94 2.06.94-2.06 2.06-.94-2.06-.94-.94-2.06-.94 2.06-2.06.94zm-11 1L8.5 8.5l.94-2.06 2.06-.94-2.06-.94L8.5 2.5l-.94 2.06-2.06.94zm10 10l.94 2.06.94-2.06 2.06-.94-2.06-.94-.94-2.06-.94 2.06-2.06.94z\"/><path d=\"M17.41 7.96l-1.37-1.37c-.4-.4-.92-.59-1.43-.59-.52 0-1.04.2-1.43.59L10.3 9.45l-7.72 7.72c-.78.78-.78 2.05 0 2.83L4 21.41c.39.39.9.59 1.41.59.51 0 1.02-.2 1.41-.59l7.78-7.78 2.81-2.81c.8-.78.8-2.07 0-2.86zM5.41 20L4 18.59l7.72-7.72 1.47 1.35L5.41 20z\"/>\n",
              "  </svg>\n",
              "      </button>\n",
              "      \n",
              "  <style>\n",
              "    .colab-df-container {\n",
              "      display:flex;\n",
              "      flex-wrap:wrap;\n",
              "      gap: 12px;\n",
              "    }\n",
              "\n",
              "    .colab-df-convert {\n",
              "      background-color: #E8F0FE;\n",
              "      border: none;\n",
              "      border-radius: 50%;\n",
              "      cursor: pointer;\n",
              "      display: none;\n",
              "      fill: #1967D2;\n",
              "      height: 32px;\n",
              "      padding: 0 0 0 0;\n",
              "      width: 32px;\n",
              "    }\n",
              "\n",
              "    .colab-df-convert:hover {\n",
              "      background-color: #E2EBFA;\n",
              "      box-shadow: 0px 1px 2px rgba(60, 64, 67, 0.3), 0px 1px 3px 1px rgba(60, 64, 67, 0.15);\n",
              "      fill: #174EA6;\n",
              "    }\n",
              "\n",
              "    [theme=dark] .colab-df-convert {\n",
              "      background-color: #3B4455;\n",
              "      fill: #D2E3FC;\n",
              "    }\n",
              "\n",
              "    [theme=dark] .colab-df-convert:hover {\n",
              "      background-color: #434B5C;\n",
              "      box-shadow: 0px 1px 3px 1px rgba(0, 0, 0, 0.15);\n",
              "      filter: drop-shadow(0px 1px 2px rgba(0, 0, 0, 0.3));\n",
              "      fill: #FFFFFF;\n",
              "    }\n",
              "  </style>\n",
              "\n",
              "      <script>\n",
              "        const buttonEl =\n",
              "          document.querySelector('#df-e47ed851-5e24-4724-b73c-5a7931c8df04 button.colab-df-convert');\n",
              "        buttonEl.style.display =\n",
              "          google.colab.kernel.accessAllowed ? 'block' : 'none';\n",
              "\n",
              "        async function convertToInteractive(key) {\n",
              "          const element = document.querySelector('#df-e47ed851-5e24-4724-b73c-5a7931c8df04');\n",
              "          const dataTable =\n",
              "            await google.colab.kernel.invokeFunction('convertToInteractive',\n",
              "                                                     [key], {});\n",
              "          if (!dataTable) return;\n",
              "\n",
              "          const docLinkHtml = 'Like what you see? Visit the ' +\n",
              "            '<a target=\"_blank\" href=https://colab.research.google.com/notebooks/data_table.ipynb>data table notebook</a>'\n",
              "            + ' to learn more about interactive tables.';\n",
              "          element.innerHTML = '';\n",
              "          dataTable['output_type'] = 'display_data';\n",
              "          await google.colab.output.renderOutput(dataTable, element);\n",
              "          const docLink = document.createElement('div');\n",
              "          docLink.innerHTML = docLinkHtml;\n",
              "          element.appendChild(docLink);\n",
              "        }\n",
              "      </script>\n",
              "    </div>\n",
              "  </div>\n",
              "  "
            ],
            "text/plain": [
              "   user_id  clusters  freq\n",
              "0    26625        75     1\n",
              "1    26625       102     1"
            ]
          },
          "execution_count": 39,
          "metadata": {},
          "output_type": "execute_result"
        }
      ],
      "source": [
        "TSTT.head()"
      ]
    },
    {
      "cell_type": "code",
      "execution_count": null,
      "metadata": {
        "id": "AzBEFLWd_-gf"
      },
      "outputs": [],
      "source": [
        "df_svd_estimates = pd.DataFrame()\n",
        "for i in flat_list:\n",
        "\n",
        "  TSTT=Ratings[Ratings['user_id'] == i]\n",
        "  for j in range(200):\n",
        "    if j not in TSTT['clusters']:\n",
        "      a=(svd.predict(i, j).est)-0.5\n",
        "      b={'user_id':i,'clusters':j,'freq':a}\n",
        "      TSTT=TSTT.append(b,ignore_index=True)\n",
        "  df_svd_estimates=df_svd_estimates.append(TSTT)"
      ]
    },
    {
      "cell_type": "code",
      "execution_count": null,
      "metadata": {
        "colab": {
          "base_uri": "https://localhost:8080/"
        },
        "id": "zpyBhVfTAsjC",
        "outputId": "8a46d377-211d-4391-ba7d-5efb37cdd301"
      },
      "outputs": [
        {
          "name": "stdout",
          "output_type": "stream",
          "text": [
            "6200\n"
          ]
        }
      ],
      "source": [
        "print(len(df_svd_estimates))"
      ]
    },
    {
      "cell_type": "code",
      "execution_count": null,
      "metadata": {
        "colab": {
          "base_uri": "https://localhost:8080/",
          "height": 206
        },
        "id": "9z4DStS6eMED",
        "outputId": "df8131cd-7319-4499-e3b3-21dcc7c96c30"
      },
      "outputs": [
        {
          "data": {
            "text/html": [
              "\n",
              "  <div id=\"df-b2e2c627-c903-4fb8-bc06-6c72cf795efe\">\n",
              "    <div class=\"colab-df-container\">\n",
              "      <div>\n",
              "<style scoped>\n",
              "    .dataframe tbody tr th:only-of-type {\n",
              "        vertical-align: middle;\n",
              "    }\n",
              "\n",
              "    .dataframe tbody tr th {\n",
              "        vertical-align: top;\n",
              "    }\n",
              "\n",
              "    .dataframe thead th {\n",
              "        text-align: right;\n",
              "    }\n",
              "</style>\n",
              "<table border=\"1\" class=\"dataframe\">\n",
              "  <thead>\n",
              "    <tr style=\"text-align: right;\">\n",
              "      <th></th>\n",
              "      <th>user_id</th>\n",
              "      <th>clusters</th>\n",
              "      <th>freq</th>\n",
              "    </tr>\n",
              "  </thead>\n",
              "  <tbody>\n",
              "    <tr>\n",
              "      <th>0</th>\n",
              "      <td>122908.0</td>\n",
              "      <td>159.0</td>\n",
              "      <td>1.600000</td>\n",
              "    </tr>\n",
              "    <tr>\n",
              "      <th>1</th>\n",
              "      <td>122908.0</td>\n",
              "      <td>1.0</td>\n",
              "      <td>1.090521</td>\n",
              "    </tr>\n",
              "    <tr>\n",
              "      <th>2</th>\n",
              "      <td>122908.0</td>\n",
              "      <td>2.0</td>\n",
              "      <td>1.005689</td>\n",
              "    </tr>\n",
              "    <tr>\n",
              "      <th>3</th>\n",
              "      <td>122908.0</td>\n",
              "      <td>3.0</td>\n",
              "      <td>1.090521</td>\n",
              "    </tr>\n",
              "    <tr>\n",
              "      <th>4</th>\n",
              "      <td>122908.0</td>\n",
              "      <td>4.0</td>\n",
              "      <td>1.238965</td>\n",
              "    </tr>\n",
              "  </tbody>\n",
              "</table>\n",
              "</div>\n",
              "      <button class=\"colab-df-convert\" onclick=\"convertToInteractive('df-b2e2c627-c903-4fb8-bc06-6c72cf795efe')\"\n",
              "              title=\"Convert this dataframe to an interactive table.\"\n",
              "              style=\"display:none;\">\n",
              "        \n",
              "  <svg xmlns=\"http://www.w3.org/2000/svg\" height=\"24px\"viewBox=\"0 0 24 24\"\n",
              "       width=\"24px\">\n",
              "    <path d=\"M0 0h24v24H0V0z\" fill=\"none\"/>\n",
              "    <path d=\"M18.56 5.44l.94 2.06.94-2.06 2.06-.94-2.06-.94-.94-2.06-.94 2.06-2.06.94zm-11 1L8.5 8.5l.94-2.06 2.06-.94-2.06-.94L8.5 2.5l-.94 2.06-2.06.94zm10 10l.94 2.06.94-2.06 2.06-.94-2.06-.94-.94-2.06-.94 2.06-2.06.94z\"/><path d=\"M17.41 7.96l-1.37-1.37c-.4-.4-.92-.59-1.43-.59-.52 0-1.04.2-1.43.59L10.3 9.45l-7.72 7.72c-.78.78-.78 2.05 0 2.83L4 21.41c.39.39.9.59 1.41.59.51 0 1.02-.2 1.41-.59l7.78-7.78 2.81-2.81c.8-.78.8-2.07 0-2.86zM5.41 20L4 18.59l7.72-7.72 1.47 1.35L5.41 20z\"/>\n",
              "  </svg>\n",
              "      </button>\n",
              "      \n",
              "  <style>\n",
              "    .colab-df-container {\n",
              "      display:flex;\n",
              "      flex-wrap:wrap;\n",
              "      gap: 12px;\n",
              "    }\n",
              "\n",
              "    .colab-df-convert {\n",
              "      background-color: #E8F0FE;\n",
              "      border: none;\n",
              "      border-radius: 50%;\n",
              "      cursor: pointer;\n",
              "      display: none;\n",
              "      fill: #1967D2;\n",
              "      height: 32px;\n",
              "      padding: 0 0 0 0;\n",
              "      width: 32px;\n",
              "    }\n",
              "\n",
              "    .colab-df-convert:hover {\n",
              "      background-color: #E2EBFA;\n",
              "      box-shadow: 0px 1px 2px rgba(60, 64, 67, 0.3), 0px 1px 3px 1px rgba(60, 64, 67, 0.15);\n",
              "      fill: #174EA6;\n",
              "    }\n",
              "\n",
              "    [theme=dark] .colab-df-convert {\n",
              "      background-color: #3B4455;\n",
              "      fill: #D2E3FC;\n",
              "    }\n",
              "\n",
              "    [theme=dark] .colab-df-convert:hover {\n",
              "      background-color: #434B5C;\n",
              "      box-shadow: 0px 1px 3px 1px rgba(0, 0, 0, 0.15);\n",
              "      filter: drop-shadow(0px 1px 2px rgba(0, 0, 0, 0.3));\n",
              "      fill: #FFFFFF;\n",
              "    }\n",
              "  </style>\n",
              "\n",
              "      <script>\n",
              "        const buttonEl =\n",
              "          document.querySelector('#df-b2e2c627-c903-4fb8-bc06-6c72cf795efe button.colab-df-convert');\n",
              "        buttonEl.style.display =\n",
              "          google.colab.kernel.accessAllowed ? 'block' : 'none';\n",
              "\n",
              "        async function convertToInteractive(key) {\n",
              "          const element = document.querySelector('#df-b2e2c627-c903-4fb8-bc06-6c72cf795efe');\n",
              "          const dataTable =\n",
              "            await google.colab.kernel.invokeFunction('convertToInteractive',\n",
              "                                                     [key], {});\n",
              "          if (!dataTable) return;\n",
              "\n",
              "          const docLinkHtml = 'Like what you see? Visit the ' +\n",
              "            '<a target=\"_blank\" href=https://colab.research.google.com/notebooks/data_table.ipynb>data table notebook</a>'\n",
              "            + ' to learn more about interactive tables.';\n",
              "          element.innerHTML = '';\n",
              "          dataTable['output_type'] = 'display_data';\n",
              "          await google.colab.output.renderOutput(dataTable, element);\n",
              "          const docLink = document.createElement('div');\n",
              "          docLink.innerHTML = docLinkHtml;\n",
              "          element.appendChild(docLink);\n",
              "        }\n",
              "      </script>\n",
              "    </div>\n",
              "  </div>\n",
              "  "
            ],
            "text/plain": [
              "    user_id  clusters      freq\n",
              "0  122908.0     159.0  1.600000\n",
              "1  122908.0       1.0  1.090521\n",
              "2  122908.0       2.0  1.005689\n",
              "3  122908.0       3.0  1.090521\n",
              "4  122908.0       4.0  1.238965"
            ]
          },
          "execution_count": 49,
          "metadata": {},
          "output_type": "execute_result"
        }
      ],
      "source": [
        "df_svd_estimates.head()"
      ]
    },
    {
      "cell_type": "code",
      "execution_count": null,
      "metadata": {
        "id": "oaCmo-EFfIFy"
      },
      "outputs": [],
      "source": [
        "final = pd.pivot_table(df_svd_estimates,values='freq',index='user_id',columns='clusters')"
      ]
    },
    {
      "cell_type": "code",
      "execution_count": null,
      "metadata": {
        "colab": {
          "base_uri": "https://localhost:8080/",
          "height": 331
        },
        "id": "Ev1aiUCpfQyj",
        "outputId": "a82e7be8-2bb5-45fc-8daf-cf2027f17671"
      },
      "outputs": [
        {
          "data": {
            "text/html": [
              "\n",
              "  <div id=\"df-b3bbd437-5976-4464-9738-3426cebbd696\">\n",
              "    <div class=\"colab-df-container\">\n",
              "      <div>\n",
              "<style scoped>\n",
              "    .dataframe tbody tr th:only-of-type {\n",
              "        vertical-align: middle;\n",
              "    }\n",
              "\n",
              "    .dataframe tbody tr th {\n",
              "        vertical-align: top;\n",
              "    }\n",
              "\n",
              "    .dataframe thead th {\n",
              "        text-align: right;\n",
              "    }\n",
              "</style>\n",
              "<table border=\"1\" class=\"dataframe\">\n",
              "  <thead>\n",
              "    <tr style=\"text-align: right;\">\n",
              "      <th>clusters</th>\n",
              "      <th>1.0</th>\n",
              "      <th>2.0</th>\n",
              "      <th>3.0</th>\n",
              "      <th>4.0</th>\n",
              "      <th>5.0</th>\n",
              "      <th>6.0</th>\n",
              "      <th>7.0</th>\n",
              "      <th>8.0</th>\n",
              "      <th>9.0</th>\n",
              "      <th>10.0</th>\n",
              "      <th>...</th>\n",
              "      <th>190.0</th>\n",
              "      <th>191.0</th>\n",
              "      <th>192.0</th>\n",
              "      <th>193.0</th>\n",
              "      <th>194.0</th>\n",
              "      <th>195.0</th>\n",
              "      <th>196.0</th>\n",
              "      <th>197.0</th>\n",
              "      <th>198.0</th>\n",
              "      <th>199.0</th>\n",
              "    </tr>\n",
              "    <tr>\n",
              "      <th>user_id</th>\n",
              "      <th></th>\n",
              "      <th></th>\n",
              "      <th></th>\n",
              "      <th></th>\n",
              "      <th></th>\n",
              "      <th></th>\n",
              "      <th></th>\n",
              "      <th></th>\n",
              "      <th></th>\n",
              "      <th></th>\n",
              "      <th></th>\n",
              "      <th></th>\n",
              "      <th></th>\n",
              "      <th></th>\n",
              "      <th></th>\n",
              "      <th></th>\n",
              "      <th></th>\n",
              "      <th></th>\n",
              "      <th></th>\n",
              "      <th></th>\n",
              "      <th></th>\n",
              "    </tr>\n",
              "  </thead>\n",
              "  <tbody>\n",
              "    <tr>\n",
              "      <th>83326.0</th>\n",
              "      <td>1.097700</td>\n",
              "      <td>1.097700</td>\n",
              "      <td>1.093309</td>\n",
              "      <td>1.079774</td>\n",
              "      <td>1.151298</td>\n",
              "      <td>1.093309</td>\n",
              "      <td>1.093309</td>\n",
              "      <td>1.087719</td>\n",
              "      <td>1.093309</td>\n",
              "      <td>1.093309</td>\n",
              "      <td>...</td>\n",
              "      <td>1.225174</td>\n",
              "      <td>1.093309</td>\n",
              "      <td>1.047279</td>\n",
              "      <td>1.093309</td>\n",
              "      <td>1.093309</td>\n",
              "      <td>1.093309</td>\n",
              "      <td>1.093309</td>\n",
              "      <td>1.093309</td>\n",
              "      <td>1.093309</td>\n",
              "      <td>1.093309</td>\n",
              "    </tr>\n",
              "    <tr>\n",
              "      <th>87239.0</th>\n",
              "      <td>1.086488</td>\n",
              "      <td>1.037160</td>\n",
              "      <td>1.086488</td>\n",
              "      <td>1.373914</td>\n",
              "      <td>0.915610</td>\n",
              "      <td>1.086488</td>\n",
              "      <td>1.086488</td>\n",
              "      <td>1.111238</td>\n",
              "      <td>1.086488</td>\n",
              "      <td>1.086488</td>\n",
              "      <td>...</td>\n",
              "      <td>1.022969</td>\n",
              "      <td>1.086488</td>\n",
              "      <td>1.016449</td>\n",
              "      <td>1.086488</td>\n",
              "      <td>1.086488</td>\n",
              "      <td>1.086488</td>\n",
              "      <td>1.086488</td>\n",
              "      <td>1.086488</td>\n",
              "      <td>1.086488</td>\n",
              "      <td>1.086488</td>\n",
              "    </tr>\n",
              "    <tr>\n",
              "      <th>88936.0</th>\n",
              "      <td>1.089900</td>\n",
              "      <td>1.188172</td>\n",
              "      <td>1.089900</td>\n",
              "      <td>1.139381</td>\n",
              "      <td>1.171270</td>\n",
              "      <td>1.089900</td>\n",
              "      <td>1.089900</td>\n",
              "      <td>1.185999</td>\n",
              "      <td>1.089900</td>\n",
              "      <td>1.089900</td>\n",
              "      <td>...</td>\n",
              "      <td>1.326140</td>\n",
              "      <td>1.089900</td>\n",
              "      <td>1.094689</td>\n",
              "      <td>1.089900</td>\n",
              "      <td>1.089900</td>\n",
              "      <td>1.089900</td>\n",
              "      <td>1.089900</td>\n",
              "      <td>1.089900</td>\n",
              "      <td>1.089900</td>\n",
              "      <td>1.089900</td>\n",
              "    </tr>\n",
              "    <tr>\n",
              "      <th>89871.0</th>\n",
              "      <td>1.094298</td>\n",
              "      <td>1.086215</td>\n",
              "      <td>1.086301</td>\n",
              "      <td>1.137208</td>\n",
              "      <td>1.152190</td>\n",
              "      <td>1.086301</td>\n",
              "      <td>1.086301</td>\n",
              "      <td>1.102680</td>\n",
              "      <td>1.086301</td>\n",
              "      <td>1.086301</td>\n",
              "      <td>...</td>\n",
              "      <td>1.035257</td>\n",
              "      <td>1.086301</td>\n",
              "      <td>0.996001</td>\n",
              "      <td>1.086301</td>\n",
              "      <td>1.086301</td>\n",
              "      <td>1.086301</td>\n",
              "      <td>1.086301</td>\n",
              "      <td>1.086301</td>\n",
              "      <td>1.086301</td>\n",
              "      <td>1.086301</td>\n",
              "    </tr>\n",
              "    <tr>\n",
              "      <th>90812.0</th>\n",
              "      <td>1.094411</td>\n",
              "      <td>0.948496</td>\n",
              "      <td>1.094411</td>\n",
              "      <td>1.213357</td>\n",
              "      <td>1.212754</td>\n",
              "      <td>1.094411</td>\n",
              "      <td>1.094411</td>\n",
              "      <td>1.158728</td>\n",
              "      <td>1.094411</td>\n",
              "      <td>1.094411</td>\n",
              "      <td>...</td>\n",
              "      <td>0.994276</td>\n",
              "      <td>1.094411</td>\n",
              "      <td>1.313268</td>\n",
              "      <td>1.094411</td>\n",
              "      <td>1.094411</td>\n",
              "      <td>1.094411</td>\n",
              "      <td>1.094411</td>\n",
              "      <td>1.094411</td>\n",
              "      <td>1.094411</td>\n",
              "      <td>1.094411</td>\n",
              "    </tr>\n",
              "  </tbody>\n",
              "</table>\n",
              "<p>5 rows × 199 columns</p>\n",
              "</div>\n",
              "      <button class=\"colab-df-convert\" onclick=\"convertToInteractive('df-b3bbd437-5976-4464-9738-3426cebbd696')\"\n",
              "              title=\"Convert this dataframe to an interactive table.\"\n",
              "              style=\"display:none;\">\n",
              "        \n",
              "  <svg xmlns=\"http://www.w3.org/2000/svg\" height=\"24px\"viewBox=\"0 0 24 24\"\n",
              "       width=\"24px\">\n",
              "    <path d=\"M0 0h24v24H0V0z\" fill=\"none\"/>\n",
              "    <path d=\"M18.56 5.44l.94 2.06.94-2.06 2.06-.94-2.06-.94-.94-2.06-.94 2.06-2.06.94zm-11 1L8.5 8.5l.94-2.06 2.06-.94-2.06-.94L8.5 2.5l-.94 2.06-2.06.94zm10 10l.94 2.06.94-2.06 2.06-.94-2.06-.94-.94-2.06-.94 2.06-2.06.94z\"/><path d=\"M17.41 7.96l-1.37-1.37c-.4-.4-.92-.59-1.43-.59-.52 0-1.04.2-1.43.59L10.3 9.45l-7.72 7.72c-.78.78-.78 2.05 0 2.83L4 21.41c.39.39.9.59 1.41.59.51 0 1.02-.2 1.41-.59l7.78-7.78 2.81-2.81c.8-.78.8-2.07 0-2.86zM5.41 20L4 18.59l7.72-7.72 1.47 1.35L5.41 20z\"/>\n",
              "  </svg>\n",
              "      </button>\n",
              "      \n",
              "  <style>\n",
              "    .colab-df-container {\n",
              "      display:flex;\n",
              "      flex-wrap:wrap;\n",
              "      gap: 12px;\n",
              "    }\n",
              "\n",
              "    .colab-df-convert {\n",
              "      background-color: #E8F0FE;\n",
              "      border: none;\n",
              "      border-radius: 50%;\n",
              "      cursor: pointer;\n",
              "      display: none;\n",
              "      fill: #1967D2;\n",
              "      height: 32px;\n",
              "      padding: 0 0 0 0;\n",
              "      width: 32px;\n",
              "    }\n",
              "\n",
              "    .colab-df-convert:hover {\n",
              "      background-color: #E2EBFA;\n",
              "      box-shadow: 0px 1px 2px rgba(60, 64, 67, 0.3), 0px 1px 3px 1px rgba(60, 64, 67, 0.15);\n",
              "      fill: #174EA6;\n",
              "    }\n",
              "\n",
              "    [theme=dark] .colab-df-convert {\n",
              "      background-color: #3B4455;\n",
              "      fill: #D2E3FC;\n",
              "    }\n",
              "\n",
              "    [theme=dark] .colab-df-convert:hover {\n",
              "      background-color: #434B5C;\n",
              "      box-shadow: 0px 1px 3px 1px rgba(0, 0, 0, 0.15);\n",
              "      filter: drop-shadow(0px 1px 2px rgba(0, 0, 0, 0.3));\n",
              "      fill: #FFFFFF;\n",
              "    }\n",
              "  </style>\n",
              "\n",
              "      <script>\n",
              "        const buttonEl =\n",
              "          document.querySelector('#df-b3bbd437-5976-4464-9738-3426cebbd696 button.colab-df-convert');\n",
              "        buttonEl.style.display =\n",
              "          google.colab.kernel.accessAllowed ? 'block' : 'none';\n",
              "\n",
              "        async function convertToInteractive(key) {\n",
              "          const element = document.querySelector('#df-b3bbd437-5976-4464-9738-3426cebbd696');\n",
              "          const dataTable =\n",
              "            await google.colab.kernel.invokeFunction('convertToInteractive',\n",
              "                                                     [key], {});\n",
              "          if (!dataTable) return;\n",
              "\n",
              "          const docLinkHtml = 'Like what you see? Visit the ' +\n",
              "            '<a target=\"_blank\" href=https://colab.research.google.com/notebooks/data_table.ipynb>data table notebook</a>'\n",
              "            + ' to learn more about interactive tables.';\n",
              "          element.innerHTML = '';\n",
              "          dataTable['output_type'] = 'display_data';\n",
              "          await google.colab.output.renderOutput(dataTable, element);\n",
              "          const docLink = document.createElement('div');\n",
              "          docLink.innerHTML = docLinkHtml;\n",
              "          element.appendChild(docLink);\n",
              "        }\n",
              "      </script>\n",
              "    </div>\n",
              "  </div>\n",
              "  "
            ],
            "text/plain": [
              "clusters     1.0       2.0       3.0       4.0       5.0       6.0    \\\n",
              "user_id                                                                \n",
              "83326.0   1.097700  1.097700  1.093309  1.079774  1.151298  1.093309   \n",
              "87239.0   1.086488  1.037160  1.086488  1.373914  0.915610  1.086488   \n",
              "88936.0   1.089900  1.188172  1.089900  1.139381  1.171270  1.089900   \n",
              "89871.0   1.094298  1.086215  1.086301  1.137208  1.152190  1.086301   \n",
              "90812.0   1.094411  0.948496  1.094411  1.213357  1.212754  1.094411   \n",
              "\n",
              "clusters     7.0       8.0       9.0       10.0   ...     190.0     191.0  \\\n",
              "user_id                                           ...                       \n",
              "83326.0   1.093309  1.087719  1.093309  1.093309  ...  1.225174  1.093309   \n",
              "87239.0   1.086488  1.111238  1.086488  1.086488  ...  1.022969  1.086488   \n",
              "88936.0   1.089900  1.185999  1.089900  1.089900  ...  1.326140  1.089900   \n",
              "89871.0   1.086301  1.102680  1.086301  1.086301  ...  1.035257  1.086301   \n",
              "90812.0   1.094411  1.158728  1.094411  1.094411  ...  0.994276  1.094411   \n",
              "\n",
              "clusters     192.0     193.0     194.0     195.0     196.0     197.0  \\\n",
              "user_id                                                                \n",
              "83326.0   1.047279  1.093309  1.093309  1.093309  1.093309  1.093309   \n",
              "87239.0   1.016449  1.086488  1.086488  1.086488  1.086488  1.086488   \n",
              "88936.0   1.094689  1.089900  1.089900  1.089900  1.089900  1.089900   \n",
              "89871.0   0.996001  1.086301  1.086301  1.086301  1.086301  1.086301   \n",
              "90812.0   1.313268  1.094411  1.094411  1.094411  1.094411  1.094411   \n",
              "\n",
              "clusters     198.0     199.0  \n",
              "user_id                       \n",
              "83326.0   1.093309  1.093309  \n",
              "87239.0   1.086488  1.086488  \n",
              "88936.0   1.089900  1.089900  \n",
              "89871.0   1.086301  1.086301  \n",
              "90812.0   1.094411  1.094411  \n",
              "\n",
              "[5 rows x 199 columns]"
            ]
          },
          "execution_count": 53,
          "metadata": {},
          "output_type": "execute_result"
        }
      ],
      "source": [
        "final_user.head()"
      ]
    },
    {
      "cell_type": "code",
      "execution_count": null,
      "metadata": {
        "id": "1swrJPg66edR"
      },
      "outputs": [],
      "source": [
        "# Replacing NaN by user Average\n",
        "final_user = final.apply(lambda row: row.fillna(row.mean()), axis=1)"
      ]
    },
    {
      "cell_type": "code",
      "execution_count": null,
      "metadata": {
        "id": "p54TKd0V6jxB"
      },
      "outputs": [],
      "source": [
        "import pandas as pd\n",
        "import numpy as np\n",
        "from sklearn.metrics.pairwise import cosine_similarity\n",
        "from sklearn.metrics import pairwise_distances"
      ]
    },
    {
      "cell_type": "code",
      "execution_count": null,
      "metadata": {
        "colab": {
          "base_uri": "https://localhost:8080/",
          "height": 331
        },
        "id": "jHlTt5po63kM",
        "outputId": "c314010d-69e1-41d3-f3df-efc55633b214"
      },
      "outputs": [
        {
          "data": {
            "text/html": [
              "\n",
              "  <div id=\"df-00b2dad4-f257-4904-baaf-b70c1d630fd8\">\n",
              "    <div class=\"colab-df-container\">\n",
              "      <div>\n",
              "<style scoped>\n",
              "    .dataframe tbody tr th:only-of-type {\n",
              "        vertical-align: middle;\n",
              "    }\n",
              "\n",
              "    .dataframe tbody tr th {\n",
              "        vertical-align: top;\n",
              "    }\n",
              "\n",
              "    .dataframe thead th {\n",
              "        text-align: right;\n",
              "    }\n",
              "</style>\n",
              "<table border=\"1\" class=\"dataframe\">\n",
              "  <thead>\n",
              "    <tr style=\"text-align: right;\">\n",
              "      <th>user_id</th>\n",
              "      <th>83326.0</th>\n",
              "      <th>87239.0</th>\n",
              "      <th>88936.0</th>\n",
              "      <th>89871.0</th>\n",
              "      <th>90812.0</th>\n",
              "      <th>91918.0</th>\n",
              "      <th>94712.0</th>\n",
              "      <th>110888.0</th>\n",
              "      <th>116892.0</th>\n",
              "      <th>118412.0</th>\n",
              "      <th>...</th>\n",
              "      <th>134003.0</th>\n",
              "      <th>138476.0</th>\n",
              "      <th>140842.0</th>\n",
              "      <th>140915.0</th>\n",
              "      <th>141284.0</th>\n",
              "      <th>143230.0</th>\n",
              "      <th>144181.0</th>\n",
              "      <th>144538.0</th>\n",
              "      <th>144658.0</th>\n",
              "      <th>145678.0</th>\n",
              "    </tr>\n",
              "    <tr>\n",
              "      <th>user_id</th>\n",
              "      <th></th>\n",
              "      <th></th>\n",
              "      <th></th>\n",
              "      <th></th>\n",
              "      <th></th>\n",
              "      <th></th>\n",
              "      <th></th>\n",
              "      <th></th>\n",
              "      <th></th>\n",
              "      <th></th>\n",
              "      <th></th>\n",
              "      <th></th>\n",
              "      <th></th>\n",
              "      <th></th>\n",
              "      <th></th>\n",
              "      <th></th>\n",
              "      <th></th>\n",
              "      <th></th>\n",
              "      <th></th>\n",
              "      <th></th>\n",
              "      <th></th>\n",
              "    </tr>\n",
              "  </thead>\n",
              "  <tbody>\n",
              "    <tr>\n",
              "      <th>83326.0</th>\n",
              "      <td>0.000000</td>\n",
              "      <td>0.997684</td>\n",
              "      <td>0.997404</td>\n",
              "      <td>0.996766</td>\n",
              "      <td>0.996856</td>\n",
              "      <td>0.996020</td>\n",
              "      <td>0.997367</td>\n",
              "      <td>0.993505</td>\n",
              "      <td>0.997614</td>\n",
              "      <td>0.996204</td>\n",
              "      <td>...</td>\n",
              "      <td>0.997556</td>\n",
              "      <td>0.998110</td>\n",
              "      <td>0.996878</td>\n",
              "      <td>0.997027</td>\n",
              "      <td>0.997075</td>\n",
              "      <td>0.997442</td>\n",
              "      <td>0.997962</td>\n",
              "      <td>0.996495</td>\n",
              "      <td>0.996835</td>\n",
              "      <td>0.997656</td>\n",
              "    </tr>\n",
              "    <tr>\n",
              "      <th>87239.0</th>\n",
              "      <td>0.997684</td>\n",
              "      <td>0.000000</td>\n",
              "      <td>0.997560</td>\n",
              "      <td>0.997440</td>\n",
              "      <td>0.997643</td>\n",
              "      <td>0.995827</td>\n",
              "      <td>0.997968</td>\n",
              "      <td>0.993706</td>\n",
              "      <td>0.997260</td>\n",
              "      <td>0.997469</td>\n",
              "      <td>...</td>\n",
              "      <td>0.997133</td>\n",
              "      <td>0.998076</td>\n",
              "      <td>0.996405</td>\n",
              "      <td>0.997779</td>\n",
              "      <td>0.997564</td>\n",
              "      <td>0.997188</td>\n",
              "      <td>0.998186</td>\n",
              "      <td>0.997307</td>\n",
              "      <td>0.997383</td>\n",
              "      <td>0.997252</td>\n",
              "    </tr>\n",
              "    <tr>\n",
              "      <th>88936.0</th>\n",
              "      <td>0.997404</td>\n",
              "      <td>0.997560</td>\n",
              "      <td>0.000000</td>\n",
              "      <td>0.996845</td>\n",
              "      <td>0.996371</td>\n",
              "      <td>0.995143</td>\n",
              "      <td>0.997486</td>\n",
              "      <td>0.993239</td>\n",
              "      <td>0.996361</td>\n",
              "      <td>0.995855</td>\n",
              "      <td>...</td>\n",
              "      <td>0.997110</td>\n",
              "      <td>0.997563</td>\n",
              "      <td>0.997213</td>\n",
              "      <td>0.997643</td>\n",
              "      <td>0.996322</td>\n",
              "      <td>0.996938</td>\n",
              "      <td>0.997737</td>\n",
              "      <td>0.997176</td>\n",
              "      <td>0.997018</td>\n",
              "      <td>0.997355</td>\n",
              "    </tr>\n",
              "    <tr>\n",
              "      <th>89871.0</th>\n",
              "      <td>0.996766</td>\n",
              "      <td>0.997440</td>\n",
              "      <td>0.996845</td>\n",
              "      <td>0.000000</td>\n",
              "      <td>0.997305</td>\n",
              "      <td>0.996106</td>\n",
              "      <td>0.996971</td>\n",
              "      <td>0.994597</td>\n",
              "      <td>0.997708</td>\n",
              "      <td>0.996709</td>\n",
              "      <td>...</td>\n",
              "      <td>0.996450</td>\n",
              "      <td>0.997945</td>\n",
              "      <td>0.996685</td>\n",
              "      <td>0.997588</td>\n",
              "      <td>0.997705</td>\n",
              "      <td>0.996840</td>\n",
              "      <td>0.998056</td>\n",
              "      <td>0.997832</td>\n",
              "      <td>0.998631</td>\n",
              "      <td>0.996858</td>\n",
              "    </tr>\n",
              "    <tr>\n",
              "      <th>90812.0</th>\n",
              "      <td>0.996856</td>\n",
              "      <td>0.997643</td>\n",
              "      <td>0.996371</td>\n",
              "      <td>0.997305</td>\n",
              "      <td>0.000000</td>\n",
              "      <td>0.994363</td>\n",
              "      <td>0.997154</td>\n",
              "      <td>0.992996</td>\n",
              "      <td>0.997280</td>\n",
              "      <td>0.996475</td>\n",
              "      <td>...</td>\n",
              "      <td>0.997333</td>\n",
              "      <td>0.997503</td>\n",
              "      <td>0.996215</td>\n",
              "      <td>0.998027</td>\n",
              "      <td>0.996899</td>\n",
              "      <td>0.997695</td>\n",
              "      <td>0.997230</td>\n",
              "      <td>0.997622</td>\n",
              "      <td>0.997846</td>\n",
              "      <td>0.996838</td>\n",
              "    </tr>\n",
              "  </tbody>\n",
              "</table>\n",
              "<p>5 rows × 31 columns</p>\n",
              "</div>\n",
              "      <button class=\"colab-df-convert\" onclick=\"convertToInteractive('df-00b2dad4-f257-4904-baaf-b70c1d630fd8')\"\n",
              "              title=\"Convert this dataframe to an interactive table.\"\n",
              "              style=\"display:none;\">\n",
              "        \n",
              "  <svg xmlns=\"http://www.w3.org/2000/svg\" height=\"24px\"viewBox=\"0 0 24 24\"\n",
              "       width=\"24px\">\n",
              "    <path d=\"M0 0h24v24H0V0z\" fill=\"none\"/>\n",
              "    <path d=\"M18.56 5.44l.94 2.06.94-2.06 2.06-.94-2.06-.94-.94-2.06-.94 2.06-2.06.94zm-11 1L8.5 8.5l.94-2.06 2.06-.94-2.06-.94L8.5 2.5l-.94 2.06-2.06.94zm10 10l.94 2.06.94-2.06 2.06-.94-2.06-.94-.94-2.06-.94 2.06-2.06.94z\"/><path d=\"M17.41 7.96l-1.37-1.37c-.4-.4-.92-.59-1.43-.59-.52 0-1.04.2-1.43.59L10.3 9.45l-7.72 7.72c-.78.78-.78 2.05 0 2.83L4 21.41c.39.39.9.59 1.41.59.51 0 1.02-.2 1.41-.59l7.78-7.78 2.81-2.81c.8-.78.8-2.07 0-2.86zM5.41 20L4 18.59l7.72-7.72 1.47 1.35L5.41 20z\"/>\n",
              "  </svg>\n",
              "      </button>\n",
              "      \n",
              "  <style>\n",
              "    .colab-df-container {\n",
              "      display:flex;\n",
              "      flex-wrap:wrap;\n",
              "      gap: 12px;\n",
              "    }\n",
              "\n",
              "    .colab-df-convert {\n",
              "      background-color: #E8F0FE;\n",
              "      border: none;\n",
              "      border-radius: 50%;\n",
              "      cursor: pointer;\n",
              "      display: none;\n",
              "      fill: #1967D2;\n",
              "      height: 32px;\n",
              "      padding: 0 0 0 0;\n",
              "      width: 32px;\n",
              "    }\n",
              "\n",
              "    .colab-df-convert:hover {\n",
              "      background-color: #E2EBFA;\n",
              "      box-shadow: 0px 1px 2px rgba(60, 64, 67, 0.3), 0px 1px 3px 1px rgba(60, 64, 67, 0.15);\n",
              "      fill: #174EA6;\n",
              "    }\n",
              "\n",
              "    [theme=dark] .colab-df-convert {\n",
              "      background-color: #3B4455;\n",
              "      fill: #D2E3FC;\n",
              "    }\n",
              "\n",
              "    [theme=dark] .colab-df-convert:hover {\n",
              "      background-color: #434B5C;\n",
              "      box-shadow: 0px 1px 3px 1px rgba(0, 0, 0, 0.15);\n",
              "      filter: drop-shadow(0px 1px 2px rgba(0, 0, 0, 0.3));\n",
              "      fill: #FFFFFF;\n",
              "    }\n",
              "  </style>\n",
              "\n",
              "      <script>\n",
              "        const buttonEl =\n",
              "          document.querySelector('#df-00b2dad4-f257-4904-baaf-b70c1d630fd8 button.colab-df-convert');\n",
              "        buttonEl.style.display =\n",
              "          google.colab.kernel.accessAllowed ? 'block' : 'none';\n",
              "\n",
              "        async function convertToInteractive(key) {\n",
              "          const element = document.querySelector('#df-00b2dad4-f257-4904-baaf-b70c1d630fd8');\n",
              "          const dataTable =\n",
              "            await google.colab.kernel.invokeFunction('convertToInteractive',\n",
              "                                                     [key], {});\n",
              "          if (!dataTable) return;\n",
              "\n",
              "          const docLinkHtml = 'Like what you see? Visit the ' +\n",
              "            '<a target=\"_blank\" href=https://colab.research.google.com/notebooks/data_table.ipynb>data table notebook</a>'\n",
              "            + ' to learn more about interactive tables.';\n",
              "          element.innerHTML = '';\n",
              "          dataTable['output_type'] = 'display_data';\n",
              "          await google.colab.output.renderOutput(dataTable, element);\n",
              "          const docLink = document.createElement('div');\n",
              "          docLink.innerHTML = docLinkHtml;\n",
              "          element.appendChild(docLink);\n",
              "        }\n",
              "      </script>\n",
              "    </div>\n",
              "  </div>\n",
              "  "
            ],
            "text/plain": [
              "user_id  83326.0   87239.0   88936.0   89871.0   90812.0   91918.0   94712.0   \\\n",
              "user_id                                                                         \n",
              "83326.0  0.000000  0.997684  0.997404  0.996766  0.996856  0.996020  0.997367   \n",
              "87239.0  0.997684  0.000000  0.997560  0.997440  0.997643  0.995827  0.997968   \n",
              "88936.0  0.997404  0.997560  0.000000  0.996845  0.996371  0.995143  0.997486   \n",
              "89871.0  0.996766  0.997440  0.996845  0.000000  0.997305  0.996106  0.996971   \n",
              "90812.0  0.996856  0.997643  0.996371  0.997305  0.000000  0.994363  0.997154   \n",
              "\n",
              "user_id  110888.0  116892.0  118412.0  ...  134003.0  138476.0  140842.0  \\\n",
              "user_id                                ...                                 \n",
              "83326.0  0.993505  0.997614  0.996204  ...  0.997556  0.998110  0.996878   \n",
              "87239.0  0.993706  0.997260  0.997469  ...  0.997133  0.998076  0.996405   \n",
              "88936.0  0.993239  0.996361  0.995855  ...  0.997110  0.997563  0.997213   \n",
              "89871.0  0.994597  0.997708  0.996709  ...  0.996450  0.997945  0.996685   \n",
              "90812.0  0.992996  0.997280  0.996475  ...  0.997333  0.997503  0.996215   \n",
              "\n",
              "user_id  140915.0  141284.0  143230.0  144181.0  144538.0  144658.0  145678.0  \n",
              "user_id                                                                        \n",
              "83326.0  0.997027  0.997075  0.997442  0.997962  0.996495  0.996835  0.997656  \n",
              "87239.0  0.997779  0.997564  0.997188  0.998186  0.997307  0.997383  0.997252  \n",
              "88936.0  0.997643  0.996322  0.996938  0.997737  0.997176  0.997018  0.997355  \n",
              "89871.0  0.997588  0.997705  0.996840  0.998056  0.997832  0.998631  0.996858  \n",
              "90812.0  0.998027  0.996899  0.997695  0.997230  0.997622  0.997846  0.996838  \n",
              "\n",
              "[5 rows x 31 columns]"
            ]
          },
          "execution_count": 55,
          "metadata": {},
          "output_type": "execute_result"
        }
      ],
      "source": [
        "# user similarity on replacing NAN by user avg\n",
        "b = cosine_similarity(final_user)\n",
        "np.fill_diagonal(b, 0 )\n",
        "similarity_with_user_topic = pd.DataFrame(b,index=final_user.index)\n",
        "similarity_with_user_topic.columns=final_user.index\n",
        "similarity_with_user_topic.head()"
      ]
    },
    {
      "cell_type": "code",
      "execution_count": null,
      "metadata": {
        "colab": {
          "base_uri": "https://localhost:8080/"
        },
        "id": "Q-w0ywKY7Igv",
        "outputId": "7f1826fd-59ee-4b3b-828e-e90e9e2326bc"
      },
      "outputs": [
        {
          "name": "stdout",
          "output_type": "stream",
          "text": [
            "31\n"
          ]
        }
      ],
      "source": [
        "print(len(similarity_with_user))"
      ]
    },
    {
      "cell_type": "code",
      "execution_count": null,
      "metadata": {
        "colab": {
          "base_uri": "https://localhost:8080/",
          "height": 112
        },
        "id": "_GbOqjo49Eam",
        "outputId": "6e4d8c1c-3620-4843-90f3-e047cc497a91"
      },
      "outputs": [
        {
          "data": {
            "text/html": [
              "\n",
              "  <div id=\"df-6c37cbf3-a645-4c7f-be2f-a735b781bf49\">\n",
              "    <div class=\"colab-df-container\">\n",
              "      <div>\n",
              "<style scoped>\n",
              "    .dataframe tbody tr th:only-of-type {\n",
              "        vertical-align: middle;\n",
              "    }\n",
              "\n",
              "    .dataframe tbody tr th {\n",
              "        vertical-align: top;\n",
              "    }\n",
              "\n",
              "    .dataframe thead th {\n",
              "        text-align: right;\n",
              "    }\n",
              "</style>\n",
              "<table border=\"1\" class=\"dataframe\">\n",
              "  <thead>\n",
              "    <tr style=\"text-align: right;\">\n",
              "      <th></th>\n",
              "      <th>top1</th>\n",
              "      <th>top2</th>\n",
              "      <th>top3</th>\n",
              "      <th>top4</th>\n",
              "      <th>top5</th>\n",
              "      <th>top6</th>\n",
              "      <th>top7</th>\n",
              "      <th>top8</th>\n",
              "      <th>top9</th>\n",
              "      <th>top10</th>\n",
              "    </tr>\n",
              "    <tr>\n",
              "      <th>user_id</th>\n",
              "      <th></th>\n",
              "      <th></th>\n",
              "      <th></th>\n",
              "      <th></th>\n",
              "      <th></th>\n",
              "      <th></th>\n",
              "      <th></th>\n",
              "      <th></th>\n",
              "      <th></th>\n",
              "      <th></th>\n",
              "    </tr>\n",
              "  </thead>\n",
              "  <tbody>\n",
              "    <tr>\n",
              "      <th>110888</th>\n",
              "      <td>88936.0</td>\n",
              "      <td>118412.0</td>\n",
              "      <td>144658.0</td>\n",
              "      <td>134003.0</td>\n",
              "      <td>144181.0</td>\n",
              "      <td>90812.0</td>\n",
              "      <td>126595.0</td>\n",
              "      <td>124011.0</td>\n",
              "      <td>87239.0</td>\n",
              "      <td>83326.0</td>\n",
              "    </tr>\n",
              "  </tbody>\n",
              "</table>\n",
              "</div>\n",
              "      <button class=\"colab-df-convert\" onclick=\"convertToInteractive('df-6c37cbf3-a645-4c7f-be2f-a735b781bf49')\"\n",
              "              title=\"Convert this dataframe to an interactive table.\"\n",
              "              style=\"display:none;\">\n",
              "        \n",
              "  <svg xmlns=\"http://www.w3.org/2000/svg\" height=\"24px\"viewBox=\"0 0 24 24\"\n",
              "       width=\"24px\">\n",
              "    <path d=\"M0 0h24v24H0V0z\" fill=\"none\"/>\n",
              "    <path d=\"M18.56 5.44l.94 2.06.94-2.06 2.06-.94-2.06-.94-.94-2.06-.94 2.06-2.06.94zm-11 1L8.5 8.5l.94-2.06 2.06-.94-2.06-.94L8.5 2.5l-.94 2.06-2.06.94zm10 10l.94 2.06.94-2.06 2.06-.94-2.06-.94-.94-2.06-.94 2.06-2.06.94z\"/><path d=\"M17.41 7.96l-1.37-1.37c-.4-.4-.92-.59-1.43-.59-.52 0-1.04.2-1.43.59L10.3 9.45l-7.72 7.72c-.78.78-.78 2.05 0 2.83L4 21.41c.39.39.9.59 1.41.59.51 0 1.02-.2 1.41-.59l7.78-7.78 2.81-2.81c.8-.78.8-2.07 0-2.86zM5.41 20L4 18.59l7.72-7.72 1.47 1.35L5.41 20z\"/>\n",
              "  </svg>\n",
              "      </button>\n",
              "      \n",
              "  <style>\n",
              "    .colab-df-container {\n",
              "      display:flex;\n",
              "      flex-wrap:wrap;\n",
              "      gap: 12px;\n",
              "    }\n",
              "\n",
              "    .colab-df-convert {\n",
              "      background-color: #E8F0FE;\n",
              "      border: none;\n",
              "      border-radius: 50%;\n",
              "      cursor: pointer;\n",
              "      display: none;\n",
              "      fill: #1967D2;\n",
              "      height: 32px;\n",
              "      padding: 0 0 0 0;\n",
              "      width: 32px;\n",
              "    }\n",
              "\n",
              "    .colab-df-convert:hover {\n",
              "      background-color: #E2EBFA;\n",
              "      box-shadow: 0px 1px 2px rgba(60, 64, 67, 0.3), 0px 1px 3px 1px rgba(60, 64, 67, 0.15);\n",
              "      fill: #174EA6;\n",
              "    }\n",
              "\n",
              "    [theme=dark] .colab-df-convert {\n",
              "      background-color: #3B4455;\n",
              "      fill: #D2E3FC;\n",
              "    }\n",
              "\n",
              "    [theme=dark] .colab-df-convert:hover {\n",
              "      background-color: #434B5C;\n",
              "      box-shadow: 0px 1px 3px 1px rgba(0, 0, 0, 0.15);\n",
              "      filter: drop-shadow(0px 1px 2px rgba(0, 0, 0, 0.3));\n",
              "      fill: #FFFFFF;\n",
              "    }\n",
              "  </style>\n",
              "\n",
              "      <script>\n",
              "        const buttonEl =\n",
              "          document.querySelector('#df-6c37cbf3-a645-4c7f-be2f-a735b781bf49 button.colab-df-convert');\n",
              "        buttonEl.style.display =\n",
              "          google.colab.kernel.accessAllowed ? 'block' : 'none';\n",
              "\n",
              "        async function convertToInteractive(key) {\n",
              "          const element = document.querySelector('#df-6c37cbf3-a645-4c7f-be2f-a735b781bf49');\n",
              "          const dataTable =\n",
              "            await google.colab.kernel.invokeFunction('convertToInteractive',\n",
              "                                                     [key], {});\n",
              "          if (!dataTable) return;\n",
              "\n",
              "          const docLinkHtml = 'Like what you see? Visit the ' +\n",
              "            '<a target=\"_blank\" href=https://colab.research.google.com/notebooks/data_table.ipynb>data table notebook</a>'\n",
              "            + ' to learn more about interactive tables.';\n",
              "          element.innerHTML = '';\n",
              "          dataTable['output_type'] = 'display_data';\n",
              "          await google.colab.output.renderOutput(dataTable, element);\n",
              "          const docLink = document.createElement('div');\n",
              "          docLink.innerHTML = docLinkHtml;\n",
              "          element.appendChild(docLink);\n",
              "        }\n",
              "      </script>\n",
              "    </div>\n",
              "  </div>\n",
              "  "
            ],
            "text/plain": [
              "            top1      top2      top3      top4      top5     top6      top7  \\\n",
              "user_id                                                                       \n",
              "110888   88936.0  118412.0  144658.0  134003.0  144181.0  90812.0  126595.0   \n",
              "\n",
              "             top8     top9    top10  \n",
              "user_id                              \n",
              "110888   124011.0  87239.0  83326.0  "
            ]
          },
          "execution_count": 75,
          "metadata": {},
          "output_type": "execute_result"
        }
      ],
      "source": [
        "input_id=110888\n",
        "target_uer=similarity_with_user_topic. loc[[input_id]]\n",
        "sim_user_30_u_topic=find_n_neighbours(target_uer,10)\n",
        "sim_user_30_u_topic.head()"
      ]
    },
    {
      "cell_type": "code",
      "execution_count": null,
      "metadata": {
        "id": "8Ev-1Vs28u-2"
      },
      "outputs": [],
      "source": [
        "sim_user_30_u = find_n_neighbours(similarity_with_user,10)"
      ]
    },
    {
      "cell_type": "markdown",
      "metadata": {
        "id": "DFjhzEraxRs_"
      },
      "source": [
        "#test_only"
      ]
    },
    {
      "cell_type": "code",
      "execution_count": null,
      "metadata": {
        "id": "fZcDfzn0xRJD"
      },
      "outputs": [],
      "source": [
        "\n",
        "# Python code to find Euclidean distance\n",
        "# using linalg.norm()\n",
        "\n",
        "import numpy as np\n",
        "\n",
        "# initializing points in\n",
        "# numpy arrays\n",
        "point1 = np.array((1, 2, 3))\n",
        "point2 = np.array((1, 1, 1))\n",
        "print(point1)\n",
        "print(point2)\n",
        "print(type(point1))\n",
        "\n",
        "# calculating Euclidean distance\n",
        "# using linalg.norm()\n",
        "dist = np.linalg.norm(point1 - point2)\n",
        "\n",
        "# printing Euclidean distance\n",
        "print(dist)"
      ]
    }
  ],
  "metadata": {
    "colab": {
      "provenance": [],
      "authorship_tag": "ABX9TyNYL/l/2b6TXd+806pZZia/",
      "include_colab_link": true
    },
    "kernelspec": {
      "display_name": "Python 3",
      "name": "python3"
    },
    "language_info": {
      "name": "python"
    }
  },
  "nbformat": 4,
  "nbformat_minor": 0
}